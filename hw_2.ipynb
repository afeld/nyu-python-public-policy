{
 "cells": [
  {
   "cell_type": "markdown",
   "metadata": {},
   "source": [
    "# Homework 2"
   ]
  },
  {
   "cell_type": "code",
   "execution_count": 1,
   "metadata": {
    "execution": {
     "iopub.execute_input": "2022-04-15T22:12:33.241080Z",
     "iopub.status.busy": "2022-04-15T22:12:33.240786Z",
     "iopub.status.idle": "2022-04-15T22:12:33.387170Z",
     "shell.execute_reply": "2022-04-15T22:12:33.386387Z"
    }
   },
   "outputs": [],
   "source": [
    "import ipytest\n",
    "\n",
    "ipytest.autoconfig()"
   ]
  },
  {
   "cell_type": "markdown",
   "metadata": {},
   "source": [
    "## Coding: Using keywords to categorize 311 requests\n",
    "\n",
    "**Problem Statement:** When you read through the `descriptor` and `resolution_description` columns in the 311 data, you will see that complaints related to graffiti are actually scattered throughout multiple `complaint_type` categories. We want to identify all complaints related to graffiti and see which community districts have the most instances of graffiti.\n",
    "\n",
    "To help make this assignment easier, there's a smaller subset of the 311 data for you to use:\n",
    "\n",
    "https://storage.googleapis.com/python-public-policy/data/cleaned_311_data_hw2.csv.zip\n",
    "\n",
    "This smaller dataset only contains ~65,000 records from relevant complaint type categories, and has columns renamed to be lowercase and underscored.\n",
    "\n",
    "### Hints\n",
    "\n",
    "- You can adapt the `recode_borocd_counts()` example from [Lecture 2](lecture_2.ipynb) for this problem.\n",
    "- You may run into issues with empty values; [how to deal with them](https://medium.com/geekculture/dealing-with-null-values-in-pandas-dataframe-1a67854fe834).\n",
    "- [Ways to do case-insensitive string comparison in pure Python](https://www.geeksforgeeks.org/case-insensitive-string-comparison-in-python/), which translates over to pandas."
   ]
  },
  {
   "cell_type": "markdown",
   "metadata": {},
   "source": [
    "### Step 0\n",
    "\n",
    "Load the data."
   ]
  },
  {
   "cell_type": "code",
   "execution_count": 2,
   "metadata": {
    "execution": {
     "iopub.execute_input": "2022-04-15T22:12:33.390320Z",
     "iopub.status.busy": "2022-04-15T22:12:33.390109Z",
     "iopub.status.idle": "2022-04-15T22:12:33.866236Z",
     "shell.execute_reply": "2022-04-15T22:12:33.865657Z"
    }
   },
   "outputs": [],
   "source": [
    "import pandas as pd"
   ]
  },
  {
   "cell_type": "code",
   "execution_count": 3,
   "metadata": {
    "execution": {
     "iopub.execute_input": "2022-04-15T22:12:33.868853Z",
     "iopub.status.busy": "2022-04-15T22:12:33.868675Z",
     "iopub.status.idle": "2022-04-15T22:12:33.871644Z",
     "shell.execute_reply": "2022-04-15T22:12:33.870883Z"
    }
   },
   "outputs": [],
   "source": [
    "# your code here"
   ]
  },
  {
   "cell_type": "markdown",
   "metadata": {},
   "source": [
    "### Step 1\n",
    "\n",
    "Create a `flag_graffiti` function that checks each row in the 311 dataframe to see if the word \"graffiti\" is present in the `complaint_type`, `descriptor`, and/or `resolution_description`. Any of the columns may contain the word, so you should check all of them. If the word \"graffiti\" is found, the function should return the boolean value `True`. If \"graffiti\" is not found, the function should return the boolean value `False`.\n",
    "\n",
    "#### Hints\n",
    "\n",
    "- Make sure to look for \"graffiti\" _in_ those strings. The strings may contain more than just that word.\n",
    "- Capitalization may be inconsistent."
   ]
  },
  {
   "cell_type": "code",
   "execution_count": 4,
   "metadata": {
    "execution": {
     "iopub.execute_input": "2022-04-15T22:12:33.874843Z",
     "iopub.status.busy": "2022-04-15T22:12:33.874657Z",
     "iopub.status.idle": "2022-04-15T22:12:33.877100Z",
     "shell.execute_reply": "2022-04-15T22:12:33.876682Z"
    }
   },
   "outputs": [],
   "source": [
    "# your code here"
   ]
  },
  {
   "cell_type": "markdown",
   "metadata": {},
   "source": [
    "Test by passing in a fake row."
   ]
  },
  {
   "cell_type": "code",
   "execution_count": 5,
   "metadata": {
    "execution": {
     "iopub.execute_input": "2022-04-15T22:12:33.879953Z",
     "iopub.status.busy": "2022-04-15T22:12:33.879778Z",
     "iopub.status.idle": "2022-04-15T22:12:34.276237Z",
     "shell.execute_reply": "2022-04-15T22:12:34.275247Z"
    }
   },
   "outputs": [
    {
     "name": "stdout",
     "output_type": "stream",
     "text": [
      "\u001b[31mF\u001b[0m\u001b[31mF\u001b[0m\u001b[31mF\u001b[0m\u001b[31mF\u001b[0m\u001b[31mF\u001b[0m\u001b[31mF\u001b[0m\u001b[31m                                                                                       [100%]\u001b[0m\n",
      "============================================= FAILURES =============================================\n",
      "\u001b[31m\u001b[1m_______________________________________ test_complaint_type ________________________________________\u001b[0m\n",
      "\u001b[1m\u001b[31m/var/folders/kg/1ys0dccx4237f5wsd_w10dt80000gn/T/ipykernel_12687/623815755.py\u001b[0m:7: in test_complaint_type\n",
      "    \u001b[94massert\u001b[39;49;00m flag_graffiti(test_row) == \u001b[94mTrue\u001b[39;49;00m\n",
      "\u001b[1m\u001b[31mE   NameError: name 'flag_graffiti' is not defined\u001b[0m\n",
      "\u001b[31m\u001b[1m_________________________________________ test_descriptor __________________________________________\u001b[0m\n",
      "\u001b[1m\u001b[31m/var/folders/kg/1ys0dccx4237f5wsd_w10dt80000gn/T/ipykernel_12687/623815755.py\u001b[0m:16: in test_descriptor\n",
      "    \u001b[94massert\u001b[39;49;00m flag_graffiti(test_row) == \u001b[94mTrue\u001b[39;49;00m\n",
      "\u001b[1m\u001b[31mE   NameError: name 'flag_graffiti' is not defined\u001b[0m\n",
      "\u001b[31m\u001b[1m_________________________________________ test_description _________________________________________\u001b[0m\n",
      "\u001b[1m\u001b[31m/var/folders/kg/1ys0dccx4237f5wsd_w10dt80000gn/T/ipykernel_12687/623815755.py\u001b[0m:25: in test_description\n",
      "    \u001b[94massert\u001b[39;49;00m flag_graffiti(test_row) == \u001b[94mTrue\u001b[39;49;00m\n",
      "\u001b[1m\u001b[31mE   NameError: name 'flag_graffiti' is not defined\u001b[0m\n",
      "\u001b[31m\u001b[1m____________________________________________ test_none _____________________________________________\u001b[0m\n",
      "\u001b[1m\u001b[31m/var/folders/kg/1ys0dccx4237f5wsd_w10dt80000gn/T/ipykernel_12687/623815755.py\u001b[0m:34: in test_none\n",
      "    \u001b[94massert\u001b[39;49;00m flag_graffiti(test_row) == \u001b[94mFalse\u001b[39;49;00m\n",
      "\u001b[1m\u001b[31mE   NameError: name 'flag_graffiti' is not defined\u001b[0m\n",
      "\u001b[31m\u001b[1m_________________________________________ test_mixed_cases _________________________________________\u001b[0m\n",
      "\u001b[1m\u001b[31m/var/folders/kg/1ys0dccx4237f5wsd_w10dt80000gn/T/ipykernel_12687/623815755.py\u001b[0m:43: in test_mixed_cases\n",
      "    \u001b[94massert\u001b[39;49;00m flag_graffiti(test_row) == \u001b[94mTrue\u001b[39;49;00m\n",
      "\u001b[1m\u001b[31mE   NameError: name 'flag_graffiti' is not defined\u001b[0m\n",
      "\u001b[31m\u001b[1m__________________________________________ test_substring __________________________________________\u001b[0m\n",
      "\u001b[1m\u001b[31m/var/folders/kg/1ys0dccx4237f5wsd_w10dt80000gn/T/ipykernel_12687/623815755.py\u001b[0m:52: in test_substring\n",
      "    \u001b[94massert\u001b[39;49;00m flag_graffiti(test_row) == \u001b[94mTrue\u001b[39;49;00m\n",
      "\u001b[1m\u001b[31mE   NameError: name 'flag_graffiti' is not defined\u001b[0m\n",
      "===================================== short test summary info ======================================\n",
      "FAILED tmplb6lljgv.py::test_complaint_type - NameError: name 'flag_graffiti' is not defined\n",
      "FAILED tmplb6lljgv.py::test_descriptor - NameError: name 'flag_graffiti' is not defined\n",
      "FAILED tmplb6lljgv.py::test_description - NameError: name 'flag_graffiti' is not defined\n",
      "FAILED tmplb6lljgv.py::test_none - NameError: name 'flag_graffiti' is not defined\n",
      "FAILED tmplb6lljgv.py::test_mixed_cases - NameError: name 'flag_graffiti' is not defined\n",
      "FAILED tmplb6lljgv.py::test_substring - NameError: name 'flag_graffiti' is not defined\n",
      "\u001b[31m\u001b[31m\u001b[1m6 failed\u001b[0m\u001b[31m in 0.22s\u001b[0m\u001b[0m\n"
     ]
    }
   ],
   "source": [
    "%%ipytest --tb=short\n",
    "\n",
    "\n",
    "def test_complaint_type():\n",
    "    test_row = pd.Series({\n",
    "        \"complaint_type\": \"graffiti\",\n",
    "        \"descriptor\": \"\",\n",
    "        \"resolution_description\": \"\"\n",
    "    })\n",
    "    assert flag_graffiti(test_row) == True\n",
    "\n",
    "    \n",
    "def test_descriptor():\n",
    "    test_row = pd.Series({\n",
    "        \"complaint_type\": \"\",\n",
    "        \"descriptor\": \"graffiti\",\n",
    "        \"resolution_description\": \"\"\n",
    "    })\n",
    "    assert flag_graffiti(test_row) == True\n",
    "\n",
    "    \n",
    "def test_description():\n",
    "    test_row = pd.Series({\n",
    "        \"complaint_type\": \"\",\n",
    "        \"descriptor\": \"\",\n",
    "        \"resolution_description\": \"graffiti\"\n",
    "    })\n",
    "    assert flag_graffiti(test_row) == True\n",
    "\n",
    "    \n",
    "def test_none():\n",
    "    test_row = pd.Series({\n",
    "        \"complaint_type\": \"\",\n",
    "        \"descriptor\": \"\",\n",
    "        \"resolution_description\": \"\"\n",
    "    })\n",
    "    assert flag_graffiti(test_row) == False\n",
    "\n",
    "\n",
    "def test_mixed_cases():\n",
    "    test_row = pd.Series({\n",
    "        \"complaint_type\": \"GrafFiti\",\n",
    "        \"descriptor\": \"\",\n",
    "        \"resolution_description\": \"\"\n",
    "    })\n",
    "    assert flag_graffiti(test_row) == True\n",
    "\n",
    "    \n",
    "def test_substring():\n",
    "    test_row = pd.Series({\n",
    "        \"complaint_type\": \"\",\n",
    "        \"descriptor\": \"there's graffiti on the wall\",\n",
    "        \"resolution_description\": \"\"\n",
    "    })\n",
    "    assert flag_graffiti(test_row) == True"
   ]
  },
  {
   "cell_type": "markdown",
   "metadata": {},
   "source": [
    "### Step 2\n",
    "\n",
    "Apply the function created in Step 1 to the 311 dataframe and create a new column called `graffiti_flag` that captures the output from the function.\n",
    "\n",
    "Tip: There are two checks you can use to confirm that the function worked as expected.\n",
    "\n",
    "- Make sure there are records tagged with `graffiti_flag` `True`.\n",
    "- Make sure that more than one `complaint_type` has `graffiti_flag` `True` (and `False`)."
   ]
  },
  {
   "cell_type": "code",
   "execution_count": 6,
   "metadata": {
    "execution": {
     "iopub.execute_input": "2022-04-15T22:12:34.282565Z",
     "iopub.status.busy": "2022-04-15T22:12:34.282301Z",
     "iopub.status.idle": "2022-04-15T22:12:34.287097Z",
     "shell.execute_reply": "2022-04-15T22:12:34.286262Z"
    }
   },
   "outputs": [],
   "source": [
    "# your code here"
   ]
  },
  {
   "cell_type": "code",
   "execution_count": 7,
   "metadata": {
    "execution": {
     "iopub.execute_input": "2022-04-15T22:12:34.290725Z",
     "iopub.status.busy": "2022-04-15T22:12:34.290407Z",
     "iopub.status.idle": "2022-04-15T22:12:34.384078Z",
     "shell.execute_reply": "2022-04-15T22:12:34.383245Z"
    }
   },
   "outputs": [
    {
     "name": "stdout",
     "output_type": "stream",
     "text": [
      "\u001b[31mF\u001b[0m\u001b[31m                                                                                            [100%]\u001b[0m\n",
      "============================================= FAILURES =============================================\n",
      "\u001b[31m\u001b[1m________________________________________ test_graffiti_flag ________________________________________\u001b[0m\n",
      "\u001b[1m\u001b[31m/var/folders/kg/1ys0dccx4237f5wsd_w10dt80000gn/T/ipykernel_12687/4193169000.py\u001b[0m:2: in test_graffiti_flag\n",
      "    \u001b[94massert\u001b[39;49;00m \u001b[33m'\u001b[39;49;00m\u001b[33mgraffiti_flag\u001b[39;49;00m\u001b[33m'\u001b[39;49;00m \u001b[95min\u001b[39;49;00m df.columns, \u001b[33m\"\u001b[39;49;00m\u001b[33mcolumn missing\u001b[39;49;00m\u001b[33m\"\u001b[39;49;00m\n",
      "\u001b[1m\u001b[31mE   NameError: name 'df' is not defined\u001b[0m\n",
      "===================================== short test summary info ======================================\n",
      "FAILED tmpkp8bxd_c.py::test_graffiti_flag - NameError: name 'df' is not defined\n",
      "\u001b[31m\u001b[31m\u001b[1m1 failed\u001b[0m\u001b[31m in 0.01s\u001b[0m\u001b[0m\n"
     ]
    }
   ],
   "source": [
    "%%ipytest --tb=short\n",
    "\n",
    "def test_graffiti_flag():\n",
    "    assert 'graffiti_flag' in df.columns, \"column missing\"\n",
    "    assert df.dtypes['graffiti_flag'] == 'bool', \"column should be booleans\""
   ]
  },
  {
   "cell_type": "markdown",
   "metadata": {},
   "source": [
    "### Step 3\n",
    "\n",
    "Create another dataframe `df_graffiti` that only contains records where `graffiti_flag` is `True`."
   ]
  },
  {
   "cell_type": "code",
   "execution_count": 8,
   "metadata": {
    "execution": {
     "iopub.execute_input": "2022-04-15T22:12:34.388448Z",
     "iopub.status.busy": "2022-04-15T22:12:34.387808Z",
     "iopub.status.idle": "2022-04-15T22:12:34.391571Z",
     "shell.execute_reply": "2022-04-15T22:12:34.391077Z"
    }
   },
   "outputs": [],
   "source": [
    "# your code here"
   ]
  },
  {
   "cell_type": "code",
   "execution_count": 9,
   "metadata": {
    "execution": {
     "iopub.execute_input": "2022-04-15T22:12:34.394620Z",
     "iopub.status.busy": "2022-04-15T22:12:34.394263Z",
     "iopub.status.idle": "2022-04-15T22:12:34.468372Z",
     "shell.execute_reply": "2022-04-15T22:12:34.465928Z"
    }
   },
   "outputs": [
    {
     "name": "stdout",
     "output_type": "stream",
     "text": [
      "\u001b[31mF\u001b[0m\u001b[31m                                                                                            [100%]\u001b[0m\n",
      "============================================= FAILURES =============================================\n",
      "\u001b[31m\u001b[1m______________________________________ test_all_have_graffiti ______________________________________\u001b[0m\n",
      "\u001b[1m\u001b[31m/var/folders/kg/1ys0dccx4237f5wsd_w10dt80000gn/T/ipykernel_12687/601934799.py\u001b[0m:2: in test_all_have_graffiti\n",
      "    \u001b[94massert\u001b[39;49;00m df_graffiti[\u001b[33m'\u001b[39;49;00m\u001b[33mgraffiti_flag\u001b[39;49;00m\u001b[33m'\u001b[39;49;00m].all(), \u001b[33m\"\u001b[39;49;00m\u001b[33mnot all have graffiti_flag set to True\u001b[39;49;00m\u001b[33m\"\u001b[39;49;00m\n",
      "\u001b[1m\u001b[31mE   NameError: name 'df_graffiti' is not defined\u001b[0m\n",
      "===================================== short test summary info ======================================\n",
      "FAILED tmp29s3ixf3.py::test_all_have_graffiti - NameError: name 'df_graffiti' is not defined\n",
      "\u001b[31m\u001b[31m\u001b[1m1 failed\u001b[0m\u001b[31m in 0.01s\u001b[0m\u001b[0m\n"
     ]
    }
   ],
   "source": [
    "%%ipytest --tb=short\n",
    "\n",
    "def test_all_have_graffiti():\n",
    "    assert df_graffiti['graffiti_flag'].all(), \"not all have graffiti_flag set to True\""
   ]
  },
  {
   "cell_type": "markdown",
   "metadata": {},
   "source": [
    "### Step 4\n",
    "\n",
    "Group your dataframe `df_graffiti` to get the count of requests per `community_board`. Identify which Community District has the highest count."
   ]
  },
  {
   "cell_type": "code",
   "execution_count": 10,
   "metadata": {
    "execution": {
     "iopub.execute_input": "2022-04-15T22:12:34.472404Z",
     "iopub.status.busy": "2022-04-15T22:12:34.472200Z",
     "iopub.status.idle": "2022-04-15T22:12:34.475282Z",
     "shell.execute_reply": "2022-04-15T22:12:34.474458Z"
    }
   },
   "outputs": [],
   "source": [
    "# your code here"
   ]
  },
  {
   "cell_type": "markdown",
   "metadata": {},
   "source": [
    "### Bonus 1\n",
    "\n",
    "_0.2 points_\n",
    "\n",
    "Create a `graffiti_flag2` column using only built-in pandas operations, i.e. without using a custom function (`def`). Another way to think about it: Instead of operating on a single row at a time, how can you operate across entire columns? See [working with text data](https://pandas.pydata.org/pandas-docs/stable/user_guide/text.html) for clues."
   ]
  },
  {
   "cell_type": "code",
   "execution_count": 11,
   "metadata": {
    "execution": {
     "iopub.execute_input": "2022-04-15T22:12:34.478167Z",
     "iopub.status.busy": "2022-04-15T22:12:34.477974Z",
     "iopub.status.idle": "2022-04-15T22:12:34.481766Z",
     "shell.execute_reply": "2022-04-15T22:12:34.480971Z"
    }
   },
   "outputs": [],
   "source": [
    "# your code here"
   ]
  },
  {
   "cell_type": "markdown",
   "metadata": {},
   "source": [
    "### Bonus 2\n",
    "\n",
    "_0.2 points_\n",
    "\n",
    "Clean another column of the dataset. Include explanation and code for how you got there."
   ]
  },
  {
   "cell_type": "code",
   "execution_count": 12,
   "metadata": {
    "execution": {
     "iopub.execute_input": "2022-04-15T22:12:34.484574Z",
     "iopub.status.busy": "2022-04-15T22:12:34.484386Z",
     "iopub.status.idle": "2022-04-15T22:12:34.487515Z",
     "shell.execute_reply": "2022-04-15T22:12:34.486845Z"
    }
   },
   "outputs": [],
   "source": [
    "# your code here"
   ]
  },
  {
   "cell_type": "markdown",
   "metadata": {},
   "source": [
    "Now [turn in the assignment](https://python-public-policy.afeld.me/en/latest/README.html#turning-in-assignments).\n",
    "\n",
    "## Tutorials\n",
    "\n",
    "- [Pythonic Data Cleaning With Pandas and NumPy](https://realpython.com/python-data-cleaning-numpy-pandas/)\n",
    "- [\"You’re Not Mapping Rats, You're Mapping Gentrification\"](https://theconcourse.deadspin.com/you-re-not-mapping-rats-you-re-mapping-gentrification-1835005060)—article about bias in 311 data\n",
    "- [Read about the Spatial Data Equity Tool](https://medium.com/@urban_institute/introducing-a-spatial-equity-data-tool-b959c40298cf)\n",
    "- [Intro to Plotly Express](https://plotly.com/python/plotly-express/). You don't have to work through every one of these examples; just review to get familiar with what types of charts are possible.\n",
    "\n",
    "### Optional\n",
    "\n",
    "- [Python Tools for Record Linkage](https://pbpython.com/record-linking.html)\n",
    "- [Reshaping and pivot tables](https://pandas.pydata.org/pandas-docs/stable/user_guide/reshaping.html)\n",
    "- [How to reshape the layout of tables](https://pandas.pydata.org/pandas-docs/stable/getting_started/intro_tutorials/07_reshape_table_layout.html)\n",
    "\n",
    "## Participation\n",
    "\n",
    "Reminder about the [between-class participation requirement](https://python-public-policy.afeld.me/en/latest/syllabus.html#participation)."
   ]
  }
 ],
 "metadata": {
  "file_extension": ".py",
  "kernelspec": {
   "display_name": "Python [conda env:python-public-policy] *",
   "language": "python",
   "name": "conda-env-python-public-policy-py"
  },
  "language_info": {
   "codemirror_mode": {
    "name": "ipython",
    "version": 3
   },
   "file_extension": ".py",
   "mimetype": "text/x-python",
   "name": "python",
   "nbconvert_exporter": "python",
   "pygments_lexer": "ipython3",
   "version": "3.10.6"
  },
  "mimetype": "text/x-python",
  "name": "python",
  "npconvert_exporter": "python",
  "pygments_lexer": "ipython3",
  "toc": {
   "base_numbering": 1,
   "nav_menu": {},
   "number_sections": true,
   "sideBar": true,
   "skip_h1_title": false,
   "title_cell": "Table of Contents",
   "title_sidebar": "Contents",
   "toc_cell": false,
   "toc_position": {},
   "toc_section_display": true,
   "toc_window_display": false
  },
  "version": 3
 },
 "nbformat": 4,
 "nbformat_minor": 4
}
