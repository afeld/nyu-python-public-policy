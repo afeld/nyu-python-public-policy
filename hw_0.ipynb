{
 "cells": [
  {
   "cell_type": "markdown",
   "metadata": {},
   "source": [
    "# Homework 0\n",
    "\n",
    "[Kaggle](https://www.kaggle.com/) is a data science platform that has various [tutorials](https://www.kaggle.com/learn/overview) and [competitions](https://www.kaggle.com/competitions), which you may want to go back to later. You are welcome to create a Kaggle account to save your progress, but it's not required.\n",
    "\n",
    "Kaggle, like JupyterHub and Google Colab, is built around Jupyter notebooks. They are not _exactly_ the same, but will feel similar. For this homework:\n",
    "\n",
    "1. Do following Kaggle [Learn Python](https://www.kaggle.com/learn/python) tutorials and exercises. You do not need to turn these in.\n",
    "    - [Hello, Python](https://www.kaggle.com/colinmorris/hello-python)\n",
    "    - [Booleans and Conditionals](https://www.kaggle.com/colinmorris/booleans-and-conditionals)\n",
    "    - [Strings and Dictionaries](https://www.kaggle.com/colinmorris/strings-and-dictionaries)\n",
    "1. Read about:\n",
    "    - [Tuples, lists, and dictionaries](http://sthurlow.com/python/lesson06/)\n",
    "    - [Errors and exceptions](https://swcarpentry.github.io/python-novice-inflammation/09-errors/index.html)\n",
    "1. Do the coding challenges below.\n",
    "1. Do the following Kaggle tutorials and exercises. You do not need to turn these in.\n",
    "    - [Python Lists](https://www.kaggle.com/colinmorris/lists)\n",
    "    - [Creating, Reading, and Writing with Pandas](https://www.kaggle.com/residentmario/creating-reading-and-writing)\n",
    "1. Post a question, per the instructions at the bottom.\n",
    "1. [Turn in this notebook.](https://github.com/afeld/python-public-policy#turning-in-assignments)\n",
    "\n",
    "## Coding\n",
    "\n",
    "### Getting input\n",
    "\n",
    "To get information from a user, we can use Python's [`input()`](https://docs.python.org/3/library/functions.html#input) function."
   ]
  },
  {
   "cell_type": "code",
   "execution_count": 1,
   "metadata": {},
   "outputs": [
    {
     "name": "stdout",
     "output_type": "stream",
     "text": [
      "Give me a word: apple\n"
     ]
    },
    {
     "data": {
      "text/plain": [
       "'apple'"
      ]
     },
     "execution_count": 1,
     "metadata": {},
     "output_type": "execute_result"
    }
   ],
   "source": [
    "word = input(\"Give me a word: \")\n",
    "word"
   ]
  },
  {
   "cell_type": "markdown",
   "metadata": {},
   "source": [
    "### Step 0: Mad lib\n",
    "\n",
    "You are going to make a (short) interactive [mad lib](https://hobbylark.com/party-games/How-to-Make-Your-Own-Mad-Libs). Use a paragraph of a story or the chorus from a song, or make one up. Prompt for each of the words (\"noun\", \"verb\", \"vehicle\", etc.), then once they are all entered, it output the mad lib with the provided words filled in. You will be using multiple `inputs()` and string concatentation."
   ]
  },
  {
   "cell_type": "code",
   "execution_count": 2,
   "metadata": {},
   "outputs": [],
   "source": [
    "# your code goes here"
   ]
  },
  {
   "cell_type": "markdown",
   "metadata": {},
   "source": [
    "### Numeric input\n",
    "\n",
    "`input()` always returns a string. To get a number from a user in Python, you need to convert that input into a integer (or float)."
   ]
  },
  {
   "cell_type": "code",
   "execution_count": 3,
   "metadata": {},
   "outputs": [
    {
     "name": "stdout",
     "output_type": "stream",
     "text": [
      "Pick a number, any number. Please enter the value without commas or decimals. > 6\n"
     ]
    },
    {
     "data": {
      "text/plain": [
       "'6'"
      ]
     },
     "execution_count": 3,
     "metadata": {},
     "output_type": "execute_result"
    }
   ],
   "source": [
    "num = input(\"Pick a number, any number. Please enter the value without commas or decimals. > \")\n",
    "num"
   ]
  },
  {
   "cell_type": "code",
   "execution_count": 4,
   "metadata": {},
   "outputs": [
    {
     "data": {
      "text/plain": [
       "str"
      ]
     },
     "execution_count": 4,
     "metadata": {},
     "output_type": "execute_result"
    }
   ],
   "source": [
    "type(num)"
   ]
  },
  {
   "cell_type": "code",
   "execution_count": 5,
   "metadata": {},
   "outputs": [
    {
     "data": {
      "text/plain": [
       "6"
      ]
     },
     "execution_count": 5,
     "metadata": {},
     "output_type": "execute_result"
    }
   ],
   "source": [
    "int(num)"
   ]
  },
  {
   "cell_type": "markdown",
   "metadata": {},
   "source": [
    "### Step 1: Unemployment benefit eligibility assessment\n",
    "\n",
    "We will now make an interactive tool to assess people for unemployment benefits. We will a simplified version of [the rules from the New York State Department of Labor](https://www.labor.ny.gov/formsdocs/ui/TC318.3e.pdf#page=18). To be elegible, one must:\n",
    "\n",
    "- Have lost employment\n",
    "- Have made at least $10,000 in the past year\n",
    "    - Ask for their salary rather than as a yes-or-no question\n",
    "- Be ready, willing and able to work immediately\n",
    "- Be actively seeking work\n",
    "\n",
    "Ask the user questions corresponding to the above, then print `\"You are eligible\"` or `\"You are not eligible\"` at the end. You will need:\n",
    "\n",
    "- `input()`s\n",
    "- `int()`\n",
    "- Conditional(s)"
   ]
  },
  {
   "cell_type": "code",
   "execution_count": 6,
   "metadata": {},
   "outputs": [],
   "source": [
    "# your code goes here"
   ]
  },
  {
   "cell_type": "markdown",
   "metadata": {},
   "source": [
    "## Autograding\n",
    "\n",
    "Using [this approach](https://stackoverflow.com/a/70920396/358804)."
   ]
  },
  {
   "cell_type": "code",
   "execution_count": 1,
   "metadata": {
    "scrolled": true
   },
   "outputs": [],
   "source": [
    "import ipytest\n",
    "ipytest.autoconfig()"
   ]
  },
  {
   "cell_type": "code",
   "execution_count": 3,
   "metadata": {},
   "outputs": [
    {
     "name": "stdout",
     "output_type": "stream",
     "text": [
      "\u001b[31mF\u001b[0m\u001b[31m                                                                                            [100%]\u001b[0m\n",
      "============================================= FAILURES =============================================\n",
      "\u001b[31m\u001b[1m_________________________________________ test_num_inputs __________________________________________\u001b[0m\n",
      "\n",
      "tree = <ast.Module object at 0x109a5a860>\n",
      "\n",
      "    \u001b[94mdef\u001b[39;49;00m \u001b[92mtest_num_inputs\u001b[39;49;00m(tree):\n",
      "        checker = InputChecker()\n",
      "        checker.visit(tree)\n",
      "    \n",
      ">       \u001b[94massert\u001b[39;49;00m checker.num_inputs >= \u001b[94m8\u001b[39;49;00m, \u001b[33m\"\u001b[39;49;00m\u001b[33myou don\u001b[39;49;00m\u001b[33m'\u001b[39;49;00m\u001b[33mt have enough calls to input()\u001b[39;49;00m\u001b[33m\"\u001b[39;49;00m\n",
      "\u001b[1m\u001b[31mE       AssertionError: you don't have enough calls to input()\u001b[0m\n",
      "\u001b[1m\u001b[31mE       assert 2 >= 8\u001b[0m\n",
      "\u001b[1m\u001b[31mE        +  where 2 = <extras.scripts.hw_0_helper.InputChecker object at 0x10acc9ba0>.num_inputs\u001b[0m\n",
      "\n",
      "\u001b[1m\u001b[31m/var/folders/kg/1ys0dccx4237f5wsd_w10dt80000gn/T/ipykernel_67029/2901258849.py\u001b[0m:8: AssertionError\n",
      "===================================== short test summary info ======================================\n",
      "FAILED tmpyoyk9z3m.py::test_num_inputs - AssertionError: you don't have enough calls to input()\n"
     ]
    }
   ],
   "source": [
    "%%ipytest -qq\n",
    "\n",
    "from extras.scripts.hw_0_helper import *\n",
    "\n",
    "\n",
    "def test_num_inputs(tree):\n",
    "    checker = InputChecker()\n",
    "    checker.visit(tree)\n",
    "\n",
    "    assert checker.num_inputs >= 8, \"you don't have enough calls to input()\""
   ]
  },
  {
   "cell_type": "markdown",
   "metadata": {},
   "source": [
    "## Questions\n",
    "\n",
    "What's at least one question you had from the tutorials? `Start a New Conversation` under [`HW0 questions` in Discussions](https://brightspace.nyu.edu/d2l/le/206261/discussions/topics/322342/View)."
   ]
  }
 ],
 "metadata": {
  "file_extension": ".py",
  "kernelspec": {
   "display_name": "Python [conda env:python-public-policy] *",
   "language": "python",
   "name": "conda-env-python-public-policy-py"
  },
  "language_info": {
   "codemirror_mode": {
    "name": "ipython",
    "version": 3
   },
   "file_extension": ".py",
   "mimetype": "text/x-python",
   "name": "python",
   "nbconvert_exporter": "python",
   "pygments_lexer": "ipython3",
   "version": "3.10.6"
  },
  "mimetype": "text/x-python",
  "name": "python",
  "npconvert_exporter": "python",
  "pygments_lexer": "ipython3",
  "version": 3
 },
 "nbformat": 4,
 "nbformat_minor": 4
}
