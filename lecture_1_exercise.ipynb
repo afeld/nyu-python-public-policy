{
 "cells": [
  {
   "cell_type": "markdown",
   "metadata": {},
   "source": [
    "# Class 1 in-class exercise\n",
    "\n",
    "We'll be doing calculations on [2021 Yellow Taxi Trips](https://data.cityofnewyork.us/Transportation/2021-Yellow-Taxi-Trip-Data/m6nq-qud6) data. We'll live-code this together.\n",
    "\n",
    "## Step 0\n",
    "\n",
    "The data needs to available on the machine where Python is running in order to process it, so let's download from the NYC Open Data site directly:"
   ]
  },
  {
   "cell_type": "code",
   "execution_count": 1,
   "metadata": {},
   "outputs": [
    {
     "name": "stdout",
     "output_type": "stream",
     "text": [
      "2024-11-07 00:35:32 URL:https://data.cityofnewyork.us/resource/m6nq-qud6.csv [136065] -> \"2021_yellow_taxi_trips.csv\" [1]\n"
     ]
    }
   ],
   "source": [
    "!wget -O 2021_yellow_taxi_trips.csv --no-verbose https://data.cityofnewyork.us/resource/m6nq-qud6.csv"
   ]
  },
  {
   "cell_type": "markdown",
   "metadata": {},
   "source": [
    "This is using a command-line program to do the downloading. We'll download data ourselves manually later. Look at the files in the current directory:"
   ]
  },
  {
   "cell_type": "code",
   "execution_count": 2,
   "metadata": {},
   "outputs": [
    {
     "name": "stdout",
     "output_type": "stream",
     "text": [
      "2021_yellow_taxi_trips.csv        lecture_1.ipynb\n",
      "LICENSE.md                        lecture_1.slides.html\n",
      "\u001b[1m\u001b[36m_build\u001b[m\u001b[m                            lecture_1_exercise.ipynb\n",
      "_config.yml                       lecture_1_exercise_solution.ipynb\n",
      "\u001b[1m\u001b[36m_static\u001b[m\u001b[m                           lecture_2.ipynb\n",
      "_toc.yml                          lecture_2.slides.html\n",
      "assignments.md                    lecture_2_exercise.ipynb\n",
      "conf.py                           lecture_3.ipynb\n",
      "curve.ipynb                       lecture_3.slides.html\n",
      "\u001b[35mdata\u001b[m\u001b[m                              lecture_3_exercise.ipynb\n",
      "\u001b[1m\u001b[36mextras\u001b[m\u001b[m                            lecture_3_exercise_solution.ipynb\n",
      "\u001b[1m\u001b[36mfinal_project\u001b[m\u001b[m                     lecture_4.ipynb\n",
      "final_project.md                  lecture_5.ipynb\n",
      "home.md                           lecture_5_exercise_solution.ipynb\n",
      "hw_0.ipynb                        lecture_6.ipynb\n",
      "hw_1.ipynb                        \u001b[1m\u001b[36mmeta\u001b[m\u001b[m\n",
      "hw_2.ipynb                        meta.md\n",
      "hw_3.ipynb                        nbdime_config.json\n",
      "hw_4.ipynb                        pyproject.toml\n",
      "index.md                          resources.md\n",
      "joining_late.md                   \u001b[35msolutions\u001b[m\u001b[m\n",
      "lecture_0.ipynb                   syllabus.md\n",
      "lecture_0.slides.html             \u001b[1m\u001b[36mtmp\u001b[m\u001b[m\n"
     ]
    }
   ],
   "source": [
    "!ls"
   ]
  },
  {
   "cell_type": "markdown",
   "metadata": {},
   "source": [
    "You should see `2021_yellow_taxi_trips.csv` there."
   ]
  },
  {
   "cell_type": "markdown",
   "metadata": {},
   "source": [
    "## Step 1\n",
    "\n",
    "Print out the trip distances."
   ]
  },
  {
   "cell_type": "code",
   "execution_count": 3,
   "metadata": {},
   "outputs": [],
   "source": [
    "# your code here"
   ]
  },
  {
   "cell_type": "markdown",
   "metadata": {},
   "source": [
    "## Step 2\n",
    "\n",
    "Calculate the average ride distance."
   ]
  },
  {
   "cell_type": "code",
   "execution_count": 4,
   "metadata": {},
   "outputs": [],
   "source": [
    "# your code here"
   ]
  },
  {
   "cell_type": "markdown",
   "metadata": {},
   "source": [
    "## Step 3\n",
    "\n",
    "Your turn! Calculate the percent of trips that were paid for by credit card. The data dictionary will be helpful - see the Attachment on [the dataset page](https://data.cityofnewyork.us/Transportation/2021-Yellow-Taxi-Trip-Data/m6nq-qud6)."
   ]
  },
  {
   "cell_type": "code",
   "execution_count": 5,
   "metadata": {},
   "outputs": [],
   "source": [
    "# your code here"
   ]
  }
 ],
 "metadata": {
  "file_extension": ".py",
  "kernelspec": {
   "display_name": "Python 3",
   "language": "python",
   "name": "python3"
  },
  "language_info": {
   "codemirror_mode": {
    "name": "ipython",
    "version": 3
   },
   "file_extension": ".py",
   "mimetype": "text/x-python",
   "name": "python",
   "nbconvert_exporter": "python",
   "pygments_lexer": "ipython3",
   "version": "3.10.12"
  },
  "mimetype": "text/x-python",
  "name": "python",
  "npconvert_exporter": "python",
  "pygments_lexer": "ipython3",
  "version": 3
 },
 "nbformat": 4,
 "nbformat_minor": 4
}
