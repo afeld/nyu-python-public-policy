{
 "cells": [
  {
   "cell_type": "markdown",
   "metadata": {},
   "source": [
    "# Homework 2\n",
    "\n",
    "_[General assignment information](https://python-public-policy.afeld.me/en/{{school_slug}}/assignments.html)_"
   ]
  },
  {
   "cell_type": "markdown",
   "metadata": {},
   "source": [
    "## In-class exercise\n",
    "\n",
    "1. Find a dataset that seems interesting on the [NYC Open Data Portal](https://opendata.cityofnewyork.us/).\n",
    "    - Find something in a tabular format rather than a map, etc.\n",
    "    - Don't spend long on this.\n",
    "1. Use [this widget](https://python-public-policy.afeld.me/en/{{school_slug}}/shorten.html) to download a subset of the data, keeping the file size small.\n",
    "1. [Upload the file](https://python-public-policy.afeld.me/en/{{school_slug}}/assignments.html#storing-data)\n",
    "1. Display the data\n",
    "1. Do a bit of filtering or simple analysis"
   ]
  },
  {
   "cell_type": "code",
   "execution_count": null,
   "metadata": {
    "tags": [
     "solution"
    ]
   },
   "outputs": [],
   "source": [
    "# your code here"
   ]
  },
  {
   "cell_type": "markdown",
   "metadata": {},
   "source": [
    "## Coding: Using keywords to categorize 311 requests\n",
    "\n",
    "**Problem Statement:** When you read through the `descriptor` and `resolution_description` columns in the 311 data, you will see that complaints related to graffiti are actually scattered throughout multiple `complaint_type` categories. We want to identify all complaints related to graffiti and see which community districts have the most instances of graffiti.\n",
    "\n",
    "To help make this assignment easier, there's a smaller subset of the 311 data for you to use:\n",
    "\n",
    "https://storage.googleapis.com/python-public-policy/data/cleaned_311_data_hw2.csv.zip\n",
    "\n",
    "This smaller dataset only contains ~65,000 records from relevant complaint type categories, and has columns renamed to be lowercase and underscored.\n",
    "\n",
    "### Hints\n",
    "\n",
    "- You can adapt the `recode_borocd_counts()` example from [Lecture 2](lecture_2.ipynb) for this problem.\n",
    "- You may run into issues with empty values; [how to deal with them](https://medium.com/geekculture/dealing-with-null-values-in-pandas-dataframe-1a67854fe834).\n",
    "- [Ways to do case-insensitive string comparison in pure Python](https://www.geeksforgeeks.org/case-insensitive-string-comparison-in-python/), which translates over to pandas.\n",
    "\n",
    "### Setup"
   ]
  },
  {
   "cell_type": "code",
   "execution_count": null,
   "metadata": {
    "tags": [
     "columbia-only"
    ]
   },
   "outputs": [],
   "source": [
    "!pip install ipytest"
   ]
  },
  {
   "cell_type": "code",
   "execution_count": null,
   "metadata": {},
   "outputs": [],
   "source": [
    "import ipytest\n",
    "\n",
    "ipytest.autoconfig()"
   ]
  },
  {
   "cell_type": "markdown",
   "metadata": {},
   "source": [
    "### Step 0\n",
    "\n",
    "Load the data."
   ]
  },
  {
   "cell_type": "code",
   "execution_count": null,
   "metadata": {},
   "outputs": [],
   "source": [
    "import pandas as pd"
   ]
  },
  {
   "cell_type": "code",
   "execution_count": null,
   "metadata": {
    "tags": [
     "solution"
    ]
   },
   "outputs": [],
   "source": [
    "# your code here"
   ]
  },
  {
   "cell_type": "markdown",
   "metadata": {},
   "source": [
    "### Step 1\n",
    "\n",
    "Create a `flag_graffiti` function that checks each row in the 311 dataframe to see if the word \"graffiti\" is present in the `complaint_type`, `descriptor`, and/or `resolution_description`. Any of the columns may contain the word, so you should check all of them. If the word \"graffiti\" is found, the function should return the boolean value `True`. If \"graffiti\" is not found, the function should return the boolean value `False`.\n",
    "\n",
    "#### Hints\n",
    "\n",
    "- Make sure to look for \"graffiti\" _in_ those strings. The strings may contain more than just that word.\n",
    "- Capitalization may be inconsistent."
   ]
  },
  {
   "cell_type": "code",
   "execution_count": null,
   "metadata": {
    "tags": [
     "solution"
    ]
   },
   "outputs": [],
   "source": [
    "# your code here"
   ]
  },
  {
   "cell_type": "markdown",
   "metadata": {},
   "source": [
    "Test by passing in a fake row."
   ]
  },
  {
   "cell_type": "code",
   "execution_count": null,
   "metadata": {},
   "outputs": [],
   "source": [
    "%%ipytest --tb=short --verbosity=1\n",
    "\n",
    "\n",
    "def test_complaint_type():\n",
    "    test_row = pd.Series({\n",
    "        \"complaint_type\": \"graffiti\",\n",
    "        \"descriptor\": \"\",\n",
    "        \"resolution_description\": \"\"\n",
    "    })\n",
    "    assert flag_graffiti(test_row) == True\n",
    "\n",
    "    \n",
    "def test_descriptor():\n",
    "    test_row = pd.Series({\n",
    "        \"complaint_type\": \"\",\n",
    "        \"descriptor\": \"graffiti\",\n",
    "        \"resolution_description\": \"\"\n",
    "    })\n",
    "    assert flag_graffiti(test_row) == True\n",
    "\n",
    "    \n",
    "def test_description():\n",
    "    test_row = pd.Series({\n",
    "        \"complaint_type\": \"\",\n",
    "        \"descriptor\": \"\",\n",
    "        \"resolution_description\": \"graffiti\"\n",
    "    })\n",
    "    assert flag_graffiti(test_row) == True\n",
    "\n",
    "    \n",
    "def test_none():\n",
    "    test_row = pd.Series({\n",
    "        \"complaint_type\": \"\",\n",
    "        \"descriptor\": \"\",\n",
    "        \"resolution_description\": \"\"\n",
    "    })\n",
    "    assert flag_graffiti(test_row) == False\n",
    "\n",
    "\n",
    "def test_mixed_cases():\n",
    "    test_row = pd.Series({\n",
    "        \"complaint_type\": \"GrafFiti\",\n",
    "        \"descriptor\": \"\",\n",
    "        \"resolution_description\": \"\"\n",
    "    })\n",
    "    assert flag_graffiti(test_row) == True\n",
    "\n",
    "    \n",
    "def test_substring():\n",
    "    test_row = pd.Series({\n",
    "        \"complaint_type\": \"\",\n",
    "        \"descriptor\": \"there's graffiti on the wall\",\n",
    "        \"resolution_description\": \"\"\n",
    "    })\n",
    "    assert flag_graffiti(test_row) == True"
   ]
  },
  {
   "cell_type": "markdown",
   "metadata": {},
   "source": [
    "### Step 2\n",
    "\n",
    "Apply the function created in Step 1 to the 311 dataframe and create a new column called `graffiti_flag` that captures the output from the function.\n",
    "\n",
    "Tip: There are two checks you can use to confirm that the function worked as expected.\n",
    "\n",
    "- Make sure there are records tagged with `graffiti_flag` `True`.\n",
    "- Make sure that more than one `complaint_type` has `graffiti_flag` `True` (and `False`)."
   ]
  },
  {
   "cell_type": "code",
   "execution_count": null,
   "metadata": {
    "tags": [
     "solution"
    ]
   },
   "outputs": [],
   "source": [
    "# your code here"
   ]
  },
  {
   "cell_type": "code",
   "execution_count": null,
   "metadata": {},
   "outputs": [],
   "source": [
    "%%ipytest --tb=short --verbosity=1\n",
    "\n",
    "def test_graffiti_flag():\n",
    "    assert 'graffiti_flag' in df.columns, \"column missing\"\n",
    "    assert df.dtypes['graffiti_flag'] == 'bool', \"column should be booleans\""
   ]
  },
  {
   "cell_type": "markdown",
   "metadata": {},
   "source": [
    "### Step 3\n",
    "\n",
    "Create another dataframe `df_graffiti` that only contains records where `graffiti_flag` is `True`."
   ]
  },
  {
   "cell_type": "code",
   "execution_count": null,
   "metadata": {
    "tags": [
     "solution"
    ]
   },
   "outputs": [],
   "source": [
    "# your code here"
   ]
  },
  {
   "cell_type": "code",
   "execution_count": null,
   "metadata": {},
   "outputs": [],
   "source": [
    "%%ipytest --tb=short --verbosity=1\n",
    "\n",
    "def test_all_have_graffiti():\n",
    "    assert df_graffiti['graffiti_flag'].all(), \"not all have graffiti_flag set to True\""
   ]
  },
  {
   "cell_type": "markdown",
   "metadata": {},
   "source": [
    "### Step 4\n",
    "\n",
    "Group your dataframe `df_graffiti` to get the count of requests per `community_board`. Identify which Community District has the highest count."
   ]
  },
  {
   "cell_type": "code",
   "execution_count": null,
   "metadata": {
    "tags": [
     "solution"
    ]
   },
   "outputs": [],
   "source": [
    "# your code here"
   ]
  },
  {
   "cell_type": "markdown",
   "metadata": {},
   "source": [
    "### Bonus 1\n",
    "\n",
    "_0.2 points_\n",
    "\n",
    "Create a `graffiti_flag2` column using only built-in pandas operations, i.e. without using a custom function (`def`). Another way to think about it: Instead of operating on a single row at a time, how can you operate across entire columns? See [working with text data](https://pandas.pydata.org/pandas-docs/stable/user_guide/text.html) for clues."
   ]
  },
  {
   "cell_type": "code",
   "execution_count": null,
   "metadata": {
    "tags": [
     "solution"
    ]
   },
   "outputs": [],
   "source": [
    "# your code here"
   ]
  },
  {
   "cell_type": "markdown",
   "metadata": {},
   "source": [
    "### Bonus 2\n",
    "\n",
    "_0.2 points_\n",
    "\n",
    "Clean another column of the dataset. Include explanation and code for how you got there."
   ]
  },
  {
   "cell_type": "code",
   "execution_count": null,
   "metadata": {
    "tags": [
     "solution"
    ]
   },
   "outputs": [],
   "source": [
    "# your code here"
   ]
  },
  {
   "cell_type": "markdown",
   "metadata": {},
   "source": [
    "Now [turn in the assignment](https://python-public-policy.afeld.me/en/{{school_slug}}/assignments.html).\n",
    "\n",
    "## Tutorials\n",
    "\n",
    "- [Pythonic Data Cleaning With Pandas and NumPy](https://realpython.com/python-data-cleaning-numpy-pandas/)\n",
    "- [\"You’re Not Mapping Rats, You're Mapping Gentrification\"](https://theconcourse.deadspin.com/you-re-not-mapping-rats-you-re-mapping-gentrification-1835005060)—article about bias in 311 data\n",
    "- [Read about the Spatial Data Equity Tool](https://medium.com/@urban_institute/introducing-a-spatial-equity-data-tool-b959c40298cf)\n",
    "- [Intro to Plotly Express](https://plotly.com/python/plotly-express/). You don't have to work through every one of these examples; just review to get familiar with what types of charts are possible.\n",
    "\n",
    "### Optional\n",
    "\n",
    "- [Data Cleaning IS Analysis, Not Grunt Work](https://counting.substack.com/p/data-cleaning-is-analysis-not-grunt)\n",
    "- [Python Tools for Record Linkage](https://pbpython.com/record-linking.html)\n",
    "- [Reshaping and pivot tables](https://pandas.pydata.org/pandas-docs/stable/user_guide/reshaping.html)\n",
    "- [How to reshape the layout of tables](https://pandas.pydata.org/pandas-docs/stable/getting_started/intro_tutorials/07_reshape_table_layout.html)\n",
    "\n",
    "## Participation\n",
    "\n",
    "Reminder about the [between-class participation requirement](https://python-public-policy.afeld.me/en/{{school_slug}}/syllabus.html#participation)."
   ]
  }
 ],
 "metadata": {
  "file_extension": ".py",
  "kernelspec": {
   "display_name": "Python [conda env:python-public-policy] *",
   "language": "python",
   "name": "conda-env-python-public-policy-py"
  },
  "language_info": {
   "codemirror_mode": {
    "name": "ipython",
    "version": 3
   },
   "file_extension": ".py",
   "mimetype": "text/x-python",
   "name": "python",
   "nbconvert_exporter": "python",
   "pygments_lexer": "ipython3",
   "version": "3.8.10"
  },
  "mimetype": "text/x-python",
  "name": "python",
  "npconvert_exporter": "python",
  "pygments_lexer": "ipython3",
  "toc": {
   "base_numbering": 1,
   "nav_menu": {},
   "number_sections": true,
   "sideBar": true,
   "skip_h1_title": false,
   "title_cell": "Table of Contents",
   "title_sidebar": "Contents",
   "toc_cell": false,
   "toc_position": {},
   "toc_section_display": true,
   "toc_window_display": false
  },
  "version": 3
 },
 "nbformat": 4,
 "nbformat_minor": 4
}
