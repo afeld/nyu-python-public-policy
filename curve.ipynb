{
 "cells": [
  {
   "cell_type": "markdown",
   "id": "7bcfa090",
   "metadata": {},
   "source": [
    "# Grading curve\n",
    "\n",
    "Per [SIPA policy](https://bulletin.columbia.edu/sipa/academic-policies/grading-system-academic-progress/):\n",
    "\n",
    "> Grades submitted for SIPA core courses must have an average GPA between 3.2 and 3.4, with the goal being 3.3. Courses with enrollments over 35 are also recommended to follow this rule.\n",
    "\n",
    "This page will be updated with the initial curve calculation several weeks into the semester."
   ]
  }
 ],
 "metadata": {
  "kernelspec": {
   "display_name": "Python [conda env:python-public-policy] *",
   "language": "python",
   "name": "conda-env-python-public-policy-py"
  },
  "language_info": {
   "codemirror_mode": {
    "name": "ipython",
    "version": 3
   },
   "file_extension": ".py",
   "mimetype": "text/x-python",
   "name": "python",
   "nbconvert_exporter": "python",
   "pygments_lexer": "ipython3",
   "version": "3.10.6"
  }
 },
 "nbformat": 4,
 "nbformat_minor": 5
}
