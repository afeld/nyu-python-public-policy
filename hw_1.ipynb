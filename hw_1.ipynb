{
 "cells": [
  {
   "cell_type": "markdown",
   "metadata": {},
   "source": [
    "# Homework 1\n",
    "\n",
    "_[General assignment information](https://python-public-policy.afeld.me/en/{{school_slug}}/assignments.html)_\n",
    "\n",
    "## In-class exercise\n",
    "\n",
    "### Step 1\n",
    "\n",
    "Read in the 311 dataset from:\n",
    "\n",
    "https://storage.googleapis.com/python-public-policy/data/311_requests_2018-19_sample.csv.zip\n",
    "\n",
    "and save it as `df`. Remember there is a package you need to import in order for this to work."
   ]
  },
  {
   "cell_type": "code",
   "execution_count": null,
   "metadata": {
    "execution": {
     "iopub.execute_input": "2022-04-15T22:12:29.964974Z",
     "iopub.status.busy": "2022-04-15T22:12:29.964437Z",
     "iopub.status.idle": "2022-04-15T22:12:29.971924Z",
     "shell.execute_reply": "2022-04-15T22:12:29.970791Z"
    },
    "tags": [
     "solution"
    ]
   },
   "outputs": [],
   "source": [
    "# your code here"
   ]
  },
  {
   "cell_type": "markdown",
   "metadata": {},
   "source": [
    "### Step 2\n",
    "\n",
    "Answer these two questions about the data, showing your code that produced the result in two individual code cells:\n",
    "\n",
    "1. What is the minimum value in the `Created Date` column? Try using `.min()`.\n",
    "1. What is the maximum value in the `Created Date` column? Try using `.max()`."
   ]
  },
  {
   "cell_type": "code",
   "execution_count": null,
   "metadata": {
    "execution": {
     "iopub.execute_input": "2022-04-15T22:12:29.976437Z",
     "iopub.status.busy": "2022-04-15T22:12:29.976037Z",
     "iopub.status.idle": "2022-04-15T22:12:29.979584Z",
     "shell.execute_reply": "2022-04-15T22:12:29.978798Z"
    },
    "tags": [
     "solution"
    ]
   },
   "outputs": [],
   "source": [
    "# your code here"
   ]
  },
  {
   "cell_type": "markdown",
   "metadata": {},
   "source": [
    "### Step 3\n",
    "\n",
    "***Does anything about the resulting min and max values surprise you? What do think causes this?***\n",
    "\n",
    "Hint: Look at the year. If you use `.head()` and `.tail()` you can find the real min and max dates. We'll learn more about how to properly handle dates in a later lecture."
   ]
  },
  {
   "cell_type": "markdown",
   "metadata": {
    "tags": [
     "solution"
    ]
   },
   "source": [
    "YOUR RESPONSE HERE"
   ]
  },
  {
   "cell_type": "markdown",
   "metadata": {},
   "source": [
    "## Coding: Exploring Trends in How People Submit 311 Requests\n",
    "\n",
    "Use this zipped copy of the `311_requests_2018-19_sample_clean.csv` created during our lecture to complete the homework. Read it in from:\n",
    "\n",
    "https://storage.googleapis.com/python-public-policy/data/311_requests_2018-19_sample_clean.csv.zip"
   ]
  },
  {
   "cell_type": "code",
   "execution_count": null,
   "metadata": {
    "execution": {
     "iopub.execute_input": "2022-04-15T22:12:29.983689Z",
     "iopub.status.busy": "2022-04-15T22:12:29.983252Z",
     "iopub.status.idle": "2022-04-15T22:12:29.988091Z",
     "shell.execute_reply": "2022-04-15T22:12:29.987036Z"
    },
    "tags": [
     "solution"
    ]
   },
   "outputs": [],
   "source": [
    "# your code here"
   ]
  },
  {
   "cell_type": "markdown",
   "metadata": {},
   "source": [
    "### Q1\n",
    "\n",
    "Which complaint submission method (`Open Data Channel Type`) is used most frequently, according to this dataset? Provide the count of each for comparison."
   ]
  },
  {
   "cell_type": "code",
   "execution_count": null,
   "metadata": {
    "execution": {
     "iopub.execute_input": "2022-04-15T22:12:29.994706Z",
     "iopub.status.busy": "2022-04-15T22:12:29.994469Z",
     "iopub.status.idle": "2022-04-15T22:12:29.997480Z",
     "shell.execute_reply": "2022-04-15T22:12:29.996839Z"
    },
    "tags": [
     "solution"
    ]
   },
   "outputs": [],
   "source": [
    "# your code here"
   ]
  },
  {
   "cell_type": "markdown",
   "metadata": {},
   "source": [
    "### Step 2\n",
    "\n",
    "Get the count of each submission method per complaint type, sorted by complaint type.\n",
    "\n"
   ]
  },
  {
   "cell_type": "code",
   "execution_count": null,
   "metadata": {
    "execution": {
     "iopub.execute_input": "2022-04-15T22:12:30.000974Z",
     "iopub.status.busy": "2022-04-15T22:12:30.000718Z",
     "iopub.status.idle": "2022-04-15T22:12:30.004068Z",
     "shell.execute_reply": "2022-04-15T22:12:30.003403Z"
    },
    "tags": [
     "solution"
    ]
   },
   "outputs": [],
   "source": [
    "# your code here"
   ]
  },
  {
   "cell_type": "markdown",
   "metadata": {},
   "source": [
    "***Review the results and share a sentence or two with your observations.***"
   ]
  },
  {
   "cell_type": "markdown",
   "metadata": {
    "tags": [
     "solution"
    ]
   },
   "source": [
    "YOUR RESPONSE HERE"
   ]
  },
  {
   "cell_type": "markdown",
   "metadata": {},
   "source": [
    "### Step 3\n",
    "\n",
    "Provide a simplified table that only lists the most common request submission method for each complaint type. There should be one row per complaint type, capturing the most common submission method for that complaint type."
   ]
  },
  {
   "cell_type": "code",
   "execution_count": null,
   "metadata": {
    "execution": {
     "iopub.execute_input": "2022-04-15T22:12:30.008502Z",
     "iopub.status.busy": "2022-04-15T22:12:30.008247Z",
     "iopub.status.idle": "2022-04-15T22:12:30.011327Z",
     "shell.execute_reply": "2022-04-15T22:12:30.010656Z"
    },
    "tags": [
     "solution"
    ]
   },
   "outputs": [],
   "source": [
    "# your code here"
   ]
  },
  {
   "cell_type": "markdown",
   "metadata": {},
   "source": [
    "***Can you provide a potential explaination for why some complaints are more frequently made via phone and mobile versus on the website?***"
   ]
  },
  {
   "cell_type": "markdown",
   "metadata": {
    "tags": [
     "solution"
    ]
   },
   "source": [
    "YOUR RESPONSE HERE"
   ]
  },
  {
   "cell_type": "markdown",
   "metadata": {},
   "source": [
    "Now [turn in the assignment](https://python-public-policy.afeld.me/en/{{school_slug}}/assignments.html).\n",
    "\n",
    "## Tutorials\n",
    "\n",
    "1. Read [The Joys (and Woes) of the Craft of Software Engineering](https://cs.calvin.edu/courses/cs/262/kvlinden/references/brooksJoysAndWoes.html)\n",
    "   - Note not _everything_ in there is applicable to data analysis\n",
    "1. Filtering/indexing `DataFrame`s\n",
    "   - [Filter specific rows from a `DataFrame`](https://pandas.pydata.org/pandas-docs/stable/getting_started/intro_tutorials/03_subset_data.html#how-do-i-filter-specific-rows-from-a-dataframe)\n",
    "   - [Boolean indexing](https://pandas.pydata.org/pandas-docs/stable/user_guide/indexing.html#boolean-indexing)\n",
    "1. [Video introducing functions](https://www.youtube.com/watch?v=9Os0o3wzS_I&list=PL-osiE80TeTskrapNbzXhwoFUiLCjGgY7&index=8)\n",
    "1. Coding Style Guides - Please skim these; I don't expect you to understand and follow everything in them. The most important guidelines to pay attention to are indentation and keeping each statement on its own line.\n",
    "   - [The Hitchhiker’s Guide to Python](https://docs.python-guide.org/writing/style/)\n",
    "   - [PEP 8](https://www.python.org/dev/peps/pep-0008/)\n",
    "1. [Guide to commenting your code](https://realpython.com/python-comments-guide/)\n",
    "1. [Quartz Guide to Bad Data](https://github.com/Quartz/bad-data-guide#readme)\n",
    "\n",
    "### Optional\n",
    "\n",
    "- Glance through pandas' [comparison with other tools](https://pandas.pydata.org/pandas-docs/stable/getting_started/comparison/index.html) for any you are familiar with\n",
    "- More on indexing:\n",
    "   - [How to Select Rows from Pandas DataFrame](https://datatofish.com/select-rows-pandas-dataframe/)\n",
    "   - Selecting Subsets of Data in Pandas: [Part 1](https://medium.com/dunder-data/selecting-subsets-of-data-in-pandas-6fcd0170be9c) and [Part 2](https://medium.com/dunder-data/selecting-subsets-of-data-in-pandas-39e811c81a0c)\n",
    "\n",
    "## Participation\n",
    "\n",
    "Reminder about the [between-class participation requirement](https://python-public-policy.afeld.me/en/{{school_slug}}/syllabus.html#participation)."
   ]
  }
 ],
 "metadata": {
  "file_extension": ".py",
  "kernelspec": {
   "display_name": "Python [conda env:python-public-policy] *",
   "language": "python",
   "name": "conda-env-python-public-policy-py"
  },
  "language_info": {
   "codemirror_mode": {
    "name": "ipython",
    "version": 3
   },
   "file_extension": ".py",
   "mimetype": "text/x-python",
   "name": "python",
   "nbconvert_exporter": "python",
   "pygments_lexer": "ipython3",
   "version": "3.10.8"
  },
  "mimetype": "text/x-python",
  "name": "python",
  "npconvert_exporter": "python",
  "pygments_lexer": "ipython3",
  "version": 3
 },
 "nbformat": 4,
 "nbformat_minor": 4
}
