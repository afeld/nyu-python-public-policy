{
 "cells": [
  {
   "cell_type": "markdown",
   "id": "2334a483-3237-4ea3-929f-890537e3f221",
   "metadata": {},
   "source": [
    "# [Between-Class Participation](../syllabus.md#participation) Grading Helper\n",
    "\n",
    "To use:\n",
    "\n",
    "1. Download the Discussion data\n",
    "    1. [Go to Ed](https://brightspace.nyu.edu/d2l/le/lessons/366164/topics/9996174)\n",
    "    1. Open analytics\n",
    "    1. Adjust the dates to the relevant range\n",
    "    1. Download the Threads JSON\n",
    "1. [Make a copy of this notebook](../assignments.md#getting-started)\n",
    "1. [Upload the data](../assignments.md#storing-data)\n",
    "1. Adjust the filename below\n",
    "1. Run all cells in the notebook\n",
    "1. Review the student contributions at the bottom"
   ]
  },
  {
   "cell_type": "markdown",
   "id": "28275bf2-e4fd-4bb2-845a-7bd3761085a7",
   "metadata": {},
   "source": [
    "## Load data"
   ]
  },
  {
   "cell_type": "code",
   "execution_count": 1,
   "id": "e7263471-1228-4c4e-8e53-da10e89ea987",
   "metadata": {
    "scrolled": true
   },
   "outputs": [],
   "source": [
    "import json\n",
    "from pathlib import Path\n",
    "import pandas as pd\n",
    "\n",
    "path = Path(\"..\", \"FILENAME.json\")\n",
    "data = json.load(open(path))\n",
    "threads = pd.json_normalize(data)\n",
    "# threads"
   ]
  },
  {
   "cell_type": "code",
   "execution_count": 2,
   "id": "87b6dda9-a1da-47a5-89cd-75290c5d7031",
   "metadata": {
    "scrolled": true
   },
   "outputs": [
    {
     "name": "stdout",
     "output_type": "stream",
     "text": [
      "<class 'pandas.core.frame.DataFrame'>\n",
      "RangeIndex: 37 entries, 0 to 36\n",
      "Data columns (total 21 columns):\n",
      " #   Column          Non-Null Count  Dtype \n",
      "---  ------          --------------  ----- \n",
      " 0   url             37 non-null     object\n",
      " 1   type            37 non-null     object\n",
      " 2   number          37 non-null     int64 \n",
      " 3   title           37 non-null     object\n",
      " 4   category        37 non-null     object\n",
      " 5   subcategory     37 non-null     object\n",
      " 6   subsubcategory  37 non-null     object\n",
      " 7   votes           37 non-null     int64 \n",
      " 8   views           37 non-null     int64 \n",
      " 9   unique_views    37 non-null     int64 \n",
      " 10  private         37 non-null     bool  \n",
      " 11  anonymous       37 non-null     bool  \n",
      " 12  endorsed        37 non-null     bool  \n",
      " 13  created_at      37 non-null     object\n",
      " 14  text            37 non-null     object\n",
      " 15  document        37 non-null     object\n",
      " 16  comments        37 non-null     object\n",
      " 17  user.name       37 non-null     object\n",
      " 18  user.email      37 non-null     object\n",
      " 19  user.role       37 non-null     object\n",
      " 20  answers         21 non-null     object\n",
      "dtypes: bool(3), int64(4), object(14)\n",
      "memory usage: 5.4+ KB\n"
     ]
    }
   ],
   "source": [
    "threads.info()"
   ]
  },
  {
   "cell_type": "markdown",
   "id": "39c594de-14fc-4a2f-aa1a-8357650e53a6",
   "metadata": {},
   "source": [
    "## Include replies\n",
    "\n",
    "The JSON data includes reples (comments and answers) as nested under each post."
   ]
  },
  {
   "cell_type": "code",
   "execution_count": 3,
   "id": "9d8fc8dc-1d33-467a-9711-3471f46543c5",
   "metadata": {
    "scrolled": true
   },
   "outputs": [],
   "source": [
    "comments = pd.json_normalize(threads[\"comments\"].explode().dropna())\n",
    "# comments"
   ]
  },
  {
   "cell_type": "code",
   "execution_count": 4,
   "id": "ce94a5bc-8c53-4dcb-b024-03ad29c027d7",
   "metadata": {
    "scrolled": true
   },
   "outputs": [],
   "source": [
    "replies = pd.json_normalize(threads[\"answers\"].explode().dropna())\n",
    "# replies"
   ]
  },
  {
   "cell_type": "code",
   "execution_count": 5,
   "id": "439449c0-b297-4aa5-8d1b-a266fe6207a1",
   "metadata": {
    "scrolled": true
   },
   "outputs": [],
   "source": [
    "posts = pd.concat([threads, comments, replies]).reset_index()\n",
    "# posts"
   ]
  },
  {
   "cell_type": "code",
   "execution_count": 6,
   "id": "f130ea1f-1df1-4289-9d53-9b045f9f8649",
   "metadata": {},
   "outputs": [],
   "source": [
    "posts[\"created_at\"] = pd.to_datetime(posts[\"created_at\"])\n",
    "# posts[\"created_at\"]"
   ]
  },
  {
   "cell_type": "markdown",
   "id": "fb9b92e8-b824-4d23-a204-083160f024a9",
   "metadata": {},
   "source": [
    "## Prep output"
   ]
  },
  {
   "cell_type": "code",
   "execution_count": 7,
   "id": "83b204da-bbc8-4902-9120-26d294094515",
   "metadata": {
    "editable": true,
    "slideshow": {
     "slide_type": ""
    },
    "tags": []
   },
   "outputs": [],
   "source": [
    "output = posts.copy()\n",
    "\n",
    "# exclude the instructors\n",
    "output = output[output[\"user.role\"] != \"admin\"]\n",
    "\n",
    "# sort by name\n",
    "output = output.sort_values(\"user.name\")\n",
    "\n",
    "# only include a subset of the columns\n",
    "output = output[\n",
    "    [\n",
    "        \"user.name\",\n",
    "        \"url\",\n",
    "        # \"title\",\n",
    "        \"text\",\n",
    "    ]\n",
    "]\n",
    "\n",
    "# make links clickable\n",
    "# https://stackoverflow.com/a/20043785/358804\n",
    "output[\"url\"] = output[\"url\"].apply(lambda url: f'<a href=\"{url}\">Open</a>')\n",
    "\n",
    "# render newlines\n",
    "# https://stackoverflow.com/a/56881411/358804\n",
    "styled = output.style.set_properties(\n",
    "    **{\n",
    "        \"text-align\": \"left\",\n",
    "        \"white-space\": \"pre-wrap\",\n",
    "    }\n",
    ")"
   ]
  },
  {
   "cell_type": "markdown",
   "id": "82a05a34-8aaf-41d1-8371-bb54aa7533ba",
   "metadata": {},
   "source": [
    "## Output"
   ]
  },
  {
   "cell_type": "code",
   "execution_count": null,
   "id": "c3eab0ba-6271-41c5-8c48-978a58d02a56",
   "metadata": {},
   "outputs": [],
   "source": [
    "from IPython.display import HTML\n",
    "\n",
    "HTML(styled.to_html(escape=False))"
   ]
  }
 ],
 "metadata": {
  "kernelspec": {
   "display_name": "Python [conda env:python-public-policy] *",
   "language": "python",
   "name": "conda-env-python-public-policy-py"
  },
  "language_info": {
   "codemirror_mode": {
    "name": "ipython",
    "version": 3
   },
   "file_extension": ".py",
   "mimetype": "text/x-python",
   "name": "python",
   "nbconvert_exporter": "python",
   "pygments_lexer": "ipython3",
   "version": "3.10.12"
  }
 },
 "nbformat": 4,
 "nbformat_minor": 5
}
