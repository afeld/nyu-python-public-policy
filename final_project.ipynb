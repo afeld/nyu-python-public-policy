{
 "cells": [
  {
   "cell_type": "markdown",
   "metadata": {
    "slideshow": {
     "slide_type": "slide"
    }
   },
   "source": [
    "# Final Project\n",
    "\n",
    "- Open-ended\n",
    "   - Be creative, and just the right amount of ambitious\n",
    "- **Goal:** Prove or disprove a hypothesis using skills learned in this class"
   ]
  },
  {
   "cell_type": "markdown",
   "metadata": {
    "slideshow": {
     "slide_type": "slide"
    }
   },
   "source": [
    "## Proposal\n",
    "\n",
    "1. [Find a dataset](#open-data-portals) that seems interesting.\n",
    "   - Use at least one dataset that you aren't familiar with.\n",
    "      - Using data from a primary source is preferred.\n",
    "   - Finding a dataset available in CSV or JSON is recommended, though [pandas can read other formats](https://pandas.pydata.org/pandas-docs/stable/user_guide/io.html).\n",
    "   {%- if id == \"nyu\" %}\n",
    "   - Note that {{coding_env_name}} has a storage limit of 1GB.\n",
    "   {%- endif %}\n",
    "1. Inspect the data a bit.\n",
    "1. Come up with a question that the data is capable of answering and _isn't trivial to answer_.\n",
    "   - If you aren't sure, ask.\n",
    "1. Come up with a hypothesis (a.k.a. a guess of the answer to the question).\n",
    "1. Submit the proposal.\n",
    "\n",
    "If the proposal shows effort and follows the format below, full credit will be given."
   ]
  },
  {
   "cell_type": "markdown",
   "metadata": {
    "slideshow": {
     "slide_type": "subslide"
    }
   },
   "source": [
    "### Format"
   ]
  },
  {
   "cell_type": "markdown",
   "metadata": {
    "slideshow": {
     "slide_type": "-"
    },
    "tags": [
     "columbia-only"
    ]
   },
   "source": [
    "Submit responses to the following in the `Final Project proposal` Assignment:"
   ]
  },
  {
   "cell_type": "markdown",
   "metadata": {
    "slideshow": {
     "slide_type": "-"
    },
    "tags": [
     "nyu-only"
    ]
   },
   "source": [
    "Post responses to the following as a new Conversation under the `Final Project proposals` [Discussion]({{discussions_url}}) by the start of class on 2/21:"
   ]
  },
  {
   "cell_type": "markdown",
   "metadata": {},
   "source": [
    "- **What dataset are you going to use?**\n",
    "   - Please include a link. If multiple, how are you going to merge/join them?\n",
    "- **What's the question you are trying to answer?**\n",
    "   - It should be _specific, and objectively answerable_ through the data available.\n",
    "- **What's your hypothesis?**"
   ]
  },
  {
   "cell_type": "markdown",
   "metadata": {
    "slideshow": {
     "slide_type": "subslide"
    }
   },
   "source": [
    "### Tips\n",
    "\n",
    "- Your question/hypothesis doesn't need to be something novel; confirming something you read in the news is fine.\n",
    "- You won't be graded on the scientific soundness of your work.\n",
    "   - That said, please think through and note assumptions/caveats/unknowns of your approach.\n",
    "- The sooner you post your proposal, the sooner you'll get feedback."
   ]
  },
  {
   "cell_type": "markdown",
   "metadata": {
    "slideshow": {
     "slide_type": "subslide"
    }
   },
   "source": [
    "### Simplified example\n",
    "\n",
    "- **Dataset:** [Recycling Diversion and Capture Rates](https://data.cityofnewyork.us/Environment/Recycling-Diversion-and-Capture-Rates/gaq9-z3hz)\n",
    "- **Question:** From 2016 to 2019, what community district increased their diversion (recycling) rate the most?\n",
    "- **Hypothesis:** [Bushwick](https://communityprofiles.planning.nyc.gov/brooklyn/4), because it's gentrified over that time, and hipsters love to recycle."
   ]
  },
  {
   "cell_type": "markdown",
   "metadata": {
    "slideshow": {
     "slide_type": "subslide"
    }
   },
   "source": [
    "### Another example\n",
    "\n",
    "- **Dataset:** data about people's trash\n",
    "- **Question:** Is recycling better now than before?\n",
    "- **Hypothesis:** probably\n",
    "\n",
    "What's wrong with this proposal?"
   ]
  },
  {
   "cell_type": "markdown",
   "metadata": {
    "slideshow": {
     "slide_type": "subslide"
    }
   },
   "source": [
    "Even the question can bake in assumptions. For example:\n",
    "\n",
    "> What ZIP code has the highest number of food poisoning cases?\n",
    "\n",
    "assumes a relationship between food-borne illness and geography. What assumptions does your question make?"
   ]
  },
  {
   "cell_type": "markdown",
   "metadata": {
    "slideshow": {
     "slide_type": "slide"
    }
   },
   "source": [
    "## Open data portals\n",
    "\n",
    "There are countless places to get data, notably:\n",
    "\n",
    "- Local:\n",
    "   - [NYC OpenData](https://opendata.cityofnewyork.us/)\n",
    "   - [BetaNYC](https://data.beta.nyc/)\n",
    "- U.S. Federal:\n",
    "   - [data.gov](https://www.data.gov/)\n",
    "   - [Census Bureau](https://data.census.gov/)\n",
    "- [United Nations](https://data.un.org/)\n",
    "- [World Bank](https://data.worldbank.org/)\n",
    "- [World Health Organization (WHO)](https://www.who.int/data)\n",
    "- [Economic Policy Institute](https://www.epi.org/data/)\n",
    "- [Kaggle](https://www.kaggle.com/datasets)\n",
    "- [Google Dataset Search](https://datasetsearch.research.google.com/)\n",
    "- [Global list of open data portals](https://dataportals.org/)"
   ]
  },
  {
   "cell_type": "markdown",
   "metadata": {
    "slideshow": {
     "slide_type": "slide"
    }
   },
   "source": [
    "## Once you start\n",
    "\n",
    "- [General assignment information](https://python-public-policy.afeld.me/en/{{school_slug}}/assignments.html)\n",
    "- Create a new notebook to do the actual analysis; that is what you'll [turn in](#submission).{% if id == 'nyu' %} To create, click:\n",
    "   1. `File`\n",
    "   1. `New notebook`\n",
    "   1. `Python [conda env:python-public-policy]`{% endif %}\n",
    "- Go back and find any information that's available _around_ the data, to get a better understanding of what it contains and means.\n",
    "   - Might include a data dictionary\n",
    "   - Might involve poking around a government agency's web site to understand their processes\n",
    "   - Understand what all the different columns and values represent"
   ]
  },
  {
   "cell_type": "markdown",
   "metadata": {
    "slideshow": {
     "slide_type": "slide"
    }
   },
   "source": [
    "## Analysis requirements\n",
    "\n",
    "In addition to the applicable [general assignment requirements](https://python-public-policy.afeld.me/en/{{school_slug}}/syllabus.html#assignment-scoring), your submission should:\n",
    "\n",
    "<!-- make sure edits here are reflected in extras/scripts/final_project_check.py -->\n",
    "\n",
    "- **Read like a blog post** - 35 points\n",
    "   - Pretend you're explaining to a peer who hasn't taken this class. You don't need to teach them to code, but they should be able to follow what's going on.\n",
    "   - Re-state the question, hypothesis, and data source(s) with link(s)\n",
    "   - Walk the reader through what you're doing in every step and what they should be taking away from it.\n",
    "      - You are more than welcome to inject personality in there; doesn't need to be dry.\n",
    "   - Use text cells with [Markdown](https://www.markdownguide.org/basic-syntax/) for formatting.\n",
    "      - You'll need to [change the cell type to Markdown](https://jupyter-notebook.readthedocs.io/en/stable/examples/Notebook/Working%20With%20Markdown%20Cells.html#Markdown-Cells).\n",
    "   - Include any dead ends you hit in your analysis.\n",
    "      - For example, include charts that you generate that may not show anything interesting and explain what you are choosing to look at instead.\n",
    "      - You should still be cleaning up unused/broken code to make your notebook readable.\n",
    "   - Have a conclusion that speaks to your question and hypothesis.\n",
    "- **Use pandas** - 15 points\n",
    "- **Not be trivial** - 35 points - requiring:\n",
    "   - At least 40 lines of code to come to a conclusion\n",
    "   - Transforming data through [grouping](https://pandas.pydata.org/pandas-docs/stable/user_guide/groupby.html), [merging](https://pandas.pydata.org/pandas-docs/stable/user_guide/merging.html#database-style-dataframe-or-named-series-joining-merging), and/or [reshaping](https://pandas.pydata.org/docs/user_guide/reshaping.html) of DataFrames\n",
    "   - Operations that aren't easily done in a spreadsheet.\n",
    "- **Have a visualization** (chart or map) of some kind - 15 points\n",
    "   - Follow [best practices](https://xdgov.github.io/data-design-standards/)\n",
    "\n",
    "If you answer the first question easily, that's fine; dig into / build off of it. Go deep, not broad."
   ]
  },
  {
   "cell_type": "markdown",
   "metadata": {
    "slideshow": {
     "slide_type": "slide"
    }
   },
   "source": [
    "## Examples\n",
    "\n",
    "Sample projects from past semesters:\n",
    "\n",
    "- [NYC Restaurant Inspections, Creepy Crawly Edition](https://python-public-policy.afeld.me/en/{{school_slug}}/final_project/creepy_crawly.html)\n",
    "- [Investigating Elevated Blood Lead Level Rates in Children in NYC](https://python-public-policy.afeld.me/en/{{school_slug}}/final_project/lead.html)\n",
    "- [U.S. Universities - Regional Performance](https://python-public-policy.afeld.me/en/{{school_slug}}/final_project/universities.html)\n",
    "\n",
    "Note these won't be runnable without downloading the source data."
   ]
  },
  {
   "cell_type": "markdown",
   "metadata": {
    "slideshow": {
     "slide_type": "slide"
    }
   },
   "source": [
    "## Submission\n",
    "\n",
    "- **DO NOT WAIT UNTIL THE LAST MINUTE TO [SUBMIT](https://python-public-policy.afeld.me/en/{{school_slug}}/assignments.html).** Leave yourself time to fix any [issues that come up](https://python-public-policy.afeld.me/en/{{school_slug}}/assignments.html#common-issues) in doing so, computer crashing, etc.\n",
    "- Please try to preserve anonymity.\n",
    "   - Keep your name/username out of the notebook title, text cells, file paths, etc.\n",
    "   - Hold off on responding to comments on your notebook before you get your Project grade.\n",
    "- Don't leave any sensitive information in the notebook:\n",
    "   - API keys\n",
    "   - Personally-identifiable information (PII)\n",
    "   - etc.\n",
    "{% if school_slug == \"nyu\" -%}\n",
    "- You are encouraged to post your PDF in your Proposal Discussion thread so other folks from the class can see.\n",
    "{% endif -%}"
   ]
  },
  {
   "cell_type": "markdown",
   "metadata": {
    "slideshow": {
     "slide_type": "subslide"
    }
   },
   "source": [
    "Because it's the end of the course and your peers are doing the reviews, **there will be no extensions or resubmissions**."
   ]
  },
  {
   "cell_type": "markdown",
   "metadata": {
    "slideshow": {
     "slide_type": "slide"
    }
   },
   "source": [
    "## Peer grading\n",
    "\n",
    "Your Final Project will be reviewed and graded by three of your peers, and you will grade three others'. Your score will be the average of the peer grades. If you disagree with the grade, you can appeal by [emailing the instructor and {{assisstant_name}}](https://python-public-policy.afeld.me/en/{{school_slug}}/syllabus.html#instructor-information)."
   ]
  },
  {
   "cell_type": "markdown",
   "metadata": {
    "slideshow": {
     "slide_type": "subslide"
    }
   },
   "source": [
    "### How to review\n",
    "\n",
    "1. Open [{{lms_name}}]({{lms_url}}).\n",
    "1. Open the Assignment.\n",
    "1. Check against [the requirements above](#analysis-requirements), factoring in the applicable [general assignment scoring](https://python-public-policy.afeld.me/en/{{school_slug}}/syllabus.html#assignment-scoring).\n",
    "   - Explain what points are being deducted for what.\n",
    "1. Leave substantive feedback, directly in the notebook or in the overall comment area.\n",
    "   - This should include what they did well, as well as what they could do more clearly/simply/etc.\n",
    "\n",
    "You are _not_ expected to run any of their code. The notebook should be graded as-is.\n",
    "\n",
    "{% if school_slug == \"columbia\" -%}\n",
    "While there are ways to find who owns a notebook on Colab, please avoid doing so.\n",
    "{% endif -%}"
   ]
  }
 ],
 "metadata": {
  "celltoolbar": "Slideshow",
  "kernelspec": {
   "display_name": "Python [conda env:python-public-policy] *",
   "language": "python",
   "name": "conda-env-python-public-policy-py"
  },
  "language_info": {
   "codemirror_mode": {
    "name": "ipython",
    "version": 3
   },
   "file_extension": ".py",
   "mimetype": "text/x-python",
   "name": "python",
   "nbconvert_exporter": "python",
   "pygments_lexer": "ipython3",
   "version": "3.8.10"
  },
  "rise": {
   "scroll": true
  }
 },
 "nbformat": 4,
 "nbformat_minor": 4
}
