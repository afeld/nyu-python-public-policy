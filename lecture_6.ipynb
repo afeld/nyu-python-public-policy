{
 "cells": [
  {
   "cell_type": "markdown",
   "metadata": {
    "colab_type": "text",
    "id": "Omm4n3FmPHlF",
    "slideshow": {
     "slide_type": "slide"
    }
   },
   "source": [
    "# **NYU Wagner - Python Coding for Public Policy**\n",
    "# Class 6"
   ]
  },
  {
   "cell_type": "markdown",
   "metadata": {
    "slideshow": {
     "slide_type": "slide"
    }
   },
   "source": [
    "## Agenda\n",
    "\n",
    "1. Guest lectures\n",
    "1. If there's time: Government/coding Q&A\n",
    "1. Wrapping up assignments\n",
    "1. Course evaluations"
   ]
  },
  {
   "cell_type": "markdown",
   "metadata": {
    "slideshow": {
     "slide_type": "slide"
    }
   },
   "source": [
    "## [Guest lecture](https://docs.google.com/presentation/d/1rv-julgUaZFMOm1MlcP-hWWbxl5DHb3VALiZliNjJE8/edit)\n",
    "\n",
    "[Ekaterina Levitskaya](https://www.linkedin.com/in/ekaterina-levitskaya-aa464426/)\n",
    "\n",
    "> Ekaterina Levitskaya is an Associate Research Scientist at the [Coleridge Initiative](https://coleridgeinitiative.org/), New York University. She is a graduate of New York University’s Center for Urban Science and Progress (CUSP) and City University of New York (The Graduate Center) Computational Linguistics program. She utilizes computational approaches to the social science research, with special focus on text analysis and natural language processing. Her background is in computational linguistics, applied data science, and urban informatics. She is interested in applying computational skills for the projects with social impact and utilizing text as data in a variety of applications for the social science research.\n",
    "\n",
    "[Carolyn Gorman](https://www.linkedin.com/in/gormancarolyn/)\n",
    "\n",
    "> Carolyn D. Gorman, M.S., is an Associate Research Scientist at the Coleridge Initiative. Prior, she was a graduate researcher for Dean Sherry Glied at NYU Wagner, an associate for policy and research at the JPMorgan Chase Institute, and a senior project manager at the Manhattan Institute, where she continues to collaborate as a policy analyst on issues related to serious mental illness. Carolyn began her career serving as staff on the U.S. Senate Committee on Health, Education, Labor and Pensions. Her writing has appeared in the peer-reviewed Psychiatric Services, the Wall Street Journal, New York Daily News, New York Post, City Journal, National Review, and The Hill."
   ]
  },
  {
   "cell_type": "markdown",
   "metadata": {
    "slideshow": {
     "slide_type": "slide"
    }
   },
   "source": [
    "## Guest lecture\n",
    "\n",
    "Shaudi Hosseini\n",
    "\n",
    "> Shaudi is a fellow at xD focused on applied data science and research project management. She has worked on projects in misinformation, model and data bias in machine learning at xD, and in networked robotics and healthcare IT in a previous life.\n",
    "\n",
    "[Willow Hagen](https://www.linkedin.com/in/willow-hagen/)\n",
    "\n",
    "> Willow is a Data scientist at team xD where they lead projects on the Social Value of Data, Enhanced Model Cards for Machine Learning, and the bias component of the Geo Division change detection collaboration at the Census Bureau. They recently completed a masters in physics from Carnegie Mellon university (with a Medium Energy Experimentation focus). Notably, Willow has worked to build a Real Time Crime Reporting data portal at CMU Heinz, worked on a machine learning for data quality project at CERN, and has worked at the Johns Hopkins Applied Physics Laboratory as a researcher."
   ]
  },
  {
   "cell_type": "markdown",
   "metadata": {
    "slideshow": {
     "slide_type": "slide"
    }
   },
   "source": [
    "## Me!"
   ]
  },
  {
   "cell_type": "markdown",
   "metadata": {
    "slideshow": {
     "slide_type": "subslide"
    }
   },
   "source": [
    "[![Screenshot of C2/Communicart](extras/img/c2.png)](https://web.archive.org/web/20190124112324/https://cap.18f.gov/)"
   ]
  },
  {
   "cell_type": "markdown",
   "metadata": {
    "slideshow": {
     "slide_type": "subslide"
    }
   },
   "source": [
    "## [ATO Sprinting Team](https://18f.gsa.gov/2018/07/19/taking-the-ato-process-from-6-months-to-30-days/)\n",
    "\n",
    "![Scatter chart with trendline showing decrease in ATO times](https://18f.gsa.gov/assets/blog/ato/ato-completion-date-graph.png)"
   ]
  },
  {
   "cell_type": "markdown",
   "metadata": {
    "slideshow": {
     "slide_type": "subslide"
    }
   },
   "source": [
    "## Agile budgeting\n",
    "\n",
    "![Jellybeans](https://upload.wikimedia.org/wikipedia/commons/3/3e/Jellybeans.jpg)"
   ]
  },
  {
   "cell_type": "markdown",
   "metadata": {
    "slideshow": {
     "slide_type": "subslide"
    }
   },
   "source": [
    "## See also\n",
    "\n",
    "[![Video still of man wearing suit at a microphone](https://img.youtube.com/vi/g-h6CtSwk30/maxresdefault.jpg)](https://www.youtube.com/watch?v=g-h6CtSwk30)\n",
    "\n",
    "[Colleague explaining agile software development to the Michigan Senate](https://www.youtube.com/watch?v=g-h6CtSwk30)"
   ]
  },
  {
   "cell_type": "markdown",
   "metadata": {
    "slideshow": {
     "slide_type": "subslide"
    }
   },
   "source": [
    "## Questions!\n",
    "\n",
    "- Working as a software developer\n",
    "- Working in government\n",
    "- Bread…?"
   ]
  },
  {
   "cell_type": "markdown",
   "metadata": {
    "slideshow": {
     "slide_type": "slide"
    }
   },
   "source": [
    "## [Homework 6](https://padmgp-4506-spring.rcnyu.org/user-redirect/notebooks/class_materials/hw_5.ipynb)\n",
    "\n",
    "- Giving feedback on proposals\n",
    "- Encourage looking through them for ideas"
   ]
  },
  {
   "cell_type": "markdown",
   "metadata": {
    "slideshow": {
     "slide_type": "slide"
    }
   },
   "source": [
    "## [Course evaluations](https://m.albert.nyu.edu/app/student/nyuCrseEval/crseEval/1218/6691/GP/10)\n",
    "\n",
    "Please complete before signing off! The are:\n",
    "\n",
    "- Totally anonymous\n",
    "- A big help. Some things I took from the past:\n",
    "    - Making assignments more rigorous\n",
    "    - Students are hungry for more\n",
    "    - People like the in-class exercises"
   ]
  },
  {
   "cell_type": "markdown",
   "metadata": {
    "slideshow": {
     "slide_type": "slide"
    }
   },
   "source": [
    "## Thank you!\n",
    "\n",
    "- alf9@nyu.edu\n",
    "- [@aidanfeldman](https://twitter.com/aidanfeldman/) on Twitter"
   ]
  }
 ],
 "metadata": {
  "celltoolbar": "Slideshow",
  "colab": {
   "collapsed_sections": [],
   "include_colab_link": true,
   "name": "lecture_6.ipynb",
   "provenance": []
  },
  "kernelspec": {
   "display_name": "Python [conda env:python-public-policy] *",
   "language": "python",
   "name": "conda-env-python-public-policy-py"
  },
  "language_info": {
   "codemirror_mode": {
    "name": "ipython",
    "version": 3
   },
   "file_extension": ".py",
   "mimetype": "text/x-python",
   "name": "python",
   "nbconvert_exporter": "python",
   "pygments_lexer": "ipython3",
   "version": "3.9.7"
  }
 },
 "nbformat": 4,
 "nbformat_minor": 4
}
