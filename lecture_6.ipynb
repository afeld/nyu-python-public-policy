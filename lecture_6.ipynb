{
 "cells": [
  {
   "cell_type": "markdown",
   "metadata": {
    "id": "Omm4n3FmPHlF",
    "slideshow": {
     "slide_type": "slide"
    }
   },
   "source": [
    "# Class 6: The Bigger Picture"
   ]
  },
  {
   "cell_type": "markdown",
   "metadata": {
    "slideshow": {
     "slide_type": "slide"
    }
   },
   "source": [
    "## Guest speakers"
   ]
  },
  {
   "cell_type": "markdown",
   "metadata": {
    "slideshow": {
     "slide_type": "subslide"
    },
    "tags": [
     "columbia-only"
    ]
   },
   "source": [
    "### [Haley Van Dyck](https://www.haleyvandyck.com/)\n",
    "\n",
    "> Haley Van Dyck is a tech executive with a passion for founding companies and leading teams to benefit the public good.\n",
    ">\n",
    "> At the White House, she co-founded and led the United States Digital Service—an innovative arm of the executive branch that brings the country’s top technology talent into government to fix high-impact services.\n",
    ">\n",
    "> Following government service, she founded and served as the CEO of Alloy, building data and technology for the future of the progressive movement. She also teaches the [Digital Service Delivery](https://bulletin.columbia.edu/search/?P=INAF+U6918) course at SIPA.\n",
    ">\n",
    "> She previously served as Director of Digital Strategy and Engagement at USAID, built a team at the Federal Communications Commission, worked on Obama’s 2008 campaign, and started her career at CNN."
   ]
  },
  {
   "cell_type": "markdown",
   "metadata": {
    "tags": [
     "nyu-only"
    ]
   },
   "source": [
    "### [Ariel Kennan](https://www.arielkennan.com/)\n",
    "\n",
    "> Ariel Kennan (she/her) is a Fellow at the Beeck Center for Social Impact + Innovation at Georgetown University, where she researches and advises on best practices for using design, data, and technology for improved social safety net outcomes. Ariel leads the Digital Benefits Network to support public interest practitioners working on the social safety net through generating insights, fostering collaboration, and sparking advocacy to advance the delivery of benefits and increase economic opportunity.\n",
    ">\n",
    "> Previously, she served in the New York City Mayor’s Office for Economic Opportunity where she founded the nation’s first municipal service design studio and managed a portfolio of best-in-class digital products to connect and deliver services. Most recently, she was the Director of Civic Innovation at Sidewalk Labs, where she led the strategy for inclusive participation in the social infrastructure of cities."
   ]
  },
  {
   "cell_type": "markdown",
   "metadata": {
    "slideshow": {
     "slide_type": "subslide"
    }
   },
   "source": [
    "#### Questions?"
   ]
  },
  {
   "cell_type": "markdown",
   "metadata": {
    "slideshow": {
     "slide_type": "subslide"
    },
    "tags": [
     "columbia-only"
    ]
   },
   "source": [
    "### [Song Hia](https://www.linkedin.com/in/songhia/)\n",
    "\n",
    "> Song Hia focuses on improving government services for the people who use them at the U.S. Office of Personnel Management. He previously worked on simplifying and improving access to the safety net for NYC residents and managed the Public Benefits Portfolio at the NYC Mayor’s Office for Economic Opportunity. Song has over a decade of experience working at the intersection of emerging media, communications, and technology in government, startups, creative studios, and public radio as a product manager, producer, and educator. He is an alum of New York University’s Interactive Telecommunications Program (ITP) and Johns Hopkins University.\n",
    "\n",
    "[slides](https://docs.google.com/presentation/d/1UhKmmwvRq814bwYrqd_tdS1yh0DE6qptLhA4ogjbmek/edit)"
   ]
  },
  {
   "cell_type": "markdown",
   "metadata": {
    "slideshow": {
     "slide_type": "subslide"
    },
    "tags": [
     "columbia-only"
    ]
   },
   "source": [
    "#### Questions?"
   ]
  },
  {
   "cell_type": "markdown",
   "metadata": {
    "slideshow": {
     "slide_type": "slide"
    }
   },
   "source": [
    "## [Final Project peer grading](https://python-public-policy.afeld.me/en/{{school_slug}}/final_project/peer_grading.html)"
   ]
  },
  {
   "cell_type": "markdown",
   "metadata": {
    "slideshow": {
     "slide_type": "slide"
    }
   },
   "source": [
    "## Ask Me Anything (AMA)\n",
    "\n",
    "Have slides on \"Python beyond data analysis\" as backup, but would rather talk about what you want to hear about."
   ]
  },
  {
   "cell_type": "markdown",
   "metadata": {
    "slideshow": {
     "slide_type": "slide"
    }
   },
   "source": [
    "## Python beyond data analysis\n",
    "\n",
    "We've been focusing on using Python and pandas for data analysis. What else is Python used for?"
   ]
  },
  {
   "cell_type": "markdown",
   "metadata": {
    "slideshow": {
     "slide_type": "subslide"
    }
   },
   "source": [
    "### Data engineering\n",
    "\n",
    "- Automation / recurring processes\n",
    "- Copying/moving/processing/publishing data, especially Big Data\n",
    "- Monitoring/alerting"
   ]
  },
  {
   "cell_type": "markdown",
   "metadata": {
    "slideshow": {
     "slide_type": "subslide"
    }
   },
   "source": [
    "### Web development\n",
    "\n",
    "- Building web sites that are interactive (more than just content)\n",
    "- Forms\n",
    "- Presenting data\n",
    "- Workflows, such as:\n",
    "   - Signing up for things\n",
    "   - Paying for things"
   ]
  },
  {
   "cell_type": "markdown",
   "metadata": {
    "slideshow": {
     "slide_type": "subslide"
    }
   },
   "source": [
    "### Machine learning\n",
    "\n",
    "- Statistics, but _fancy_\n",
    "- Building models\n",
    "   - [Examples](https://tfhub.dev/)\n",
    "- Finding patterns\n",
    "- Recommendations\n",
    "- Detection"
   ]
  },
  {
   "cell_type": "markdown",
   "metadata": {
    "slideshow": {
     "slide_type": "subslide"
    }
   },
   "source": [
    "When people say \"artificial intelligence,\" they usually mean \"machine learning.\""
   ]
  },
  {
   "cell_type": "markdown",
   "metadata": {
    "slideshow": {
     "slide_type": "subslide"
    }
   },
   "source": [
    "![Diagram showing what type of machine learning may be useful, if at all](https://mitsloan.mit.edu/sites/default/files/2021-04/machine-learning-infographic_2.jpg)\n",
    "\n",
    "[Source, with more thorough explanation](https://mitsloan.mit.edu/ideas-made-to-matter/machine-learning-explained)"
   ]
  },
  {
   "cell_type": "markdown",
   "metadata": {
    "slideshow": {
     "slide_type": "subslide"
    }
   },
   "source": [
    "#### The process\n",
    "\n",
    "_High-level_\n",
    "\n",
    "1. Create a model\n",
    "   1. Gather a bunch of data for training\n",
    "   1. If supervised machine learning, label it (give it the right answers)\n",
    "   1. Segment into training and test data\n",
    "   1. Train the model against the training dataset (have it identify patterns)\n",
    "   1. Test the model against the test dataset\n",
    "1. Run against new data\n",
    "1. If reinforcement learning, model refines itself"
   ]
  },
  {
   "cell_type": "markdown",
   "metadata": {
    "slideshow": {
     "slide_type": "subslide"
    }
   },
   "source": [
    "You have a head start: [The fundamentals](https://python-public-policy.afeld.me/en/{{school_slug}}/syllabus.html#learning-objectives) are applicable anywhere you're using code."
   ]
  },
  {
   "cell_type": "markdown",
   "metadata": {
    "slideshow": {
     "slide_type": "slide"
    },
    "tags": [
     "nyu-only"
    ]
   },
   "source": [
    "## Post-{{coding_env_name}}\n",
    "\n",
    "- {{coding_env_name}} instance (and your copy of files) will be deleted\n",
    "    - Download things you want to keep, particularly edited notebooks\n",
    "- Class materials will remain available on [the site](https://python-public-policy.afeld.me/en/{{school_slug}}/) and [through GitHub](https://github.com/afeld/python-public-policy/tree/{{school_slug}})\n",
    "- [Running notebooks elsewhere](https://python-public-policy.afeld.me/en/{{school_slug}}/resources.html#jupyter-outside-this-course)"
   ]
  },
  {
   "cell_type": "markdown",
   "metadata": {
    "slideshow": {
     "slide_type": "slide"
    },
    "tags": [
     "nyu-only"
    ]
   },
   "source": [
    "## [Course evaluations](https://coursefeedback.nyu.edu/nyu/)\n",
    "\n",
    "They are:\n",
    "\n",
    "- Totally anonymous\n",
    "- Not visible to me until grades are released\n",
    "- A big help. Some things I took from the past:\n",
    "    - Making assignments more rigorous\n",
    "    - Students are hungry for more\n",
    "    - People like the in-class exercises\n",
    "\n",
    "Please complete now, if you haven't already, as they are due tonight."
   ]
  },
  {
   "cell_type": "markdown",
   "metadata": {
    "slideshow": {
     "slide_type": "slide"
    }
   },
   "source": [
    "Thanks to the {{assistant_name}}!"
   ]
  },
  {
   "cell_type": "markdown",
   "metadata": {
    "slideshow": {
     "slide_type": "slide"
    }
   },
   "source": [
    "## Thank you!\n",
    "\n",
    "Keep in touch:\n",
    "\n",
    "- [Email](https://python-public-policy.afeld.me/en/{{school_slug}}/syllabus.html#instructor-information)\n",
    "- [@aidanfeldman](https://twitter.com/aidanfeldman/) on Twitter"
   ]
  }
 ],
 "metadata": {
  "celltoolbar": "Slideshow",
  "kernelspec": {
   "display_name": "Python [conda env:python-public-policy] *",
   "language": "python",
   "name": "conda-env-python-public-policy-py"
  },
  "language_info": {
   "codemirror_mode": {
    "name": "ipython",
    "version": 3
   },
   "file_extension": ".py",
   "mimetype": "text/x-python",
   "name": "python",
   "nbconvert_exporter": "python",
   "pygments_lexer": "ipython3",
   "version": "3.10.12"
  }
 },
 "nbformat": 4,
 "nbformat_minor": 4
}
