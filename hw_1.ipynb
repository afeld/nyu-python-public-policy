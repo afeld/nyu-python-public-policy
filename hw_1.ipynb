{
 "cells": [
  {
   "cell_type": "markdown",
   "metadata": {},
   "source": [
    "# HOMEWORK 1\n",
    "\n",
    "## In-class exercise\n",
    "\n",
    "### Step 1\n",
    "\n",
    "Read in the 311 dataset from:\n",
    "\n",
    "https://storage.googleapis.com/python-public-policy/data/311_requests_2018-19_sample.csv.zip\n",
    "\n",
    "and save it as `df`. Remember there is a package you need to import in order for this to work."
   ]
  },
  {
   "cell_type": "code",
   "execution_count": 1,
   "metadata": {
    "execution": {
     "iopub.execute_input": "2021-10-27T18:30:52.017229Z",
     "iopub.status.busy": "2021-10-27T18:30:52.016360Z",
     "iopub.status.idle": "2021-10-27T18:30:52.019299Z",
     "shell.execute_reply": "2021-10-27T18:30:52.020023Z"
    }
   },
   "outputs": [],
   "source": [
    "# your code here"
   ]
  },
  {
   "cell_type": "markdown",
   "metadata": {},
   "source": [
    "### Step 2\n",
    "\n",
    "Answer these two questions about the data, showing your code that produced the result in two individual code cells:\n",
    "\n",
    "1. What is the minimum value in the `Created Date` column? Try using `.min()`.\n",
    "1. What is the maximum value in the `Created Date` column? Try using `.max()`."
   ]
  },
  {
   "cell_type": "code",
   "execution_count": 2,
   "metadata": {
    "execution": {
     "iopub.execute_input": "2021-10-27T18:30:52.024979Z",
     "iopub.status.busy": "2021-10-27T18:30:52.024268Z",
     "iopub.status.idle": "2021-10-27T18:30:52.025914Z",
     "shell.execute_reply": "2021-10-27T18:30:52.026651Z"
    }
   },
   "outputs": [],
   "source": [
    "# your code here"
   ]
  },
  {
   "cell_type": "markdown",
   "metadata": {},
   "source": [
    "### Step 3\n",
    "\n",
    "***Does anything about the resulting min and max values surprise you? What do think causes this?***\n",
    "\n",
    "Hint: Look at the year. If you use `.head()` and `.tail()` you can find the real min and max dates. We'll learn more about how to properly handle dates in a later lecture.\n",
    "\n",
    "YOUR RESPONSE HERE"
   ]
  },
  {
   "cell_type": "markdown",
   "metadata": {},
   "source": [
    "## Coding: Exploring Trends in How People Submit 311 Requests\n",
    "\n",
    "Use this zipped copy of the `311_requests_2018-19_sample_clean.csv` created during our lecture to complete the homework. Read it in from:\n",
    "\n",
    "https://storage.googleapis.com/python-public-policy/data/311_requests_2018-19_sample_clean.csv.zip"
   ]
  },
  {
   "cell_type": "code",
   "execution_count": 3,
   "metadata": {
    "execution": {
     "iopub.execute_input": "2021-10-27T18:30:52.031003Z",
     "iopub.status.busy": "2021-10-27T18:30:52.030305Z",
     "iopub.status.idle": "2021-10-27T18:30:52.032208Z",
     "shell.execute_reply": "2021-10-27T18:30:52.032674Z"
    }
   },
   "outputs": [],
   "source": [
    "# your code here"
   ]
  },
  {
   "cell_type": "markdown",
   "metadata": {},
   "source": [
    "### Q1\n",
    "\n",
    "Which complaint submission method (`Open Data Channel Type`) is used most frequently, according to this dataset? Provide the count of each for comparison."
   ]
  },
  {
   "cell_type": "code",
   "execution_count": 4,
   "metadata": {
    "execution": {
     "iopub.execute_input": "2021-10-27T18:30:52.036277Z",
     "iopub.status.busy": "2021-10-27T18:30:52.035621Z",
     "iopub.status.idle": "2021-10-27T18:30:52.037398Z",
     "shell.execute_reply": "2021-10-27T18:30:52.038066Z"
    }
   },
   "outputs": [],
   "source": [
    "# your code here"
   ]
  },
  {
   "cell_type": "markdown",
   "metadata": {},
   "source": [
    "### Step 2\n",
    "\n",
    "Get the count of each submission method per complaint type, sorted by complaint type.\n",
    "\n"
   ]
  },
  {
   "cell_type": "code",
   "execution_count": 5,
   "metadata": {
    "execution": {
     "iopub.execute_input": "2021-10-27T18:30:52.042017Z",
     "iopub.status.busy": "2021-10-27T18:30:52.041414Z",
     "iopub.status.idle": "2021-10-27T18:30:52.043046Z",
     "shell.execute_reply": "2021-10-27T18:30:52.043468Z"
    }
   },
   "outputs": [],
   "source": [
    "# your code here"
   ]
  },
  {
   "cell_type": "markdown",
   "metadata": {},
   "source": [
    "***Review the results and share a sentence or two with your observations.***\n",
    "\n",
    "YOUR RESPONSE HERE"
   ]
  },
  {
   "cell_type": "markdown",
   "metadata": {},
   "source": [
    "### Step 3\n",
    "\n",
    "Provide a simplified table that only lists the most common request submission method for each complaint type. There should be one row per complaint type, capturing the most common submission method for that complaint type."
   ]
  },
  {
   "cell_type": "code",
   "execution_count": 6,
   "metadata": {
    "execution": {
     "iopub.execute_input": "2021-10-27T18:30:52.046961Z",
     "iopub.status.busy": "2021-10-27T18:30:52.046321Z",
     "iopub.status.idle": "2021-10-27T18:30:52.047943Z",
     "shell.execute_reply": "2021-10-27T18:30:52.048453Z"
    }
   },
   "outputs": [],
   "source": [
    "# your code here"
   ]
  },
  {
   "cell_type": "markdown",
   "metadata": {},
   "source": [
    "***Can you provide a potential explaination for why some complaints are more frequently made via phone and mobile versus on the website?***\n",
    "\n",
    "YOUR RESPONSE HERE\n",
    "\n",
    "***Did you work with any other students on this assignment?***\n",
    "\n",
    "YOUR RESPONSE HERE"
   ]
  },
  {
   "cell_type": "markdown",
   "metadata": {},
   "source": [
    "Now [turn in the assignment](https://github.com/afeld/python-public-policy#turning-in-assignments).\n",
    "\n",
    "## Tutorials\n",
    "\n",
    "1. Glance through pandas' [comparison with other tools](https://pandas.pydata.org/pandas-docs/stable/getting_started/comparison/index.html) for any you are familiar with\n",
    "1. Filtering/indexing `DataFrame`s\n",
    "   - [Filter specific rows from a `DataFrame`](https://pandas.pydata.org/pandas-docs/stable/getting_started/intro_tutorials/03_subset_data.html#how-do-i-filter-specific-rows-from-a-dataframe)\n",
    "   - [Boolean indexing](https://pandas.pydata.org/pandas-docs/stable/user_guide/indexing.html#boolean-indexing)\n",
    "1. [Video introducing functions](https://www.youtube.com/watch?v=9Os0o3wzS_I&list=PL-osiE80TeTskrapNbzXhwoFUiLCjGgY7&index=8)\n",
    "1. Coding Style Guides - Please skim these; I don't expect you to understand and follow everything in them. The most important guidelines to pay attention to are indentation and keeping each statement on its own line.\n",
    "   - [The Hitchhiker’s Guide to Python](https://docs.python-guide.org/writing/style/)\n",
    "   - [PEP 8](https://www.python.org/dev/peps/pep-0008/)\n",
    "1. [Guide to commenting your code](https://realpython.com/python-comments-guide/)\n",
    "1. [Quartz Guide to Bad Data](https://github.com/Quartz/bad-data-guide#readme)\n",
    "\n",
    "### Optional\n",
    "\n",
    "More on indexing:\n",
    "\n",
    "- [How to Select Rows from Pandas DataFrame](https://datatofish.com/select-rows-pandas-dataframe/)\n",
    "- Selecting Subsets of Data in Pandas: [Part 1](https://medium.com/dunder-data/selecting-subsets-of-data-in-pandas-6fcd0170be9c) and [Part 2](https://medium.com/dunder-data/selecting-subsets-of-data-in-pandas-39e811c81a0c)"
   ]
  }
 ],
 "metadata": {
  "file_extension": ".py",
  "kernelspec": {
   "display_name": "Python [conda env:python-public-policy] *",
   "language": "python",
   "name": "conda-env-python-public-policy-py"
  },
  "language_info": {
   "codemirror_mode": {
    "name": "ipython",
    "version": 3
   },
   "file_extension": ".py",
   "mimetype": "text/x-python",
   "name": "python",
   "nbconvert_exporter": "python",
   "pygments_lexer": "ipython3",
   "version": "3.9.7"
  },
  "mimetype": "text/x-python",
  "name": "python",
  "npconvert_exporter": "python",
  "pygments_lexer": "ipython3",
  "version": 3
 },
 "nbformat": 4,
 "nbformat_minor": 4
}
