{
 "cells": [
  {
   "cell_type": "markdown",
   "metadata": {
    "id": "Omm4n3FmPHlF",
    "slideshow": {
     "slide_type": "slide"
    }
   },
   "source": [
    "# Lecture 6: The Bigger Picture\n",
    "\n",
    "_Please sign attendance sheet_"
   ]
  },
  {
   "cell_type": "markdown",
   "metadata": {
    "slideshow": {
     "slide_type": "slide"
    }
   },
   "source": [
    "## Guest speakers"
   ]
  },
  {
   "cell_type": "markdown",
   "metadata": {
    "editable": true,
    "slideshow": {
     "slide_type": "subslide"
    },
    "tags": []
   },
   "source": [
    "### [Joli Golden](https://www.linkedin.com/in/joli-golden-17a6941)\n",
    "\n",
    "> Joli is a U.S. Census Bureau Data Dissemination Specialist in the New York Region focused on New York City. Her current position involves educating the public on the availability, extraction and usage of the vast array of data on the Census Bureau’s website. Joli served as a Partnership Specialist during the 2020 Census and recently re-joined the Census Bureau.\n",
    ">\n",
    "> She received a Bachelor of Arts from the University of Pennsylvania and a Master of Fine Arts from the UCLA School of Theater, Film and Television."
   ]
  },
  {
   "cell_type": "markdown",
   "metadata": {
    "editable": true,
    "slideshow": {
     "slide_type": ""
    },
    "tags": []
   },
   "source": [
    "### [David Kraiker](https://www.linkedin.com/in/david-kraiker-431b526)\n",
    "\n",
    "> David Kraiker has worked at the Census Bureau for 27 years - first as a Geographer in the New York Regional Office, and more recently as a Data Dissemination Specialist. Previously he worked as a cartographer for private mapping companies as well as being a French instructor. David holds a BA from Clark University, an MSc from Rutgers-Newark and the premier degré diploma from the Université de Caen (France). He lives in Northern New Jersey with his family."
   ]
  },
  {
   "cell_type": "markdown",
   "metadata": {
    "editable": true,
    "slideshow": {
     "slide_type": "subslide"
    },
    "tags": []
   },
   "source": [
    "#### Questions?"
   ]
  },
  {
   "cell_type": "markdown",
   "metadata": {
    "slideshow": {
     "slide_type": "slide"
    }
   },
   "source": [
    "## [Final Project peer grading](https://python-public-policy.afeld.me/en/columbia/final_project/peer_grading.html)"
   ]
  },
  {
   "cell_type": "markdown",
   "metadata": {
    "slideshow": {
     "slide_type": "slide"
    }
   },
   "source": [
    "## Ask Me Anything (AMA)\n",
    "\n",
    "Have slides on \"Python beyond data analysis\" as backup, but would rather talk about what you want to hear about."
   ]
  },
  {
   "cell_type": "markdown",
   "metadata": {
    "slideshow": {
     "slide_type": "slide"
    }
   },
   "source": [
    "## Python beyond data analysis\n",
    "\n",
    "We've been focusing on using Python and pandas for data analysis. What else is Python used for?"
   ]
  },
  {
   "cell_type": "markdown",
   "metadata": {
    "slideshow": {
     "slide_type": "subslide"
    }
   },
   "source": [
    "### Data engineering\n",
    "\n",
    "- Automation / recurring processes\n",
    "- Copying/moving/processing/publishing data, especially Big Data\n",
    "- Monitoring/alerting"
   ]
  },
  {
   "cell_type": "markdown",
   "metadata": {
    "slideshow": {
     "slide_type": "subslide"
    }
   },
   "source": [
    "### Web development\n",
    "\n",
    "- Building web sites that are interactive (more than just content)\n",
    "- Forms\n",
    "- Presenting data\n",
    "- Workflows, such as:\n",
    "   - Signing up for things\n",
    "   - Paying for things"
   ]
  },
  {
   "cell_type": "markdown",
   "metadata": {
    "slideshow": {
     "slide_type": "subslide"
    }
   },
   "source": [
    "### Machine learning\n",
    "\n",
    "- Statistics, but _fancy_\n",
    "- Building models\n",
    "   - [Examples](https://tfhub.dev/)\n",
    "- Finding patterns\n",
    "- Recommendations\n",
    "- Detection"
   ]
  },
  {
   "cell_type": "markdown",
   "metadata": {
    "slideshow": {
     "slide_type": "subslide"
    }
   },
   "source": [
    "When people say \"artificial intelligence,\" they usually mean \"machine learning.\""
   ]
  },
  {
   "cell_type": "markdown",
   "metadata": {
    "slideshow": {
     "slide_type": "subslide"
    }
   },
   "source": [
    "![Diagram showing what type of machine learning may be useful, if at all](https://mitsloan.mit.edu/sites/default/files/2021-04/machine-learning-infographic_2.jpg)\n",
    "\n",
    "[Source, with more thorough explanation](https://mitsloan.mit.edu/ideas-made-to-matter/machine-learning-explained)"
   ]
  },
  {
   "cell_type": "markdown",
   "metadata": {
    "slideshow": {
     "slide_type": "subslide"
    }
   },
   "source": [
    "#### The process\n",
    "\n",
    "_High-level_\n",
    "\n",
    "1. Create a model\n",
    "   1. Gather a bunch of data for training\n",
    "   1. If supervised machine learning, label it (give it the right answers)\n",
    "   1. Segment into training and test data\n",
    "   1. Train the model against the training dataset (have it identify patterns)\n",
    "   1. Test the model against the test dataset\n",
    "1. Run against new data\n",
    "1. If reinforcement learning, model refines itself"
   ]
  },
  {
   "cell_type": "markdown",
   "metadata": {
    "slideshow": {
     "slide_type": "subslide"
    }
   },
   "source": [
    "You have a head start: [The fundamentals](https://python-public-policy.afeld.me/en/columbia/syllabus.html#learning-objectives) are applicable anywhere you're using code."
   ]
  },
  {
   "cell_type": "markdown",
   "metadata": {
    "slideshow": {
     "slide_type": "slide"
    }
   },
   "source": [
    "Thanks to the Reader!"
   ]
  },
  {
   "cell_type": "markdown",
   "metadata": {
    "slideshow": {
     "slide_type": "slide"
    }
   },
   "source": [
    "## Thank you!\n",
    "\n",
    "Keep in touch."
   ]
  }
 ],
 "metadata": {
  "celltoolbar": "Slideshow",
  "kernelspec": {
   "display_name": "Python 3",
   "language": "python",
   "name": "python3"
  },
  "language_info": {
   "codemirror_mode": {
    "name": "ipython",
    "version": 3
   },
   "file_extension": ".py",
   "mimetype": "text/x-python",
   "name": "python",
   "nbconvert_exporter": "python",
   "pygments_lexer": "ipython3",
   "version": "3.10.12"
  }
 },
 "nbformat": 4,
 "nbformat_minor": 4
}
