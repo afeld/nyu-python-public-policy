{
 "cells": [
  {
   "cell_type": "markdown",
   "metadata": {},
   "source": [
    "# Class 3 in-class exercise"
   ]
  },
  {
   "cell_type": "markdown",
   "metadata": {},
   "source": [
    "## Step 0\n",
    "\n",
    "Load the requests per capita dataset from https://storage.googleapis.com/python-public-policy2/data/311_community_districts.csv.zip."
   ]
  },
  {
   "cell_type": "code",
   "execution_count": 1,
   "metadata": {
    "execution": {
     "iopub.execute_input": "2024-03-18T21:43:40.356387Z",
     "iopub.status.busy": "2024-03-18T21:43:40.356205Z",
     "iopub.status.idle": "2024-03-18T21:43:40.359556Z",
     "shell.execute_reply": "2024-03-18T21:43:40.359034Z"
    },
    "tags": [
     "solution"
    ]
   },
   "outputs": [],
   "source": [
    "# your code here"
   ]
  },
  {
   "cell_type": "markdown",
   "metadata": {},
   "source": [
    "## Step 1\n",
    "\n",
    "Make a [histogram](https://plotly.com/python/histograms/) of the requests per capita."
   ]
  },
  {
   "cell_type": "code",
   "execution_count": 2,
   "metadata": {
    "execution": {
     "iopub.execute_input": "2024-03-18T21:43:40.362527Z",
     "iopub.status.busy": "2024-03-18T21:43:40.362381Z",
     "iopub.status.idle": "2024-03-18T21:43:40.364210Z",
     "shell.execute_reply": "2024-03-18T21:43:40.363903Z"
    },
    "tags": [
     "solution"
    ]
   },
   "outputs": [],
   "source": [
    "# your code here"
   ]
  }
 ],
 "metadata": {
  "kernelspec": {
   "display_name": "Python 3",
   "language": "python",
   "name": "python3"
  },
  "language_info": {
   "codemirror_mode": {
    "name": "ipython",
    "version": 3
   },
   "file_extension": ".py",
   "mimetype": "text/x-python",
   "name": "python",
   "nbconvert_exporter": "python",
   "pygments_lexer": "ipython3",
   "version": "3.10.12"
  }
 },
 "nbformat": 4,
 "nbformat_minor": 4
}
