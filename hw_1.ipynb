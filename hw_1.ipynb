{
 "cells": [
  {
   "cell_type": "markdown",
   "metadata": {
    "editable": true,
    "slideshow": {
     "slide_type": ""
    },
    "tags": []
   },
   "source": [
    "# Homework 1\n",
    "\n",
    "_[General assignment information](https://python-public-policy.afeld.me/en/{{school_slug}}/assignments.html)_\n",
    "\n",
    "## Coding\n",
    "\n",
    "1. [Find a dataset.](https://python-public-policy.afeld.me/en/{{school_slug}}/final_project/resources.html#open-data-portals)\n",
    "   - It must have:\n",
    "      - At least one numeric column\n",
    "      - Between one thousand and one million rows\n",
    "         - If it's larger than that, you can filter it down.\n",
    "   - Don't spend too long on this step.\n",
    "1. If there's more than one numeric column, pick one.\n",
    "1. Create a new notebook.\n",
    "1. Using pandas:\n",
    "   1. Read in the data.\n",
    "   1. Compute:\n",
    "      - The mean\n",
    "      - The median\n",
    "      - The mode\n",
    "   1. Do a `groupby()` with an [aggregation](https://pandas.pydata.org/docs/user_guide/groupby.html#aggregation).\n",
    "\n",
    "Now [turn in the assignment](https://python-public-policy.afeld.me/en/{{school_slug}}/assignments.html).\n",
    "\n",
    "## Tutorials\n",
    "\n",
    "1. Read [The Joys (and Woes) of the Craft of Software Engineering](https://cs.calvin.edu/courses/cs/262/kvlinden/references/brooksJoysAndWoes.html)\n",
    "   - Note not _everything_ in there is applicable to data analysis\n",
    "1. Filtering/indexing `DataFrame`s\n",
    "   - [Filter specific rows from a `DataFrame`](https://pandas.pydata.org/pandas-docs/stable/getting_started/intro_tutorials/03_subset_data.html#how-do-i-filter-specific-rows-from-a-dataframe)\n",
    "   - [Boolean indexing](https://pandas.pydata.org/pandas-docs/stable/user_guide/indexing.html#boolean-indexing)\n",
    "1. Learn about functions\n",
    "   - [Video](https://www.youtube.com/watch?v=9Os0o3wzS_I&list=PL-osiE80TeTskrapNbzXhwoFUiLCjGgY7&index=8)\n",
    "   - [Blog post](https://python.land/introduction-to-python/functions)\n",
    "1. Coding Style Guides - Please skim these; I don't expect you to understand and follow everything in them. The most important guidelines to pay attention to are indentation and keeping each statement on its own line.\n",
    "   - [The Hitchhiker’s Guide to Python](https://docs.python-guide.org/writing/style/)\n",
    "   - [PEP 8](https://www.python.org/dev/peps/pep-0008/)\n",
    "1. [Guide to commenting your code](https://realpython.com/python-comments-guide/)\n",
    "1. [Quartz Guide to Bad Data](https://github.com/Quartz/bad-data-guide#readme)\n",
    "\n",
    "### Optional\n",
    "\n",
    "- [Learn about data dictionaries](https://analystanswers.com/what-is-a-data-dictionary-a-simple-thorough-overview/)\n",
    "- Glance through pandas' [comparison with other tools](https://pandas.pydata.org/pandas-docs/stable/getting_started/comparison/index.html) for any you are familiar with\n",
    "- More on indexing:\n",
    "   - [How to Select Rows from Pandas DataFrame](https://datatofish.com/select-rows-pandas-dataframe/)\n",
    "   - Selecting Subsets of Data in Pandas: [Part 1](https://medium.com/dunder-data/selecting-subsets-of-data-in-pandas-6fcd0170be9c) and [Part 2](https://medium.com/dunder-data/selecting-subsets-of-data-in-pandas-39e811c81a0c)\n",
    "\n",
    "## Participation\n",
    "\n",
    "Reminder about the [between-class participation requirement](https://python-public-policy.afeld.me/en/{{school_slug}}/syllabus.html#participation)."
   ]
  }
 ],
 "metadata": {
  "file_extension": ".py",
  "kernelspec": {
   "display_name": "Python [conda env:python-public-policy] *",
   "language": "python",
   "name": "conda-env-python-public-policy-py"
  },
  "language_info": {
   "codemirror_mode": {
    "name": "ipython",
    "version": 3
   },
   "file_extension": ".py",
   "mimetype": "text/x-python",
   "name": "python",
   "nbconvert_exporter": "python",
   "pygments_lexer": "ipython3",
   "version": "3.11.11"
  },
  "mimetype": "text/x-python",
  "name": "python",
  "npconvert_exporter": "python",
  "pygments_lexer": "ipython3",
  "version": 3
 },
 "nbformat": 4,
 "nbformat_minor": 4
}
