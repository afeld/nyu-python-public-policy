{
 "cells": [
  {
   "cell_type": "markdown",
   "metadata": {},
   "source": [
    "# Class 5 in-class exercise solution"
   ]
  },
  {
   "cell_type": "code",
   "execution_count": 1,
   "metadata": {
    "colab": {
     "base_uri": "https://localhost:8080/"
    },
    "id": "kzfwldLuoAet",
    "outputId": "f6c4385c-89b9-444c-c9a0-d32cdffa4dca"
   },
   "outputs": [
    {
     "data": {
      "text/plain": [
       "[{'place_id': 4230080,\n",
       "  'licence': 'Data © OpenStreetMap contributors, ODbL 1.0. http://osm.org/copyright',\n",
       "  'osm_type': 'way',\n",
       "  'osm_id': 238241022,\n",
       "  'lat': '38.897699700000004',\n",
       "  'lon': '-77.03655315',\n",
       "  'category': 'office',\n",
       "  'type': 'government',\n",
       "  'place_rank': 30,\n",
       "  'importance': 0.6347211541681101,\n",
       "  'addresstype': 'office',\n",
       "  'name': 'White House',\n",
       "  'display_name': 'White House, 1600, Pennsylvania Avenue Northwest, Ward 2, Washington, District of Columbia, 20500, United States',\n",
       "  'boundingbox': ['38.8974908', '38.8979110', '-77.0368537', '-77.0362519']},\n",
       " {'place_id': 323777898,\n",
       "  'licence': 'Data © OpenStreetMap contributors, ODbL 1.0. http://osm.org/copyright',\n",
       "  'osm_type': 'relation',\n",
       "  'osm_id': 197242,\n",
       "  'lat': '36.4688705',\n",
       "  'lon': '-86.66533380000001',\n",
       "  'category': 'boundary',\n",
       "  'type': 'administrative',\n",
       "  'place_rank': 16,\n",
       "  'importance': 0.3758389495615451,\n",
       "  'addresstype': 'city',\n",
       "  'name': 'White House',\n",
       "  'display_name': 'White House, Robertson County, Middle Tennessee, Tennessee, 37188, United States',\n",
       "  'boundingbox': ['36.4304210', '36.5072710', '-86.7148070', '-86.6240150']},\n",
       " {'place_id': 366192035,\n",
       "  'licence': 'Data © OpenStreetMap contributors, ODbL 1.0. http://osm.org/copyright',\n",
       "  'osm_type': 'node',\n",
       "  'osm_id': 153728446,\n",
       "  'lat': '36.4682439',\n",
       "  'lon': '-86.6536503',\n",
       "  'category': 'place',\n",
       "  'type': 'town',\n",
       "  'place_rank': 18,\n",
       "  'importance': 0.3758389495615451,\n",
       "  'addresstype': 'town',\n",
       "  'name': 'White House',\n",
       "  'display_name': 'White House, Sumner County, Middle Tennessee, Tennessee, 37188, United States',\n",
       "  'boundingbox': ['36.4282439', '36.5082439', '-86.6936503', '-86.6136503']},\n",
       " {'place_id': 13889390,\n",
       "  'licence': 'Data © OpenStreetMap contributors, ODbL 1.0. http://osm.org/copyright',\n",
       "  'osm_type': 'node',\n",
       "  'osm_id': 7009873766,\n",
       "  'lat': '40.6155126',\n",
       "  'lon': '-74.7707356',\n",
       "  'category': 'railway',\n",
       "  'type': 'station',\n",
       "  'place_rank': 30,\n",
       "  'importance': 0.3271612747022886,\n",
       "  'addresstype': 'railway',\n",
       "  'name': 'White House',\n",
       "  'display_name': 'White House, Main Street, Whitehouse Station, Readington Township, Hunterdon County, New Jersey, 08889, United States',\n",
       "  'boundingbox': ['40.6105126', '40.6205126', '-74.7757356', '-74.7657356']},\n",
       " {'place_id': 269496484,\n",
       "  'licence': 'Data © OpenStreetMap contributors, ODbL 1.0. http://osm.org/copyright',\n",
       "  'osm_type': 'relation',\n",
       "  'osm_id': 4285230,\n",
       "  'lat': '55.12905215',\n",
       "  'lon': '-6.060181760198067',\n",
       "  'category': 'boundary',\n",
       "  'type': 'administrative',\n",
       "  'place_rank': 20,\n",
       "  'importance': 0.25000999999999995,\n",
       "  'addresstype': 'locality',\n",
       "  'name': 'White House',\n",
       "  'display_name': 'White House, Northern Ireland / Tuaisceart Éireann, United Kingdom',\n",
       "  'boundingbox': ['55.1254580', '55.1326369', '-6.0677962', '-6.0536523']},\n",
       " {'place_id': 5949580,\n",
       "  'licence': 'Data © OpenStreetMap contributors, ODbL 1.0. http://osm.org/copyright',\n",
       "  'osm_type': 'node',\n",
       "  'osm_id': 158604790,\n",
       "  'lat': '39.7528548',\n",
       "  'lon': '-79.794497',\n",
       "  'category': 'place',\n",
       "  'type': 'hamlet',\n",
       "  'place_rank': 20,\n",
       "  'importance': 0.25000999999999995,\n",
       "  'addresstype': 'hamlet',\n",
       "  'name': 'White House',\n",
       "  'display_name': 'White House, Springhill Township, Fayette County, Pennsylvania, 15439, United States',\n",
       "  'boundingbox': ['39.7328548', '39.7728548', '-79.8144970', '-79.7744970']},\n",
       " {'place_id': 269368568,\n",
       "  'licence': 'Data © OpenStreetMap contributors, ODbL 1.0. http://osm.org/copyright',\n",
       "  'osm_type': 'relation',\n",
       "  'osm_id': 5126132,\n",
       "  'lat': '55.01164445',\n",
       "  'lon': '-7.385005220408851',\n",
       "  'category': 'boundary',\n",
       "  'type': 'administrative',\n",
       "  'place_rank': 20,\n",
       "  'importance': 0.25000999999999995,\n",
       "  'addresstype': 'locality',\n",
       "  'name': 'White House',\n",
       "  'display_name': 'White House, Northern Ireland / Tuaisceart Éireann, BT48 0JY, United Kingdom',\n",
       "  'boundingbox': ['54.9946651', '55.0295605', '-7.4055844', '-7.3455259']},\n",
       " {'place_id': 322738040,\n",
       "  'licence': 'Data © OpenStreetMap contributors, ODbL 1.0. http://osm.org/copyright',\n",
       "  'osm_type': 'node',\n",
       "  'osm_id': 151576959,\n",
       "  'lat': '38.4220229',\n",
       "  'lon': '-90.3128315',\n",
       "  'category': 'place',\n",
       "  'type': 'hamlet',\n",
       "  'place_rank': 20,\n",
       "  'importance': 0.25000999999999995,\n",
       "  'addresstype': 'hamlet',\n",
       "  'name': 'White House',\n",
       "  'display_name': 'White House, Oakville, Saint Louis County, Missouri, 63129, United States',\n",
       "  'boundingbox': ['38.4020229', '38.4420229', '-90.3328315', '-90.2928315']},\n",
       " {'place_id': 270310294,\n",
       "  'licence': 'Data © OpenStreetMap contributors, ODbL 1.0. http://osm.org/copyright',\n",
       "  'osm_type': 'node',\n",
       "  'osm_id': 1272917462,\n",
       "  'lat': '52.0861608',\n",
       "  'lon': '-2.5017666',\n",
       "  'category': 'place',\n",
       "  'type': 'hamlet',\n",
       "  'place_rank': 20,\n",
       "  'importance': 0.25000999999999995,\n",
       "  'addresstype': 'hamlet',\n",
       "  'name': 'White House',\n",
       "  'display_name': 'White House, Canon Frome, Herefordshire, England, HR8 2TF, United Kingdom',\n",
       "  'boundingbox': ['52.0661608', '52.1061608', '-2.5217666', '-2.4817666']},\n",
       " {'place_id': 2335614,\n",
       "  'licence': 'Data © OpenStreetMap contributors, ODbL 1.0. http://osm.org/copyright',\n",
       "  'osm_type': 'node',\n",
       "  'osm_id': 1657093340,\n",
       "  'lat': '37.5800227',\n",
       "  'lon': '-77.0238418',\n",
       "  'category': 'place',\n",
       "  'type': 'hamlet',\n",
       "  'place_rank': 20,\n",
       "  'importance': 0.25000999999999995,\n",
       "  'addresstype': 'hamlet',\n",
       "  'name': 'White House',\n",
       "  'display_name': 'White House, New Kent County, Virginia, United States',\n",
       "  'boundingbox': ['37.5600227', '37.6000227', '-77.0438418', '-77.0038418']}]"
      ]
     },
     "execution_count": 1,
     "metadata": {},
     "output_type": "execute_result"
    }
   ],
   "source": [
    "import requests\n",
    "\n",
    "params = {\n",
    "    \"q\": \"White House\",\n",
    "    \"format\": \"jsonv2\"\n",
    "}\n",
    "response = requests.get(\"https://nominatim.openstreetmap.org/search\", params=params)\n",
    "data = response.json()\n",
    "data"
   ]
  },
  {
   "cell_type": "code",
   "execution_count": 2,
   "metadata": {
    "colab": {
     "base_uri": "https://localhost:8080/",
     "height": 35
    },
    "id": "1v890jahfmX-",
    "outputId": "95bdffb9-1b92-42c0-a737-7c9f2f1c1804"
   },
   "outputs": [
    {
     "data": {
      "text/plain": [
       "'Coordinates: 38.897699700000004, -77.03655315'"
      ]
     },
     "execution_count": 2,
     "metadata": {},
     "output_type": "execute_result"
    }
   ],
   "source": [
    "place = data[0]\n",
    "lat = place[\"lat\"]\n",
    "lon = place[\"lon\"]\n",
    "f\"Coordinates: {lat}, {lon}\""
   ]
  }
 ],
 "metadata": {
  "colab": {
   "provenance": []
  },
  "kernelspec": {
   "display_name": "Python [conda env:python-public-policy] *",
   "language": "python",
   "name": "conda-env-python-public-policy-py"
  },
  "language_info": {
   "codemirror_mode": {
    "name": "ipython",
    "version": 3
   },
   "file_extension": ".py",
   "mimetype": "text/x-python",
   "name": "python",
   "nbconvert_exporter": "python",
   "pygments_lexer": "ipython3",
   "version": "3.10.12"
  }
 },
 "nbformat": 4,
 "nbformat_minor": 1
}
