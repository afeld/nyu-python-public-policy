{
 "cells": [
  {
   "cell_type": "markdown",
   "metadata": {
    "slideshow": {
     "slide_type": "slide"
    }
   },
   "source": [
    "# Homework 6\n",
    "\n",
    "- a.k.a. the final project\n",
    "- Open-ended\n",
    "   - Be creative, and just the right amount of ambitious\n",
    "- **Goal:** Prove or disprove a hypothesis using skills learned in this class"
   ]
  },
  {
   "cell_type": "markdown",
   "metadata": {
    "slideshow": {
     "slide_type": "slide"
    }
   },
   "source": [
    "## Proposal\n",
    "\n",
    "This is completed as part of [Homework 5](https://padmgp-4506-spring.rcnyu.org/user-redirect/notebooks/class_materials/hw_5.ipynb).\n",
    "\n",
    "1. Find dataset that seems interesting.\n",
    "  - Use at least one dataset that you aren't familiar with, from this class or elsewhere.\n",
    "  - [NYC OpenData](https://opendata.cityofnewyork.us/), [data.gov](https://www.data.gov/), [BetaNYC](https://data.beta.nyc/), and [Kaggle](https://www.kaggle.com/datasets) have many many options.\n",
    "    - Using data from a primary source is preferred but not required.\n",
    "  - Finding a dataset available in CSV or JSON is recommended, though [pandas can read other formats](https://pandas.pydata.org/pandas-docs/stable/user_guide/io.html).\n",
    "  - Note that JupyterHub has a storage limit of 1GB.\n",
    "1. Inspect the data a bit.\n",
    "1. Come up with a question that the data is capable of answering and _isn't trivial to answer_.\n",
    "  - If you aren't sure, ask.\n",
    "1. Come up with a hypothesis (a.k.a. a guess of the answer to the question).\n",
    "1. Submit the proposal."
   ]
  },
  {
   "cell_type": "markdown",
   "metadata": {
    "slideshow": {
     "slide_type": "subslide"
    }
   },
   "source": [
    "Post responses to the following as a new Conversation under [the `HW6 proposals` Discussion](https://brightspace.nyu.edu/d2l/le/156784/discussions/topics/281277/View) by 5/5 at 6:45pm:\n",
    "\n",
    "- **What dataset are you going to use?**\n",
    "   - Please include a link. If multiple, how are you going to merge/join them?\n",
    "- **What's the question you are trying to answer?**\n",
    "   - It should be _specific, and objectively answerable_ through the data available.\n",
    "- **What's your hypothesis?**"
   ]
  },
  {
   "cell_type": "markdown",
   "metadata": {
    "slideshow": {
     "slide_type": "subslide"
    }
   },
   "source": [
    "- Your question/hypothesis doesn't need to be something novel; confirming something you read in the news is fine.\n",
    "- You won't be graded on the scientific soundness of your work.\n",
    "   - Important to think through and note assumptions/caveats of your approach\n",
    "- The sooner you post your proposal, the sooner you'll get feedback."
   ]
  },
  {
   "cell_type": "markdown",
   "metadata": {
    "slideshow": {
     "slide_type": "subslide"
    }
   },
   "source": [
    "### Simplified example\n",
    "\n",
    "- **Dataset:** [Recycling Diversion and Capture Rates](https://data.cityofnewyork.us/Environment/Recycling-Diversion-and-Capture-Rates/gaq9-z3hz)\n",
    "- **Question:** From 2016 to 2019, what community district increased their diversion (recycling) rate the most?\n",
    "- **Hypothesis:** [Bushwick](https://communityprofiles.planning.nyc.gov/brooklyn/4), because it's gentrified over that time, and hipsters love to recycle."
   ]
  },
  {
   "cell_type": "markdown",
   "metadata": {
    "slideshow": {
     "slide_type": "subslide"
    }
   },
   "source": [
    "### Another example\n",
    "\n",
    "- **Dataset:** data about people's trash\n",
    "- **Question:** Is recycling better now than before?\n",
    "- **Hypothesis:** probably\n",
    "\n",
    "What's wrong with this proposal?"
   ]
  },
  {
   "cell_type": "markdown",
   "metadata": {
    "slideshow": {
     "slide_type": "slide"
    }
   },
   "source": [
    "## Once you start\n",
    "\n",
    "- Create a new notebook to do the actual analysis; that is what you'll turn in. To create, click:\n",
    "  1. `File`\n",
    "  1. `New notebook`\n",
    "  1. `Python [conda env:python-public-policy]`\n",
    "- Go back and find any information that's available _around_ the data, to get a better understanding of what it contains and means.\n",
    "  - Might include a data dictionary\n",
    "  - Might involve poking around a government agency's web site to understand their processes\n",
    "  - Understand what all the different columns and values represent"
   ]
  },
  {
   "cell_type": "markdown",
   "metadata": {
    "slideshow": {
     "slide_type": "slide"
    }
   },
   "source": [
    "## Analysis requirements\n",
    "\n",
    "_on top of [general assignment requirements](https://github.com/afeld/python-public-policy/blob/main/syllabus.md#assignments)_\n",
    "\n",
    "<!-- make sure edits here are reflected in extras/scripts/hw_6_check.py -->\n",
    "\n",
    "- **Read like a blog post** - 2 points\n",
    "    - Pretend you're explaining to a Wagner student who hasn't taken this class. You don't need to teach them to code, but they should be able to follow what's going on.\n",
    "    - Re-state the question, hypothesis, and data source(s) with link(s)\n",
    "    - Walk the reader through what you're doing in every step and what they should be taking away from it.\n",
    "      - You are more than welcome to inject personality in there; doesn't need to by dry.\n",
    "    - Use text cells with [Markdown](https://www.markdownguide.org/basic-syntax/) for formatting.\n",
    "    - Include any dead ends you hit in your analysis.\n",
    "      - For example, include charts that you generate that may not show anything interesting and explain what you are choosing to look at instead.\n",
    "      - You should still be cleaning up unused/broken code to make your notebook readable.\n",
    "    - Have a conclusion that speaks to your question and hypothesis.\n",
    "- **Use pandas** - 1 point\n",
    "- **Not be trivial** - 2 points - requiring:\n",
    "    - At least 40 lines of code to come to a conclusion\n",
    "    - Transforming data through [grouping](https://pandas.pydata.org/pandas-docs/stable/user_guide/groupby.html), [merging](https://pandas.pydata.org/pandas-docs/stable/user_guide/merging.html#database-style-dataframe-or-named-series-joining-merging), and/or [reshaping](https://pandas.pydata.org/docs/user_guide/reshaping.html) of DataFrames\n",
    "    - Operations that aren't easily done in a spreadsheet.\n",
    "- **Have a visualization** (chart or map) of some kind - 1 point\n",
    "    - Follow [best practices](https://xdgov.github.io/data-design-standards/)\n",
    "- Don't leave any sensitive information in the notebook: API keys, personally-identifiable information (PII), etc.\n",
    "\n",
    "If you answer the first question easily, that's fine; dig into / build off of it. Go deep, not broad."
   ]
  }
 ],
 "metadata": {
  "celltoolbar": "Slideshow",
  "kernelspec": {
   "display_name": "Python [conda env:python-public-policy] *",
   "language": "python",
   "name": "conda-env-python-public-policy-py"
  },
  "language_info": {
   "codemirror_mode": {
    "name": "ipython",
    "version": 3
   },
   "file_extension": ".py",
   "mimetype": "text/x-python",
   "name": "python",
   "nbconvert_exporter": "python",
   "pygments_lexer": "ipython3",
   "version": "3.10.4"
  },
  "rise": {
   "scroll": true
  }
 },
 "nbformat": 4,
 "nbformat_minor": 4
}
