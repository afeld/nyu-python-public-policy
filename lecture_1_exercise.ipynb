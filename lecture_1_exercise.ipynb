{
 "cells": [
  {
   "cell_type": "markdown",
   "metadata": {},
   "source": [
    "# Class 1 in-class exercise\n",
    "\n",
    "We'll be doing calculations on [2021 Yellow Taxi Trips](https://data.cityofnewyork.us/Transportation/2021-Yellow-Taxi-Trip-Data/m6nq-qud6) data. We'll live-code this together.\n",
    "\n",
    "## Step 0\n",
    "\n",
    "The data needs to available on the machine where Python is running in order to process it, so let's download from the NYC Open Data site directly:"
   ]
  },
  {
   "cell_type": "code",
   "execution_count": 1,
   "metadata": {
    "execution": {
     "iopub.execute_input": "2023-10-22T00:09:31.236115Z",
     "iopub.status.busy": "2023-10-22T00:09:31.235847Z",
     "iopub.status.idle": "2023-10-22T00:09:31.936575Z",
     "shell.execute_reply": "2023-10-22T00:09:31.935866Z"
    }
   },
   "outputs": [
    {
     "name": "stdout",
     "output_type": "stream",
     "text": [
      "2023-10-21 20:09:31 URL:https://data.cityofnewyork.us/resource/m6nq-qud6.csv [136065] -> \"2021_yello_taxi_trips.csv\" [1]\r\n"
     ]
    }
   ],
   "source": [
    "!wget -O 2021_yello_taxi_trips.csv --no-verbose https://data.cityofnewyork.us/resource/m6nq-qud6.csv"
   ]
  },
  {
   "cell_type": "markdown",
   "metadata": {},
   "source": [
    "This is using a command-line program to do the downloading. We'll download data ourselves manually later.\n",
    "\n",
    "If you open the `Files` view in the sidebar of Google Colab and refresh, you should see `2021_yello_taxi_trips.csv` there."
   ]
  },
  {
   "cell_type": "markdown",
   "metadata": {},
   "source": [
    "## Step 1\n",
    "\n",
    "Print out the trip distances."
   ]
  },
  {
   "cell_type": "code",
   "execution_count": 2,
   "metadata": {
    "execution": {
     "iopub.execute_input": "2023-10-22T00:09:31.939551Z",
     "iopub.status.busy": "2023-10-22T00:09:31.939371Z",
     "iopub.status.idle": "2023-10-22T00:09:31.941969Z",
     "shell.execute_reply": "2023-10-22T00:09:31.941489Z"
    }
   },
   "outputs": [],
   "source": [
    "# your code here"
   ]
  },
  {
   "cell_type": "markdown",
   "metadata": {},
   "source": [
    "## Step 2\n",
    "\n",
    "Calculate the average ride distance."
   ]
  },
  {
   "cell_type": "code",
   "execution_count": 3,
   "metadata": {
    "execution": {
     "iopub.execute_input": "2023-10-22T00:09:31.944310Z",
     "iopub.status.busy": "2023-10-22T00:09:31.944139Z",
     "iopub.status.idle": "2023-10-22T00:09:31.946317Z",
     "shell.execute_reply": "2023-10-22T00:09:31.945946Z"
    }
   },
   "outputs": [],
   "source": [
    "# your code here"
   ]
  },
  {
   "cell_type": "markdown",
   "metadata": {},
   "source": [
    "## Step 3\n",
    "\n",
    "Your turn! Calculate the percent of trips that were paid for by credit card. The data dictionary will be helpful - see the Attachment on [the dataset page](https://data.cityofnewyork.us/Transportation/2021-Yellow-Taxi-Trip-Data/m6nq-qud6)."
   ]
  },
  {
   "cell_type": "code",
   "execution_count": 4,
   "metadata": {
    "execution": {
     "iopub.execute_input": "2023-10-22T00:09:31.948330Z",
     "iopub.status.busy": "2023-10-22T00:09:31.948183Z",
     "iopub.status.idle": "2023-10-22T00:09:31.949990Z",
     "shell.execute_reply": "2023-10-22T00:09:31.949629Z"
    }
   },
   "outputs": [],
   "source": [
    "# your code here"
   ]
  }
 ],
 "metadata": {
  "file_extension": ".py",
  "kernelspec": {
   "display_name": "Python 3",
   "language": "python",
   "name": "python3"
  },
  "language_info": {
   "codemirror_mode": {
    "name": "ipython",
    "version": 3
   },
   "file_extension": ".py",
   "mimetype": "text/x-python",
   "name": "python",
   "nbconvert_exporter": "python",
   "pygments_lexer": "ipython3",
   "version": "3.10.12"
  },
  "mimetype": "text/x-python",
  "name": "python",
  "npconvert_exporter": "python",
  "pygments_lexer": "ipython3",
  "version": 3
 },
 "nbformat": 4,
 "nbformat_minor": 4
}
