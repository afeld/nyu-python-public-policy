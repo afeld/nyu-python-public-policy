{
 "cells": [
  {
   "cell_type": "code",
   "execution_count": 1,
   "id": "e7263471-1228-4c4e-8e53-da10e89ea987",
   "metadata": {
    "scrolled": true
   },
   "outputs": [],
   "source": [
    "import json\n",
    "from pathlib import Path\n",
    "import pandas as pd\n",
    "\n",
    "path = Path(\"..\", \"Python Coding for Public Policy, Spring 2024 discussion threads.json\")\n",
    "data = json.load(open(path))\n",
    "threads = pd.json_normalize(data)\n",
    "# threads"
   ]
  },
  {
   "cell_type": "code",
   "execution_count": 2,
   "id": "87b6dda9-a1da-47a5-89cd-75290c5d7031",
   "metadata": {
    "scrolled": true
   },
   "outputs": [
    {
     "name": "stdout",
     "output_type": "stream",
     "text": [
      "<class 'pandas.core.frame.DataFrame'>\n",
      "RangeIndex: 35 entries, 0 to 34\n",
      "Data columns (total 21 columns):\n",
      " #   Column          Non-Null Count  Dtype \n",
      "---  ------          --------------  ----- \n",
      " 0   url             35 non-null     object\n",
      " 1   type            35 non-null     object\n",
      " 2   number          35 non-null     int64 \n",
      " 3   title           35 non-null     object\n",
      " 4   category        35 non-null     object\n",
      " 5   subcategory     35 non-null     object\n",
      " 6   subsubcategory  35 non-null     object\n",
      " 7   votes           35 non-null     int64 \n",
      " 8   views           35 non-null     int64 \n",
      " 9   unique_views    35 non-null     int64 \n",
      " 10  private         35 non-null     bool  \n",
      " 11  anonymous       35 non-null     bool  \n",
      " 12  endorsed        35 non-null     bool  \n",
      " 13  created_at      35 non-null     object\n",
      " 14  text            35 non-null     object\n",
      " 15  document        35 non-null     object\n",
      " 16  comments        35 non-null     object\n",
      " 17  user.name       35 non-null     object\n",
      " 18  user.email      35 non-null     object\n",
      " 19  user.role       35 non-null     object\n",
      " 20  answers         21 non-null     object\n",
      "dtypes: bool(3), int64(4), object(14)\n",
      "memory usage: 5.1+ KB\n"
     ]
    }
   ],
   "source": [
    "threads.info()"
   ]
  },
  {
   "cell_type": "code",
   "execution_count": 3,
   "id": "9d8fc8dc-1d33-467a-9711-3471f46543c5",
   "metadata": {
    "scrolled": true
   },
   "outputs": [],
   "source": [
    "comments = pd.json_normalize(threads[\"comments\"].explode().dropna())\n",
    "# comments"
   ]
  },
  {
   "cell_type": "code",
   "execution_count": 4,
   "id": "ce94a5bc-8c53-4dcb-b024-03ad29c027d7",
   "metadata": {
    "scrolled": true
   },
   "outputs": [],
   "source": [
    "replies = pd.json_normalize(threads[\"answers\"].explode().dropna())\n",
    "# replies"
   ]
  },
  {
   "cell_type": "code",
   "execution_count": 5,
   "id": "439449c0-b297-4aa5-8d1b-a266fe6207a1",
   "metadata": {
    "scrolled": true
   },
   "outputs": [],
   "source": [
    "posts = pd.concat([threads, comments, replies]).reset_index()\n",
    "# posts"
   ]
  },
  {
   "cell_type": "code",
   "execution_count": 6,
   "id": "f130ea1f-1df1-4289-9d53-9b045f9f8649",
   "metadata": {},
   "outputs": [],
   "source": [
    "# threads[\"created_at\"] = pd.to_datetime(threads[\"created_at\"], format=\"%Y-%m-%DT%H:%M:%S\")\n",
    "# threads[\"created_at\"] = pd.to_datetime(threads[\"created_at\"], format=\"ISO8601\")\n",
    "posts[\"created_at\"] = pd.to_datetime(posts[\"created_at\"])\n",
    "# posts[\"created_at\"]"
   ]
  },
  {
   "cell_type": "code",
   "execution_count": 7,
   "id": "82580dd3-9d91-42b4-8ea6-84d7a9f3bc43",
   "metadata": {
    "scrolled": true
   },
   "outputs": [],
   "source": [
    "from datetime import datetime, timedelta\n",
    "import pytz\n",
    "\n",
    "# exclude the instructors\n",
    "filtered_posts = posts[posts[\"user.role\"] != \"admin\"]\n",
    "\n",
    "two_weeks_ago = datetime.now(pytz.UTC) - timedelta(weeks=2)\n",
    "filtered_posts = filtered_posts[filtered_posts[\"created_at\"] >= two_weeks_ago]\n",
    "\n",
    "filtered_posts = filtered_posts.sort_values(\"created_at\", ascending=False)\n",
    "\n",
    "# filtered_posts"
   ]
  },
  {
   "cell_type": "code",
   "execution_count": null,
   "id": "93f28cad-a6d5-4c32-83ee-0e9bd6b7bd55",
   "metadata": {},
   "outputs": [],
   "source": [
    "from IPython.display import HTML\n",
    "\n",
    "output = filtered_posts.copy()\n",
    "\n",
    "output[\"created_at\"] = output[\"created_at\"].dt.tz_convert(\"America/New_York\").dt.date\n",
    "\n",
    "output = output[[\n",
    "    \"user.name\",\n",
    "    \"created_at\",\n",
    "    \"url\",\n",
    "    # \"title\",\n",
    "    \"text\",\n",
    "]]\n",
    "\n",
    "# https://stackoverflow.com/a/20043785/358804\n",
    "output[\"url\"] = output[\"url\"].apply(lambda url: f'<a href=\"{url}\">Open</a>')\n",
    "\n",
    "# https://stackoverflow.com/a/56881411/358804\n",
    "styled = output.style.set_properties(**{\n",
    "    'text-align': 'left',\n",
    "    'white-space': 'pre-wrap',\n",
    "})\n",
    "\n",
    "HTML(styled.to_html(escape=False))"
   ]
  }
 ],
 "metadata": {
  "kernelspec": {
   "display_name": "Python [conda env:python-public-policy] *",
   "language": "python",
   "name": "conda-env-python-public-policy-py"
  },
  "language_info": {
   "codemirror_mode": {
    "name": "ipython",
    "version": 3
   },
   "file_extension": ".py",
   "mimetype": "text/x-python",
   "name": "python",
   "nbconvert_exporter": "python",
   "pygments_lexer": "ipython3",
   "version": "3.10.12"
  }
 },
 "nbformat": 4,
 "nbformat_minor": 5
}
