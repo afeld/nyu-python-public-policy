{
 "cells": [
  {
   "cell_type": "markdown",
   "metadata": {
    "id": "Omm4n3FmPHlF",
    "slideshow": {
     "slide_type": "slide"
    }
   },
   "source": [
    "# **NYU Wagner - Python Coding for Public Policy**\n",
    "# Class 5: APIs"
   ]
  },
  {
   "cell_type": "markdown",
   "metadata": {
    "slideshow": {
     "slide_type": "slide"
    }
   },
   "source": [
    "## Ways to get data\n",
    "\n",
    "Method | How it happens | Pros | Cons\n",
    "--- | :--- | :--- | :---\n",
    "**Bulk** | Download, someone hands you a flash drive, etc. | Fast, one-time transfer | Can be large\n",
    "**Scraping** | Data only available through a web site, PDF, or doc | You can turn anything into data | Tedious; fragile\n",
    "**APIs** | If organization makes one available | Usually allows some filtering; can always pull latest-and-greatest | Requires network connection for every pull; higher barrier to entry (reading documentation); subject to availability and performance of API"
   ]
  },
  {
   "cell_type": "markdown",
   "metadata": {
    "slideshow": {
     "slide_type": "slide"
    }
   },
   "source": [
    "## Scraping\n",
    "\n",
    "Common tools:\n",
    "\n",
    "- [Beautiful Soup package](https://realpython.com/beautiful-soup-web-scraper-python/)\n",
    "- [pandas' `read_html()`](https://pandas.pydata.org/docs/user_guide/io.html#html)"
   ]
  },
  {
   "cell_type": "markdown",
   "metadata": {
    "slideshow": {
     "slide_type": "subslide"
    }
   },
   "source": [
    "Pull table from [Wikipedia's list of countries and dependencies by population](https://en.wikipedia.org/wiki/List_of_countries_and_dependencies_by_population):"
   ]
  },
  {
   "cell_type": "code",
   "execution_count": 1,
   "metadata": {
    "execution": {
     "iopub.execute_input": "2022-05-15T02:50:28.677938Z",
     "iopub.status.busy": "2022-05-15T02:50:28.677386Z",
     "iopub.status.idle": "2022-05-15T02:50:30.203156Z",
     "shell.execute_reply": "2022-05-15T02:50:30.202554Z"
    },
    "slideshow": {
     "slide_type": "-"
    }
   },
   "outputs": [
    {
     "data": {
      "text/html": [
       "<div>\n",
       "<style scoped>\n",
       "    .dataframe tbody tr th:only-of-type {\n",
       "        vertical-align: middle;\n",
       "    }\n",
       "\n",
       "    .dataframe tbody tr th {\n",
       "        vertical-align: top;\n",
       "    }\n",
       "\n",
       "    .dataframe thead th {\n",
       "        text-align: right;\n",
       "    }\n",
       "</style>\n",
       "<table border=\"1\" class=\"dataframe\">\n",
       "  <thead>\n",
       "    <tr style=\"text-align: right;\">\n",
       "      <th></th>\n",
       "      <th>Rank</th>\n",
       "      <th>Country / Dependency</th>\n",
       "      <th>Region</th>\n",
       "      <th>Population</th>\n",
       "      <th>Percentage of the world</th>\n",
       "      <th>Date</th>\n",
       "      <th>Source (official or from the United Nations)</th>\n",
       "      <th>Notes</th>\n",
       "    </tr>\n",
       "  </thead>\n",
       "  <tbody>\n",
       "    <tr>\n",
       "      <th>0</th>\n",
       "      <td>–</td>\n",
       "      <td>World</td>\n",
       "      <td>NaN</td>\n",
       "      <td>7950095000</td>\n",
       "      <td>100%</td>\n",
       "      <td>14 May 2022</td>\n",
       "      <td>UN projection[1]</td>\n",
       "      <td>NaN</td>\n",
       "    </tr>\n",
       "    <tr>\n",
       "      <th>1</th>\n",
       "      <td>1</td>\n",
       "      <td>China</td>\n",
       "      <td>Asia</td>\n",
       "      <td>1412600000</td>\n",
       "      <td>NaN</td>\n",
       "      <td>31 Dec 2021</td>\n",
       "      <td>National annual estimate[2]</td>\n",
       "      <td>The population figure refers to mainland China...</td>\n",
       "    </tr>\n",
       "    <tr>\n",
       "      <th>2</th>\n",
       "      <td>2</td>\n",
       "      <td>India</td>\n",
       "      <td>Asia</td>\n",
       "      <td>1376278850</td>\n",
       "      <td>NaN</td>\n",
       "      <td>14 May 2022</td>\n",
       "      <td>National population clock[3]</td>\n",
       "      <td>The figure includes the population of Indian-a...</td>\n",
       "    </tr>\n",
       "    <tr>\n",
       "      <th>3</th>\n",
       "      <td>3</td>\n",
       "      <td>United States</td>\n",
       "      <td>Americas</td>\n",
       "      <td>332678288</td>\n",
       "      <td>NaN</td>\n",
       "      <td>14 May 2022</td>\n",
       "      <td>National population clock[4]</td>\n",
       "      <td>The figure includes the 50 states and the Dist...</td>\n",
       "    </tr>\n",
       "    <tr>\n",
       "      <th>4</th>\n",
       "      <td>4</td>\n",
       "      <td>Indonesia</td>\n",
       "      <td>Asia[b]</td>\n",
       "      <td>272248500</td>\n",
       "      <td>NaN</td>\n",
       "      <td>1 Jul 2021</td>\n",
       "      <td>National annual estimate[5]</td>\n",
       "      <td>NaN</td>\n",
       "    </tr>\n",
       "    <tr>\n",
       "      <th>...</th>\n",
       "      <td>...</td>\n",
       "      <td>...</td>\n",
       "      <td>...</td>\n",
       "      <td>...</td>\n",
       "      <td>...</td>\n",
       "      <td>...</td>\n",
       "      <td>...</td>\n",
       "      <td>...</td>\n",
       "    </tr>\n",
       "    <tr>\n",
       "      <th>237</th>\n",
       "      <td>–</td>\n",
       "      <td>Niue (New Zealand)</td>\n",
       "      <td>Oceania</td>\n",
       "      <td>1549</td>\n",
       "      <td>NaN</td>\n",
       "      <td>1 Jul 2021</td>\n",
       "      <td>National annual projection[93]</td>\n",
       "      <td>NaN</td>\n",
       "    </tr>\n",
       "    <tr>\n",
       "      <th>238</th>\n",
       "      <td>–</td>\n",
       "      <td>Tokelau (New Zealand)</td>\n",
       "      <td>Oceania</td>\n",
       "      <td>1501</td>\n",
       "      <td>NaN</td>\n",
       "      <td>1 Jul 2021</td>\n",
       "      <td>National annual projection[93]</td>\n",
       "      <td>NaN</td>\n",
       "    </tr>\n",
       "    <tr>\n",
       "      <th>239</th>\n",
       "      <td>195</td>\n",
       "      <td>Vatican City</td>\n",
       "      <td>Europe</td>\n",
       "      <td>825</td>\n",
       "      <td>NaN</td>\n",
       "      <td>1 Feb 2019</td>\n",
       "      <td>Monthly national estimate[197]</td>\n",
       "      <td>The total population of 825 consisted of 453 r...</td>\n",
       "    </tr>\n",
       "    <tr>\n",
       "      <th>240</th>\n",
       "      <td>–</td>\n",
       "      <td>Cocos (Keeling) Islands (Australia)</td>\n",
       "      <td>Oceania</td>\n",
       "      <td>573</td>\n",
       "      <td>NaN</td>\n",
       "      <td>30 Jun 2020</td>\n",
       "      <td>National annual estimate[196]</td>\n",
       "      <td>NaN</td>\n",
       "    </tr>\n",
       "    <tr>\n",
       "      <th>241</th>\n",
       "      <td>–</td>\n",
       "      <td>Pitcairn Islands (United Kingdom)</td>\n",
       "      <td>Oceania</td>\n",
       "      <td>40</td>\n",
       "      <td>NaN</td>\n",
       "      <td>1 Jan 2021</td>\n",
       "      <td>National annual estimate[198]</td>\n",
       "      <td>NaN</td>\n",
       "    </tr>\n",
       "  </tbody>\n",
       "</table>\n",
       "<p>242 rows × 8 columns</p>\n",
       "</div>"
      ],
      "text/plain": [
       "    Rank                 Country / Dependency    Region  Population  \\\n",
       "0      –                                World       NaN  7950095000   \n",
       "1      1                                China      Asia  1412600000   \n",
       "2      2                                India      Asia  1376278850   \n",
       "3      3                        United States  Americas   332678288   \n",
       "4      4                            Indonesia   Asia[b]   272248500   \n",
       "..   ...                                  ...       ...         ...   \n",
       "237    –                   Niue (New Zealand)   Oceania        1549   \n",
       "238    –                Tokelau (New Zealand)   Oceania        1501   \n",
       "239  195                         Vatican City    Europe         825   \n",
       "240    –  Cocos (Keeling) Islands (Australia)   Oceania         573   \n",
       "241    –    Pitcairn Islands (United Kingdom)   Oceania          40   \n",
       "\n",
       "    Percentage of the world         Date  \\\n",
       "0                      100%  14 May 2022   \n",
       "1                       NaN  31 Dec 2021   \n",
       "2                       NaN  14 May 2022   \n",
       "3                       NaN  14 May 2022   \n",
       "4                       NaN   1 Jul 2021   \n",
       "..                      ...          ...   \n",
       "237                     NaN   1 Jul 2021   \n",
       "238                     NaN   1 Jul 2021   \n",
       "239                     NaN   1 Feb 2019   \n",
       "240                     NaN  30 Jun 2020   \n",
       "241                     NaN   1 Jan 2021   \n",
       "\n",
       "    Source (official or from the United Nations)  \\\n",
       "0                               UN projection[1]   \n",
       "1                    National annual estimate[2]   \n",
       "2                   National population clock[3]   \n",
       "3                   National population clock[4]   \n",
       "4                    National annual estimate[5]   \n",
       "..                                           ...   \n",
       "237               National annual projection[93]   \n",
       "238               National annual projection[93]   \n",
       "239               Monthly national estimate[197]   \n",
       "240                National annual estimate[196]   \n",
       "241                National annual estimate[198]   \n",
       "\n",
       "                                                 Notes  \n",
       "0                                                  NaN  \n",
       "1    The population figure refers to mainland China...  \n",
       "2    The figure includes the population of Indian-a...  \n",
       "3    The figure includes the 50 states and the Dist...  \n",
       "4                                                  NaN  \n",
       "..                                                 ...  \n",
       "237                                                NaN  \n",
       "238                                                NaN  \n",
       "239  The total population of 825 consisted of 453 r...  \n",
       "240                                                NaN  \n",
       "241                                                NaN  \n",
       "\n",
       "[242 rows x 8 columns]"
      ]
     },
     "execution_count": 1,
     "metadata": {},
     "output_type": "execute_result"
    }
   ],
   "source": [
    "import pandas as pd\n",
    "\n",
    "tables = pd.read_html('https://en.wikipedia.org/wiki/List_of_countries_and_dependencies_by_population', match='Rank')\n",
    "pop = tables[0]\n",
    "pop"
   ]
  },
  {
   "cell_type": "markdown",
   "metadata": {
    "slideshow": {
     "slide_type": "subslide"
    }
   },
   "source": [
    "### Data is only available if it's available"
   ]
  },
  {
   "cell_type": "markdown",
   "metadata": {
    "slideshow": {
     "slide_type": "slide"
    }
   },
   "source": [
    "## API calls in the wild\n",
    "\n",
    "1. Go to [Candidates page on fec.gov](https://www.fec.gov/data/candidates/?has_raised_funds=true&is_active_candidate=true).\n",
    "1. Right click and `Inspect`.\n",
    "   - [More info about opening Developer Tools in various browsers.](https://developer.mozilla.org/en-US/docs/Learn/Common_questions/What_are_browser_developer_tools#how_to_open_the_devtools_in_your_browser)\n",
    "1. Go to the `Network` tab and reload.\n",
    "1. Filter to `XHR`.\n",
    "1. Click the API call."
   ]
  },
  {
   "cell_type": "markdown",
   "metadata": {
    "slideshow": {
     "slide_type": "subslide"
    }
   },
   "source": [
    "### Parts of a URL\n",
    "\n",
    "![URL structure](https://developer.mozilla.org/en-US/docs/Learn/Common_questions/What_is_a_URL/mdn-url-all.png)\n",
    "\n",
    "[source](https://developer.mozilla.org/en-US/docs/Learn/Common_questions/What_is_a_URL#basics_anatomy_of_a_url)"
   ]
  },
  {
   "cell_type": "markdown",
   "metadata": {
    "slideshow": {
     "slide_type": "fragment"
    }
   },
   "source": [
    "For APIs:\n",
    "\n",
    "- Often split into \"base URL\" + \"endpoint\"\n",
    "- Anchors aren't relevant"
   ]
  },
  {
   "cell_type": "markdown",
   "metadata": {
    "slideshow": {
     "slide_type": "subslide"
    }
   },
   "source": [
    "### API documentation\n",
    "\n",
    "[FEC API](https://api.open.fec.gov/developers/)"
   ]
  },
  {
   "cell_type": "markdown",
   "metadata": {
    "slideshow": {
     "slide_type": "subslide"
    }
   },
   "source": [
    "### Try it out\n",
    "\n",
    "1. Visit https://www.fec.gov/data/candidates/\n",
    "1. In the Network tab's request list, right-click the API call.\n",
    "1. Click `Open in New Tab`.\n",
    "1. Replace the API key with `DEMO_KEY`."
   ]
  },
  {
   "cell_type": "markdown",
   "metadata": {
    "slideshow": {
     "slide_type": "slide"
    }
   },
   "source": [
    "## API calls from Python\n",
    "\n",
    "Usually one of two ways:\n",
    "\n",
    "- A software development kit (SDK) like [sodapy](https://pypi.org/project/sodapy/)\n",
    "   - Abstracts the details away\n",
    "   - Not available for all APIs\n",
    "   - May have limitations\n",
    "- [The `requests` package](https://docs.python-requests.org/) (nothing to do with 311 requests)"
   ]
  },
  {
   "cell_type": "code",
   "execution_count": 2,
   "metadata": {
    "execution": {
     "iopub.execute_input": "2022-05-15T02:50:30.232029Z",
     "iopub.status.busy": "2022-05-15T02:50:30.231445Z",
     "iopub.status.idle": "2022-05-15T02:50:30.742680Z",
     "shell.execute_reply": "2022-05-15T02:50:30.740556Z"
    },
    "scrolled": false,
    "slideshow": {
     "slide_type": "subslide"
    }
   },
   "outputs": [
    {
     "data": {
      "text/plain": [
       "{'api_version': '1.0',\n",
       " 'results': [{'incumbent_challenge_full': 'Open seat',\n",
       "   'name': 'MCMILLAN, JIMMY \"RENT IS TOO DAMN HIGH',\n",
       "   'load_date': '2018-02-17T09:16:20+00:00',\n",
       "   'candidate_status': 'N',\n",
       "   'party_full': 'REPUBLICAN PARTY',\n",
       "   'last_f2_date': '2015-10-13',\n",
       "   'last_file_date': '2015-10-13',\n",
       "   'election_years': [2016],\n",
       "   'inactive_election_years': None,\n",
       "   'district_number': 0,\n",
       "   'district': '00',\n",
       "   'party': 'REP',\n",
       "   'incumbent_challenge': 'O',\n",
       "   'office_full': 'President',\n",
       "   'candidate_id': 'P60016805',\n",
       "   'flags': 'P60016805',\n",
       "   'candidate_inactive': False,\n",
       "   'election_districts': ['00'],\n",
       "   'cycles': [2016, 2018],\n",
       "   'federal_funds_flag': False,\n",
       "   'office': 'P',\n",
       "   'first_file_date': '2015-10-13',\n",
       "   'has_raised_funds': False,\n",
       "   'state': 'US',\n",
       "   'active_through': 2016},\n",
       "  {'incumbent_challenge_full': 'Challenger',\n",
       "   'name': 'MCMILLAN, JIMMY (AKA) JAMES ',\n",
       "   'load_date': '2021-12-08T06:50:50+00:00',\n",
       "   'candidate_status': 'N',\n",
       "   'party_full': 'REPUBLICAN PARTY',\n",
       "   'last_f2_date': '2011-02-07',\n",
       "   'last_file_date': '2011-02-07',\n",
       "   'election_years': [1996, 2012],\n",
       "   'inactive_election_years': None,\n",
       "   'district_number': 0,\n",
       "   'district': '00',\n",
       "   'party': 'REP',\n",
       "   'incumbent_challenge': 'C',\n",
       "   'office_full': 'President',\n",
       "   'candidate_id': 'P60003290',\n",
       "   'flags': 'P60003290',\n",
       "   'candidate_inactive': False,\n",
       "   'election_districts': ['00', '00'],\n",
       "   'cycles': [1996, 1998, 2012, 2020, 2022],\n",
       "   'federal_funds_flag': False,\n",
       "   'office': 'P',\n",
       "   'first_file_date': '1995-03-08',\n",
       "   'has_raised_funds': False,\n",
       "   'state': 'US',\n",
       "   'active_through': 2012}],\n",
       " 'pagination': {'per_page': 20, 'page': 1, 'count': 2, 'pages': 1}}"
      ]
     },
     "execution_count": 2,
     "metadata": {},
     "output_type": "execute_result"
    }
   ],
   "source": [
    "import requests\n",
    "\n",
    "params = {\n",
    "    'api_key': 'DEMO_KEY',\n",
    "    'q': 'Jimmy McMillan',\n",
    "    'sort': '-first_file_date'\n",
    "}\n",
    "response = requests.get('https://api.open.fec.gov/v1/candidates/', params=params)\n",
    "data = response.json()\n",
    "data"
   ]
  },
  {
   "cell_type": "markdown",
   "metadata": {
    "slideshow": {
     "slide_type": "subslide"
    }
   },
   "source": [
    "### Retrieving nested data"
   ]
  },
  {
   "cell_type": "code",
   "execution_count": 3,
   "metadata": {
    "execution": {
     "iopub.execute_input": "2022-05-15T02:50:30.747883Z",
     "iopub.status.busy": "2022-05-15T02:50:30.747571Z",
     "iopub.status.idle": "2022-05-15T02:50:30.752280Z",
     "shell.execute_reply": "2022-05-15T02:50:30.751392Z"
    },
    "slideshow": {
     "slide_type": "-"
    }
   },
   "outputs": [
    {
     "data": {
      "text/plain": [
       "'MCMILLAN, JIMMY \"RENT IS TOO DAMN HIGH'"
      ]
     },
     "execution_count": 3,
     "metadata": {},
     "output_type": "execute_result"
    }
   ],
   "source": [
    "data['results'][0]['name']"
   ]
  },
  {
   "cell_type": "markdown",
   "metadata": {
    "slideshow": {
     "slide_type": "subslide"
    }
   },
   "source": [
    "### [Homework 5](https://padmgp-4506-spring.rcnyu.org/user-redirect/notebooks/class_materials/hw_5.ipynb)\n",
    "\n",
    "As an in-class exercise, start with geocoding your own address."
   ]
  },
  {
   "cell_type": "markdown",
   "metadata": {
    "slideshow": {
     "slide_type": "subslide"
    }
   },
   "source": [
    "### Reading into a DataFrame"
   ]
  },
  {
   "cell_type": "code",
   "execution_count": 4,
   "metadata": {
    "execution": {
     "iopub.execute_input": "2022-05-15T02:50:30.755633Z",
     "iopub.status.busy": "2022-05-15T02:50:30.755327Z",
     "iopub.status.idle": "2022-05-15T02:50:31.120593Z",
     "shell.execute_reply": "2022-05-15T02:50:31.120058Z"
    },
    "scrolled": true,
    "slideshow": {
     "slide_type": "-"
    }
   },
   "outputs": [
    {
     "data": {
      "text/html": [
       "<div>\n",
       "<style scoped>\n",
       "    .dataframe tbody tr th:only-of-type {\n",
       "        vertical-align: middle;\n",
       "    }\n",
       "\n",
       "    .dataframe tbody tr th {\n",
       "        vertical-align: top;\n",
       "    }\n",
       "\n",
       "    .dataframe thead th {\n",
       "        text-align: right;\n",
       "    }\n",
       "</style>\n",
       "<table border=\"1\" class=\"dataframe\">\n",
       "  <thead>\n",
       "    <tr style=\"text-align: right;\">\n",
       "      <th></th>\n",
       "      <th>office_full</th>\n",
       "      <th>active_through</th>\n",
       "      <th>last_file_date</th>\n",
       "      <th>flags</th>\n",
       "      <th>district_number</th>\n",
       "      <th>name</th>\n",
       "      <th>state</th>\n",
       "      <th>election_years</th>\n",
       "      <th>incumbent_challenge</th>\n",
       "      <th>federal_funds_flag</th>\n",
       "      <th>...</th>\n",
       "      <th>cycles</th>\n",
       "      <th>incumbent_challenge_full</th>\n",
       "      <th>load_date</th>\n",
       "      <th>office</th>\n",
       "      <th>first_file_date</th>\n",
       "      <th>candidate_status</th>\n",
       "      <th>inactive_election_years</th>\n",
       "      <th>party</th>\n",
       "      <th>candidate_id</th>\n",
       "      <th>party_full</th>\n",
       "    </tr>\n",
       "  </thead>\n",
       "  <tbody>\n",
       "    <tr>\n",
       "      <th>0</th>\n",
       "      <td>House</td>\n",
       "      <td>2022</td>\n",
       "      <td>2021-12-27</td>\n",
       "      <td>H2CO07170</td>\n",
       "      <td>7</td>\n",
       "      <td>AADLAND, ERIK</td>\n",
       "      <td>CO</td>\n",
       "      <td>[2022]</td>\n",
       "      <td>O</td>\n",
       "      <td>False</td>\n",
       "      <td>...</td>\n",
       "      <td>[2022]</td>\n",
       "      <td>Open seat</td>\n",
       "      <td>2022-01-13T01:40:22+00:00</td>\n",
       "      <td>H</td>\n",
       "      <td>2021-12-27</td>\n",
       "      <td>N</td>\n",
       "      <td>None</td>\n",
       "      <td>REP</td>\n",
       "      <td>H2CO07170</td>\n",
       "      <td>REPUBLICAN PARTY</td>\n",
       "    </tr>\n",
       "    <tr>\n",
       "      <th>1</th>\n",
       "      <td>House</td>\n",
       "      <td>2022</td>\n",
       "      <td>2022-03-21</td>\n",
       "      <td>H2UT03280</td>\n",
       "      <td>3</td>\n",
       "      <td>AALDERS, TIM</td>\n",
       "      <td>UT</td>\n",
       "      <td>[2022]</td>\n",
       "      <td>C</td>\n",
       "      <td>False</td>\n",
       "      <td>...</td>\n",
       "      <td>[2022]</td>\n",
       "      <td>Challenger</td>\n",
       "      <td>2022-04-13T21:10:09+00:00</td>\n",
       "      <td>H</td>\n",
       "      <td>2020-03-24</td>\n",
       "      <td>C</td>\n",
       "      <td>None</td>\n",
       "      <td>REP</td>\n",
       "      <td>H2UT03280</td>\n",
       "      <td>REPUBLICAN PARTY</td>\n",
       "    </tr>\n",
       "    <tr>\n",
       "      <th>2</th>\n",
       "      <td>Senate</td>\n",
       "      <td>2018</td>\n",
       "      <td>2018-04-23</td>\n",
       "      <td>S2UT00229</td>\n",
       "      <td>0</td>\n",
       "      <td>AALDERS, TIMOTHY NOEL</td>\n",
       "      <td>UT</td>\n",
       "      <td>[2012, 2018]</td>\n",
       "      <td>O</td>\n",
       "      <td>False</td>\n",
       "      <td>...</td>\n",
       "      <td>[2012, 2014, 2016, 2018, 2020]</td>\n",
       "      <td>Open seat</td>\n",
       "      <td>2019-03-27T16:02:41+00:00</td>\n",
       "      <td>S</td>\n",
       "      <td>2012-02-08</td>\n",
       "      <td>P</td>\n",
       "      <td>None</td>\n",
       "      <td>CON</td>\n",
       "      <td>S2UT00229</td>\n",
       "      <td>CONSTITUTION PARTY</td>\n",
       "    </tr>\n",
       "    <tr>\n",
       "      <th>3</th>\n",
       "      <td>House</td>\n",
       "      <td>2020</td>\n",
       "      <td>2019-10-17</td>\n",
       "      <td>H0TX22260</td>\n",
       "      <td>22</td>\n",
       "      <td>AALOORI, BANGAR REDDY</td>\n",
       "      <td>TX</td>\n",
       "      <td>[2020]</td>\n",
       "      <td>O</td>\n",
       "      <td>False</td>\n",
       "      <td>...</td>\n",
       "      <td>[2020]</td>\n",
       "      <td>Open seat</td>\n",
       "      <td>2020-03-18T21:13:37+00:00</td>\n",
       "      <td>H</td>\n",
       "      <td>2019-10-17</td>\n",
       "      <td>C</td>\n",
       "      <td>None</td>\n",
       "      <td>REP</td>\n",
       "      <td>H0TX22260</td>\n",
       "      <td>REPUBLICAN PARTY</td>\n",
       "    </tr>\n",
       "    <tr>\n",
       "      <th>4</th>\n",
       "      <td>House</td>\n",
       "      <td>1978</td>\n",
       "      <td>1978-07-05</td>\n",
       "      <td>H6PA16106</td>\n",
       "      <td>16</td>\n",
       "      <td>AAMODT, NORMAN O.</td>\n",
       "      <td>PA</td>\n",
       "      <td>[1976, 1978]</td>\n",
       "      <td>None</td>\n",
       "      <td>False</td>\n",
       "      <td>...</td>\n",
       "      <td>[1976, 1978, 1980]</td>\n",
       "      <td>None</td>\n",
       "      <td>2002-03-30T00:00:00+00:00</td>\n",
       "      <td>H</td>\n",
       "      <td>1976-04-12</td>\n",
       "      <td>P</td>\n",
       "      <td>None</td>\n",
       "      <td>REP</td>\n",
       "      <td>H6PA16106</td>\n",
       "      <td>REPUBLICAN PARTY</td>\n",
       "    </tr>\n",
       "    <tr>\n",
       "      <th>5</th>\n",
       "      <td>House</td>\n",
       "      <td>2012</td>\n",
       "      <td>2012-02-22</td>\n",
       "      <td>H2CA01110</td>\n",
       "      <td>1</td>\n",
       "      <td>AANESTAD, SAMUEL</td>\n",
       "      <td>CA</td>\n",
       "      <td>[2012]</td>\n",
       "      <td>C</td>\n",
       "      <td>False</td>\n",
       "      <td>...</td>\n",
       "      <td>[2012, 2014, 2016]</td>\n",
       "      <td>Challenger</td>\n",
       "      <td>2013-04-26T09:04:30+00:00</td>\n",
       "      <td>H</td>\n",
       "      <td>2012-02-22</td>\n",
       "      <td>P</td>\n",
       "      <td>None</td>\n",
       "      <td>REP</td>\n",
       "      <td>H2CA01110</td>\n",
       "      <td>REPUBLICAN PARTY</td>\n",
       "    </tr>\n",
       "    <tr>\n",
       "      <th>6</th>\n",
       "      <td>House</td>\n",
       "      <td>2018</td>\n",
       "      <td>2017-04-26</td>\n",
       "      <td>H8CO06237</td>\n",
       "      <td>6</td>\n",
       "      <td>AARESTAD, DAVID</td>\n",
       "      <td>CO</td>\n",
       "      <td>[2018]</td>\n",
       "      <td>C</td>\n",
       "      <td>False</td>\n",
       "      <td>...</td>\n",
       "      <td>[2018]</td>\n",
       "      <td>Challenger</td>\n",
       "      <td>2017-08-01T20:57:28+00:00</td>\n",
       "      <td>H</td>\n",
       "      <td>2017-04-26</td>\n",
       "      <td>C</td>\n",
       "      <td>None</td>\n",
       "      <td>DEM</td>\n",
       "      <td>H8CO06237</td>\n",
       "      <td>DEMOCRATIC PARTY</td>\n",
       "    </tr>\n",
       "    <tr>\n",
       "      <th>7</th>\n",
       "      <td>President</td>\n",
       "      <td>2008</td>\n",
       "      <td>2007-03-13</td>\n",
       "      <td>P80002926</td>\n",
       "      <td>0</td>\n",
       "      <td>AARON, LAURA DAVIS</td>\n",
       "      <td>US</td>\n",
       "      <td>[2008]</td>\n",
       "      <td>O</td>\n",
       "      <td>False</td>\n",
       "      <td>...</td>\n",
       "      <td>[2006, 2008, 2010, 2012, 2014, 2016]</td>\n",
       "      <td>Open seat</td>\n",
       "      <td>2016-11-17T06:10:48+00:00</td>\n",
       "      <td>P</td>\n",
       "      <td>2005-10-12</td>\n",
       "      <td>N</td>\n",
       "      <td>None</td>\n",
       "      <td>DEM</td>\n",
       "      <td>P80002926</td>\n",
       "      <td>DEMOCRATIC PARTY</td>\n",
       "    </tr>\n",
       "    <tr>\n",
       "      <th>8</th>\n",
       "      <td>House</td>\n",
       "      <td>2022</td>\n",
       "      <td>2022-01-24</td>\n",
       "      <td>H2CA30291</td>\n",
       "      <td>32</td>\n",
       "      <td>AAZAMI, SHERVIN</td>\n",
       "      <td>CA</td>\n",
       "      <td>[2022]</td>\n",
       "      <td>C</td>\n",
       "      <td>False</td>\n",
       "      <td>...</td>\n",
       "      <td>[2022]</td>\n",
       "      <td>Challenger</td>\n",
       "      <td>2022-01-25T20:59:17+00:00</td>\n",
       "      <td>H</td>\n",
       "      <td>2021-01-16</td>\n",
       "      <td>C</td>\n",
       "      <td>None</td>\n",
       "      <td>DEM</td>\n",
       "      <td>H2CA30291</td>\n",
       "      <td>DEMOCRATIC PARTY</td>\n",
       "    </tr>\n",
       "    <tr>\n",
       "      <th>9</th>\n",
       "      <td>House</td>\n",
       "      <td>2000</td>\n",
       "      <td>2000-02-02</td>\n",
       "      <td>H0MA01024</td>\n",
       "      <td>1</td>\n",
       "      <td>ABAIR, PETER JON</td>\n",
       "      <td>MA</td>\n",
       "      <td>[2000]</td>\n",
       "      <td>C</td>\n",
       "      <td>False</td>\n",
       "      <td>...</td>\n",
       "      <td>[2000, 2002, 2004]</td>\n",
       "      <td>Challenger</td>\n",
       "      <td>2002-04-12T00:00:00+00:00</td>\n",
       "      <td>H</td>\n",
       "      <td>2000-02-02</td>\n",
       "      <td>P</td>\n",
       "      <td>None</td>\n",
       "      <td>REP</td>\n",
       "      <td>H0MA01024</td>\n",
       "      <td>REPUBLICAN PARTY</td>\n",
       "    </tr>\n",
       "    <tr>\n",
       "      <th>10</th>\n",
       "      <td>House</td>\n",
       "      <td>2008</td>\n",
       "      <td>2007-06-05</td>\n",
       "      <td>H6NJ05155</td>\n",
       "      <td>5</td>\n",
       "      <td>ABATE, CAMILLE M</td>\n",
       "      <td>NJ</td>\n",
       "      <td>[2006, 2008]</td>\n",
       "      <td>C</td>\n",
       "      <td>False</td>\n",
       "      <td>...</td>\n",
       "      <td>[2006, 2008]</td>\n",
       "      <td>Challenger</td>\n",
       "      <td>2009-04-29T00:00:00+00:00</td>\n",
       "      <td>H</td>\n",
       "      <td>2006-03-28</td>\n",
       "      <td>C</td>\n",
       "      <td>None</td>\n",
       "      <td>DEM</td>\n",
       "      <td>H6NJ05155</td>\n",
       "      <td>DEMOCRATIC PARTY</td>\n",
       "    </tr>\n",
       "    <tr>\n",
       "      <th>11</th>\n",
       "      <td>House</td>\n",
       "      <td>1992</td>\n",
       "      <td>1992-04-15</td>\n",
       "      <td>H2NJ12036</td>\n",
       "      <td>12</td>\n",
       "      <td>ABATE, FRANK G</td>\n",
       "      <td>NJ</td>\n",
       "      <td>[1992]</td>\n",
       "      <td>C</td>\n",
       "      <td>False</td>\n",
       "      <td>...</td>\n",
       "      <td>[1992, 1994, 1996, 1998]</td>\n",
       "      <td>Challenger</td>\n",
       "      <td>2002-04-03T00:00:00+00:00</td>\n",
       "      <td>H</td>\n",
       "      <td>1992-04-15</td>\n",
       "      <td>P</td>\n",
       "      <td>None</td>\n",
       "      <td>DEM</td>\n",
       "      <td>H2NJ12036</td>\n",
       "      <td>DEMOCRATIC PARTY</td>\n",
       "    </tr>\n",
       "    <tr>\n",
       "      <th>12</th>\n",
       "      <td>House</td>\n",
       "      <td>1990</td>\n",
       "      <td>1990-05-01</td>\n",
       "      <td>H0IA03071</td>\n",
       "      <td>3</td>\n",
       "      <td>ABBAS, JEFFREY LYN</td>\n",
       "      <td>IA</td>\n",
       "      <td>[1990]</td>\n",
       "      <td>C</td>\n",
       "      <td>False</td>\n",
       "      <td>...</td>\n",
       "      <td>[1990]</td>\n",
       "      <td>Challenger</td>\n",
       "      <td>2002-03-30T00:00:00+00:00</td>\n",
       "      <td>H</td>\n",
       "      <td>1990-05-01</td>\n",
       "      <td>C</td>\n",
       "      <td>None</td>\n",
       "      <td>REP</td>\n",
       "      <td>H0IA03071</td>\n",
       "      <td>REPUBLICAN PARTY</td>\n",
       "    </tr>\n",
       "    <tr>\n",
       "      <th>13</th>\n",
       "      <td>House</td>\n",
       "      <td>1994</td>\n",
       "      <td>1994-01-14</td>\n",
       "      <td>H4TX15043</td>\n",
       "      <td>15</td>\n",
       "      <td>ABBOTT, BONNIE</td>\n",
       "      <td>TX</td>\n",
       "      <td>[1994]</td>\n",
       "      <td>C</td>\n",
       "      <td>False</td>\n",
       "      <td>...</td>\n",
       "      <td>[1994]</td>\n",
       "      <td>Challenger</td>\n",
       "      <td>2002-03-30T00:00:00+00:00</td>\n",
       "      <td>H</td>\n",
       "      <td>1994-01-14</td>\n",
       "      <td>C</td>\n",
       "      <td>None</td>\n",
       "      <td>REP</td>\n",
       "      <td>H4TX15043</td>\n",
       "      <td>REPUBLICAN PARTY</td>\n",
       "    </tr>\n",
       "    <tr>\n",
       "      <th>14</th>\n",
       "      <td>House</td>\n",
       "      <td>1996</td>\n",
       "      <td>1995-10-02</td>\n",
       "      <td>H6SD00077</td>\n",
       "      <td>1</td>\n",
       "      <td>ABBOTT, JAMES W</td>\n",
       "      <td>SD</td>\n",
       "      <td>[1996]</td>\n",
       "      <td>C</td>\n",
       "      <td>False</td>\n",
       "      <td>...</td>\n",
       "      <td>[1996, 1998]</td>\n",
       "      <td>Challenger</td>\n",
       "      <td>2002-04-03T00:00:00+00:00</td>\n",
       "      <td>H</td>\n",
       "      <td>1995-10-02</td>\n",
       "      <td>P</td>\n",
       "      <td>None</td>\n",
       "      <td>DEM</td>\n",
       "      <td>H6SD00077</td>\n",
       "      <td>DEMOCRATIC PARTY</td>\n",
       "    </tr>\n",
       "    <tr>\n",
       "      <th>15</th>\n",
       "      <td>President</td>\n",
       "      <td>1992</td>\n",
       "      <td>1992-06-16</td>\n",
       "      <td>P80002579</td>\n",
       "      <td>0</td>\n",
       "      <td>ABBOTT, JOHN HANCOCK</td>\n",
       "      <td>US</td>\n",
       "      <td>[1988, 1992]</td>\n",
       "      <td>C</td>\n",
       "      <td>True</td>\n",
       "      <td>...</td>\n",
       "      <td>[1988, 1990, 1992, 1994, 1996, 1998]</td>\n",
       "      <td>Challenger</td>\n",
       "      <td>2002-04-03T00:00:00+00:00</td>\n",
       "      <td>P</td>\n",
       "      <td>1988-08-29</td>\n",
       "      <td>P</td>\n",
       "      <td>None</td>\n",
       "      <td>DEM</td>\n",
       "      <td>P80002579</td>\n",
       "      <td>DEMOCRATIC PARTY</td>\n",
       "    </tr>\n",
       "    <tr>\n",
       "      <th>16</th>\n",
       "      <td>Senate</td>\n",
       "      <td>1988</td>\n",
       "      <td>1988-08-29</td>\n",
       "      <td>S6CA00345</td>\n",
       "      <td>0</td>\n",
       "      <td>ABBOTT, JOHN HANCOCK</td>\n",
       "      <td>CA</td>\n",
       "      <td>[1986, 1988]</td>\n",
       "      <td>C</td>\n",
       "      <td>False</td>\n",
       "      <td>...</td>\n",
       "      <td>[1986, 1988]</td>\n",
       "      <td>Challenger</td>\n",
       "      <td>2005-05-26T00:00:00+00:00</td>\n",
       "      <td>S</td>\n",
       "      <td>1988-05-16</td>\n",
       "      <td>N</td>\n",
       "      <td>None</td>\n",
       "      <td>DEM</td>\n",
       "      <td>S6CA00345</td>\n",
       "      <td>DEMOCRATIC PARTY</td>\n",
       "    </tr>\n",
       "    <tr>\n",
       "      <th>17</th>\n",
       "      <td>House</td>\n",
       "      <td>2004</td>\n",
       "      <td>2002-03-12</td>\n",
       "      <td>H2TX18082</td>\n",
       "      <td>18</td>\n",
       "      <td>ABBOTT, PHILLIP J.</td>\n",
       "      <td>TX</td>\n",
       "      <td>[2002, 2004]</td>\n",
       "      <td>C</td>\n",
       "      <td>False</td>\n",
       "      <td>...</td>\n",
       "      <td>[2002, 2004]</td>\n",
       "      <td>Challenger</td>\n",
       "      <td>2005-03-02T00:00:00+00:00</td>\n",
       "      <td>H</td>\n",
       "      <td>2002-03-12</td>\n",
       "      <td>P</td>\n",
       "      <td>None</td>\n",
       "      <td>REP</td>\n",
       "      <td>H2TX18082</td>\n",
       "      <td>REPUBLICAN PARTY</td>\n",
       "    </tr>\n",
       "    <tr>\n",
       "      <th>18</th>\n",
       "      <td>House</td>\n",
       "      <td>2000</td>\n",
       "      <td>2000-05-25</td>\n",
       "      <td>H4KY03095</td>\n",
       "      <td>3</td>\n",
       "      <td>ABBOTT, RAYMOND H</td>\n",
       "      <td>KY</td>\n",
       "      <td>[1994, 1996, 2000]</td>\n",
       "      <td>C</td>\n",
       "      <td>False</td>\n",
       "      <td>...</td>\n",
       "      <td>[1994, 1996, 2000]</td>\n",
       "      <td>Challenger</td>\n",
       "      <td>2002-04-07T00:00:00+00:00</td>\n",
       "      <td>H</td>\n",
       "      <td>1994-05-11</td>\n",
       "      <td>P</td>\n",
       "      <td>None</td>\n",
       "      <td>DEM</td>\n",
       "      <td>H4KY03095</td>\n",
       "      <td>DEMOCRATIC PARTY</td>\n",
       "    </tr>\n",
       "    <tr>\n",
       "      <th>19</th>\n",
       "      <td>House</td>\n",
       "      <td>2004</td>\n",
       "      <td>2004-01-22</td>\n",
       "      <td>H2IN04101</td>\n",
       "      <td>4</td>\n",
       "      <td>ABBOTT, WILLIAM ANTHONY</td>\n",
       "      <td>IN</td>\n",
       "      <td>[2002, 2004]</td>\n",
       "      <td>C</td>\n",
       "      <td>False</td>\n",
       "      <td>...</td>\n",
       "      <td>[2002, 2004, 2006, 2008]</td>\n",
       "      <td>Challenger</td>\n",
       "      <td>2004-01-29T00:00:00+00:00</td>\n",
       "      <td>H</td>\n",
       "      <td>2002-06-05</td>\n",
       "      <td>P</td>\n",
       "      <td>None</td>\n",
       "      <td>DEM</td>\n",
       "      <td>H2IN04101</td>\n",
       "      <td>DEMOCRATIC PARTY</td>\n",
       "    </tr>\n",
       "  </tbody>\n",
       "</table>\n",
       "<p>20 rows × 25 columns</p>\n",
       "</div>"
      ],
      "text/plain": [
       "   office_full  active_through last_file_date      flags  district_number  \\\n",
       "0        House            2022     2021-12-27  H2CO07170                7   \n",
       "1        House            2022     2022-03-21  H2UT03280                3   \n",
       "2       Senate            2018     2018-04-23  S2UT00229                0   \n",
       "3        House            2020     2019-10-17  H0TX22260               22   \n",
       "4        House            1978     1978-07-05  H6PA16106               16   \n",
       "5        House            2012     2012-02-22  H2CA01110                1   \n",
       "6        House            2018     2017-04-26  H8CO06237                6   \n",
       "7    President            2008     2007-03-13  P80002926                0   \n",
       "8        House            2022     2022-01-24  H2CA30291               32   \n",
       "9        House            2000     2000-02-02  H0MA01024                1   \n",
       "10       House            2008     2007-06-05  H6NJ05155                5   \n",
       "11       House            1992     1992-04-15  H2NJ12036               12   \n",
       "12       House            1990     1990-05-01  H0IA03071                3   \n",
       "13       House            1994     1994-01-14  H4TX15043               15   \n",
       "14       House            1996     1995-10-02  H6SD00077                1   \n",
       "15   President            1992     1992-06-16  P80002579                0   \n",
       "16      Senate            1988     1988-08-29  S6CA00345                0   \n",
       "17       House            2004     2002-03-12  H2TX18082               18   \n",
       "18       House            2000     2000-05-25  H4KY03095                3   \n",
       "19       House            2004     2004-01-22  H2IN04101                4   \n",
       "\n",
       "                       name state      election_years incumbent_challenge  \\\n",
       "0             AADLAND, ERIK    CO              [2022]                   O   \n",
       "1              AALDERS, TIM    UT              [2022]                   C   \n",
       "2     AALDERS, TIMOTHY NOEL    UT        [2012, 2018]                   O   \n",
       "3     AALOORI, BANGAR REDDY    TX              [2020]                   O   \n",
       "4         AAMODT, NORMAN O.    PA        [1976, 1978]                None   \n",
       "5          AANESTAD, SAMUEL    CA              [2012]                   C   \n",
       "6           AARESTAD, DAVID    CO              [2018]                   C   \n",
       "7        AARON, LAURA DAVIS    US              [2008]                   O   \n",
       "8           AAZAMI, SHERVIN    CA              [2022]                   C   \n",
       "9          ABAIR, PETER JON    MA              [2000]                   C   \n",
       "10         ABATE, CAMILLE M    NJ        [2006, 2008]                   C   \n",
       "11           ABATE, FRANK G    NJ              [1992]                   C   \n",
       "12       ABBAS, JEFFREY LYN    IA              [1990]                   C   \n",
       "13           ABBOTT, BONNIE    TX              [1994]                   C   \n",
       "14          ABBOTT, JAMES W    SD              [1996]                   C   \n",
       "15     ABBOTT, JOHN HANCOCK    US        [1988, 1992]                   C   \n",
       "16     ABBOTT, JOHN HANCOCK    CA        [1986, 1988]                   C   \n",
       "17       ABBOTT, PHILLIP J.    TX        [2002, 2004]                   C   \n",
       "18        ABBOTT, RAYMOND H    KY  [1994, 1996, 2000]                   C   \n",
       "19  ABBOTT, WILLIAM ANTHONY    IN        [2002, 2004]                   C   \n",
       "\n",
       "    federal_funds_flag  ...                                cycles  \\\n",
       "0                False  ...                                [2022]   \n",
       "1                False  ...                                [2022]   \n",
       "2                False  ...        [2012, 2014, 2016, 2018, 2020]   \n",
       "3                False  ...                                [2020]   \n",
       "4                False  ...                    [1976, 1978, 1980]   \n",
       "5                False  ...                    [2012, 2014, 2016]   \n",
       "6                False  ...                                [2018]   \n",
       "7                False  ...  [2006, 2008, 2010, 2012, 2014, 2016]   \n",
       "8                False  ...                                [2022]   \n",
       "9                False  ...                    [2000, 2002, 2004]   \n",
       "10               False  ...                          [2006, 2008]   \n",
       "11               False  ...              [1992, 1994, 1996, 1998]   \n",
       "12               False  ...                                [1990]   \n",
       "13               False  ...                                [1994]   \n",
       "14               False  ...                          [1996, 1998]   \n",
       "15                True  ...  [1988, 1990, 1992, 1994, 1996, 1998]   \n",
       "16               False  ...                          [1986, 1988]   \n",
       "17               False  ...                          [2002, 2004]   \n",
       "18               False  ...                    [1994, 1996, 2000]   \n",
       "19               False  ...              [2002, 2004, 2006, 2008]   \n",
       "\n",
       "    incumbent_challenge_full                  load_date office  \\\n",
       "0                  Open seat  2022-01-13T01:40:22+00:00      H   \n",
       "1                 Challenger  2022-04-13T21:10:09+00:00      H   \n",
       "2                  Open seat  2019-03-27T16:02:41+00:00      S   \n",
       "3                  Open seat  2020-03-18T21:13:37+00:00      H   \n",
       "4                       None  2002-03-30T00:00:00+00:00      H   \n",
       "5                 Challenger  2013-04-26T09:04:30+00:00      H   \n",
       "6                 Challenger  2017-08-01T20:57:28+00:00      H   \n",
       "7                  Open seat  2016-11-17T06:10:48+00:00      P   \n",
       "8                 Challenger  2022-01-25T20:59:17+00:00      H   \n",
       "9                 Challenger  2002-04-12T00:00:00+00:00      H   \n",
       "10                Challenger  2009-04-29T00:00:00+00:00      H   \n",
       "11                Challenger  2002-04-03T00:00:00+00:00      H   \n",
       "12                Challenger  2002-03-30T00:00:00+00:00      H   \n",
       "13                Challenger  2002-03-30T00:00:00+00:00      H   \n",
       "14                Challenger  2002-04-03T00:00:00+00:00      H   \n",
       "15                Challenger  2002-04-03T00:00:00+00:00      P   \n",
       "16                Challenger  2005-05-26T00:00:00+00:00      S   \n",
       "17                Challenger  2005-03-02T00:00:00+00:00      H   \n",
       "18                Challenger  2002-04-07T00:00:00+00:00      H   \n",
       "19                Challenger  2004-01-29T00:00:00+00:00      H   \n",
       "\n",
       "   first_file_date candidate_status inactive_election_years party  \\\n",
       "0       2021-12-27                N                    None   REP   \n",
       "1       2020-03-24                C                    None   REP   \n",
       "2       2012-02-08                P                    None   CON   \n",
       "3       2019-10-17                C                    None   REP   \n",
       "4       1976-04-12                P                    None   REP   \n",
       "5       2012-02-22                P                    None   REP   \n",
       "6       2017-04-26                C                    None   DEM   \n",
       "7       2005-10-12                N                    None   DEM   \n",
       "8       2021-01-16                C                    None   DEM   \n",
       "9       2000-02-02                P                    None   REP   \n",
       "10      2006-03-28                C                    None   DEM   \n",
       "11      1992-04-15                P                    None   DEM   \n",
       "12      1990-05-01                C                    None   REP   \n",
       "13      1994-01-14                C                    None   REP   \n",
       "14      1995-10-02                P                    None   DEM   \n",
       "15      1988-08-29                P                    None   DEM   \n",
       "16      1988-05-16                N                    None   DEM   \n",
       "17      2002-03-12                P                    None   REP   \n",
       "18      1994-05-11                P                    None   DEM   \n",
       "19      2002-06-05                P                    None   DEM   \n",
       "\n",
       "   candidate_id          party_full  \n",
       "0     H2CO07170    REPUBLICAN PARTY  \n",
       "1     H2UT03280    REPUBLICAN PARTY  \n",
       "2     S2UT00229  CONSTITUTION PARTY  \n",
       "3     H0TX22260    REPUBLICAN PARTY  \n",
       "4     H6PA16106    REPUBLICAN PARTY  \n",
       "5     H2CA01110    REPUBLICAN PARTY  \n",
       "6     H8CO06237    DEMOCRATIC PARTY  \n",
       "7     P80002926    DEMOCRATIC PARTY  \n",
       "8     H2CA30291    DEMOCRATIC PARTY  \n",
       "9     H0MA01024    REPUBLICAN PARTY  \n",
       "10    H6NJ05155    DEMOCRATIC PARTY  \n",
       "11    H2NJ12036    DEMOCRATIC PARTY  \n",
       "12    H0IA03071    REPUBLICAN PARTY  \n",
       "13    H4TX15043    REPUBLICAN PARTY  \n",
       "14    H6SD00077    DEMOCRATIC PARTY  \n",
       "15    P80002579    DEMOCRATIC PARTY  \n",
       "16    S6CA00345    DEMOCRATIC PARTY  \n",
       "17    H2TX18082    REPUBLICAN PARTY  \n",
       "18    H4KY03095    DEMOCRATIC PARTY  \n",
       "19    H2IN04101    DEMOCRATIC PARTY  \n",
       "\n",
       "[20 rows x 25 columns]"
      ]
     },
     "execution_count": 4,
     "metadata": {},
     "output_type": "execute_result"
    }
   ],
   "source": [
    "params = {\n",
    "    'api_key': 'DEMO_KEY',\n",
    "    'has_raised_funds': 'true'\n",
    "}\n",
    "response = requests.get('https://api.open.fec.gov/v1/candidates/', params=params)\n",
    "data = response.json()\n",
    "\n",
    "pd.DataFrame(data['results'])"
   ]
  },
  {
   "cell_type": "markdown",
   "metadata": {
    "slideshow": {
     "slide_type": "slide"
    }
   },
   "source": [
    "## Back to 311 data\n",
    "\n",
    "From [NYC Open Data Portal dataset page](https://data.cityofnewyork.us/Social-Services/311-Service-Requests-from-2010-to-Present/erm2-nwe9/data), click `Export` -> `SODA API` -> `API Docs`."
   ]
  },
  {
   "cell_type": "markdown",
   "metadata": {
    "slideshow": {
     "slide_type": "subslide"
    }
   },
   "source": [
    "### Most open data sites have APIs\n",
    "\n",
    "Often built on platforms that provide them, e.g.\n",
    "\n",
    "- [NYC Open Data Portal](https://opendata.cityofnewyork.us/) built on [Socrata](https://dev.socrata.com/)\n",
    "- [data.gov built on CKAN](https://www.data.gov/developers/apis)"
   ]
  },
  {
   "cell_type": "markdown",
   "metadata": {
    "slideshow": {
     "slide_type": "subslide"
    }
   },
   "source": [
    "### Example: 311 requests from the last week"
   ]
  },
  {
   "cell_type": "code",
   "execution_count": 5,
   "metadata": {
    "execution": {
     "iopub.execute_input": "2022-05-15T02:50:31.124245Z",
     "iopub.status.busy": "2022-05-15T02:50:31.123698Z",
     "iopub.status.idle": "2022-05-15T02:50:31.128888Z",
     "shell.execute_reply": "2022-05-15T02:50:31.128288Z"
    },
    "slideshow": {
     "slide_type": "subslide"
    }
   },
   "outputs": [
    {
     "data": {
      "text/plain": [
       "datetime.datetime(2022, 5, 15, 2, 50, 31, 125499)"
      ]
     },
     "execution_count": 5,
     "metadata": {},
     "output_type": "execute_result"
    }
   ],
   "source": [
    "from datetime import datetime, timedelta\n",
    "\n",
    "now = datetime.utcnow()\n",
    "now"
   ]
  },
  {
   "cell_type": "code",
   "execution_count": 6,
   "metadata": {
    "execution": {
     "iopub.execute_input": "2022-05-15T02:50:31.131337Z",
     "iopub.status.busy": "2022-05-15T02:50:31.131099Z",
     "iopub.status.idle": "2022-05-15T02:50:31.134821Z",
     "shell.execute_reply": "2022-05-15T02:50:31.134326Z"
    },
    "slideshow": {
     "slide_type": "fragment"
    }
   },
   "outputs": [
    {
     "data": {
      "text/plain": [
       "datetime.datetime(2022, 5, 8, 2, 50, 31, 125499)"
      ]
     },
     "execution_count": 6,
     "metadata": {},
     "output_type": "execute_result"
    }
   ],
   "source": [
    "start = now - timedelta(weeks=1)\n",
    "start"
   ]
  },
  {
   "cell_type": "code",
   "execution_count": 7,
   "metadata": {
    "execution": {
     "iopub.execute_input": "2022-05-15T02:50:31.137468Z",
     "iopub.status.busy": "2022-05-15T02:50:31.137178Z",
     "iopub.status.idle": "2022-05-15T02:50:31.141053Z",
     "shell.execute_reply": "2022-05-15T02:50:31.140475Z"
    },
    "slideshow": {
     "slide_type": "fragment"
    }
   },
   "outputs": [
    {
     "data": {
      "text/plain": [
       "'2022-05-08T02:50:31.125499'"
      ]
     },
     "execution_count": 7,
     "metadata": {},
     "output_type": "execute_result"
    }
   ],
   "source": [
    "start.isoformat()"
   ]
  },
  {
   "cell_type": "markdown",
   "metadata": {
    "slideshow": {
     "slide_type": "subslide"
    }
   },
   "source": [
    "Using the [Socrata query language (SoQL)](https://dev.socrata.com/docs/queries/):"
   ]
  },
  {
   "cell_type": "code",
   "execution_count": 8,
   "metadata": {
    "execution": {
     "iopub.execute_input": "2022-05-15T02:50:31.143821Z",
     "iopub.status.busy": "2022-05-15T02:50:31.143593Z",
     "iopub.status.idle": "2022-05-15T02:50:31.412007Z",
     "shell.execute_reply": "2022-05-15T02:50:31.411108Z"
    },
    "slideshow": {
     "slide_type": "-"
    }
   },
   "outputs": [
    {
     "data": {
      "text/plain": [
       "[]"
      ]
     },
     "execution_count": 8,
     "metadata": {},
     "output_type": "execute_result"
    }
   ],
   "source": [
    "data_id = 'erm2-nwe9'\n",
    "params = {\n",
    "    '$where': f\"created_date between '{start.isoformat()}' and '{now.isoformat()}'\"\n",
    "}\n",
    "\n",
    "url = f'https://data.cityofnewyork.us/resource/{data_id}.json'\n",
    "response = requests.get(url, params=params)\n",
    "data = response.json()\n",
    "\n",
    "data"
   ]
  },
  {
   "cell_type": "code",
   "execution_count": 9,
   "metadata": {
    "execution": {
     "iopub.execute_input": "2022-05-15T02:50:31.415514Z",
     "iopub.status.busy": "2022-05-15T02:50:31.415197Z",
     "iopub.status.idle": "2022-05-15T02:50:31.421347Z",
     "shell.execute_reply": "2022-05-15T02:50:31.420748Z"
    },
    "scrolled": false,
    "slideshow": {
     "slide_type": "subslide"
    }
   },
   "outputs": [
    {
     "data": {
      "text/html": [
       "<div>\n",
       "<style scoped>\n",
       "    .dataframe tbody tr th:only-of-type {\n",
       "        vertical-align: middle;\n",
       "    }\n",
       "\n",
       "    .dataframe tbody tr th {\n",
       "        vertical-align: top;\n",
       "    }\n",
       "\n",
       "    .dataframe thead th {\n",
       "        text-align: right;\n",
       "    }\n",
       "</style>\n",
       "<table border=\"1\" class=\"dataframe\">\n",
       "  <thead>\n",
       "    <tr style=\"text-align: right;\">\n",
       "      <th></th>\n",
       "    </tr>\n",
       "  </thead>\n",
       "  <tbody>\n",
       "  </tbody>\n",
       "</table>\n",
       "</div>"
      ],
      "text/plain": [
       "Empty DataFrame\n",
       "Columns: []\n",
       "Index: []"
      ]
     },
     "execution_count": 9,
     "metadata": {},
     "output_type": "execute_result"
    }
   ],
   "source": [
    "pd.DataFrame(data)"
   ]
  },
  {
   "cell_type": "markdown",
   "metadata": {
    "slideshow": {
     "slide_type": "fragment"
    }
   },
   "source": [
    "Coincidence there were exactly 1,000 results?"
   ]
  },
  {
   "cell_type": "markdown",
   "metadata": {
    "slideshow": {
     "slide_type": "subslide"
    }
   },
   "source": [
    "### Pagination\n",
    "\n",
    "- Most APIs limit the number of results returned.\n",
    "- [Socrata defaults to 1,000.](https://dev.socrata.com/docs/queries/limit.html)\n",
    "- Need to use a loop with parameters like [`$limit`](https://dev.socrata.com/docs/queries/limit.html)+[`$offset`](https://dev.socrata.com/docs/queries/offset.html) (Socrata) or `page`+`per_page` ([FEC](https://api.open.fec.gov/developers/))\n",
    "   - [`append()`](https://pandas.pydata.org/pandas-docs/stable/reference/api/pandas.DataFrame.append.html) to DataFrame"
   ]
  },
  {
   "cell_type": "markdown",
   "metadata": {
    "slideshow": {
     "slide_type": "slide"
    }
   },
   "source": [
    "## Things are going to differ by API\n",
    "\n",
    "- Endpoints\n",
    "- Supported parameters\n",
    "- Response structure\n",
    "   - [`json_normalize()`](https://pandas.pydata.org/pandas-docs/stable/reference/api/pandas.json_normalize.html) can help\n",
    "- Quality of documentation\n",
    "- Helpfulness of errors\n",
    "- Size/helpfulness of community\n",
    "\n",
    "Gotta read and experiment."
   ]
  },
  {
   "cell_type": "markdown",
   "metadata": {
    "slideshow": {
     "slide_type": "slide"
    }
   },
   "source": [
    "## Homework 6"
   ]
  },
  {
   "cell_type": "markdown",
   "metadata": {
    "slideshow": {
     "slide_type": "subslide"
    }
   },
   "source": [
    "In real/ideal world, start with specific question and find data to answer it:"
   ]
  },
  {
   "cell_type": "markdown",
   "metadata": {
    "slideshow": {
     "slide_type": "-"
    }
   },
   "source": [
    "![project flow](extras/img/projectflow.png)\n",
    "\n",
    "_Source: [Big Data and Social Science](https://textbook.coleridgeinitiative.org/chap-intro.html#the-structure-of-the-book)_"
   ]
  },
  {
   "cell_type": "markdown",
   "metadata": {
    "slideshow": {
     "slide_type": "subslide"
    }
   },
   "source": [
    "Data needed often doesn't exist or is hard (or impossible) to find/access"
   ]
  },
  {
   "cell_type": "markdown",
   "metadata": {
    "slideshow": {
     "slide_type": "subslide"
    }
   },
   "source": [
    "![project flow](extras/img/projectflow_amended.png)"
   ]
  },
  {
   "cell_type": "markdown",
   "metadata": {
    "slideshow": {
     "slide_type": "subslide"
    }
   },
   "source": [
    "[Homework 6](https://padmgp-4506-spring.rcnyu.org/user-redirect/notebooks/class_materials/hw_6.ipynb)"
   ]
  },
  {
   "cell_type": "markdown",
   "metadata": {
    "slideshow": {
     "slide_type": "slide"
    }
   },
   "source": [
    "## No homework/resubmissions will be accepted after Sunday 5/15 at 6:45pm ET\n",
    "\n",
    "In other words, homework 6 cannot be late."
   ]
  },
  {
   "cell_type": "markdown",
   "metadata": {
    "slideshow": {
     "slide_type": "slide"
    }
   },
   "source": [
    "## Lecture 6"
   ]
  }
 ],
 "metadata": {
  "celltoolbar": "Slideshow",
  "kernelspec": {
   "display_name": "Python [conda env:python-public-policy] *",
   "language": "python",
   "name": "conda-env-python-public-policy-py"
  },
  "language_info": {
   "codemirror_mode": {
    "name": "ipython",
    "version": 3
   },
   "file_extension": ".py",
   "mimetype": "text/x-python",
   "name": "python",
   "nbconvert_exporter": "python",
   "pygments_lexer": "ipython3",
   "version": "3.10.4"
  },
  "rise": {
   "scroll": true
  }
 },
 "nbformat": 4,
 "nbformat_minor": 4
}
