{
 "cells": [
  {
   "cell_type": "markdown",
   "metadata": {},
   "source": [
    "# Class 2 in-class exercise\n",
    "\n",
    "1. Find a dataset that seems interesting on the [NYC Open Data Portal](https://opendata.cityofnewyork.us/).\n",
    "    - Find something in a tabular format rather than a map, etc.\n",
    "    - Don't spend long on this.\n",
    "1. Use [this widget](https://python-public-policy.afeld.me/en/{{school_slug}}/shorten.html) to download a subset of the data, keeping the file size small.\n",
    "1. [Upload the file](https://python-public-policy.afeld.me/en/{{school_slug}}/assignments.html#storing-data)\n",
    "1. Display the data\n",
    "1. Do a bit of filtering or simple analysis"
   ]
  },
  {
   "cell_type": "code",
   "execution_count": 1,
   "metadata": {
    "execution": {
     "iopub.execute_input": "2024-03-17T06:08:39.773878Z",
     "iopub.status.busy": "2024-03-17T06:08:39.773105Z",
     "iopub.status.idle": "2024-03-17T06:08:39.781330Z",
     "shell.execute_reply": "2024-03-17T06:08:39.780709Z"
    },
    "tags": [
     "solution"
    ]
   },
   "outputs": [],
   "source": [
    "# your code here"
   ]
  }
 ],
 "metadata": {
  "file_extension": ".py",
  "kernelspec": {
   "display_name": "Python [conda env:python-public-policy] *",
   "language": "python",
   "name": "conda-env-python-public-policy-py"
  },
  "language_info": {
   "codemirror_mode": {
    "name": "ipython",
    "version": 3
   },
   "file_extension": ".py",
   "mimetype": "text/x-python",
   "name": "python",
   "nbconvert_exporter": "python",
   "pygments_lexer": "ipython3",
   "version": "3.10.12"
  },
  "mimetype": "text/x-python",
  "name": "python",
  "npconvert_exporter": "python",
  "pygments_lexer": "ipython3",
  "toc": {
   "base_numbering": 1,
   "nav_menu": {},
   "number_sections": true,
   "sideBar": true,
   "skip_h1_title": false,
   "title_cell": "Table of Contents",
   "title_sidebar": "Contents",
   "toc_cell": false,
   "toc_position": {},
   "toc_section_display": true,
   "toc_window_display": false
  },
  "version": 3
 },
 "nbformat": 4,
 "nbformat_minor": 4
}
