{
 "cells": [
  {
   "cell_type": "markdown",
   "metadata": {
    "id": "view-in-github",
    "slideshow": {
     "slide_type": "skip"
    }
   },
   "source": [
    "# **NYU Wagner - Python Coding for Public Policy**"
   ]
  },
  {
   "cell_type": "markdown",
   "metadata": {
    "id": "Omm4n3FmPHlF",
    "slideshow": {
     "slide_type": "slide"
    }
   },
   "source": [
    "# Class 2: Manipulating/combining DataFrames and writing functions"
   ]
  },
  {
   "cell_type": "markdown",
   "metadata": {
    "id": "F5DsWafyMCfG",
    "slideshow": {
     "slide_type": "skip"
    }
   },
   "source": [
    "# LECTURE"
   ]
  },
  {
   "cell_type": "markdown",
   "metadata": {
    "slideshow": {
     "slide_type": "slide"
    }
   },
   "source": [
    "## Feeling overwhlemed?\n",
    "\n",
    "Reminder that learning to code is like learning a spoken language. It's not obvious, and people will pick it up at different speeds at different spots. Try:\n",
    "\n",
    "- Taking notes in [the lecture notebooks](https://padmgp-4506-spring.rcnyu.org/user-redirect/tree/class_materials/)\n",
    "- Using [another Python/pandas learning resource](https://github.com/afeld/python-public-policy#resources)\n",
    "   - Hear things explained another way\n",
    "- [Comment-driven development](https://www.sitepoint.com/comment-driven-development/)\n",
    "   - Otherwise, trying to do two steps in your head:\n",
    "      1. Figuring out the logic\n",
    "      1. Figuring out the syntax"
   ]
  },
  {
   "cell_type": "markdown",
   "metadata": {
    "slideshow": {
     "slide_type": "slide"
    }
   },
   "source": [
    "## Operator precedence\n",
    "\n",
    "a.k.a. order of operations, like [PEMDAS](https://en.wikipedia.org/wiki/Order_of_operations#Mnemonics) from math"
   ]
  },
  {
   "cell_type": "markdown",
   "metadata": {
    "slideshow": {
     "slide_type": "subslide"
    }
   },
   "source": [
    "```python\n",
    "answer = \"No\"\n",
    "\n",
    "answer == \"Yes\" or \"yes\"\n",
    "```\n",
    "\n",
    "What will this evaluate to?"
   ]
  },
  {
   "cell_type": "markdown",
   "metadata": {
    "slideshow": {
     "slide_type": "subslide"
    }
   },
   "source": [
    "[Evaluation order](https://docs.python.org/3/reference/expressions.html#evaluation-order) and [operator precedence](https://docs.python.org/3/reference/expressions.html#operator-precedence)"
   ]
  },
  {
   "cell_type": "markdown",
   "metadata": {
    "slideshow": {
     "slide_type": "subslide"
    }
   },
   "source": [
    "```python\n",
    "answer = \"No\"\n",
    "\n",
    "\n",
    "result =  answer == \"Yes\"  or \"yes\"\n",
    "#           ↓\n",
    "result =   \"No\"  == \"Yes\"  or \"yes\"\n",
    "```"
   ]
  },
  {
   "cell_type": "markdown",
   "metadata": {
    "slideshow": {
     "slide_type": "fragment"
    }
   },
   "source": [
    "```python\n",
    "#                 ↓\n",
    "result = ( \"No\"  == \"Yes\") or \"yes\"\n",
    "# `==` has higher precedence than `or`\n",
    "```"
   ]
  },
  {
   "cell_type": "markdown",
   "metadata": {
    "slideshow": {
     "slide_type": "fragment"
    }
   },
   "source": [
    "```python\n",
    "#                 ↓\n",
    "result =        False      or \"yes\"\n",
    "```"
   ]
  },
  {
   "cell_type": "markdown",
   "metadata": {
    "slideshow": {
     "slide_type": "fragment"
    }
   },
   "source": [
    "```python\n",
    "#                          ↓\n",
    "result =                 \"yes\"\n",
    "```"
   ]
  },
  {
   "cell_type": "code",
   "execution_count": 1,
   "metadata": {
    "execution": {
     "iopub.execute_input": "2022-04-07T22:14:46.673730Z",
     "iopub.status.busy": "2022-04-07T22:14:46.673140Z",
     "iopub.status.idle": "2022-04-07T22:14:46.686869Z",
     "shell.execute_reply": "2022-04-07T22:14:46.686352Z"
    },
    "slideshow": {
     "slide_type": "subslide"
    }
   },
   "outputs": [
    {
     "data": {
      "text/plain": [
       "'yes'"
      ]
     },
     "execution_count": 1,
     "metadata": {},
     "output_type": "execute_result"
    }
   ],
   "source": [
    "answer = \"No\"\n",
    "\n",
    "result = answer == \"Yes\" or \"yes\"\n",
    "result"
   ]
  },
  {
   "cell_type": "markdown",
   "metadata": {
    "slideshow": {
     "slide_type": "fragment"
    }
   },
   "source": [
    "**Takeaway:** Code is better when readable. Use parentheses so the reader doesn't have to think!"
   ]
  },
  {
   "cell_type": "markdown",
   "metadata": {
    "id": "CRAqTQ2rbXAA",
    "slideshow": {
     "slide_type": "slide"
    }
   },
   "source": [
    "## **Today's goal**: Which Community Districts have the most 311 requests? Why might that be?"
   ]
  },
  {
   "cell_type": "markdown",
   "metadata": {
    "id": "dwr61J8sSzhx",
    "slideshow": {
     "slide_type": "subslide"
    }
   },
   "source": [
    "### What's a Community District?\n",
    "\n",
    "- 59 local governance districts each run by an appointed [Community Board](https://en.wikipedia.org/wiki/Community_boards_of_New_York_City)\n",
    "- Community boards advise on land use and zoning, participate in the city budget process, and address service delivery in their district.\n",
    "- Community boards are each composed of up to 50 volunteer members appointed by the local borough president, half from nominations by the local City Council members."
   ]
  },
  {
   "cell_type": "markdown",
   "metadata": {
    "slideshow": {
     "slide_type": "subslide"
    }
   },
   "source": [
    "![Map of community districts from Wikipedia](https://upload.wikimedia.org/wikipedia/commons/4/41/New_York_City_community_districts.svg)"
   ]
  },
  {
   "cell_type": "markdown",
   "metadata": {
    "id": "9rvnMzjSMK36",
    "slideshow": {
     "slide_type": "slide"
    }
   },
   "source": [
    "## Setup"
   ]
  },
  {
   "cell_type": "code",
   "execution_count": 2,
   "metadata": {
    "execution": {
     "iopub.execute_input": "2022-04-07T22:14:46.710547Z",
     "iopub.status.busy": "2022-04-07T22:14:46.710350Z",
     "iopub.status.idle": "2022-04-07T22:14:47.280770Z",
     "shell.execute_reply": "2022-04-07T22:14:47.279834Z"
    },
    "id": "Q4l2QosJLzP6"
   },
   "outputs": [],
   "source": [
    "import pandas as pd"
   ]
  },
  {
   "cell_type": "code",
   "execution_count": 3,
   "metadata": {
    "execution": {
     "iopub.execute_input": "2022-04-07T22:14:47.284552Z",
     "iopub.status.busy": "2022-04-07T22:14:47.284304Z",
     "iopub.status.idle": "2022-04-07T22:14:47.287993Z",
     "shell.execute_reply": "2022-04-07T22:14:47.287238Z"
    },
    "id": "R4rtHV4Yu4jW",
    "slideshow": {
     "slide_type": "-"
    }
   },
   "outputs": [],
   "source": [
    "# Display more rows and columns in the DataFrames\n",
    "pd.options.display.max_columns = 100\n",
    "pd.options.display.max_rows = 100"
   ]
  },
  {
   "cell_type": "markdown",
   "metadata": {
    "id": "R1G04BmMMFJb",
    "slideshow": {
     "slide_type": "subslide"
    }
   },
   "source": [
    "## Read our cleaned 311 Service Requests dataset"
   ]
  },
  {
   "cell_type": "code",
   "execution_count": 5,
   "metadata": {
    "execution": {
     "iopub.execute_input": "2022-04-07T22:14:47.290949Z",
     "iopub.status.busy": "2022-04-07T22:14:47.290748Z",
     "iopub.status.idle": "2022-04-07T22:15:01.169061Z",
     "shell.execute_reply": "2022-04-07T22:15:01.167840Z"
    },
    "id": "iQgE8qFAMbiF"
   },
   "outputs": [
    {
     "name": "stderr",
     "output_type": "stream",
     "text": [
      "/var/folders/kg/1ys0dccx4237f5wsd_w10dt80000gn/T/ipykernel_84679/584175435.py:3: DtypeWarning: Columns (8,20,31,34) have mixed types. Specify dtype option on import or set low_memory=False.\n",
      "  df = pd.read_csv(url)\n"
     ]
    }
   ],
   "source": [
    "url = 'https://storage.googleapis.com/python-public-policy/data/311_requests_2018-19_sample_clean.csv.zip'\n",
    "requests = pd.read_csv(url)"
   ]
  },
  {
   "cell_type": "markdown",
   "metadata": {
    "slideshow": {
     "slide_type": "slide"
    }
   },
   "source": [
    "## Dealing with dtypes\n",
    "\n",
    "More data cleaning!\n",
    "\n",
    "![Minion character vacuuming](https://impulsecreative.com/hs-fs/hubfs/cleaning-minion-gif.gif?width=490&name=cleaning-minion-gif.gif)"
   ]
  },
  {
   "cell_type": "markdown",
   "metadata": {
    "slideshow": {
     "slide_type": "subslide"
    }
   },
   "source": [
    "```\n",
    "DtypeWarning: Columns (8,17,20,31,34) have mixed types.\n",
    "```"
   ]
  },
  {
   "cell_type": "code",
   "execution_count": 6,
   "metadata": {
    "execution": {
     "iopub.execute_input": "2022-04-07T22:15:01.173364Z",
     "iopub.status.busy": "2022-04-07T22:15:01.173076Z",
     "iopub.status.idle": "2022-04-07T22:15:03.085258Z",
     "shell.execute_reply": "2022-04-07T22:15:03.084817Z"
    },
    "slideshow": {
     "slide_type": "fragment"
    }
   },
   "outputs": [
    {
     "name": "stdout",
     "output_type": "stream",
     "text": [
      "<class 'pandas.core.frame.DataFrame'>\n",
      "RangeIndex: 499958 entries, 0 to 499957\n",
      "Data columns (total 41 columns):\n",
      " #   Column                          Non-Null Count   Dtype  \n",
      "---  ------                          --------------   -----  \n",
      " 0   Unique Key                      499958 non-null  int64  \n",
      " 1   Created Date                    499958 non-null  object \n",
      " 2   Closed Date                     476140 non-null  object \n",
      " 3   Agency                          499958 non-null  object \n",
      " 4   Agency Name                     499958 non-null  object \n",
      " 5   Complaint Type                  499958 non-null  object \n",
      " 6   Descriptor                      492496 non-null  object \n",
      " 7   Location Type                   392573 non-null  object \n",
      " 8   Incident Zip                    480394 non-null  object \n",
      " 9   Incident Address                434529 non-null  object \n",
      " 10  Street Name                     434504 non-null  object \n",
      " 11  Cross Street 1                  300825 non-null  object \n",
      " 12  Cross Street 2                  299624 non-null  object \n",
      " 13  Intersection Street 1           107377 non-null  object \n",
      " 14  Intersection Street 2           107042 non-null  object \n",
      " 15  Address Type                    451006 non-null  object \n",
      " 16  City                            476632 non-null  object \n",
      " 17  Landmark                        32516 non-null   object \n",
      " 18  Facility Type                   134918 non-null  object \n",
      " 19  Status                          499958 non-null  object \n",
      " 20  Due Date                        171534 non-null  object \n",
      " 21  Resolution Description          457354 non-null  object \n",
      " 22  Resolution Action Updated Date  488788 non-null  object \n",
      " 23  Community Board                 499958 non-null  object \n",
      " 24  BBL                             407338 non-null  float64\n",
      " 25  Borough                         499958 non-null  object \n",
      " 26  X Coordinate (State Plane)      470815 non-null  float64\n",
      " 27  Y Coordinate (State Plane)      470815 non-null  float64\n",
      " 28  Open Data Channel Type          499958 non-null  object \n",
      " 29  Park Facility Name              499931 non-null  object \n",
      " 30  Park Borough                    499958 non-null  object \n",
      " 31  Vehicle Type                    37 non-null      object \n",
      " 32  Taxi Company Borough            403 non-null     object \n",
      " 33  Taxi Pick Up Location           4474 non-null    object \n",
      " 34  Bridge Highway Name             696 non-null     object \n",
      " 35  Bridge Highway Direction        765 non-null     object \n",
      " 36  Road Ramp                       759 non-null     object \n",
      " 37  Bridge Highway Segment          1007 non-null    object \n",
      " 38  Latitude                        470815 non-null  float64\n",
      " 39  Longitude                       470815 non-null  float64\n",
      " 40  Location                        470815 non-null  object \n",
      "dtypes: float64(5), int64(1), object(35)\n",
      "memory usage: 156.4+ MB\n"
     ]
    }
   ],
   "source": [
    "requests.info()"
   ]
  },
  {
   "cell_type": "code",
   "execution_count": 7,
   "metadata": {
    "execution": {
     "iopub.execute_input": "2022-04-07T22:15:03.087947Z",
     "iopub.status.busy": "2022-04-07T22:15:03.087779Z",
     "iopub.status.idle": "2022-04-07T22:15:03.121202Z",
     "shell.execute_reply": "2022-04-07T22:15:03.120633Z"
    },
    "slideshow": {
     "slide_type": "subslide"
    }
   },
   "outputs": [
    {
     "data": {
      "text/plain": [
       "['11235',\n",
       " '11221',\n",
       " '11693',\n",
       " '11216',\n",
       " '10465',\n",
       " '11367',\n",
       " '10459',\n",
       " '11101',\n",
       " '11362',\n",
       " '10014',\n",
       " '11234',\n",
       " '11436',\n",
       " '10305',\n",
       " '10467',\n",
       " '11208',\n",
       " '10451',\n",
       " '11419',\n",
       " '11237',\n",
       " '11220',\n",
       " '10469',\n",
       " '11385',\n",
       " '10470',\n",
       " '11694',\n",
       " '10036',\n",
       " nan,\n",
       " '10473',\n",
       " '11435',\n",
       " '10040',\n",
       " '10472',\n",
       " '11225',\n",
       " '10019',\n",
       " '11434',\n",
       " '11226',\n",
       " '10010',\n",
       " '11211',\n",
       " '11421',\n",
       " '10026',\n",
       " '10013',\n",
       " '11423',\n",
       " '10002',\n",
       " '10453',\n",
       " '11213',\n",
       " '11104',\n",
       " '11249',\n",
       " '11361',\n",
       " '11233',\n",
       " '11224',\n",
       " '11374',\n",
       " '10025',\n",
       " '10022',\n",
       " '11214',\n",
       " '11209',\n",
       " '11366',\n",
       " '10304',\n",
       " '10027',\n",
       " '11378',\n",
       " '11206',\n",
       " '10021',\n",
       " '11364',\n",
       " '10065',\n",
       " '10456',\n",
       " '10314',\n",
       " '10312',\n",
       " '11212',\n",
       " '11379',\n",
       " '10462',\n",
       " '11231',\n",
       " '10460',\n",
       " '11416',\n",
       " '10001',\n",
       " '11357',\n",
       " '11413',\n",
       " '11210',\n",
       " '11217',\n",
       " '11223',\n",
       " '11417',\n",
       " '11418',\n",
       " '11218',\n",
       " '11230',\n",
       " '11207',\n",
       " '11691',\n",
       " '10468',\n",
       " '10007',\n",
       " '10310',\n",
       " '10306',\n",
       " '11103',\n",
       " '11105',\n",
       " '11433',\n",
       " '11203',\n",
       " '10307',\n",
       " '11229',\n",
       " '11372',\n",
       " '10032',\n",
       " '11420',\n",
       " '10017',\n",
       " '10301',\n",
       " '11368',\n",
       " '11201',\n",
       " '11365',\n",
       " '11422',\n",
       " '10452',\n",
       " '11377',\n",
       " '10029',\n",
       " '10003',\n",
       " '10075',\n",
       " '11222',\n",
       " '10128',\n",
       " '11415',\n",
       " '11204',\n",
       " '10030',\n",
       " '11432',\n",
       " '10308',\n",
       " '11102',\n",
       " '10016',\n",
       " '10463',\n",
       " '11412',\n",
       " '10011',\n",
       " '11106',\n",
       " '10457',\n",
       " '11375',\n",
       " '11356',\n",
       " '11228',\n",
       " '11369',\n",
       " '10458',\n",
       " '11411',\n",
       " '11215',\n",
       " '10309',\n",
       " '11358',\n",
       " '11355',\n",
       " '11219',\n",
       " '10031',\n",
       " '10303',\n",
       " '11232',\n",
       " '10302',\n",
       " '11238',\n",
       " '10005',\n",
       " '11429',\n",
       " '11205',\n",
       " '10023',\n",
       " '11373',\n",
       " '10033',\n",
       " '10039',\n",
       " '10028',\n",
       " '11363',\n",
       " '11354',\n",
       " '11692',\n",
       " '10455',\n",
       " '11370',\n",
       " '10035',\n",
       " '10012',\n",
       " '10024',\n",
       " '10009',\n",
       " '10034',\n",
       " '11001',\n",
       " '10466',\n",
       " '11427',\n",
       " '11004',\n",
       " '10454',\n",
       " '11414',\n",
       " '11360',\n",
       " '10461',\n",
       " '10018',\n",
       " '10006',\n",
       " '11236',\n",
       " '11428',\n",
       " '10474',\n",
       " '10471',\n",
       " '10037',\n",
       " '10475',\n",
       " '11430',\n",
       " '10119',\n",
       " '10038',\n",
       " '11426',\n",
       " '11239',\n",
       " '10151',\n",
       " '10120',\n",
       " '10112',\n",
       " '10168',\n",
       " '10004',\n",
       " '10464',\n",
       " '18773-9640',\n",
       " '10282',\n",
       " '11109',\n",
       " '10280',\n",
       " '07114',\n",
       " '11040',\n",
       " '10000',\n",
       " '07090',\n",
       " '10020',\n",
       " '00083',\n",
       " '10044',\n",
       " '10069',\n",
       " '10118',\n",
       " '07102',\n",
       " '11359',\n",
       " '11005',\n",
       " '10169',\n",
       " '11697',\n",
       " '10115',\n",
       " 11226.0,\n",
       " 11236.0,\n",
       " 10466.0,\n",
       " 11210.0,\n",
       " 10452.0,\n",
       " 10457.0,\n",
       " 10304.0,\n",
       " 11416.0,\n",
       " 11205.0,\n",
       " 11214.0,\n",
       " 11692.0,\n",
       " 11101.0,\n",
       " 11201.0,\n",
       " 10470.0,\n",
       " 11375.0,\n",
       " 10305.0,\n",
       " 11420.0,\n",
       " 11421.0,\n",
       " 11419.0,\n",
       " 11412.0,\n",
       " 10309.0,\n",
       " 11385.0,\n",
       " 11379.0,\n",
       " 11356.0,\n",
       " 10021.0,\n",
       " 11417.0,\n",
       " 11377.0,\n",
       " 11423.0,\n",
       " 10001.0,\n",
       " 10469.0,\n",
       " 10463.0,\n",
       " 11372.0,\n",
       " 11422.0,\n",
       " 10017.0,\n",
       " 11368.0,\n",
       " 11213.0,\n",
       " 11220.0,\n",
       " 10312.0,\n",
       " 10025.0,\n",
       " 11357.0,\n",
       " 11230.0,\n",
       " 10456.0,\n",
       " 11104.0,\n",
       " 11232.0,\n",
       " 11208.0,\n",
       " 11206.0,\n",
       " 11229.0,\n",
       " 10465.0,\n",
       " 10472.0,\n",
       " 10039.0,\n",
       " 10016.0,\n",
       " 10009.0,\n",
       " 11355.0,\n",
       " 11211.0,\n",
       " 10040.0,\n",
       " 11366.0,\n",
       " 11234.0,\n",
       " 10013.0,\n",
       " 11207.0,\n",
       " 10032.0,\n",
       " 10036.0,\n",
       " 10029.0,\n",
       " 11204.0,\n",
       " 11435.0,\n",
       " 11373.0,\n",
       " 10007.0,\n",
       " 11216.0,\n",
       " 10306.0,\n",
       " 11378.0,\n",
       " 11414.0,\n",
       " 10314.0,\n",
       " 10128.0,\n",
       " 10027.0,\n",
       " 11221.0,\n",
       " 10024.0,\n",
       " 11364.0,\n",
       " 10468.0,\n",
       " 11233.0,\n",
       " 10014.0,\n",
       " 11238.0,\n",
       " 11374.0,\n",
       " 11105.0,\n",
       " 11219.0,\n",
       " 11106.0,\n",
       " 10003.0,\n",
       " 10026.0,\n",
       " 11411.0,\n",
       " 11223.0,\n",
       " 11693.0,\n",
       " 11365.0,\n",
       " 11209.0,\n",
       " 11103.0,\n",
       " 11361.0,\n",
       " 11427.0,\n",
       " 10467.0,\n",
       " 11203.0,\n",
       " 11102.0,\n",
       " 10455.0,\n",
       " 10454.0,\n",
       " 11225.0,\n",
       " 11212.0,\n",
       " 11434.0,\n",
       " 10461.0,\n",
       " 11369.0,\n",
       " 11432.0,\n",
       " 10031.0,\n",
       " 11217.0,\n",
       " 11235.0,\n",
       " 10458.0,\n",
       " 10453.0,\n",
       " 11215.0,\n",
       " 11367.0,\n",
       " 11231.0,\n",
       " 11413.0,\n",
       " 11358.0,\n",
       " 11694.0,\n",
       " 10462.0,\n",
       " 11218.0,\n",
       " 11430.0,\n",
       " 10473.0,\n",
       " 10011.0,\n",
       " 10460.0,\n",
       " 10019.0,\n",
       " 10310.0,\n",
       " 10037.0,\n",
       " 10451.0,\n",
       " 10301.0,\n",
       " 10010.0,\n",
       " 11354.0,\n",
       " 11222.0,\n",
       " 11691.0,\n",
       " 10034.0,\n",
       " 10308.0,\n",
       " 10012.0,\n",
       " 11237.0,\n",
       " 10801.0,\n",
       " 10030.0,\n",
       " 11428.0,\n",
       " 11418.0,\n",
       " 10033.0,\n",
       " 10459.0,\n",
       " 11429.0,\n",
       " 10065.0,\n",
       " 10022.0,\n",
       " 10005.0,\n",
       " 10002.0,\n",
       " 10035.0,\n",
       " 11370.0,\n",
       " 10004.0,\n",
       " 11415.0,\n",
       " 11426.0,\n",
       " 11362.0,\n",
       " 10006.0,\n",
       " 11360.0,\n",
       " 10038.0,\n",
       " 11249.0,\n",
       " 11001.0,\n",
       " 11224.0,\n",
       " 10075.0,\n",
       " 10018.0,\n",
       " 10302.0,\n",
       " 11436.0,\n",
       " 11433.0,\n",
       " 10474.0,\n",
       " 10023.0,\n",
       " 11004.0,\n",
       " 10028.0,\n",
       " 11228.0,\n",
       " 10475.0,\n",
       " 10069.0,\n",
       " 11363.0,\n",
       " 10303.0,\n",
       " 10282.0,\n",
       " 10307.0,\n",
       " 10103.0,\n",
       " 10280.0,\n",
       " 10471.0,\n",
       " 10271.0,\n",
       " 10000.0,\n",
       " 10464.0,\n",
       " 10107.0,\n",
       " 7078.0,\n",
       " 10044.0,\n",
       " 10020.0,\n",
       " 56303.0,\n",
       " 10119.0,\n",
       " 11040.0,\n",
       " 11386.0,\n",
       " 10952.0,\n",
       " 6811.0,\n",
       " 11239.0,\n",
       " 10121.0,\n",
       " 37214.0,\n",
       " 10538.0,\n",
       " 10112.0,\n",
       " 10279.0,\n",
       " 11109.0,\n",
       " 11371.0,\n",
       " 18017.0,\n",
       " 7115.0,\n",
       " 77036.0,\n",
       " 7114.0,\n",
       " '10123',\n",
       " '11030',\n",
       " '10801',\n",
       " '92626-1902',\n",
       " '07302',\n",
       " '18773',\n",
       " '12222',\n",
       " '10710',\n",
       " '10103',\n",
       " '07057',\n",
       " '10162',\n",
       " '11582',\n",
       " '10281',\n",
       " '10271',\n",
       " '10107',\n",
       " 'HARRISBURG',\n",
       " '11735',\n",
       " '07305',\n",
       " 'N5X3A6',\n",
       " '11746',\n",
       " '11371',\n",
       " '23450',\n",
       " 11580.0,\n",
       " 10591.0,\n",
       " 11005.0,\n",
       " 19034.0,\n",
       " 11596.0,\n",
       " 11779.0,\n",
       " 7621.0,\n",
       " 11021.0,\n",
       " 11241.0,\n",
       " 10169.0,\n",
       " 100000.0,\n",
       " 11242.0,\n",
       " 10151.0,\n",
       " 11697.0,\n",
       " 7086.0,\n",
       " 10177.0,\n",
       " 10118.0,\n",
       " 10105.0,\n",
       " 10152.0,\n",
       " 10168.0,\n",
       " 7093.0,\n",
       " 10917.0,\n",
       " 10110.0,\n",
       " 10153.0,\n",
       " 10178.0,\n",
       " 11570.0,\n",
       " 10601.0,\n",
       " 10704.0,\n",
       " 7424.0,\n",
       " 10281.0,\n",
       " 10158.0,\n",
       " '10158',\n",
       " '10172',\n",
       " '10179',\n",
       " 'IDK',\n",
       " '11801',\n",
       " '10601',\n",
       " '11590',\n",
       " '10155',\n",
       " '11202',\n",
       " '1801',\n",
       " '11581',\n",
       " 11359.0,\n",
       " 11758.0,\n",
       " 10278.0,\n",
       " 43017.0,\n",
       " 10154.0,\n",
       " 11553.0,\n",
       " 10162.0,\n",
       " 11695.0,\n",
       " 10041.0,\n",
       " 11741.0,\n",
       " 98335.0,\n",
       " 14814.0,\n",
       " 10111.0,\n",
       " '12345',\n",
       " '11572',\n",
       " '11520',\n",
       " '14614-195',\n",
       " '10121',\n",
       " '10105',\n",
       " '10701',\n",
       " 0.0,\n",
       " 17106.0,\n",
       " 979113.0,\n",
       " 10120.0,\n",
       " 12345.0,\n",
       " 11030.0,\n",
       " 11797.0,\n",
       " 100.0,\n",
       " 11710.0,\n",
       " 33624.0,\n",
       " 8682.0,\n",
       " 11747.0,\n",
       " 1757.0,\n",
       " 11561.0,\n",
       " 7304.0,\n",
       " 6851.0,\n",
       " 11590.0,\n",
       " 94267.0,\n",
       " 10167.0,\n",
       " 11749.0,\n",
       " 11756.0,\n",
       " 10174.0,\n",
       " 10550.0,\n",
       " 89119.0,\n",
       " 14068.0,\n",
       " 11722.0,\n",
       " 11520.0,\n",
       " 6460.0,\n",
       " 32255.0,\n",
       " 10173.0,\n",
       " 10165.0,\n",
       " 11946.0,\n",
       " '29616-0759',\n",
       " '07032',\n",
       " '10278',\n",
       " '11575',\n",
       " 11963.0,\n",
       " 10106.0,\n",
       " 83.0,\n",
       " 11566.0,\n",
       " 6870.0,\n",
       " 7001.0,\n",
       " 10710.0,\n",
       " 11735.0,\n",
       " 11572.0,\n",
       " '10165',\n",
       " '10279',\n",
       " '11251',\n",
       " 'NJ 07114',\n",
       " '10106',\n",
       " '07666',\n",
       " '11516',\n",
       " '10177',\n",
       " '10170',\n",
       " '43215-1441',\n",
       " '00000',\n",
       " '08081',\n",
       " '10803',\n",
       " 11507.0,\n",
       " 11701.0,\n",
       " 11563.0,\n",
       " 7047.0,\n",
       " 3108.0,\n",
       " '11021',\n",
       " '07003',\n",
       " '10152',\n",
       " '07029',\n",
       " '10041',\n",
       " '31093',\n",
       " '11735-0230',\n",
       " 89118.0,\n",
       " 11803.0,\n",
       " 11559.0,\n",
       " 11565.0,\n",
       " 7080.0,\n",
       " 12601.0,\n",
       " 10155.0,\n",
       " 10171.0,\n",
       " 7208.0,\n",
       " 11757.0,\n",
       " 11042.0,\n",
       " '1101',\n",
       " '10111',\n",
       " '10173',\n",
       " '10096',\n",
       " '07087',\n",
       " 'DID N',\n",
       " '10956',\n",
       " 10048.0,\n",
       " 10123.0,\n",
       " 10122.0,\n",
       " 11251.0]"
      ]
     },
     "execution_count": 7,
     "metadata": {},
     "output_type": "execute_result"
    }
   ],
   "source": [
    "requests[\"Incident Zip\"].unique().tolist()"
   ]
  },
  {
   "cell_type": "markdown",
   "metadata": {
    "slideshow": {
     "slide_type": "fragment"
    }
   },
   "source": [
    "ZIP codes _look_ numeric, but aren't really."
   ]
  },
  {
   "cell_type": "markdown",
   "metadata": {
    "slideshow": {
     "slide_type": "subslide"
    }
   },
   "source": [
    "[Read the ZIP codes in as strings.](https://pandas.pydata.org/pandas-docs/stable/user_guide/text.html#text-data-types)"
   ]
  },
  {
   "cell_type": "code",
   "execution_count": 8,
   "metadata": {
    "execution": {
     "iopub.execute_input": "2022-04-07T22:15:03.124325Z",
     "iopub.status.busy": "2022-04-07T22:15:03.124014Z",
     "iopub.status.idle": "2022-04-07T22:15:14.080662Z",
     "shell.execute_reply": "2022-04-07T22:15:14.079904Z"
    },
    "slideshow": {
     "slide_type": "-"
    }
   },
   "outputs": [
    {
     "name": "stderr",
     "output_type": "stream",
     "text": [
      "/var/folders/kg/1ys0dccx4237f5wsd_w10dt80000gn/T/ipykernel_84679/1495321768.py:1: DtypeWarning: Columns (20,31,34) have mixed types. Specify dtype option on import or set low_memory=False.\n",
      "  df2 = pd.read_csv(url, dtype={\"Incident Zip\": \"string\"})\n"
     ]
    }
   ],
   "source": [
    "df2 = pd.read_csv(url, dtype={\"Incident Zip\": \"string\"})"
   ]
  },
  {
   "cell_type": "markdown",
   "metadata": {
    "slideshow": {
     "slide_type": "fragment"
    }
   },
   "source": [
    "We fixed the dtype warning for column 8 (`Incident Zip`)."
   ]
  },
  {
   "cell_type": "code",
   "execution_count": 9,
   "metadata": {
    "execution": {
     "iopub.execute_input": "2022-04-07T22:15:14.085793Z",
     "iopub.status.busy": "2022-04-07T22:15:14.085486Z",
     "iopub.status.idle": "2022-04-07T22:15:14.136195Z",
     "shell.execute_reply": "2022-04-07T22:15:14.135740Z"
    },
    "slideshow": {
     "slide_type": "subslide"
    }
   },
   "outputs": [
    {
     "data": {
      "text/plain": [
       "['11235',\n",
       " '11221',\n",
       " '11693',\n",
       " '11216',\n",
       " '10465',\n",
       " '11367',\n",
       " '10459',\n",
       " '11101',\n",
       " '11362',\n",
       " '10014',\n",
       " '11234',\n",
       " '11436',\n",
       " '10305',\n",
       " '10467',\n",
       " '11208',\n",
       " '10451',\n",
       " '11419',\n",
       " '11237',\n",
       " '11220',\n",
       " '10469',\n",
       " '11385',\n",
       " '10470',\n",
       " '11694',\n",
       " '10036',\n",
       " <NA>,\n",
       " '10473',\n",
       " '11435',\n",
       " '10040',\n",
       " '10472',\n",
       " '11225',\n",
       " '10019',\n",
       " '11434',\n",
       " '11226',\n",
       " '10010',\n",
       " '11211',\n",
       " '11421',\n",
       " '10026',\n",
       " '10013',\n",
       " '11423',\n",
       " '10002',\n",
       " '10453',\n",
       " '11213',\n",
       " '11104',\n",
       " '11249',\n",
       " '11361',\n",
       " '11233',\n",
       " '11224',\n",
       " '11374',\n",
       " '10025',\n",
       " '10022',\n",
       " '11214',\n",
       " '11209',\n",
       " '11366',\n",
       " '10304',\n",
       " '10027',\n",
       " '11378',\n",
       " '11206',\n",
       " '10021',\n",
       " '11364',\n",
       " '10065',\n",
       " '10456',\n",
       " '10314',\n",
       " '10312',\n",
       " '11212',\n",
       " '11379',\n",
       " '10462',\n",
       " '11231',\n",
       " '10460',\n",
       " '11416',\n",
       " '10001',\n",
       " '11357',\n",
       " '11413',\n",
       " '11210',\n",
       " '11217',\n",
       " '11223',\n",
       " '11417',\n",
       " '11418',\n",
       " '11218',\n",
       " '11230',\n",
       " '11207',\n",
       " '11691',\n",
       " '10468',\n",
       " '10007',\n",
       " '10310',\n",
       " '10306',\n",
       " '11103',\n",
       " '11105',\n",
       " '11433',\n",
       " '11203',\n",
       " '10307',\n",
       " '11229',\n",
       " '11372',\n",
       " '10032',\n",
       " '11420',\n",
       " '10017',\n",
       " '10301',\n",
       " '11368',\n",
       " '11201',\n",
       " '11365',\n",
       " '11422',\n",
       " '10452',\n",
       " '11377',\n",
       " '10029',\n",
       " '10003',\n",
       " '10075',\n",
       " '11222',\n",
       " '10128',\n",
       " '11415',\n",
       " '11204',\n",
       " '10030',\n",
       " '11432',\n",
       " '10308',\n",
       " '11102',\n",
       " '10016',\n",
       " '10463',\n",
       " '11412',\n",
       " '10011',\n",
       " '11106',\n",
       " '10457',\n",
       " '11375',\n",
       " '11356',\n",
       " '11228',\n",
       " '11369',\n",
       " '10458',\n",
       " '11411',\n",
       " '11215',\n",
       " '10309',\n",
       " '11358',\n",
       " '11355',\n",
       " '11219',\n",
       " '10031',\n",
       " '10303',\n",
       " '11232',\n",
       " '10302',\n",
       " '11238',\n",
       " '10005',\n",
       " '11429',\n",
       " '11205',\n",
       " '10023',\n",
       " '11373',\n",
       " '10033',\n",
       " '10039',\n",
       " '10028',\n",
       " '11363',\n",
       " '11354',\n",
       " '11692',\n",
       " '10455',\n",
       " '11370',\n",
       " '10035',\n",
       " '10012',\n",
       " '10024',\n",
       " '10009',\n",
       " '10034',\n",
       " '11001',\n",
       " '10466',\n",
       " '11427',\n",
       " '11004',\n",
       " '10454',\n",
       " '11414',\n",
       " '11360',\n",
       " '10461',\n",
       " '10018',\n",
       " '10006',\n",
       " '11236',\n",
       " '11428',\n",
       " '10474',\n",
       " '10471',\n",
       " '10037',\n",
       " '10475',\n",
       " '11430',\n",
       " '10119',\n",
       " '10038',\n",
       " '11426',\n",
       " '11239',\n",
       " '10151',\n",
       " '10120',\n",
       " '10112',\n",
       " '10168',\n",
       " '10004',\n",
       " '10464',\n",
       " '18773-9640',\n",
       " '10282',\n",
       " '11109',\n",
       " '10280',\n",
       " '07114',\n",
       " '11040',\n",
       " '10000',\n",
       " '07090',\n",
       " '10020',\n",
       " '00083',\n",
       " '10044',\n",
       " '10069',\n",
       " '10118',\n",
       " '07102',\n",
       " '11359',\n",
       " '11005',\n",
       " '10169',\n",
       " '11697',\n",
       " '10115',\n",
       " '10801',\n",
       " '10103',\n",
       " '10271',\n",
       " '10107',\n",
       " '07078',\n",
       " '56303',\n",
       " '11386',\n",
       " '10952',\n",
       " '06811',\n",
       " '10121',\n",
       " '37214',\n",
       " '10538',\n",
       " '10279',\n",
       " '11371',\n",
       " '18017',\n",
       " '07115',\n",
       " '77036',\n",
       " '10123',\n",
       " '11030',\n",
       " '92626-1902',\n",
       " '07302',\n",
       " '18773',\n",
       " '12222',\n",
       " '10710',\n",
       " '07057',\n",
       " '10162',\n",
       " '11582',\n",
       " '10281',\n",
       " 'HARRISBURG',\n",
       " '11735',\n",
       " '07305',\n",
       " 'N5X3A6',\n",
       " '11746',\n",
       " '23450',\n",
       " '11580',\n",
       " '10591',\n",
       " '19034',\n",
       " '11596',\n",
       " '11779',\n",
       " '07621',\n",
       " '11021',\n",
       " '11241',\n",
       " '100000',\n",
       " '11242',\n",
       " '07086',\n",
       " '10177',\n",
       " '10105',\n",
       " '10152',\n",
       " '07093',\n",
       " '10917',\n",
       " '10110',\n",
       " '10153',\n",
       " '10178',\n",
       " '11570',\n",
       " '10601',\n",
       " '10704',\n",
       " '07424',\n",
       " '10158',\n",
       " '10172',\n",
       " '10179',\n",
       " 'IDK',\n",
       " '11801',\n",
       " '11590',\n",
       " '10155',\n",
       " '11202',\n",
       " '1801',\n",
       " '11581',\n",
       " '11758',\n",
       " '10278',\n",
       " '43017',\n",
       " '10154',\n",
       " '11553',\n",
       " '11695',\n",
       " '10041',\n",
       " '11741',\n",
       " '98335',\n",
       " '14814',\n",
       " '10111',\n",
       " '12345',\n",
       " '11572',\n",
       " '11520',\n",
       " '14614-195',\n",
       " '10701',\n",
       " '00000',\n",
       " '17106',\n",
       " '979113',\n",
       " '11797',\n",
       " '100',\n",
       " '11710',\n",
       " '33624',\n",
       " '8682',\n",
       " '11747',\n",
       " '01757',\n",
       " '11561',\n",
       " '07304',\n",
       " '000000',\n",
       " '06851',\n",
       " '94267',\n",
       " '10167',\n",
       " '11749',\n",
       " '11756',\n",
       " '10174',\n",
       " '10550',\n",
       " '89119',\n",
       " '14068',\n",
       " '11722',\n",
       " '06460',\n",
       " '32255',\n",
       " '10173',\n",
       " '10165',\n",
       " '11946',\n",
       " '29616-0759',\n",
       " '07032',\n",
       " '11575',\n",
       " '11963',\n",
       " '10106',\n",
       " '11566',\n",
       " '06870',\n",
       " '07001',\n",
       " '11251',\n",
       " 'NJ 07114',\n",
       " '07666',\n",
       " '11516',\n",
       " '10170',\n",
       " '43215-1441',\n",
       " '08081',\n",
       " '10803',\n",
       " '11507',\n",
       " '11701',\n",
       " '11563',\n",
       " '07047',\n",
       " '03108',\n",
       " '07003',\n",
       " '07029',\n",
       " '31093',\n",
       " '11735-0230',\n",
       " '89118',\n",
       " '11803',\n",
       " '11559',\n",
       " '11565',\n",
       " '07080',\n",
       " '12601',\n",
       " '10171',\n",
       " '07208',\n",
       " '11757',\n",
       " '11042',\n",
       " '1101',\n",
       " '10096',\n",
       " '07087',\n",
       " 'DID N',\n",
       " '10956',\n",
       " '10048',\n",
       " '10122']"
      ]
     },
     "execution_count": 9,
     "metadata": {},
     "output_type": "execute_result"
    }
   ],
   "source": [
    "list(df2[\"Incident Zip\"].unique())"
   ]
  },
  {
   "cell_type": "markdown",
   "metadata": {
    "slideshow": {
     "slide_type": "subslide"
    }
   },
   "source": [
    "### Find invalid ZIP codes\n",
    "\n",
    "Use a [regular expression (regex)](https://regexone.com/) to [find strings that match a pattern](https://pandas.pydata.org/pandas-docs/stable/user_guide/text.html#testing-for-strings-that-match-or-contain-a-pattern):\n",
    "\n",
    "```\n",
    "^\\d{5}(?:-\\d{4})?$\n",
    "│ │ │  │        │└─ end of string\n",
    "│ │ │  │        └─ optional\n",
    "│ │ │  └─ capture group\n",
    "│ │ └─ count\n",
    "│ └─ numeric/digit character\n",
    "└─ start of string\n",
    "```"
   ]
  },
  {
   "cell_type": "code",
   "execution_count": 10,
   "metadata": {
    "execution": {
     "iopub.execute_input": "2022-04-07T22:15:14.138685Z",
     "iopub.status.busy": "2022-04-07T22:15:14.138506Z",
     "iopub.status.idle": "2022-04-07T22:15:14.393607Z",
     "shell.execute_reply": "2022-04-07T22:15:14.393145Z"
    },
    "slideshow": {
     "slide_type": "subslide"
    }
   },
   "outputs": [
    {
     "data": {
      "text/plain": [
       "55017     HARRISBURG\n",
       "58100         N5X3A6\n",
       "80798         100000\n",
       "120304           IDK\n",
       "123304          1801\n",
       "173518     14614-195\n",
       "192034        979113\n",
       "201463           100\n",
       "207158          8682\n",
       "216745        000000\n",
       "325071      NJ 07114\n",
       "425985          1101\n",
       "441166         DID N\n",
       "Name: Incident Zip, dtype: string"
      ]
     },
     "execution_count": 10,
     "metadata": {},
     "output_type": "execute_result"
    }
   ],
   "source": [
    "valid_zips = df2[\"Incident Zip\"].str.contains(r'^\\d{5}(?:-\\d{4})?$')\n",
    "invalid_zips = valid_zips == False\n",
    "df2[invalid_zips][\"Incident Zip\"]"
   ]
  },
  {
   "cell_type": "markdown",
   "metadata": {
    "slideshow": {
     "slide_type": "subslide"
    }
   },
   "source": [
    "Clear any invalid ZIP codes:"
   ]
  },
  {
   "cell_type": "code",
   "execution_count": 11,
   "metadata": {
    "execution": {
     "iopub.execute_input": "2022-04-07T22:15:14.396744Z",
     "iopub.status.busy": "2022-04-07T22:15:14.396525Z",
     "iopub.status.idle": "2022-04-07T22:15:14.401133Z",
     "shell.execute_reply": "2022-04-07T22:15:14.400565Z"
    },
    "slideshow": {
     "slide_type": "-"
    }
   },
   "outputs": [],
   "source": [
    "import numpy as np\n",
    "\n",
    "df2.loc[invalid_zips, \"Incident Zip\"] = np.nan"
   ]
  },
  {
   "cell_type": "markdown",
   "metadata": {
    "slideshow": {
     "slide_type": "subslide"
    }
   },
   "source": [
    "General data cleaning tips:\n",
    "\n",
    "- Hard part is finding what needs to be done\n",
    "- Will be specific to your use case\n",
    "- Document what you did, since it will affect your results"
   ]
  },
  {
   "cell_type": "markdown",
   "metadata": {
    "id": "7MrWUFykUZsz",
    "slideshow": {
     "slide_type": "slide"
    }
   },
   "source": [
    "## View the contents of the `community_board` column in our 311 data"
   ]
  },
  {
   "cell_type": "code",
   "execution_count": 12,
   "metadata": {
    "execution": {
     "iopub.execute_input": "2022-04-07T22:15:14.403911Z",
     "iopub.status.busy": "2022-04-07T22:15:14.403620Z",
     "iopub.status.idle": "2022-04-07T22:15:14.430294Z",
     "shell.execute_reply": "2022-04-07T22:15:14.429737Z"
    },
    "id": "YHxgkZeQVLmH",
    "outputId": "69937a5d-5aba-48a1-99e3-c498cd13ddc0"
   },
   "outputs": [
    {
     "data": {
      "text/plain": [
       "array(['15 BROOKLYN', '03 BROOKLYN', '14 QUEENS', '10 BRONX', '08 QUEENS',\n",
       "       '02 BRONX', '01 QUEENS', '11 QUEENS', '02 MANHATTAN',\n",
       "       '18 BROOKLYN', '12 QUEENS', '01 STATEN ISLAND', '12 BRONX',\n",
       "       '05 BROOKLYN', '01 BRONX', '09 QUEENS', '04 BROOKLYN',\n",
       "       '10 BROOKLYN', '02 STATEN ISLAND', '05 QUEENS', '04 MANHATTAN',\n",
       "       '11 BRONX', 'Unspecified BROOKLYN', '09 BRONX', '12 MANHATTAN',\n",
       "       '09 BROOKLYN', '14 BROOKLYN', '06 MANHATTAN', '10 MANHATTAN',\n",
       "       'Unspecified QUEENS', '01 MANHATTAN', '03 MANHATTAN', '05 BRONX',\n",
       "       '08 BROOKLYN', '02 QUEENS', '12 BROOKLYN', '01 BROOKLYN',\n",
       "       '16 BROOKLYN', '13 BROOKLYN', '06 QUEENS', '07 MANHATTAN',\n",
       "       '11 BROOKLYN', 'Unspecified BRONX', '08 MANHATTAN',\n",
       "       '03 STATEN ISLAND', '06 BROOKLYN', '03 BRONX', '05 MANHATTAN',\n",
       "       '07 QUEENS', '13 QUEENS', '17 BROOKLYN', '06 BRONX', '02 BROOKLYN',\n",
       "       '10 QUEENS', 'Unspecified MANHATTAN', '03 QUEENS', '04 BRONX',\n",
       "       '11 MANHATTAN', '08 BRONX', '07 BROOKLYN', '07 BRONX',\n",
       "       '0 Unspecified', '09 MANHATTAN', '04 QUEENS', '83 QUEENS',\n",
       "       '80 QUEENS', 'Unspecified STATEN ISLAND', '55 BROOKLYN',\n",
       "       '82 QUEENS', '64 MANHATTAN', '28 BRONX', '95 STATEN ISLAND',\n",
       "       '81 QUEENS', '27 BRONX', '26 BRONX', '56 BROOKLYN', '84 QUEENS'],\n",
       "      dtype=object)"
      ]
     },
     "execution_count": 12,
     "metadata": {},
     "output_type": "execute_result"
    }
   ],
   "source": [
    "requests[\"Community Board\"].unique()"
   ]
  },
  {
   "cell_type": "markdown",
   "metadata": {
    "id": "HHse4uV3U1fm",
    "slideshow": {
     "slide_type": "subslide"
    }
   },
   "source": [
    "## Get the count of 311 requests per Community District"
   ]
  },
  {
   "cell_type": "code",
   "execution_count": 13,
   "metadata": {
    "execution": {
     "iopub.execute_input": "2022-04-07T22:15:14.432846Z",
     "iopub.status.busy": "2022-04-07T22:15:14.432667Z",
     "iopub.status.idle": "2022-04-07T22:15:14.640391Z",
     "shell.execute_reply": "2022-04-07T22:15:14.639856Z"
    },
    "id": "txl0wcl_VKp8"
   },
   "outputs": [
    {
     "data": {
      "text/html": [
       "<div>\n",
       "<style scoped>\n",
       "    .dataframe tbody tr th:only-of-type {\n",
       "        vertical-align: middle;\n",
       "    }\n",
       "\n",
       "    .dataframe tbody tr th {\n",
       "        vertical-align: top;\n",
       "    }\n",
       "\n",
       "    .dataframe thead th {\n",
       "        text-align: right;\n",
       "    }\n",
       "</style>\n",
       "<table border=\"1\" class=\"dataframe\">\n",
       "  <thead>\n",
       "    <tr style=\"text-align: right;\">\n",
       "      <th></th>\n",
       "      <th>Community Board</th>\n",
       "      <th>num_311_requests</th>\n",
       "    </tr>\n",
       "  </thead>\n",
       "  <tbody>\n",
       "    <tr>\n",
       "      <th>50</th>\n",
       "      <td>12 MANHATTAN</td>\n",
       "      <td>14110</td>\n",
       "    </tr>\n",
       "    <tr>\n",
       "      <th>23</th>\n",
       "      <td>05 QUEENS</td>\n",
       "      <td>12487</td>\n",
       "    </tr>\n",
       "    <tr>\n",
       "      <th>51</th>\n",
       "      <td>12 QUEENS</td>\n",
       "      <td>12228</td>\n",
       "    </tr>\n",
       "    <tr>\n",
       "      <th>2</th>\n",
       "      <td>01 BROOKLYN</td>\n",
       "      <td>11863</td>\n",
       "    </tr>\n",
       "    <tr>\n",
       "      <th>12</th>\n",
       "      <td>03 BROOKLYN</td>\n",
       "      <td>11615</td>\n",
       "    </tr>\n",
       "    <tr>\n",
       "      <th>5</th>\n",
       "      <td>01 STATEN ISLAND</td>\n",
       "      <td>11438</td>\n",
       "    </tr>\n",
       "    <tr>\n",
       "      <th>31</th>\n",
       "      <td>07 QUEENS</td>\n",
       "      <td>11210</td>\n",
       "    </tr>\n",
       "    <tr>\n",
       "      <th>21</th>\n",
       "      <td>05 BROOKLYN</td>\n",
       "      <td>10862</td>\n",
       "    </tr>\n",
       "    <tr>\n",
       "      <th>16</th>\n",
       "      <td>04 BRONX</td>\n",
       "      <td>10628</td>\n",
       "    </tr>\n",
       "    <tr>\n",
       "      <th>4</th>\n",
       "      <td>01 QUEENS</td>\n",
       "      <td>10410</td>\n",
       "    </tr>\n",
       "    <tr>\n",
       "      <th>58</th>\n",
       "      <td>17 BROOKLYN</td>\n",
       "      <td>10208</td>\n",
       "    </tr>\n",
       "    <tr>\n",
       "      <th>54</th>\n",
       "      <td>14 BROOKLYN</td>\n",
       "      <td>10179</td>\n",
       "    </tr>\n",
       "    <tr>\n",
       "      <th>28</th>\n",
       "      <td>07 BRONX</td>\n",
       "      <td>9841</td>\n",
       "    </tr>\n",
       "    <tr>\n",
       "      <th>59</th>\n",
       "      <td>18 BROOKLYN</td>\n",
       "      <td>9717</td>\n",
       "    </tr>\n",
       "    <tr>\n",
       "      <th>39</th>\n",
       "      <td>09 QUEENS</td>\n",
       "      <td>9599</td>\n",
       "    </tr>\n",
       "    <tr>\n",
       "      <th>53</th>\n",
       "      <td>13 QUEENS</td>\n",
       "      <td>9459</td>\n",
       "    </tr>\n",
       "    <tr>\n",
       "      <th>48</th>\n",
       "      <td>12 BRONX</td>\n",
       "      <td>9412</td>\n",
       "    </tr>\n",
       "    <tr>\n",
       "      <th>45</th>\n",
       "      <td>11 BROOKLYN</td>\n",
       "      <td>9309</td>\n",
       "    </tr>\n",
       "    <tr>\n",
       "      <th>20</th>\n",
       "      <td>05 BRONX</td>\n",
       "      <td>9094</td>\n",
       "    </tr>\n",
       "    <tr>\n",
       "      <th>13</th>\n",
       "      <td>03 MANHATTAN</td>\n",
       "      <td>8905</td>\n",
       "    </tr>\n",
       "    <tr>\n",
       "      <th>35</th>\n",
       "      <td>08 QUEENS</td>\n",
       "      <td>8661</td>\n",
       "    </tr>\n",
       "    <tr>\n",
       "      <th>17</th>\n",
       "      <td>04 BROOKLYN</td>\n",
       "      <td>8639</td>\n",
       "    </tr>\n",
       "    <tr>\n",
       "      <th>42</th>\n",
       "      <td>10 MANHATTAN</td>\n",
       "      <td>8592</td>\n",
       "    </tr>\n",
       "    <tr>\n",
       "      <th>15</th>\n",
       "      <td>03 STATEN ISLAND</td>\n",
       "      <td>8524</td>\n",
       "    </tr>\n",
       "    <tr>\n",
       "      <th>56</th>\n",
       "      <td>15 BROOKLYN</td>\n",
       "      <td>8508</td>\n",
       "    </tr>\n",
       "    <tr>\n",
       "      <th>43</th>\n",
       "      <td>10 QUEENS</td>\n",
       "      <td>8333</td>\n",
       "    </tr>\n",
       "    <tr>\n",
       "      <th>49</th>\n",
       "      <td>12 BROOKLYN</td>\n",
       "      <td>8214</td>\n",
       "    </tr>\n",
       "    <tr>\n",
       "      <th>30</th>\n",
       "      <td>07 MANHATTAN</td>\n",
       "      <td>8141</td>\n",
       "    </tr>\n",
       "    <tr>\n",
       "      <th>36</th>\n",
       "      <td>09 BRONX</td>\n",
       "      <td>8092</td>\n",
       "    </tr>\n",
       "    <tr>\n",
       "      <th>41</th>\n",
       "      <td>10 BROOKLYN</td>\n",
       "      <td>7808</td>\n",
       "    </tr>\n",
       "    <tr>\n",
       "      <th>33</th>\n",
       "      <td>08 BROOKLYN</td>\n",
       "      <td>7797</td>\n",
       "    </tr>\n",
       "    <tr>\n",
       "      <th>7</th>\n",
       "      <td>02 BROOKLYN</td>\n",
       "      <td>7747</td>\n",
       "    </tr>\n",
       "    <tr>\n",
       "      <th>37</th>\n",
       "      <td>09 BROOKLYN</td>\n",
       "      <td>7571</td>\n",
       "    </tr>\n",
       "    <tr>\n",
       "      <th>25</th>\n",
       "      <td>06 BROOKLYN</td>\n",
       "      <td>7373</td>\n",
       "    </tr>\n",
       "    <tr>\n",
       "      <th>10</th>\n",
       "      <td>02 STATEN ISLAND</td>\n",
       "      <td>7059</td>\n",
       "    </tr>\n",
       "    <tr>\n",
       "      <th>0</th>\n",
       "      <td>0 Unspecified</td>\n",
       "      <td>6882</td>\n",
       "    </tr>\n",
       "    <tr>\n",
       "      <th>14</th>\n",
       "      <td>03 QUEENS</td>\n",
       "      <td>6799</td>\n",
       "    </tr>\n",
       "    <tr>\n",
       "      <th>38</th>\n",
       "      <td>09 MANHATTAN</td>\n",
       "      <td>6792</td>\n",
       "    </tr>\n",
       "    <tr>\n",
       "      <th>73</th>\n",
       "      <td>Unspecified BROOKLYN</td>\n",
       "      <td>6771</td>\n",
       "    </tr>\n",
       "    <tr>\n",
       "      <th>18</th>\n",
       "      <td>04 MANHATTAN</td>\n",
       "      <td>6765</td>\n",
       "    </tr>\n",
       "    <tr>\n",
       "      <th>22</th>\n",
       "      <td>05 MANHATTAN</td>\n",
       "      <td>6599</td>\n",
       "    </tr>\n",
       "    <tr>\n",
       "      <th>34</th>\n",
       "      <td>08 MANHATTAN</td>\n",
       "      <td>6579</td>\n",
       "    </tr>\n",
       "    <tr>\n",
       "      <th>8</th>\n",
       "      <td>02 MANHATTAN</td>\n",
       "      <td>6514</td>\n",
       "    </tr>\n",
       "    <tr>\n",
       "      <th>44</th>\n",
       "      <td>11 BRONX</td>\n",
       "      <td>6448</td>\n",
       "    </tr>\n",
       "    <tr>\n",
       "      <th>74</th>\n",
       "      <td>Unspecified MANHATTAN</td>\n",
       "      <td>6427</td>\n",
       "    </tr>\n",
       "    <tr>\n",
       "      <th>29</th>\n",
       "      <td>07 BROOKLYN</td>\n",
       "      <td>6364</td>\n",
       "    </tr>\n",
       "    <tr>\n",
       "      <th>9</th>\n",
       "      <td>02 QUEENS</td>\n",
       "      <td>6142</td>\n",
       "    </tr>\n",
       "    <tr>\n",
       "      <th>19</th>\n",
       "      <td>04 QUEENS</td>\n",
       "      <td>5824</td>\n",
       "    </tr>\n",
       "    <tr>\n",
       "      <th>32</th>\n",
       "      <td>08 BRONX</td>\n",
       "      <td>5753</td>\n",
       "    </tr>\n",
       "    <tr>\n",
       "      <th>47</th>\n",
       "      <td>11 QUEENS</td>\n",
       "      <td>5748</td>\n",
       "    </tr>\n",
       "    <tr>\n",
       "      <th>24</th>\n",
       "      <td>06 BRONX</td>\n",
       "      <td>5746</td>\n",
       "    </tr>\n",
       "    <tr>\n",
       "      <th>40</th>\n",
       "      <td>10 BRONX</td>\n",
       "      <td>5719</td>\n",
       "    </tr>\n",
       "    <tr>\n",
       "      <th>46</th>\n",
       "      <td>11 MANHATTAN</td>\n",
       "      <td>5714</td>\n",
       "    </tr>\n",
       "    <tr>\n",
       "      <th>72</th>\n",
       "      <td>Unspecified BRONX</td>\n",
       "      <td>5349</td>\n",
       "    </tr>\n",
       "    <tr>\n",
       "      <th>55</th>\n",
       "      <td>14 QUEENS</td>\n",
       "      <td>5284</td>\n",
       "    </tr>\n",
       "    <tr>\n",
       "      <th>11</th>\n",
       "      <td>03 BRONX</td>\n",
       "      <td>5262</td>\n",
       "    </tr>\n",
       "    <tr>\n",
       "      <th>26</th>\n",
       "      <td>06 MANHATTAN</td>\n",
       "      <td>5158</td>\n",
       "    </tr>\n",
       "    <tr>\n",
       "      <th>57</th>\n",
       "      <td>16 BROOKLYN</td>\n",
       "      <td>5100</td>\n",
       "    </tr>\n",
       "    <tr>\n",
       "      <th>1</th>\n",
       "      <td>01 BRONX</td>\n",
       "      <td>4915</td>\n",
       "    </tr>\n",
       "    <tr>\n",
       "      <th>75</th>\n",
       "      <td>Unspecified QUEENS</td>\n",
       "      <td>4870</td>\n",
       "    </tr>\n",
       "    <tr>\n",
       "      <th>27</th>\n",
       "      <td>06 QUEENS</td>\n",
       "      <td>4607</td>\n",
       "    </tr>\n",
       "    <tr>\n",
       "      <th>52</th>\n",
       "      <td>13 BROOKLYN</td>\n",
       "      <td>3840</td>\n",
       "    </tr>\n",
       "    <tr>\n",
       "      <th>3</th>\n",
       "      <td>01 MANHATTAN</td>\n",
       "      <td>3623</td>\n",
       "    </tr>\n",
       "    <tr>\n",
       "      <th>6</th>\n",
       "      <td>02 BRONX</td>\n",
       "      <td>3470</td>\n",
       "    </tr>\n",
       "    <tr>\n",
       "      <th>76</th>\n",
       "      <td>Unspecified STATEN ISLAND</td>\n",
       "      <td>541</td>\n",
       "    </tr>\n",
       "    <tr>\n",
       "      <th>69</th>\n",
       "      <td>83 QUEENS</td>\n",
       "      <td>193</td>\n",
       "    </tr>\n",
       "    <tr>\n",
       "      <th>65</th>\n",
       "      <td>64 MANHATTAN</td>\n",
       "      <td>126</td>\n",
       "    </tr>\n",
       "    <tr>\n",
       "      <th>66</th>\n",
       "      <td>80 QUEENS</td>\n",
       "      <td>102</td>\n",
       "    </tr>\n",
       "    <tr>\n",
       "      <th>68</th>\n",
       "      <td>82 QUEENS</td>\n",
       "      <td>72</td>\n",
       "    </tr>\n",
       "    <tr>\n",
       "      <th>67</th>\n",
       "      <td>81 QUEENS</td>\n",
       "      <td>54</td>\n",
       "    </tr>\n",
       "    <tr>\n",
       "      <th>63</th>\n",
       "      <td>55 BROOKLYN</td>\n",
       "      <td>53</td>\n",
       "    </tr>\n",
       "    <tr>\n",
       "      <th>62</th>\n",
       "      <td>28 BRONX</td>\n",
       "      <td>26</td>\n",
       "    </tr>\n",
       "    <tr>\n",
       "      <th>60</th>\n",
       "      <td>26 BRONX</td>\n",
       "      <td>25</td>\n",
       "    </tr>\n",
       "    <tr>\n",
       "      <th>71</th>\n",
       "      <td>95 STATEN ISLAND</td>\n",
       "      <td>21</td>\n",
       "    </tr>\n",
       "    <tr>\n",
       "      <th>70</th>\n",
       "      <td>84 QUEENS</td>\n",
       "      <td>18</td>\n",
       "    </tr>\n",
       "    <tr>\n",
       "      <th>61</th>\n",
       "      <td>27 BRONX</td>\n",
       "      <td>17</td>\n",
       "    </tr>\n",
       "    <tr>\n",
       "      <th>64</th>\n",
       "      <td>56 BROOKLYN</td>\n",
       "      <td>13</td>\n",
       "    </tr>\n",
       "  </tbody>\n",
       "</table>\n",
       "</div>"
      ],
      "text/plain": [
       "              Community Board  num_311_requests\n",
       "50               12 MANHATTAN             14110\n",
       "23                  05 QUEENS             12487\n",
       "51                  12 QUEENS             12228\n",
       "2                 01 BROOKLYN             11863\n",
       "12                03 BROOKLYN             11615\n",
       "5            01 STATEN ISLAND             11438\n",
       "31                  07 QUEENS             11210\n",
       "21                05 BROOKLYN             10862\n",
       "16                   04 BRONX             10628\n",
       "4                   01 QUEENS             10410\n",
       "58                17 BROOKLYN             10208\n",
       "54                14 BROOKLYN             10179\n",
       "28                   07 BRONX              9841\n",
       "59                18 BROOKLYN              9717\n",
       "39                  09 QUEENS              9599\n",
       "53                  13 QUEENS              9459\n",
       "48                   12 BRONX              9412\n",
       "45                11 BROOKLYN              9309\n",
       "20                   05 BRONX              9094\n",
       "13               03 MANHATTAN              8905\n",
       "35                  08 QUEENS              8661\n",
       "17                04 BROOKLYN              8639\n",
       "42               10 MANHATTAN              8592\n",
       "15           03 STATEN ISLAND              8524\n",
       "56                15 BROOKLYN              8508\n",
       "43                  10 QUEENS              8333\n",
       "49                12 BROOKLYN              8214\n",
       "30               07 MANHATTAN              8141\n",
       "36                   09 BRONX              8092\n",
       "41                10 BROOKLYN              7808\n",
       "33                08 BROOKLYN              7797\n",
       "7                 02 BROOKLYN              7747\n",
       "37                09 BROOKLYN              7571\n",
       "25                06 BROOKLYN              7373\n",
       "10           02 STATEN ISLAND              7059\n",
       "0               0 Unspecified              6882\n",
       "14                  03 QUEENS              6799\n",
       "38               09 MANHATTAN              6792\n",
       "73       Unspecified BROOKLYN              6771\n",
       "18               04 MANHATTAN              6765\n",
       "22               05 MANHATTAN              6599\n",
       "34               08 MANHATTAN              6579\n",
       "8                02 MANHATTAN              6514\n",
       "44                   11 BRONX              6448\n",
       "74      Unspecified MANHATTAN              6427\n",
       "29                07 BROOKLYN              6364\n",
       "9                   02 QUEENS              6142\n",
       "19                  04 QUEENS              5824\n",
       "32                   08 BRONX              5753\n",
       "47                  11 QUEENS              5748\n",
       "24                   06 BRONX              5746\n",
       "40                   10 BRONX              5719\n",
       "46               11 MANHATTAN              5714\n",
       "72          Unspecified BRONX              5349\n",
       "55                  14 QUEENS              5284\n",
       "11                   03 BRONX              5262\n",
       "26               06 MANHATTAN              5158\n",
       "57                16 BROOKLYN              5100\n",
       "1                    01 BRONX              4915\n",
       "75         Unspecified QUEENS              4870\n",
       "27                  06 QUEENS              4607\n",
       "52                13 BROOKLYN              3840\n",
       "3                01 MANHATTAN              3623\n",
       "6                    02 BRONX              3470\n",
       "76  Unspecified STATEN ISLAND               541\n",
       "69                  83 QUEENS               193\n",
       "65               64 MANHATTAN               126\n",
       "66                  80 QUEENS               102\n",
       "68                  82 QUEENS                72\n",
       "67                  81 QUEENS                54\n",
       "63                55 BROOKLYN                53\n",
       "62                   28 BRONX                26\n",
       "60                   26 BRONX                25\n",
       "71           95 STATEN ISLAND                21\n",
       "70                  84 QUEENS                18\n",
       "61                   27 BRONX                17\n",
       "64                56 BROOKLYN                13"
      ]
     },
     "execution_count": 13,
     "metadata": {},
     "output_type": "execute_result"
    }
   ],
   "source": [
    "cb_counts = requests.groupby('Community Board').size().reset_index(name='num_311_requests')\n",
    "cb_counts = cb_counts.sort_values('num_311_requests', ascending=False)\n",
    "cb_counts"
   ]
  },
  {
   "cell_type": "markdown",
   "metadata": {
    "id": "s5AxyZT-Zpwi",
    "slideshow": {
     "slide_type": "slide"
    }
   },
   "source": [
    "## **Research Question:** What may account for the variance in count of requests per community district?"
   ]
  },
  {
   "cell_type": "markdown",
   "metadata": {
    "id": "1Ktasr6uU3nf",
    "slideshow": {
     "slide_type": "subslide"
    }
   },
   "source": [
    "## **Hypothesis:** Population size may help explain the variance.\n",
    "\n",
    "We can combine the counts per community district dataset with population data for each community district."
   ]
  },
  {
   "cell_type": "markdown",
   "metadata": {
    "slideshow": {
     "slide_type": "subslide"
    }
   },
   "source": [
    "We'll use [pandas' `.merge()`](https://pandas.pydata.org/pandas-docs/stable/user_guide/merging.html#database-style-dataframe-or-named-series-joining-merging), comparable to:\n",
    "\n",
    "- [SQL `JOIN`](https://pandas.pydata.org/pandas-docs/stable/getting_started/comparison/comparison_with_sql.html#join)\n",
    "- [Spreadsheet `VLOOKUP`](https://pandas.pydata.org/pandas-docs/stable/getting_started/comparison/comparison_with_spreadsheets.html#merging)\n",
    "\n",
    "In general, called [\"record linkage\" or \"entity resolution\"](https://en.wikipedia.org/wiki/Record_linkage)."
   ]
  },
  {
   "cell_type": "markdown",
   "metadata": {
    "id": "lEoPetIGbg7k",
    "slideshow": {
     "slide_type": "subslide"
    }
   },
   "source": [
    "## Let's load the population dataset and check out its contents\n",
    "\n",
    "[Data source for population by Community District](https://data.cityofnewyork.us/City-Government/New-York-City-Population-By-Community-Districts/xi7c-iiu2/data)"
   ]
  },
  {
   "cell_type": "code",
   "execution_count": 14,
   "metadata": {
    "execution": {
     "iopub.execute_input": "2022-04-07T22:15:14.643716Z",
     "iopub.status.busy": "2022-04-07T22:15:14.643514Z",
     "iopub.status.idle": "2022-04-07T22:15:14.843563Z",
     "shell.execute_reply": "2022-04-07T22:15:14.843007Z"
    },
    "id": "jlzc9UNEMSk0",
    "outputId": "8a696452-a4ea-41f1-ab71-b3e01f6c359e",
    "scrolled": true
   },
   "outputs": [
    {
     "ename": "URLError",
     "evalue": "<urlopen error [Errno 8] nodename nor servname provided, or not known>",
     "output_type": "error",
     "traceback": [
      "\u001b[0;31m---------------------------------------------------------------------------\u001b[0m",
      "\u001b[0;31mgaierror\u001b[0m                                  Traceback (most recent call last)",
      "File \u001b[0;32m/usr/local/Caskroom/miniconda/base/envs/python-public-policy/lib/python3.10/urllib/request.py:1348\u001b[0m, in \u001b[0;36mAbstractHTTPHandler.do_open\u001b[0;34m(self, http_class, req, **http_conn_args)\u001b[0m\n\u001b[1;32m   1347\u001b[0m \u001b[38;5;28;01mtry\u001b[39;00m:\n\u001b[0;32m-> 1348\u001b[0m     \u001b[43mh\u001b[49m\u001b[38;5;241;43m.\u001b[39;49m\u001b[43mrequest\u001b[49m\u001b[43m(\u001b[49m\u001b[43mreq\u001b[49m\u001b[38;5;241;43m.\u001b[39;49m\u001b[43mget_method\u001b[49m\u001b[43m(\u001b[49m\u001b[43m)\u001b[49m\u001b[43m,\u001b[49m\u001b[43m \u001b[49m\u001b[43mreq\u001b[49m\u001b[38;5;241;43m.\u001b[39;49m\u001b[43mselector\u001b[49m\u001b[43m,\u001b[49m\u001b[43m \u001b[49m\u001b[43mreq\u001b[49m\u001b[38;5;241;43m.\u001b[39;49m\u001b[43mdata\u001b[49m\u001b[43m,\u001b[49m\u001b[43m \u001b[49m\u001b[43mheaders\u001b[49m\u001b[43m,\u001b[49m\n\u001b[1;32m   1349\u001b[0m \u001b[43m              \u001b[49m\u001b[43mencode_chunked\u001b[49m\u001b[38;5;241;43m=\u001b[39;49m\u001b[43mreq\u001b[49m\u001b[38;5;241;43m.\u001b[39;49m\u001b[43mhas_header\u001b[49m\u001b[43m(\u001b[49m\u001b[38;5;124;43m'\u001b[39;49m\u001b[38;5;124;43mTransfer-encoding\u001b[39;49m\u001b[38;5;124;43m'\u001b[39;49m\u001b[43m)\u001b[49m\u001b[43m)\u001b[49m\n\u001b[1;32m   1350\u001b[0m \u001b[38;5;28;01mexcept\u001b[39;00m \u001b[38;5;167;01mOSError\u001b[39;00m \u001b[38;5;28;01mas\u001b[39;00m err: \u001b[38;5;66;03m# timeout error\u001b[39;00m\n",
      "File \u001b[0;32m/usr/local/Caskroom/miniconda/base/envs/python-public-policy/lib/python3.10/http/client.py:1282\u001b[0m, in \u001b[0;36mHTTPConnection.request\u001b[0;34m(self, method, url, body, headers, encode_chunked)\u001b[0m\n\u001b[1;32m   1281\u001b[0m \u001b[38;5;124;03m\"\"\"Send a complete request to the server.\"\"\"\u001b[39;00m\n\u001b[0;32m-> 1282\u001b[0m \u001b[38;5;28;43mself\u001b[39;49m\u001b[38;5;241;43m.\u001b[39;49m\u001b[43m_send_request\u001b[49m\u001b[43m(\u001b[49m\u001b[43mmethod\u001b[49m\u001b[43m,\u001b[49m\u001b[43m \u001b[49m\u001b[43murl\u001b[49m\u001b[43m,\u001b[49m\u001b[43m \u001b[49m\u001b[43mbody\u001b[49m\u001b[43m,\u001b[49m\u001b[43m \u001b[49m\u001b[43mheaders\u001b[49m\u001b[43m,\u001b[49m\u001b[43m \u001b[49m\u001b[43mencode_chunked\u001b[49m\u001b[43m)\u001b[49m\n",
      "File \u001b[0;32m/usr/local/Caskroom/miniconda/base/envs/python-public-policy/lib/python3.10/http/client.py:1328\u001b[0m, in \u001b[0;36mHTTPConnection._send_request\u001b[0;34m(self, method, url, body, headers, encode_chunked)\u001b[0m\n\u001b[1;32m   1327\u001b[0m     body \u001b[38;5;241m=\u001b[39m _encode(body, \u001b[38;5;124m'\u001b[39m\u001b[38;5;124mbody\u001b[39m\u001b[38;5;124m'\u001b[39m)\n\u001b[0;32m-> 1328\u001b[0m \u001b[38;5;28;43mself\u001b[39;49m\u001b[38;5;241;43m.\u001b[39;49m\u001b[43mendheaders\u001b[49m\u001b[43m(\u001b[49m\u001b[43mbody\u001b[49m\u001b[43m,\u001b[49m\u001b[43m \u001b[49m\u001b[43mencode_chunked\u001b[49m\u001b[38;5;241;43m=\u001b[39;49m\u001b[43mencode_chunked\u001b[49m\u001b[43m)\u001b[49m\n",
      "File \u001b[0;32m/usr/local/Caskroom/miniconda/base/envs/python-public-policy/lib/python3.10/http/client.py:1277\u001b[0m, in \u001b[0;36mHTTPConnection.endheaders\u001b[0;34m(self, message_body, encode_chunked)\u001b[0m\n\u001b[1;32m   1276\u001b[0m     \u001b[38;5;28;01mraise\u001b[39;00m CannotSendHeader()\n\u001b[0;32m-> 1277\u001b[0m \u001b[38;5;28;43mself\u001b[39;49m\u001b[38;5;241;43m.\u001b[39;49m\u001b[43m_send_output\u001b[49m\u001b[43m(\u001b[49m\u001b[43mmessage_body\u001b[49m\u001b[43m,\u001b[49m\u001b[43m \u001b[49m\u001b[43mencode_chunked\u001b[49m\u001b[38;5;241;43m=\u001b[39;49m\u001b[43mencode_chunked\u001b[49m\u001b[43m)\u001b[49m\n",
      "File \u001b[0;32m/usr/local/Caskroom/miniconda/base/envs/python-public-policy/lib/python3.10/http/client.py:1037\u001b[0m, in \u001b[0;36mHTTPConnection._send_output\u001b[0;34m(self, message_body, encode_chunked)\u001b[0m\n\u001b[1;32m   1036\u001b[0m \u001b[38;5;28;01mdel\u001b[39;00m \u001b[38;5;28mself\u001b[39m\u001b[38;5;241m.\u001b[39m_buffer[:]\n\u001b[0;32m-> 1037\u001b[0m \u001b[38;5;28;43mself\u001b[39;49m\u001b[38;5;241;43m.\u001b[39;49m\u001b[43msend\u001b[49m\u001b[43m(\u001b[49m\u001b[43mmsg\u001b[49m\u001b[43m)\u001b[49m\n\u001b[1;32m   1039\u001b[0m \u001b[38;5;28;01mif\u001b[39;00m message_body \u001b[38;5;129;01mis\u001b[39;00m \u001b[38;5;129;01mnot\u001b[39;00m \u001b[38;5;28;01mNone\u001b[39;00m:\n\u001b[1;32m   1040\u001b[0m \n\u001b[1;32m   1041\u001b[0m     \u001b[38;5;66;03m# create a consistent interface to message_body\u001b[39;00m\n",
      "File \u001b[0;32m/usr/local/Caskroom/miniconda/base/envs/python-public-policy/lib/python3.10/http/client.py:975\u001b[0m, in \u001b[0;36mHTTPConnection.send\u001b[0;34m(self, data)\u001b[0m\n\u001b[1;32m    974\u001b[0m \u001b[38;5;28;01mif\u001b[39;00m \u001b[38;5;28mself\u001b[39m\u001b[38;5;241m.\u001b[39mauto_open:\n\u001b[0;32m--> 975\u001b[0m     \u001b[38;5;28;43mself\u001b[39;49m\u001b[38;5;241;43m.\u001b[39;49m\u001b[43mconnect\u001b[49m\u001b[43m(\u001b[49m\u001b[43m)\u001b[49m\n\u001b[1;32m    976\u001b[0m \u001b[38;5;28;01melse\u001b[39;00m:\n",
      "File \u001b[0;32m/usr/local/Caskroom/miniconda/base/envs/python-public-policy/lib/python3.10/http/client.py:1447\u001b[0m, in \u001b[0;36mHTTPSConnection.connect\u001b[0;34m(self)\u001b[0m\n\u001b[1;32m   1445\u001b[0m \u001b[38;5;124m\"\u001b[39m\u001b[38;5;124mConnect to a host on a given (SSL) port.\u001b[39m\u001b[38;5;124m\"\u001b[39m\n\u001b[0;32m-> 1447\u001b[0m \u001b[38;5;28;43msuper\u001b[39;49m\u001b[43m(\u001b[49m\u001b[43m)\u001b[49m\u001b[38;5;241;43m.\u001b[39;49m\u001b[43mconnect\u001b[49m\u001b[43m(\u001b[49m\u001b[43m)\u001b[49m\n\u001b[1;32m   1449\u001b[0m \u001b[38;5;28;01mif\u001b[39;00m \u001b[38;5;28mself\u001b[39m\u001b[38;5;241m.\u001b[39m_tunnel_host:\n",
      "File \u001b[0;32m/usr/local/Caskroom/miniconda/base/envs/python-public-policy/lib/python3.10/http/client.py:941\u001b[0m, in \u001b[0;36mHTTPConnection.connect\u001b[0;34m(self)\u001b[0m\n\u001b[1;32m    940\u001b[0m sys\u001b[38;5;241m.\u001b[39maudit(\u001b[38;5;124m\"\u001b[39m\u001b[38;5;124mhttp.client.connect\u001b[39m\u001b[38;5;124m\"\u001b[39m, \u001b[38;5;28mself\u001b[39m, \u001b[38;5;28mself\u001b[39m\u001b[38;5;241m.\u001b[39mhost, \u001b[38;5;28mself\u001b[39m\u001b[38;5;241m.\u001b[39mport)\n\u001b[0;32m--> 941\u001b[0m \u001b[38;5;28mself\u001b[39m\u001b[38;5;241m.\u001b[39msock \u001b[38;5;241m=\u001b[39m \u001b[38;5;28;43mself\u001b[39;49m\u001b[38;5;241;43m.\u001b[39;49m\u001b[43m_create_connection\u001b[49m\u001b[43m(\u001b[49m\n\u001b[1;32m    942\u001b[0m \u001b[43m    \u001b[49m\u001b[43m(\u001b[49m\u001b[38;5;28;43mself\u001b[39;49m\u001b[38;5;241;43m.\u001b[39;49m\u001b[43mhost\u001b[49m\u001b[43m,\u001b[49m\u001b[38;5;28;43mself\u001b[39;49m\u001b[38;5;241;43m.\u001b[39;49m\u001b[43mport\u001b[49m\u001b[43m)\u001b[49m\u001b[43m,\u001b[49m\u001b[43m \u001b[49m\u001b[38;5;28;43mself\u001b[39;49m\u001b[38;5;241;43m.\u001b[39;49m\u001b[43mtimeout\u001b[49m\u001b[43m,\u001b[49m\u001b[43m \u001b[49m\u001b[38;5;28;43mself\u001b[39;49m\u001b[38;5;241;43m.\u001b[39;49m\u001b[43msource_address\u001b[49m\u001b[43m)\u001b[49m\n\u001b[1;32m    943\u001b[0m \u001b[38;5;66;03m# Might fail in OSs that don't implement TCP_NODELAY\u001b[39;00m\n",
      "File \u001b[0;32m/usr/local/Caskroom/miniconda/base/envs/python-public-policy/lib/python3.10/socket.py:824\u001b[0m, in \u001b[0;36mcreate_connection\u001b[0;34m(address, timeout, source_address)\u001b[0m\n\u001b[1;32m    823\u001b[0m err \u001b[38;5;241m=\u001b[39m \u001b[38;5;28;01mNone\u001b[39;00m\n\u001b[0;32m--> 824\u001b[0m \u001b[38;5;28;01mfor\u001b[39;00m res \u001b[38;5;129;01min\u001b[39;00m \u001b[43mgetaddrinfo\u001b[49m\u001b[43m(\u001b[49m\u001b[43mhost\u001b[49m\u001b[43m,\u001b[49m\u001b[43m \u001b[49m\u001b[43mport\u001b[49m\u001b[43m,\u001b[49m\u001b[43m \u001b[49m\u001b[38;5;241;43m0\u001b[39;49m\u001b[43m,\u001b[49m\u001b[43m \u001b[49m\u001b[43mSOCK_STREAM\u001b[49m\u001b[43m)\u001b[49m:\n\u001b[1;32m    825\u001b[0m     af, socktype, proto, canonname, sa \u001b[38;5;241m=\u001b[39m res\n",
      "File \u001b[0;32m/usr/local/Caskroom/miniconda/base/envs/python-public-policy/lib/python3.10/socket.py:955\u001b[0m, in \u001b[0;36mgetaddrinfo\u001b[0;34m(host, port, family, type, proto, flags)\u001b[0m\n\u001b[1;32m    954\u001b[0m addrlist \u001b[38;5;241m=\u001b[39m []\n\u001b[0;32m--> 955\u001b[0m \u001b[38;5;28;01mfor\u001b[39;00m res \u001b[38;5;129;01min\u001b[39;00m \u001b[43m_socket\u001b[49m\u001b[38;5;241;43m.\u001b[39;49m\u001b[43mgetaddrinfo\u001b[49m\u001b[43m(\u001b[49m\u001b[43mhost\u001b[49m\u001b[43m,\u001b[49m\u001b[43m \u001b[49m\u001b[43mport\u001b[49m\u001b[43m,\u001b[49m\u001b[43m \u001b[49m\u001b[43mfamily\u001b[49m\u001b[43m,\u001b[49m\u001b[43m \u001b[49m\u001b[38;5;28;43mtype\u001b[39;49m\u001b[43m,\u001b[49m\u001b[43m \u001b[49m\u001b[43mproto\u001b[49m\u001b[43m,\u001b[49m\u001b[43m \u001b[49m\u001b[43mflags\u001b[49m\u001b[43m)\u001b[49m:\n\u001b[1;32m    956\u001b[0m     af, socktype, proto, canonname, sa \u001b[38;5;241m=\u001b[39m res\n",
      "\u001b[0;31mgaierror\u001b[0m: [Errno 8] nodename nor servname provided, or not known",
      "\nDuring handling of the above exception, another exception occurred:\n",
      "\u001b[0;31mURLError\u001b[0m                                  Traceback (most recent call last)",
      "Input \u001b[0;32mIn [14]\u001b[0m, in \u001b[0;36m<cell line: 1>\u001b[0;34m()\u001b[0m\n\u001b[0;32m----> 1\u001b[0m population \u001b[38;5;241m=\u001b[39m \u001b[43mpd\u001b[49m\u001b[38;5;241;43m.\u001b[39;49m\u001b[43mread_csv\u001b[49m\u001b[43m(\u001b[49m\u001b[38;5;124;43m'\u001b[39;49m\u001b[38;5;124;43mhttps://data.cityofnewyork.us/api/views/xi7c-iiu2/rows.csv\u001b[39;49m\u001b[38;5;124;43m'\u001b[39;49m\u001b[43m)\u001b[49m\n\u001b[1;32m      2\u001b[0m population\u001b[38;5;241m.\u001b[39mhead()\n",
      "File \u001b[0;32m/usr/local/Caskroom/miniconda/base/envs/python-public-policy/lib/python3.10/site-packages/pandas/util/_decorators.py:311\u001b[0m, in \u001b[0;36mdeprecate_nonkeyword_arguments.<locals>.decorate.<locals>.wrapper\u001b[0;34m(*args, **kwargs)\u001b[0m\n\u001b[1;32m    305\u001b[0m \u001b[38;5;28;01mif\u001b[39;00m \u001b[38;5;28mlen\u001b[39m(args) \u001b[38;5;241m>\u001b[39m num_allow_args:\n\u001b[1;32m    306\u001b[0m     warnings\u001b[38;5;241m.\u001b[39mwarn(\n\u001b[1;32m    307\u001b[0m         msg\u001b[38;5;241m.\u001b[39mformat(arguments\u001b[38;5;241m=\u001b[39marguments),\n\u001b[1;32m    308\u001b[0m         \u001b[38;5;167;01mFutureWarning\u001b[39;00m,\n\u001b[1;32m    309\u001b[0m         stacklevel\u001b[38;5;241m=\u001b[39mstacklevel,\n\u001b[1;32m    310\u001b[0m     )\n\u001b[0;32m--> 311\u001b[0m \u001b[38;5;28;01mreturn\u001b[39;00m \u001b[43mfunc\u001b[49m\u001b[43m(\u001b[49m\u001b[38;5;241;43m*\u001b[39;49m\u001b[43margs\u001b[49m\u001b[43m,\u001b[49m\u001b[43m \u001b[49m\u001b[38;5;241;43m*\u001b[39;49m\u001b[38;5;241;43m*\u001b[39;49m\u001b[43mkwargs\u001b[49m\u001b[43m)\u001b[49m\n",
      "File \u001b[0;32m/usr/local/Caskroom/miniconda/base/envs/python-public-policy/lib/python3.10/site-packages/pandas/io/parsers/readers.py:680\u001b[0m, in \u001b[0;36mread_csv\u001b[0;34m(filepath_or_buffer, sep, delimiter, header, names, index_col, usecols, squeeze, prefix, mangle_dupe_cols, dtype, engine, converters, true_values, false_values, skipinitialspace, skiprows, skipfooter, nrows, na_values, keep_default_na, na_filter, verbose, skip_blank_lines, parse_dates, infer_datetime_format, keep_date_col, date_parser, dayfirst, cache_dates, iterator, chunksize, compression, thousands, decimal, lineterminator, quotechar, quoting, doublequote, escapechar, comment, encoding, encoding_errors, dialect, error_bad_lines, warn_bad_lines, on_bad_lines, delim_whitespace, low_memory, memory_map, float_precision, storage_options)\u001b[0m\n\u001b[1;32m    665\u001b[0m kwds_defaults \u001b[38;5;241m=\u001b[39m _refine_defaults_read(\n\u001b[1;32m    666\u001b[0m     dialect,\n\u001b[1;32m    667\u001b[0m     delimiter,\n\u001b[0;32m   (...)\u001b[0m\n\u001b[1;32m    676\u001b[0m     defaults\u001b[38;5;241m=\u001b[39m{\u001b[38;5;124m\"\u001b[39m\u001b[38;5;124mdelimiter\u001b[39m\u001b[38;5;124m\"\u001b[39m: \u001b[38;5;124m\"\u001b[39m\u001b[38;5;124m,\u001b[39m\u001b[38;5;124m\"\u001b[39m},\n\u001b[1;32m    677\u001b[0m )\n\u001b[1;32m    678\u001b[0m kwds\u001b[38;5;241m.\u001b[39mupdate(kwds_defaults)\n\u001b[0;32m--> 680\u001b[0m \u001b[38;5;28;01mreturn\u001b[39;00m \u001b[43m_read\u001b[49m\u001b[43m(\u001b[49m\u001b[43mfilepath_or_buffer\u001b[49m\u001b[43m,\u001b[49m\u001b[43m \u001b[49m\u001b[43mkwds\u001b[49m\u001b[43m)\u001b[49m\n",
      "File \u001b[0;32m/usr/local/Caskroom/miniconda/base/envs/python-public-policy/lib/python3.10/site-packages/pandas/io/parsers/readers.py:575\u001b[0m, in \u001b[0;36m_read\u001b[0;34m(filepath_or_buffer, kwds)\u001b[0m\n\u001b[1;32m    572\u001b[0m _validate_names(kwds\u001b[38;5;241m.\u001b[39mget(\u001b[38;5;124m\"\u001b[39m\u001b[38;5;124mnames\u001b[39m\u001b[38;5;124m\"\u001b[39m, \u001b[38;5;28;01mNone\u001b[39;00m))\n\u001b[1;32m    574\u001b[0m \u001b[38;5;66;03m# Create the parser.\u001b[39;00m\n\u001b[0;32m--> 575\u001b[0m parser \u001b[38;5;241m=\u001b[39m \u001b[43mTextFileReader\u001b[49m\u001b[43m(\u001b[49m\u001b[43mfilepath_or_buffer\u001b[49m\u001b[43m,\u001b[49m\u001b[43m \u001b[49m\u001b[38;5;241;43m*\u001b[39;49m\u001b[38;5;241;43m*\u001b[39;49m\u001b[43mkwds\u001b[49m\u001b[43m)\u001b[49m\n\u001b[1;32m    577\u001b[0m \u001b[38;5;28;01mif\u001b[39;00m chunksize \u001b[38;5;129;01mor\u001b[39;00m iterator:\n\u001b[1;32m    578\u001b[0m     \u001b[38;5;28;01mreturn\u001b[39;00m parser\n",
      "File \u001b[0;32m/usr/local/Caskroom/miniconda/base/envs/python-public-policy/lib/python3.10/site-packages/pandas/io/parsers/readers.py:933\u001b[0m, in \u001b[0;36mTextFileReader.__init__\u001b[0;34m(self, f, engine, **kwds)\u001b[0m\n\u001b[1;32m    930\u001b[0m     \u001b[38;5;28mself\u001b[39m\u001b[38;5;241m.\u001b[39moptions[\u001b[38;5;124m\"\u001b[39m\u001b[38;5;124mhas_index_names\u001b[39m\u001b[38;5;124m\"\u001b[39m] \u001b[38;5;241m=\u001b[39m kwds[\u001b[38;5;124m\"\u001b[39m\u001b[38;5;124mhas_index_names\u001b[39m\u001b[38;5;124m\"\u001b[39m]\n\u001b[1;32m    932\u001b[0m \u001b[38;5;28mself\u001b[39m\u001b[38;5;241m.\u001b[39mhandles: IOHandles \u001b[38;5;241m|\u001b[39m \u001b[38;5;28;01mNone\u001b[39;00m \u001b[38;5;241m=\u001b[39m \u001b[38;5;28;01mNone\u001b[39;00m\n\u001b[0;32m--> 933\u001b[0m \u001b[38;5;28mself\u001b[39m\u001b[38;5;241m.\u001b[39m_engine \u001b[38;5;241m=\u001b[39m \u001b[38;5;28;43mself\u001b[39;49m\u001b[38;5;241;43m.\u001b[39;49m\u001b[43m_make_engine\u001b[49m\u001b[43m(\u001b[49m\u001b[43mf\u001b[49m\u001b[43m,\u001b[49m\u001b[43m \u001b[49m\u001b[38;5;28;43mself\u001b[39;49m\u001b[38;5;241;43m.\u001b[39;49m\u001b[43mengine\u001b[49m\u001b[43m)\u001b[49m\n",
      "File \u001b[0;32m/usr/local/Caskroom/miniconda/base/envs/python-public-policy/lib/python3.10/site-packages/pandas/io/parsers/readers.py:1217\u001b[0m, in \u001b[0;36mTextFileReader._make_engine\u001b[0;34m(self, f, engine)\u001b[0m\n\u001b[1;32m   1213\u001b[0m     mode \u001b[38;5;241m=\u001b[39m \u001b[38;5;124m\"\u001b[39m\u001b[38;5;124mrb\u001b[39m\u001b[38;5;124m\"\u001b[39m\n\u001b[1;32m   1214\u001b[0m \u001b[38;5;66;03m# error: No overload variant of \"get_handle\" matches argument types\u001b[39;00m\n\u001b[1;32m   1215\u001b[0m \u001b[38;5;66;03m# \"Union[str, PathLike[str], ReadCsvBuffer[bytes], ReadCsvBuffer[str]]\"\u001b[39;00m\n\u001b[1;32m   1216\u001b[0m \u001b[38;5;66;03m# , \"str\", \"bool\", \"Any\", \"Any\", \"Any\", \"Any\", \"Any\"\u001b[39;00m\n\u001b[0;32m-> 1217\u001b[0m \u001b[38;5;28mself\u001b[39m\u001b[38;5;241m.\u001b[39mhandles \u001b[38;5;241m=\u001b[39m \u001b[43mget_handle\u001b[49m\u001b[43m(\u001b[49m\u001b[43m  \u001b[49m\u001b[38;5;66;43;03m# type: ignore[call-overload]\u001b[39;49;00m\n\u001b[1;32m   1218\u001b[0m \u001b[43m    \u001b[49m\u001b[43mf\u001b[49m\u001b[43m,\u001b[49m\n\u001b[1;32m   1219\u001b[0m \u001b[43m    \u001b[49m\u001b[43mmode\u001b[49m\u001b[43m,\u001b[49m\n\u001b[1;32m   1220\u001b[0m \u001b[43m    \u001b[49m\u001b[43mencoding\u001b[49m\u001b[38;5;241;43m=\u001b[39;49m\u001b[38;5;28;43mself\u001b[39;49m\u001b[38;5;241;43m.\u001b[39;49m\u001b[43moptions\u001b[49m\u001b[38;5;241;43m.\u001b[39;49m\u001b[43mget\u001b[49m\u001b[43m(\u001b[49m\u001b[38;5;124;43m\"\u001b[39;49m\u001b[38;5;124;43mencoding\u001b[39;49m\u001b[38;5;124;43m\"\u001b[39;49m\u001b[43m,\u001b[49m\u001b[43m \u001b[49m\u001b[38;5;28;43;01mNone\u001b[39;49;00m\u001b[43m)\u001b[49m\u001b[43m,\u001b[49m\n\u001b[1;32m   1221\u001b[0m \u001b[43m    \u001b[49m\u001b[43mcompression\u001b[49m\u001b[38;5;241;43m=\u001b[39;49m\u001b[38;5;28;43mself\u001b[39;49m\u001b[38;5;241;43m.\u001b[39;49m\u001b[43moptions\u001b[49m\u001b[38;5;241;43m.\u001b[39;49m\u001b[43mget\u001b[49m\u001b[43m(\u001b[49m\u001b[38;5;124;43m\"\u001b[39;49m\u001b[38;5;124;43mcompression\u001b[39;49m\u001b[38;5;124;43m\"\u001b[39;49m\u001b[43m,\u001b[49m\u001b[43m \u001b[49m\u001b[38;5;28;43;01mNone\u001b[39;49;00m\u001b[43m)\u001b[49m\u001b[43m,\u001b[49m\n\u001b[1;32m   1222\u001b[0m \u001b[43m    \u001b[49m\u001b[43mmemory_map\u001b[49m\u001b[38;5;241;43m=\u001b[39;49m\u001b[38;5;28;43mself\u001b[39;49m\u001b[38;5;241;43m.\u001b[39;49m\u001b[43moptions\u001b[49m\u001b[38;5;241;43m.\u001b[39;49m\u001b[43mget\u001b[49m\u001b[43m(\u001b[49m\u001b[38;5;124;43m\"\u001b[39;49m\u001b[38;5;124;43mmemory_map\u001b[39;49m\u001b[38;5;124;43m\"\u001b[39;49m\u001b[43m,\u001b[49m\u001b[43m \u001b[49m\u001b[38;5;28;43;01mFalse\u001b[39;49;00m\u001b[43m)\u001b[49m\u001b[43m,\u001b[49m\n\u001b[1;32m   1223\u001b[0m \u001b[43m    \u001b[49m\u001b[43mis_text\u001b[49m\u001b[38;5;241;43m=\u001b[39;49m\u001b[43mis_text\u001b[49m\u001b[43m,\u001b[49m\n\u001b[1;32m   1224\u001b[0m \u001b[43m    \u001b[49m\u001b[43merrors\u001b[49m\u001b[38;5;241;43m=\u001b[39;49m\u001b[38;5;28;43mself\u001b[39;49m\u001b[38;5;241;43m.\u001b[39;49m\u001b[43moptions\u001b[49m\u001b[38;5;241;43m.\u001b[39;49m\u001b[43mget\u001b[49m\u001b[43m(\u001b[49m\u001b[38;5;124;43m\"\u001b[39;49m\u001b[38;5;124;43mencoding_errors\u001b[39;49m\u001b[38;5;124;43m\"\u001b[39;49m\u001b[43m,\u001b[49m\u001b[43m \u001b[49m\u001b[38;5;124;43m\"\u001b[39;49m\u001b[38;5;124;43mstrict\u001b[39;49m\u001b[38;5;124;43m\"\u001b[39;49m\u001b[43m)\u001b[49m\u001b[43m,\u001b[49m\n\u001b[1;32m   1225\u001b[0m \u001b[43m    \u001b[49m\u001b[43mstorage_options\u001b[49m\u001b[38;5;241;43m=\u001b[39;49m\u001b[38;5;28;43mself\u001b[39;49m\u001b[38;5;241;43m.\u001b[39;49m\u001b[43moptions\u001b[49m\u001b[38;5;241;43m.\u001b[39;49m\u001b[43mget\u001b[49m\u001b[43m(\u001b[49m\u001b[38;5;124;43m\"\u001b[39;49m\u001b[38;5;124;43mstorage_options\u001b[39;49m\u001b[38;5;124;43m\"\u001b[39;49m\u001b[43m,\u001b[49m\u001b[43m \u001b[49m\u001b[38;5;28;43;01mNone\u001b[39;49;00m\u001b[43m)\u001b[49m\u001b[43m,\u001b[49m\n\u001b[1;32m   1226\u001b[0m \u001b[43m\u001b[49m\u001b[43m)\u001b[49m\n\u001b[1;32m   1227\u001b[0m \u001b[38;5;28;01massert\u001b[39;00m \u001b[38;5;28mself\u001b[39m\u001b[38;5;241m.\u001b[39mhandles \u001b[38;5;129;01mis\u001b[39;00m \u001b[38;5;129;01mnot\u001b[39;00m \u001b[38;5;28;01mNone\u001b[39;00m\n\u001b[1;32m   1228\u001b[0m f \u001b[38;5;241m=\u001b[39m \u001b[38;5;28mself\u001b[39m\u001b[38;5;241m.\u001b[39mhandles\u001b[38;5;241m.\u001b[39mhandle\n",
      "File \u001b[0;32m/usr/local/Caskroom/miniconda/base/envs/python-public-policy/lib/python3.10/site-packages/pandas/io/common.py:670\u001b[0m, in \u001b[0;36mget_handle\u001b[0;34m(path_or_buf, mode, encoding, compression, memory_map, is_text, errors, storage_options)\u001b[0m\n\u001b[1;32m    667\u001b[0m     codecs\u001b[38;5;241m.\u001b[39mlookup_error(errors)\n\u001b[1;32m    669\u001b[0m \u001b[38;5;66;03m# open URLs\u001b[39;00m\n\u001b[0;32m--> 670\u001b[0m ioargs \u001b[38;5;241m=\u001b[39m \u001b[43m_get_filepath_or_buffer\u001b[49m\u001b[43m(\u001b[49m\n\u001b[1;32m    671\u001b[0m \u001b[43m    \u001b[49m\u001b[43mpath_or_buf\u001b[49m\u001b[43m,\u001b[49m\n\u001b[1;32m    672\u001b[0m \u001b[43m    \u001b[49m\u001b[43mencoding\u001b[49m\u001b[38;5;241;43m=\u001b[39;49m\u001b[43mencoding\u001b[49m\u001b[43m,\u001b[49m\n\u001b[1;32m    673\u001b[0m \u001b[43m    \u001b[49m\u001b[43mcompression\u001b[49m\u001b[38;5;241;43m=\u001b[39;49m\u001b[43mcompression\u001b[49m\u001b[43m,\u001b[49m\n\u001b[1;32m    674\u001b[0m \u001b[43m    \u001b[49m\u001b[43mmode\u001b[49m\u001b[38;5;241;43m=\u001b[39;49m\u001b[43mmode\u001b[49m\u001b[43m,\u001b[49m\n\u001b[1;32m    675\u001b[0m \u001b[43m    \u001b[49m\u001b[43mstorage_options\u001b[49m\u001b[38;5;241;43m=\u001b[39;49m\u001b[43mstorage_options\u001b[49m\u001b[43m,\u001b[49m\n\u001b[1;32m    676\u001b[0m \u001b[43m\u001b[49m\u001b[43m)\u001b[49m\n\u001b[1;32m    678\u001b[0m handle \u001b[38;5;241m=\u001b[39m ioargs\u001b[38;5;241m.\u001b[39mfilepath_or_buffer\n\u001b[1;32m    679\u001b[0m handles: \u001b[38;5;28mlist\u001b[39m[BaseBuffer]\n",
      "File \u001b[0;32m/usr/local/Caskroom/miniconda/base/envs/python-public-policy/lib/python3.10/site-packages/pandas/io/common.py:339\u001b[0m, in \u001b[0;36m_get_filepath_or_buffer\u001b[0;34m(filepath_or_buffer, encoding, compression, mode, storage_options)\u001b[0m\n\u001b[1;32m    337\u001b[0m \u001b[38;5;66;03m# assuming storage_options is to be interpreted as headers\u001b[39;00m\n\u001b[1;32m    338\u001b[0m req_info \u001b[38;5;241m=\u001b[39m urllib\u001b[38;5;241m.\u001b[39mrequest\u001b[38;5;241m.\u001b[39mRequest(filepath_or_buffer, headers\u001b[38;5;241m=\u001b[39mstorage_options)\n\u001b[0;32m--> 339\u001b[0m \u001b[38;5;28;01mwith\u001b[39;00m \u001b[43murlopen\u001b[49m\u001b[43m(\u001b[49m\u001b[43mreq_info\u001b[49m\u001b[43m)\u001b[49m \u001b[38;5;28;01mas\u001b[39;00m req:\n\u001b[1;32m    340\u001b[0m     content_encoding \u001b[38;5;241m=\u001b[39m req\u001b[38;5;241m.\u001b[39mheaders\u001b[38;5;241m.\u001b[39mget(\u001b[38;5;124m\"\u001b[39m\u001b[38;5;124mContent-Encoding\u001b[39m\u001b[38;5;124m\"\u001b[39m, \u001b[38;5;28;01mNone\u001b[39;00m)\n\u001b[1;32m    341\u001b[0m     \u001b[38;5;28;01mif\u001b[39;00m content_encoding \u001b[38;5;241m==\u001b[39m \u001b[38;5;124m\"\u001b[39m\u001b[38;5;124mgzip\u001b[39m\u001b[38;5;124m\"\u001b[39m:\n\u001b[1;32m    342\u001b[0m         \u001b[38;5;66;03m# Override compression based on Content-Encoding header\u001b[39;00m\n",
      "File \u001b[0;32m/usr/local/Caskroom/miniconda/base/envs/python-public-policy/lib/python3.10/site-packages/pandas/io/common.py:239\u001b[0m, in \u001b[0;36murlopen\u001b[0;34m(*args, **kwargs)\u001b[0m\n\u001b[1;32m    233\u001b[0m \u001b[38;5;124;03m\"\"\"\u001b[39;00m\n\u001b[1;32m    234\u001b[0m \u001b[38;5;124;03mLazy-import wrapper for stdlib urlopen, as that imports a big chunk of\u001b[39;00m\n\u001b[1;32m    235\u001b[0m \u001b[38;5;124;03mthe stdlib.\u001b[39;00m\n\u001b[1;32m    236\u001b[0m \u001b[38;5;124;03m\"\"\"\u001b[39;00m\n\u001b[1;32m    237\u001b[0m \u001b[38;5;28;01mimport\u001b[39;00m \u001b[38;5;21;01murllib\u001b[39;00m\u001b[38;5;21;01m.\u001b[39;00m\u001b[38;5;21;01mrequest\u001b[39;00m\n\u001b[0;32m--> 239\u001b[0m \u001b[38;5;28;01mreturn\u001b[39;00m \u001b[43murllib\u001b[49m\u001b[38;5;241;43m.\u001b[39;49m\u001b[43mrequest\u001b[49m\u001b[38;5;241;43m.\u001b[39;49m\u001b[43murlopen\u001b[49m\u001b[43m(\u001b[49m\u001b[38;5;241;43m*\u001b[39;49m\u001b[43margs\u001b[49m\u001b[43m,\u001b[49m\u001b[43m \u001b[49m\u001b[38;5;241;43m*\u001b[39;49m\u001b[38;5;241;43m*\u001b[39;49m\u001b[43mkwargs\u001b[49m\u001b[43m)\u001b[49m\n",
      "File \u001b[0;32m/usr/local/Caskroom/miniconda/base/envs/python-public-policy/lib/python3.10/urllib/request.py:216\u001b[0m, in \u001b[0;36murlopen\u001b[0;34m(url, data, timeout, cafile, capath, cadefault, context)\u001b[0m\n\u001b[1;32m    214\u001b[0m \u001b[38;5;28;01melse\u001b[39;00m:\n\u001b[1;32m    215\u001b[0m     opener \u001b[38;5;241m=\u001b[39m _opener\n\u001b[0;32m--> 216\u001b[0m \u001b[38;5;28;01mreturn\u001b[39;00m \u001b[43mopener\u001b[49m\u001b[38;5;241;43m.\u001b[39;49m\u001b[43mopen\u001b[49m\u001b[43m(\u001b[49m\u001b[43murl\u001b[49m\u001b[43m,\u001b[49m\u001b[43m \u001b[49m\u001b[43mdata\u001b[49m\u001b[43m,\u001b[49m\u001b[43m \u001b[49m\u001b[43mtimeout\u001b[49m\u001b[43m)\u001b[49m\n",
      "File \u001b[0;32m/usr/local/Caskroom/miniconda/base/envs/python-public-policy/lib/python3.10/urllib/request.py:519\u001b[0m, in \u001b[0;36mOpenerDirector.open\u001b[0;34m(self, fullurl, data, timeout)\u001b[0m\n\u001b[1;32m    516\u001b[0m     req \u001b[38;5;241m=\u001b[39m meth(req)\n\u001b[1;32m    518\u001b[0m sys\u001b[38;5;241m.\u001b[39maudit(\u001b[38;5;124m'\u001b[39m\u001b[38;5;124murllib.Request\u001b[39m\u001b[38;5;124m'\u001b[39m, req\u001b[38;5;241m.\u001b[39mfull_url, req\u001b[38;5;241m.\u001b[39mdata, req\u001b[38;5;241m.\u001b[39mheaders, req\u001b[38;5;241m.\u001b[39mget_method())\n\u001b[0;32m--> 519\u001b[0m response \u001b[38;5;241m=\u001b[39m \u001b[38;5;28;43mself\u001b[39;49m\u001b[38;5;241;43m.\u001b[39;49m\u001b[43m_open\u001b[49m\u001b[43m(\u001b[49m\u001b[43mreq\u001b[49m\u001b[43m,\u001b[49m\u001b[43m \u001b[49m\u001b[43mdata\u001b[49m\u001b[43m)\u001b[49m\n\u001b[1;32m    521\u001b[0m \u001b[38;5;66;03m# post-process response\u001b[39;00m\n\u001b[1;32m    522\u001b[0m meth_name \u001b[38;5;241m=\u001b[39m protocol\u001b[38;5;241m+\u001b[39m\u001b[38;5;124m\"\u001b[39m\u001b[38;5;124m_response\u001b[39m\u001b[38;5;124m\"\u001b[39m\n",
      "File \u001b[0;32m/usr/local/Caskroom/miniconda/base/envs/python-public-policy/lib/python3.10/urllib/request.py:536\u001b[0m, in \u001b[0;36mOpenerDirector._open\u001b[0;34m(self, req, data)\u001b[0m\n\u001b[1;32m    533\u001b[0m     \u001b[38;5;28;01mreturn\u001b[39;00m result\n\u001b[1;32m    535\u001b[0m protocol \u001b[38;5;241m=\u001b[39m req\u001b[38;5;241m.\u001b[39mtype\n\u001b[0;32m--> 536\u001b[0m result \u001b[38;5;241m=\u001b[39m \u001b[38;5;28;43mself\u001b[39;49m\u001b[38;5;241;43m.\u001b[39;49m\u001b[43m_call_chain\u001b[49m\u001b[43m(\u001b[49m\u001b[38;5;28;43mself\u001b[39;49m\u001b[38;5;241;43m.\u001b[39;49m\u001b[43mhandle_open\u001b[49m\u001b[43m,\u001b[49m\u001b[43m \u001b[49m\u001b[43mprotocol\u001b[49m\u001b[43m,\u001b[49m\u001b[43m \u001b[49m\u001b[43mprotocol\u001b[49m\u001b[43m \u001b[49m\u001b[38;5;241;43m+\u001b[39;49m\n\u001b[1;32m    537\u001b[0m \u001b[43m                          \u001b[49m\u001b[38;5;124;43m'\u001b[39;49m\u001b[38;5;124;43m_open\u001b[39;49m\u001b[38;5;124;43m'\u001b[39;49m\u001b[43m,\u001b[49m\u001b[43m \u001b[49m\u001b[43mreq\u001b[49m\u001b[43m)\u001b[49m\n\u001b[1;32m    538\u001b[0m \u001b[38;5;28;01mif\u001b[39;00m result:\n\u001b[1;32m    539\u001b[0m     \u001b[38;5;28;01mreturn\u001b[39;00m result\n",
      "File \u001b[0;32m/usr/local/Caskroom/miniconda/base/envs/python-public-policy/lib/python3.10/urllib/request.py:496\u001b[0m, in \u001b[0;36mOpenerDirector._call_chain\u001b[0;34m(self, chain, kind, meth_name, *args)\u001b[0m\n\u001b[1;32m    494\u001b[0m \u001b[38;5;28;01mfor\u001b[39;00m handler \u001b[38;5;129;01min\u001b[39;00m handlers:\n\u001b[1;32m    495\u001b[0m     func \u001b[38;5;241m=\u001b[39m \u001b[38;5;28mgetattr\u001b[39m(handler, meth_name)\n\u001b[0;32m--> 496\u001b[0m     result \u001b[38;5;241m=\u001b[39m \u001b[43mfunc\u001b[49m\u001b[43m(\u001b[49m\u001b[38;5;241;43m*\u001b[39;49m\u001b[43margs\u001b[49m\u001b[43m)\u001b[49m\n\u001b[1;32m    497\u001b[0m     \u001b[38;5;28;01mif\u001b[39;00m result \u001b[38;5;129;01mis\u001b[39;00m \u001b[38;5;129;01mnot\u001b[39;00m \u001b[38;5;28;01mNone\u001b[39;00m:\n\u001b[1;32m    498\u001b[0m         \u001b[38;5;28;01mreturn\u001b[39;00m result\n",
      "File \u001b[0;32m/usr/local/Caskroom/miniconda/base/envs/python-public-policy/lib/python3.10/urllib/request.py:1391\u001b[0m, in \u001b[0;36mHTTPSHandler.https_open\u001b[0;34m(self, req)\u001b[0m\n\u001b[1;32m   1390\u001b[0m \u001b[38;5;28;01mdef\u001b[39;00m \u001b[38;5;21mhttps_open\u001b[39m(\u001b[38;5;28mself\u001b[39m, req):\n\u001b[0;32m-> 1391\u001b[0m     \u001b[38;5;28;01mreturn\u001b[39;00m \u001b[38;5;28;43mself\u001b[39;49m\u001b[38;5;241;43m.\u001b[39;49m\u001b[43mdo_open\u001b[49m\u001b[43m(\u001b[49m\u001b[43mhttp\u001b[49m\u001b[38;5;241;43m.\u001b[39;49m\u001b[43mclient\u001b[49m\u001b[38;5;241;43m.\u001b[39;49m\u001b[43mHTTPSConnection\u001b[49m\u001b[43m,\u001b[49m\u001b[43m \u001b[49m\u001b[43mreq\u001b[49m\u001b[43m,\u001b[49m\n\u001b[1;32m   1392\u001b[0m \u001b[43m        \u001b[49m\u001b[43mcontext\u001b[49m\u001b[38;5;241;43m=\u001b[39;49m\u001b[38;5;28;43mself\u001b[39;49m\u001b[38;5;241;43m.\u001b[39;49m\u001b[43m_context\u001b[49m\u001b[43m,\u001b[49m\u001b[43m \u001b[49m\u001b[43mcheck_hostname\u001b[49m\u001b[38;5;241;43m=\u001b[39;49m\u001b[38;5;28;43mself\u001b[39;49m\u001b[38;5;241;43m.\u001b[39;49m\u001b[43m_check_hostname\u001b[49m\u001b[43m)\u001b[49m\n",
      "File \u001b[0;32m/usr/local/Caskroom/miniconda/base/envs/python-public-policy/lib/python3.10/urllib/request.py:1351\u001b[0m, in \u001b[0;36mAbstractHTTPHandler.do_open\u001b[0;34m(self, http_class, req, **http_conn_args)\u001b[0m\n\u001b[1;32m   1348\u001b[0m         h\u001b[38;5;241m.\u001b[39mrequest(req\u001b[38;5;241m.\u001b[39mget_method(), req\u001b[38;5;241m.\u001b[39mselector, req\u001b[38;5;241m.\u001b[39mdata, headers,\n\u001b[1;32m   1349\u001b[0m                   encode_chunked\u001b[38;5;241m=\u001b[39mreq\u001b[38;5;241m.\u001b[39mhas_header(\u001b[38;5;124m'\u001b[39m\u001b[38;5;124mTransfer-encoding\u001b[39m\u001b[38;5;124m'\u001b[39m))\n\u001b[1;32m   1350\u001b[0m     \u001b[38;5;28;01mexcept\u001b[39;00m \u001b[38;5;167;01mOSError\u001b[39;00m \u001b[38;5;28;01mas\u001b[39;00m err: \u001b[38;5;66;03m# timeout error\u001b[39;00m\n\u001b[0;32m-> 1351\u001b[0m         \u001b[38;5;28;01mraise\u001b[39;00m URLError(err)\n\u001b[1;32m   1352\u001b[0m     r \u001b[38;5;241m=\u001b[39m h\u001b[38;5;241m.\u001b[39mgetresponse()\n\u001b[1;32m   1353\u001b[0m \u001b[38;5;28;01mexcept\u001b[39;00m:\n",
      "\u001b[0;31mURLError\u001b[0m: <urlopen error [Errno 8] nodename nor servname provided, or not known>"
     ]
    }
   ],
   "source": [
    "population = pd.read_csv('https://data.cityofnewyork.us/api/views/xi7c-iiu2/rows.csv')\n",
    "population.head()"
   ]
  },
  {
   "cell_type": "markdown",
   "metadata": {
    "id": "6JVGWO4Ab5Lc",
    "slideshow": {
     "slide_type": "slide"
    }
   },
   "source": [
    "## In order to join the two dataframes, we need to create a common ID in each.\n",
    "\n",
    "[`BORO CODE`](https://www1.nyc.gov/assets/planning/download/pdf/data-maps/open-data/pluto_datadictionary.pdf#page=38) (a.k.a. `BoroCode`, `borocd`, and `boro_cd`) is a commonly-used a unique ID for community districts. Let's create functions that create that unique ID in our datasets."
   ]
  },
  {
   "cell_type": "markdown",
   "metadata": {
    "id": "epkTZCe7djnx",
    "slideshow": {
     "slide_type": "subslide"
    }
   },
   "source": [
    "**BoroCD** is a 3 digit integer that captures the borough and district number. The borough is represented by the first digit. The district number is padded with zeros so it's always two digits long.\n",
    "\n",
    "Boroughs are recoded into the following numbers:\n",
    "- 1: Manhattan\n",
    "- 2: Bronx\n",
    "- 3: Brooklyn\n",
    "- 4: Queens\n",
    "- 5: Staten Island\n",
    "\n",
    "Ex: \n",
    "- Manhattan 12 --> 112\n",
    "- Brooklyn 6 --> 306\n"
   ]
  },
  {
   "cell_type": "markdown",
   "metadata": {
    "id": "_3pY7QB3Uo3h",
    "slideshow": {
     "slide_type": "slide"
    }
   },
   "source": [
    "### First, let's create a `borocd` column in `cb_counts` dataframe"
   ]
  },
  {
   "cell_type": "code",
   "execution_count": 15,
   "metadata": {
    "execution": {
     "iopub.execute_input": "2022-04-07T22:15:14.847609Z",
     "iopub.status.busy": "2022-04-07T22:15:14.847160Z",
     "iopub.status.idle": "2022-04-07T22:15:14.854736Z",
     "shell.execute_reply": "2022-04-07T22:15:14.854184Z"
    },
    "id": "DM0qwYPZfRWX",
    "outputId": "49229a10-02c9-4751-f0bc-8886d86acf3b"
   },
   "outputs": [
    {
     "data": {
      "text/html": [
       "<div>\n",
       "<style scoped>\n",
       "    .dataframe tbody tr th:only-of-type {\n",
       "        vertical-align: middle;\n",
       "    }\n",
       "\n",
       "    .dataframe tbody tr th {\n",
       "        vertical-align: top;\n",
       "    }\n",
       "\n",
       "    .dataframe thead th {\n",
       "        text-align: right;\n",
       "    }\n",
       "</style>\n",
       "<table border=\"1\" class=\"dataframe\">\n",
       "  <thead>\n",
       "    <tr style=\"text-align: right;\">\n",
       "      <th></th>\n",
       "      <th>Community Board</th>\n",
       "      <th>num_311_requests</th>\n",
       "    </tr>\n",
       "  </thead>\n",
       "  <tbody>\n",
       "    <tr>\n",
       "      <th>50</th>\n",
       "      <td>12 MANHATTAN</td>\n",
       "      <td>14110</td>\n",
       "    </tr>\n",
       "    <tr>\n",
       "      <th>23</th>\n",
       "      <td>05 QUEENS</td>\n",
       "      <td>12487</td>\n",
       "    </tr>\n",
       "    <tr>\n",
       "      <th>51</th>\n",
       "      <td>12 QUEENS</td>\n",
       "      <td>12228</td>\n",
       "    </tr>\n",
       "    <tr>\n",
       "      <th>2</th>\n",
       "      <td>01 BROOKLYN</td>\n",
       "      <td>11863</td>\n",
       "    </tr>\n",
       "    <tr>\n",
       "      <th>12</th>\n",
       "      <td>03 BROOKLYN</td>\n",
       "      <td>11615</td>\n",
       "    </tr>\n",
       "  </tbody>\n",
       "</table>\n",
       "</div>"
      ],
      "text/plain": [
       "   Community Board  num_311_requests\n",
       "50    12 MANHATTAN             14110\n",
       "23       05 QUEENS             12487\n",
       "51       12 QUEENS             12228\n",
       "2      01 BROOKLYN             11863\n",
       "12     03 BROOKLYN             11615"
      ]
     },
     "execution_count": 15,
     "metadata": {},
     "output_type": "execute_result"
    }
   ],
   "source": [
    "cb_counts.head()"
   ]
  },
  {
   "cell_type": "markdown",
   "metadata": {
    "slideshow": {
     "slide_type": "subslide"
    }
   },
   "source": [
    "[`apply()`](https://pandas.pydata.org/pandas-docs/stable/reference/api/pandas.DataFrame.apply.html) can be used for transforming data with a custom function. How does it work?\n",
    "\n",
    "```python\n",
    "def my_function(row):\n",
    "    # do stuff\n",
    "    return some_value\n",
    "\n",
    "new_values = requests.apply(my_function, axis=1)\n",
    "```"
   ]
  },
  {
   "cell_type": "markdown",
   "metadata": {
    "slideshow": {
     "slide_type": "subslide"
    }
   },
   "source": [
    "Let's create a function called `recode_borocd_counts` that takes a `row` and converts the `Community Board` value into a `borocd` value."
   ]
  },
  {
   "cell_type": "code",
   "execution_count": 16,
   "metadata": {
    "execution": {
     "iopub.execute_input": "2022-04-07T22:15:14.858085Z",
     "iopub.status.busy": "2022-04-07T22:15:14.857853Z",
     "iopub.status.idle": "2022-04-07T22:15:14.862724Z",
     "shell.execute_reply": "2022-04-07T22:15:14.862055Z"
    },
    "id": "_HuoM77IU9zU",
    "slideshow": {
     "slide_type": "-"
    }
   },
   "outputs": [],
   "source": [
    "def recode_borocd_counts(row):\n",
    "  if 'MANHATTAN' in row[\"Community Board\"]:\n",
    "    return '1' + row[\"Community Board\"][0:2]\n",
    "    # [0:2] provides the first 2 characters, i.e. characters at indexes 0 and 1.\n",
    "    # you could also use [:2] without the zero.\n",
    "  elif 'BRONX' in row[\"Community Board\"]:\n",
    "    return '2' + row[\"Community Board\"][0:2]\n",
    "  elif 'BROOKLYN' in row[\"Community Board\"]:\n",
    "    return '3' + row[\"Community Board\"][0:2]\n",
    "  elif 'QUEENS' in row[\"Community Board\"]:\n",
    "    return '4' + row[\"Community Board\"][0:2]\n",
    "  elif 'STATEN ISLAND' in row[\"Community Board\"]:\n",
    "    return '5' + row[\"Community Board\"][0:2]\n",
    "  else:\n",
    "    return 'Invalid BoroCD'"
   ]
  },
  {
   "cell_type": "markdown",
   "metadata": {
    "slideshow": {
     "slide_type": "subslide"
    }
   },
   "source": [
    "Let's test out that function in isolation. We'll grab one of the rows and pass it into the function."
   ]
  },
  {
   "cell_type": "code",
   "execution_count": 17,
   "metadata": {},
   "outputs": [
    {
     "data": {
      "text/plain": [
       "Community Board     12 MANHATTAN\n",
       "num_311_requests           14110\n",
       "Name: 50, dtype: object"
      ]
     },
     "execution_count": 17,
     "metadata": {},
     "output_type": "execute_result"
    }
   ],
   "source": [
    "sample_row = cb_counts.iloc[0]\n",
    "sample_row"
   ]
  },
  {
   "cell_type": "code",
   "execution_count": 18,
   "metadata": {},
   "outputs": [
    {
     "data": {
      "text/plain": [
       "'112'"
      ]
     },
     "execution_count": 18,
     "metadata": {},
     "output_type": "execute_result"
    }
   ],
   "source": [
    "recode_borocd_counts(sample_row)"
   ]
  },
  {
   "cell_type": "markdown",
   "metadata": {
    "slideshow": {
     "slide_type": "subslide"
    }
   },
   "source": [
    "Now we use `apply()` to do that across _all_ the rows."
   ]
  },
  {
   "cell_type": "code",
   "execution_count": null,
   "metadata": {
    "execution": {
     "iopub.execute_input": "2022-04-07T22:15:14.871320Z",
     "iopub.status.busy": "2022-04-07T22:15:14.871158Z",
     "iopub.status.idle": "2022-04-07T22:15:14.876355Z",
     "shell.execute_reply": "2022-04-07T22:15:14.875917Z"
    },
    "id": "SjClAwLinuxO",
    "outputId": "21389fcc-22ef-4b73-e71e-bbff7f2a48d5",
    "slideshow": {
     "slide_type": "-"
    }
   },
   "outputs": [],
   "source": [
    "cb_counts['borocd'] = cb_counts.apply(recode_borocd_counts, axis=1)"
   ]
  },
  {
   "cell_type": "markdown",
   "metadata": {},
   "source": [
    "- `apply()` (the way we're using it) takes a function and runs it against each row of a DataFrame, returning the results as a Series\n",
    "- `axis=1` specifies that you want to apply the function across the rows instead of columns\n",
    "- `cb_counts['borocd'] = …` creates a new column in the DataFrame called `borocd`"
   ]
  },
  {
   "cell_type": "code",
   "execution_count": null,
   "metadata": {
    "execution": {
     "iopub.execute_input": "2022-04-07T22:15:14.878737Z",
     "iopub.status.busy": "2022-04-07T22:15:14.878570Z",
     "iopub.status.idle": "2022-04-07T22:15:14.887823Z",
     "shell.execute_reply": "2022-04-07T22:15:14.887307Z"
    },
    "slideshow": {
     "slide_type": "subslide"
    }
   },
   "outputs": [],
   "source": [
    "cb_counts"
   ]
  },
  {
   "cell_type": "markdown",
   "metadata": {
    "slideshow": {
     "slide_type": "fragment"
    }
   },
   "source": [
    "Uh oh, there are some unexpected `Unspecified` values in here - how can we get around them?"
   ]
  },
  {
   "cell_type": "markdown",
   "metadata": {
    "slideshow": {
     "slide_type": "subslide"
    }
   },
   "source": [
    "Let's only recode records that don't start with \"U\"."
   ]
  },
  {
   "cell_type": "code",
   "execution_count": null,
   "metadata": {
    "execution": {
     "iopub.execute_input": "2022-04-07T22:15:14.890715Z",
     "iopub.status.busy": "2022-04-07T22:15:14.890427Z",
     "iopub.status.idle": "2022-04-07T22:15:14.905567Z",
     "shell.execute_reply": "2022-04-07T22:15:14.905034Z"
    },
    "id": "ZKrhs95pXHjI",
    "outputId": "d105349c-8fb8-4e1f-bdc6-3ffbc499457f"
   },
   "outputs": [],
   "source": [
    "def recode_borocd_counts(row):\n",
    "  if 'MANHATTAN' in row[\"Community Board\"] and row[\"Community Board\"][0] != 'U':\n",
    "      return '1' + row[\"Community Board\"][:2]\n",
    "  elif 'BRONX' in row[\"Community Board\"] and row[\"Community Board\"][0] != 'U':\n",
    "      return '2' + row[\"Community Board\"][:2]\n",
    "  elif 'BROOKLYN' in row[\"Community Board\"] and row[\"Community Board\"][0] != 'U':\n",
    "      return '3' + row[\"Community Board\"][:2]\n",
    "  elif 'QUEENS' in row[\"Community Board\"] and row[\"Community Board\"][0] != 'U':\n",
    "      return '4' + row[\"Community Board\"][:2]\n",
    "  elif 'STATEN ISLAND' in row[\"Community Board\"] and row[\"Community Board\"][0] != 'U':\n",
    "      return '5' + row[\"Community Board\"][:2]\n",
    "  else:\n",
    "    return 'Invalid BoroCD'\n",
    "\n",
    "cb_counts['borocd'] = cb_counts.apply(recode_borocd_counts, axis=1)\n",
    "cb_counts"
   ]
  },
  {
   "cell_type": "markdown",
   "metadata": {
    "slideshow": {
     "slide_type": "subslide"
    }
   },
   "source": [
    "We can make this function easier to read by isolating the logic that applies to all the conditions. This is called \"refactoring\"."
   ]
  },
  {
   "cell_type": "code",
   "execution_count": null,
   "metadata": {
    "execution": {
     "iopub.execute_input": "2022-04-07T22:15:14.908195Z",
     "iopub.status.busy": "2022-04-07T22:15:14.908002Z",
     "iopub.status.idle": "2022-04-07T22:15:14.911811Z",
     "shell.execute_reply": "2022-04-07T22:15:14.911332Z"
    },
    "id": "iojpAbiZXOwI",
    "outputId": "a83f499d-94b1-438f-b963-f3d14af9bdac",
    "slideshow": {
     "slide_type": "-"
    }
   },
   "outputs": [],
   "source": [
    "def recode_borocd_counts(row):\n",
    "    board = row[\"Community Board\"]\n",
    "\n",
    "    if board[0] != 'U':\n",
    "        num = board[0:2]\n",
    "        \n",
    "        if 'MANHATTAN' in board:\n",
    "            return '1' + num\n",
    "        elif 'BRONX' in board:\n",
    "            return '2' + num\n",
    "        elif 'BROOKLYN' in board:\n",
    "            return '3' + num\n",
    "        elif 'QUEENS' in board:\n",
    "            return '4' + num\n",
    "        elif 'STATEN ISLAND' in board:\n",
    "            return '5' + num\n",
    "    else:\n",
    "        return 'Invalid BoroCD'"
   ]
  },
  {
   "cell_type": "code",
   "execution_count": null,
   "metadata": {
    "execution": {
     "iopub.execute_input": "2022-04-07T22:15:14.914116Z",
     "iopub.status.busy": "2022-04-07T22:15:14.913954Z",
     "iopub.status.idle": "2022-04-07T22:15:14.924066Z",
     "shell.execute_reply": "2022-04-07T22:15:14.923647Z"
    },
    "slideshow": {
     "slide_type": "subslide"
    }
   },
   "outputs": [],
   "source": [
    "cb_counts['borocd'] = cb_counts.apply(recode_borocd_counts, axis=1)\n",
    "cb_counts"
   ]
  },
  {
   "cell_type": "markdown",
   "metadata": {
    "id": "MSrNZXMzdKkG",
    "slideshow": {
     "slide_type": "slide"
    }
   },
   "source": [
    "### Next, let's create the `borocd` column in the population dataset"
   ]
  },
  {
   "cell_type": "code",
   "execution_count": null,
   "metadata": {
    "execution": {
     "iopub.execute_input": "2022-04-07T22:15:14.926746Z",
     "iopub.status.busy": "2022-04-07T22:15:14.926573Z",
     "iopub.status.idle": "2022-04-07T22:15:14.933425Z",
     "shell.execute_reply": "2022-04-07T22:15:14.933015Z"
    },
    "id": "_-Om3C2RfX2U",
    "outputId": "45ede3c5-7c9a-4bfc-c00a-dc98e69c0301",
    "slideshow": {
     "slide_type": "subslide"
    }
   },
   "outputs": [],
   "source": [
    "population.head()"
   ]
  },
  {
   "cell_type": "code",
   "execution_count": null,
   "metadata": {},
   "outputs": [],
   "source": [
    "population.info()"
   ]
  },
  {
   "cell_type": "markdown",
   "metadata": {
    "slideshow": {
     "slide_type": "subslide"
    }
   },
   "source": [
    "Create a function `recode_borocd_pop` that combines and recodes the Borough and CD Number values to create a BoroCD unique ID."
   ]
  },
  {
   "cell_type": "code",
   "execution_count": null,
   "metadata": {
    "execution": {
     "iopub.execute_input": "2022-04-07T22:15:14.935830Z",
     "iopub.status.busy": "2022-04-07T22:15:14.935661Z",
     "iopub.status.idle": "2022-04-07T22:15:14.939277Z",
     "shell.execute_reply": "2022-04-07T22:15:14.938879Z"
    },
    "id": "f7_GEo70M-z1",
    "outputId": "faa022ae-d3ca-4e11-cb1e-c374e4915b74",
    "slideshow": {
     "slide_type": "-"
    }
   },
   "outputs": [],
   "source": [
    "def recode_borocd_pop(row):\n",
    "  if row.Borough == 'Manhattan':\n",
    "    return str(100 + row['CD Number'])\n",
    "  elif row.Borough == 'Bronx':\n",
    "    return str(200 + row['CD Number'])\n",
    "  elif row.Borough == 'Brooklyn':\n",
    "    return str(300 + row['CD Number'])\n",
    "  elif row.Borough == 'Queens':\n",
    "    return str(400 + row['CD Number'])\n",
    "  elif row.Borough == 'Staten Island':\n",
    "    return str(500 + row['CD Number'])\n",
    "  else:\n",
    "    return 'Invalid BoroCD'"
   ]
  },
  {
   "cell_type": "code",
   "execution_count": null,
   "metadata": {
    "execution": {
     "iopub.execute_input": "2022-04-07T22:15:14.941536Z",
     "iopub.status.busy": "2022-04-07T22:15:14.941380Z",
     "iopub.status.idle": "2022-04-07T22:15:14.957337Z",
     "shell.execute_reply": "2022-04-07T22:15:14.956864Z"
    },
    "slideshow": {
     "slide_type": "subslide"
    }
   },
   "outputs": [],
   "source": [
    "population['borocd'] = population.apply(recode_borocd_pop, axis=1)\n",
    "population"
   ]
  },
  {
   "cell_type": "markdown",
   "metadata": {
    "id": "uSmU_7UdU_v0",
    "slideshow": {
     "slide_type": "slide"
    }
   },
   "source": [
    "## Join the population data onto the counts data after creating shared `borocd` unique ID"
   ]
  },
  {
   "cell_type": "markdown",
   "metadata": {
    "id": "Z83dJbJ81wNV",
    "slideshow": {
     "slide_type": "subslide"
    }
   },
   "source": [
    "To join dataframes together, we will use the [pandas `.merge()` function](https://pandas.pydata.org/pandas-docs/stable/getting_started/intro_tutorials/08_combine_dataframes.html#join-tables-using-a-common-identifier).\n",
    "\n",
    "![merge diagram](https://pandas.pydata.org/pandas-docs/stable/_images/08_merge_left.svg)"
   ]
  },
  {
   "cell_type": "code",
   "execution_count": null,
   "metadata": {
    "execution": {
     "iopub.execute_input": "2022-04-07T22:15:14.960386Z",
     "iopub.status.busy": "2022-04-07T22:15:14.960195Z",
     "iopub.status.idle": "2022-04-07T22:15:14.978531Z",
     "shell.execute_reply": "2022-04-07T22:15:14.977496Z"
    },
    "id": "gUydiMx4cxe_",
    "outputId": "9481be65-efa1-4b5b-e81e-f52f9c4552bc",
    "slideshow": {
     "slide_type": "subslide"
    }
   },
   "outputs": [],
   "source": [
    "merged_data = pd.merge(left=cb_counts, right=population, left_on='borocd', right_on='borocd')\n",
    "merged_data"
   ]
  },
  {
   "cell_type": "markdown",
   "metadata": {
    "slideshow": {
     "slide_type": "subslide"
    }
   },
   "source": [
    "[Different types of merges](https://pandas.pydata.org/docs/user_guide/merging.html#brief-primer-on-merge-methods-relational-algebra)"
   ]
  },
  {
   "cell_type": "markdown",
   "metadata": {
    "id": "YrwRUCHgVEPl",
    "slideshow": {
     "slide_type": "slide"
    }
   },
   "source": [
    "## Calculate 311 requests per capita\n",
    "\n",
    "Divide request count by 2010 population to get requests per capita"
   ]
  },
  {
   "cell_type": "code",
   "execution_count": null,
   "metadata": {
    "execution": {
     "iopub.execute_input": "2022-04-07T22:15:14.981556Z",
     "iopub.status.busy": "2022-04-07T22:15:14.981321Z",
     "iopub.status.idle": "2022-04-07T22:15:14.992247Z",
     "shell.execute_reply": "2022-04-07T22:15:14.991374Z"
    },
    "id": "9n1O2cp3eKdt",
    "outputId": "05223db2-648c-4c9d-fff3-fbb882cbf932",
    "slideshow": {
     "slide_type": "subslide"
    }
   },
   "outputs": [],
   "source": [
    "merged_data['request_per_capita'] = merged_data['num_311_requests'] / merged_data['2010 Population']\n",
    "\n",
    "merged_data.head()"
   ]
  },
  {
   "cell_type": "markdown",
   "metadata": {
    "slideshow": {
     "slide_type": "subslide"
    }
   },
   "source": [
    "Let's create a simplified new dataframe that only include the columns we care about and in a better order."
   ]
  },
  {
   "cell_type": "code",
   "execution_count": null,
   "metadata": {
    "execution": {
     "iopub.execute_input": "2022-04-07T22:15:14.995499Z",
     "iopub.status.busy": "2022-04-07T22:15:14.995190Z",
     "iopub.status.idle": "2022-04-07T22:15:15.007788Z",
     "shell.execute_reply": "2022-04-07T22:15:15.007358Z"
    },
    "id": "DA1mRjnWexhr",
    "outputId": "1e6cd596-1309-4c3a-be4f-26e2cad1eccd",
    "slideshow": {
     "slide_type": "-"
    }
   },
   "outputs": [],
   "source": [
    "columns = ['borocd', 'Borough', 'CD Name', '2010 Population', 'num_311_requests', 'request_per_capita']\n",
    "cd_data = merged_data[columns]\n",
    "\n",
    "cd_data"
   ]
  },
  {
   "cell_type": "markdown",
   "metadata": {
    "id": "_PXCVgJEslBv",
    "slideshow": {
     "slide_type": "subslide"
    }
   },
   "source": [
    "Let's check out which Community Districts have the highest complaints per capita"
   ]
  },
  {
   "cell_type": "code",
   "execution_count": null,
   "metadata": {
    "execution": {
     "iopub.execute_input": "2022-04-07T22:15:15.010297Z",
     "iopub.status.busy": "2022-04-07T22:15:15.010125Z",
     "iopub.status.idle": "2022-04-07T22:15:15.018353Z",
     "shell.execute_reply": "2022-04-07T22:15:15.017879Z"
    },
    "id": "gGSt-U8Qsj4f",
    "outputId": "69c6b1f2-e298-4741-e63f-01bc356fd5dd"
   },
   "outputs": [],
   "source": [
    "cd_data.sort_values('request_per_capita', ascending=False).head(10)"
   ]
  },
  {
   "cell_type": "markdown",
   "metadata": {
    "id": "JDd54Dev5rZH",
    "slideshow": {
     "slide_type": "fragment"
    }
   },
   "source": [
    "While Inwood (112) had the highest number of complaints, it ranks further down on the list for requests per capita. Midtown may also be an outlier, based on it's low residential population."
   ]
  },
  {
   "cell_type": "markdown",
   "metadata": {
    "id": "XoX96YIqatsj",
    "slideshow": {
     "slide_type": "subslide"
    }
   },
   "source": [
    "## Next class we'll produce charts and maps to better visualize the differences in magnitude of the 311 requests per capita values."
   ]
  },
  {
   "cell_type": "markdown",
   "metadata": {
    "slideshow": {
     "slide_type": "slide"
    }
   },
   "source": [
    "# [Homework 2](https://padmgp-4506-spring.rcnyu.org/user-redirect/notebooks/class_materials/hw_2.ipynb)"
   ]
  },
  {
   "cell_type": "markdown",
   "metadata": {
    "slideshow": {
     "slide_type": "slide"
    }
   },
   "source": [
    "## Automated testing\n",
    "\n",
    "We tested `recode_borocd_counts()` above by calling it with an abitrary row and seeing if the result was what we expect. We can do the same with code!"
   ]
  },
  {
   "cell_type": "markdown",
   "metadata": {
    "slideshow": {
     "slide_type": "skip"
    }
   },
   "source": [
    "Setup code:"
   ]
  },
  {
   "cell_type": "code",
   "execution_count": 19,
   "metadata": {
    "slideshow": {
     "slide_type": "skip"
    }
   },
   "outputs": [],
   "source": [
    "import ipytest\n",
    "ipytest.autoconfig()"
   ]
  },
  {
   "cell_type": "code",
   "execution_count": 21,
   "metadata": {
    "slideshow": {
     "slide_type": "subslide"
    }
   },
   "outputs": [],
   "source": [
    "assert 2 == 2"
   ]
  },
  {
   "cell_type": "code",
   "execution_count": 20,
   "metadata": {
    "slideshow": {
     "slide_type": "-"
    }
   },
   "outputs": [
    {
     "ename": "AssertionError",
     "evalue": "assert 1 == 2",
     "output_type": "error",
     "traceback": [
      "\u001b[0;31m---------------------------------------------------------------------------\u001b[0m",
      "\u001b[0;31mAssertionError\u001b[0m                            Traceback (most recent call last)",
      "Input \u001b[0;32mIn [20]\u001b[0m, in \u001b[0;36m<cell line: 1>\u001b[0;34m()\u001b[0m\n\u001b[0;32m----> 1\u001b[0m \u001b[38;5;28;01massert\u001b[39;00m \u001b[38;5;241m1\u001b[39m \u001b[38;5;241m==\u001b[39m \u001b[38;5;241m2\u001b[39m\n",
      "\u001b[0;31mAssertionError\u001b[0m: assert 1 == 2"
     ]
    }
   ],
   "source": [
    "assert 1 == 2"
   ]
  },
  {
   "cell_type": "code",
   "execution_count": 22,
   "metadata": {},
   "outputs": [
    {
     "ename": "AssertionError",
     "evalue": "assert 2 == 1",
     "output_type": "error",
     "traceback": [
      "\u001b[0;31m---------------------------------------------------------------------------\u001b[0m",
      "\u001b[0;31mAssertionError\u001b[0m                            Traceback (most recent call last)",
      "Input \u001b[0;32mIn [22]\u001b[0m, in \u001b[0;36m<cell line: 2>\u001b[0;34m()\u001b[0m\n\u001b[1;32m      1\u001b[0m a \u001b[38;5;241m=\u001b[39m \u001b[38;5;241m2\u001b[39m\n\u001b[0;32m----> 2\u001b[0m \u001b[38;5;28;01massert\u001b[39;00m a \u001b[38;5;241m==\u001b[39m \u001b[38;5;241m1\u001b[39m\n",
      "\u001b[0;31mAssertionError\u001b[0m: assert 2 == 1"
     ]
    }
   ],
   "source": [
    "a = 2\n",
    "assert a == 1"
   ]
  },
  {
   "cell_type": "code",
   "execution_count": 26,
   "metadata": {},
   "outputs": [
    {
     "name": "stdout",
     "output_type": "stream",
     "text": [
      "\u001b[31mF\u001b[0m\u001b[31m                                                                                            [100%]\u001b[0m\n",
      "============================================= FAILURES =============================================\n",
      "\u001b[31m\u001b[1m__________________________________________ test_boroughs ___________________________________________\u001b[0m\n",
      "\n",
      "    \u001b[94mdef\u001b[39;49;00m \u001b[92mtest_boroughs\u001b[39;49;00m():\n",
      "        boroughs = df[\u001b[33m'\u001b[39;49;00m\u001b[33mBorough\u001b[39;49;00m\u001b[33m'\u001b[39;49;00m].unique()\n",
      ">       \u001b[94massert\u001b[39;49;00m \u001b[96mlen\u001b[39;49;00m(boroughs) == \u001b[94m5\u001b[39;49;00m\n",
      "\u001b[1m\u001b[31mE       AssertionError: assert 6 == 5\u001b[0m\n",
      "\u001b[1m\u001b[31mE        +  where 6 = len(array(['BROOKLYN', 'QUEENS', 'BRONX', 'MANHATTAN', 'STATEN ISLAND',\\n       'Unspecified'], dtype=object))\u001b[0m\n",
      "\n",
      "\u001b[1m\u001b[31m/var/folders/kg/1ys0dccx4237f5wsd_w10dt80000gn/T/ipykernel_84679/521626110.py\u001b[0m:3: AssertionError\n",
      "===================================== short test summary info ======================================\n",
      "FAILED tmpd2bma_nm.py::test_boroughs - AssertionError: assert 6 == 5\n"
     ]
    }
   ],
   "source": [
    "%%ipytest -qq\n",
    "\n",
    "def test_boroughs():\n",
    "    boroughs = requests['Borough'].unique()\n",
    "    assert len(boroughs) == 5"
   ]
  }
 ],
 "metadata": {
  "celltoolbar": "Slideshow",
  "kernelspec": {
   "display_name": "Python [conda env:python-public-policy] *",
   "language": "python",
   "name": "conda-env-python-public-policy-py"
  },
  "language_info": {
   "codemirror_mode": {
    "name": "ipython",
    "version": 3
   },
   "file_extension": ".py",
   "mimetype": "text/x-python",
   "name": "python",
   "nbconvert_exporter": "python",
   "pygments_lexer": "ipython3",
   "version": "3.10.4"
  },
  "rise": {
   "scroll": true
  },
  "toc": {
   "base_numbering": 1,
   "nav_menu": {},
   "number_sections": true,
   "sideBar": true,
   "skip_h1_title": false,
   "title_cell": "Table of Contents",
   "title_sidebar": "Contents",
   "toc_cell": false,
   "toc_position": {},
   "toc_section_display": true,
   "toc_window_display": false
  }
 },
 "nbformat": 4,
 "nbformat_minor": 4
}
