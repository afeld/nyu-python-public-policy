{
 "cells": [
  {
   "cell_type": "markdown",
   "metadata": {},
   "source": [
    "# Class 1 in-class exercise\n",
    "\n",
    "We'll be doing calculations on [2021 Yellow Taxi Trips](https://data.cityofnewyork.us/Transportation/2021-Yellow-Taxi-Trip-Data/m6nq-qud6) data. We'll live-code this together.\n",
    "\n",
    "## Step 0\n",
    "\n",
    "The data needs to available on the machine where Python is running in order to process it, so let's download from the NYC Open Data site directly:"
   ]
  },
  {
   "cell_type": "code",
   "execution_count": 1,
   "metadata": {
    "execution": {
     "iopub.execute_input": "2024-09-21T02:01:43.647305Z",
     "iopub.status.busy": "2024-09-21T02:01:43.647151Z",
     "iopub.status.idle": "2024-09-21T02:01:44.334720Z",
     "shell.execute_reply": "2024-09-21T02:01:44.334047Z"
    }
   },
   "outputs": [
    {
     "name": "stdout",
     "output_type": "stream",
     "text": [
      "2024-09-20 22:01:44 URL:https://data.cityofnewyork.us/resource/m6nq-qud6.csv [136065] -> \"2021_yellow_taxi_trips.csv\" [1]\r\n"
     ]
    }
   ],
   "source": [
    "!wget -O 2021_yellow_taxi_trips.csv --no-verbose https://data.cityofnewyork.us/resource/m6nq-qud6.csv"
   ]
  },
  {
   "cell_type": "markdown",
   "metadata": {},
   "source": [
    "This is using a command-line program to do the downloading. We'll download data ourselves manually later. Look at the files in the current directory:"
   ]
  },
  {
   "cell_type": "code",
   "execution_count": 2,
   "metadata": {
    "execution": {
     "iopub.execute_input": "2024-09-21T02:01:44.337503Z",
     "iopub.status.busy": "2024-09-21T02:01:44.337145Z",
     "iopub.status.idle": "2024-09-21T02:01:44.628302Z",
     "shell.execute_reply": "2024-09-21T02:01:44.627740Z"
    }
   },
   "outputs": [
    {
     "name": "stdout",
     "output_type": "stream",
     "text": [
      "2021_yello_taxi_trips.csv\r\n",
      "2021_yellow_taxi_trips.csv\r\n",
      "LICENSE.md\r\n",
      "Python Coding for Public Policy, Spring 2024 discussion threads.json\r\n",
      "\u001b[1m\u001b[36m_build\u001b[m\u001b[m\r\n",
      "_config.yml\r\n",
      "\u001b[1m\u001b[36m_static\u001b[m\u001b[m\r\n",
      "_toc.yml\r\n",
      "assignments.md\r\n",
      "conf.py\r\n",
      "curve.ipynb\r\n",
      "\u001b[35mdata\u001b[m\u001b[m\r\n",
      "\u001b[1m\u001b[36mextras\u001b[m\u001b[m\r\n",
      "\u001b[1m\u001b[36mfinal_project\u001b[m\u001b[m\r\n",
      "final_project.md\r\n",
      "home.md\r\n",
      "hw_0.ipynb\r\n",
      "hw_1.ipynb\r\n",
      "hw_2.ipynb\r\n",
      "hw_3.ipynb\r\n",
      "hw_4.ipynb\r\n",
      "index.md\r\n",
      "joining_late.md\r\n",
      "lecture_0.ipynb\r\n",
      "lecture_1.ipynb\r\n",
      "lecture_1_exercise.ipynb\r\n",
      "lecture_1_exercise_solution.ipynb\r\n",
      "lecture_2.ipynb\r\n",
      "lecture_2_exercise.ipynb\r\n",
      "lecture_3.ipynb\r\n",
      "lecture_3.slides.html\r\n",
      "lecture_3_exercise.ipynb\r\n",
      "lecture_3_exercise_solution.ipynb\r\n",
      "lecture_4.ipynb\r\n",
      "lecture_5.ipynb\r\n",
      "lecture_5_exercise_solution.ipynb\r\n",
      "lecture_6.ipynb\r\n",
      "\u001b[1m\u001b[36mmeta\u001b[m\u001b[m\r\n",
      "meta.md\r\n",
      "nbdime_config.json\r\n",
      "pyproject.toml\r\n",
      "resources.md\r\n",
      "rise.css\r\n",
      "shorten.md\r\n",
      "\u001b[35msolutions\u001b[m\u001b[m\r\n",
      "syllabus.md\r\n",
      "\u001b[1m\u001b[36mtmp\u001b[m\u001b[m\r\n"
     ]
    }
   ],
   "source": [
    "!ls"
   ]
  },
  {
   "cell_type": "markdown",
   "metadata": {},
   "source": [
    "You should see `2021_yellow_taxi_trips.csv` there."
   ]
  },
  {
   "cell_type": "markdown",
   "metadata": {},
   "source": [
    "## Step 1\n",
    "\n",
    "Print out the trip distances."
   ]
  },
  {
   "cell_type": "code",
   "execution_count": 3,
   "metadata": {
    "execution": {
     "iopub.execute_input": "2024-09-21T02:01:44.631037Z",
     "iopub.status.busy": "2024-09-21T02:01:44.630704Z",
     "iopub.status.idle": "2024-09-21T02:01:44.633308Z",
     "shell.execute_reply": "2024-09-21T02:01:44.632935Z"
    }
   },
   "outputs": [],
   "source": [
    "# your code here"
   ]
  },
  {
   "cell_type": "markdown",
   "metadata": {},
   "source": [
    "## Step 2\n",
    "\n",
    "Calculate the average ride distance."
   ]
  },
  {
   "cell_type": "code",
   "execution_count": 4,
   "metadata": {
    "execution": {
     "iopub.execute_input": "2024-09-21T02:01:44.635229Z",
     "iopub.status.busy": "2024-09-21T02:01:44.635059Z",
     "iopub.status.idle": "2024-09-21T02:01:44.637205Z",
     "shell.execute_reply": "2024-09-21T02:01:44.636838Z"
    }
   },
   "outputs": [],
   "source": [
    "# your code here"
   ]
  },
  {
   "cell_type": "markdown",
   "metadata": {},
   "source": [
    "## Step 3\n",
    "\n",
    "Your turn! Calculate the percent of trips that were paid for by credit card. The data dictionary will be helpful - see the Attachment on [the dataset page](https://data.cityofnewyork.us/Transportation/2021-Yellow-Taxi-Trip-Data/m6nq-qud6)."
   ]
  },
  {
   "cell_type": "code",
   "execution_count": 5,
   "metadata": {
    "execution": {
     "iopub.execute_input": "2024-09-21T02:01:44.638916Z",
     "iopub.status.busy": "2024-09-21T02:01:44.638754Z",
     "iopub.status.idle": "2024-09-21T02:01:44.640685Z",
     "shell.execute_reply": "2024-09-21T02:01:44.640344Z"
    }
   },
   "outputs": [],
   "source": [
    "# your code here"
   ]
  }
 ],
 "metadata": {
  "file_extension": ".py",
  "kernelspec": {
   "display_name": "Python [conda env:python-public-policy] *",
   "language": "python",
   "name": "conda-env-python-public-policy-py"
  },
  "language_info": {
   "codemirror_mode": {
    "name": "ipython",
    "version": 3
   },
   "file_extension": ".py",
   "mimetype": "text/x-python",
   "name": "python",
   "nbconvert_exporter": "python",
   "pygments_lexer": "ipython3",
   "version": "3.10.12"
  },
  "mimetype": "text/x-python",
  "name": "python",
  "npconvert_exporter": "python",
  "pygments_lexer": "ipython3",
  "version": 3
 },
 "nbformat": 4,
 "nbformat_minor": 4
}
