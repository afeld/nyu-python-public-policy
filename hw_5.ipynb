{
 "cells": [
  {
   "cell_type": "markdown",
   "metadata": {
    "id": "F5DsWafyMCfG"
   },
   "source": [
    "# Homework 5\n",
    "\n",
    "Make sure to fill in the `YOUR RESPONSE HERE`, and the posting in the Discussion at the end."
   ]
  },
  {
   "cell_type": "markdown",
   "metadata": {},
   "source": [
    "## In-class exercise\n",
    "\n",
    "[Geocode](https://en.wikipedia.org/wiki/Address_geocoding) an address from Python using the [NYC Planning GeoSearch API](https://geosearch.planninglabs.nyc/docs/). Print out the latitude and longitude. Any NYC address is fine:\n",
    "\n",
    "- Your own\n",
    "- This building: 238 Thompson St, New York, NY 10012\n",
    "- etc."
   ]
  },
  {
   "cell_type": "code",
   "execution_count": 1,
   "metadata": {},
   "outputs": [],
   "source": [
    "# your code here"
   ]
  },
  {
   "cell_type": "markdown",
   "metadata": {},
   "source": [
    "## Coding\n",
    "\n",
    "When doing mapping or spatial analysis, it's easier to work with geographic coordinates than addresses. The 311 dataset has the `latitude` and `longitude` filled in for many of the rows, but not all. Enrich the dataset by filling in those missing coordinates, where possible.\n",
    "\n",
    "- Use the smaller dataset from homework 2: https://storage.googleapis.com/python-public-policy/data/cleaned_311_data_hw2.csv.zip\n",
    "- Use the same API as above\n",
    "- To avoid overwhelming the API, operate on a small subset of the data (no more than thirty addresses that need geocoding).\n",
    "\n",
    "### Tips\n",
    "\n",
    "- Try doing single requests to the API from code before trying to run it against a DataFrame.\n",
    "- You can use [this technique for updating multiple columns at once through an `apply()`](https://stackoverflow.com/a/51703667/358804)."
   ]
  },
  {
   "cell_type": "code",
   "execution_count": 2,
   "metadata": {
    "execution": {
     "iopub.execute_input": "2022-04-15T22:12:41.122748Z",
     "iopub.status.busy": "2022-04-15T22:12:41.122335Z",
     "iopub.status.idle": "2022-04-15T22:12:41.128276Z",
     "shell.execute_reply": "2022-04-15T22:12:41.127536Z"
    }
   },
   "outputs": [],
   "source": [
    "# your code here"
   ]
  },
  {
   "cell_type": "markdown",
   "metadata": {},
   "source": [
    "### Question\n",
    "\n",
    "**What are the complicating factors** with this task? What could make it difficult to do comprehensively? Looking for a paragraph or some bullet points."
   ]
  },
  {
   "cell_type": "markdown",
   "metadata": {},
   "source": [
    "YOUR RESPONSE HERE"
   ]
  },
  {
   "cell_type": "markdown",
   "metadata": {},
   "source": [
    "Now [turn in the assignment](https://python-public-policy.afeld.me/en/latest/README.html#turning-in-assignments).\n",
    "\n",
    "## Homework 6 Proposal\n",
    "\n",
    "**Please answer [the proposal questions](hw_6.ipynb)** as a new Conversation under [the `HW6 proposals` Discussion](https://brightspace.nyu.edu/d2l/le/206261/discussions/topics/322348/View).\n",
    "\n",
    "## Participation\n",
    "\n",
    "Reminder about the [between-class participation requirement](https://python-public-policy.afeld.me/en/latest/syllabus.html#participation)."
   ]
  }
 ],
 "metadata": {
  "celltoolbar": "Slideshow",
  "kernelspec": {
   "display_name": "Python [conda env:python-public-policy] *",
   "language": "python",
   "name": "conda-env-python-public-policy-py"
  },
  "language_info": {
   "codemirror_mode": {
    "name": "ipython",
    "version": 3
   },
   "file_extension": ".py",
   "mimetype": "text/x-python",
   "name": "python",
   "nbconvert_exporter": "python",
   "pygments_lexer": "ipython3",
   "version": "3.10.6"
  },
  "rise": {
   "scroll": true
  }
 },
 "nbformat": 4,
 "nbformat_minor": 1
}
