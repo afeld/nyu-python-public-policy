{
 "cells": [
  {
   "cell_type": "markdown",
   "metadata": {
    "slideshow": {
     "slide_type": "skip"
    }
   },
   "source": [
    "# Class 0: Intro to coding"
   ]
  },
  {
   "cell_type": "markdown",
   "metadata": {
    "slideshow": {
     "slide_type": "slide"
    }
   },
   "source": [
    "## {{school_name}} - {{course_name}}\n",
    "\n",
    "Aidan Feldman"
   ]
  },
  {
   "cell_type": "markdown",
   "metadata": {
    "slideshow": {
     "slide_type": "slide"
    }
   },
   "source": [
    "## Welcome!\n",
    "\n",
    "![Elmo waving](https://media.giphy.com/media/LPgFwCQg4HQBvPihcn/source.gif)"
   ]
  },
  {
   "cell_type": "markdown",
   "metadata": {
    "slideshow": {
     "slide_type": "subslide"
    }
   },
   "source": [
    "### A bit more about me\n",
    "\n",
    "- Coding since 2005 🖥\n",
    "- Government since 2014 🦅\n",
    "- Also a modern dancer 💃 cyclist 🚲 and baker 🍞\n",
    "- Passionate about open source"
   ]
  },
  {
   "cell_type": "markdown",
   "metadata": {
    "slideshow": {
     "slide_type": "subslide"
    }
   },
   "source": [
    "### Day jobs\n",
    "\n",
    "Past include:\n",
    "\n",
    "- Technology Director at [TTS](https://www.gsa.gov/about-us/organization/federal-acquisition-service/technology-transformation-services)\n",
    "- [Census xD](https://www.xd.gov/)\n",
    "- [NYC Planning Labs](https://labs.planning.nyc.gov/)\n",
    "- GitHub\n",
    "- [18F](https://18f.gsa.gov)"
   ]
  },
  {
   "cell_type": "markdown",
   "metadata": {
    "slideshow": {
     "slide_type": "subslide"
    },
    "tags": [
     "columbia-only"
    ]
   },
   "source": [
    "New to:\n",
    "\n",
    "- Columbia\n",
    "- Canvas\n",
    "- Teaching multiple sections\n",
    "\n",
    "Thanks in advance for your patience."
   ]
  },
  {
   "cell_type": "markdown",
   "metadata": {
    "slideshow": {
     "slide_type": "slide"
    }
   },
   "source": [
    "## Access these slides\n",
    "\n",
    "You can get there through {{lms_name}}, or:\n",
    "\n",
    "<!-- there are two since the output doesn't get updated for the school-specific builds -->"
   ]
  },
  {
   "cell_type": "code",
   "execution_count": 1,
   "metadata": {
    "execution": {
     "iopub.execute_input": "2023-01-26T18:23:26.338815Z",
     "iopub.status.busy": "2023-01-26T18:23:26.338277Z",
     "iopub.status.idle": "2023-01-26T18:23:26.478239Z",
     "shell.execute_reply": "2023-01-26T18:23:26.477329Z"
    },
    "tags": [
     "columbia-only"
    ]
   },
   "outputs": [
    {
     "name": "stdout",
     "output_type": "stream",
     "text": [
      "zsh:1: no matches found: qrcode[pil]\r\n"
     ]
    }
   ],
   "source": [
    "!pip install qrcode[pil]"
   ]
  },
  {
   "cell_type": "code",
   "execution_count": 2,
   "metadata": {
    "execution": {
     "iopub.execute_input": "2023-01-26T18:23:26.492921Z",
     "iopub.status.busy": "2023-01-26T18:23:26.491531Z",
     "iopub.status.idle": "2023-01-26T18:23:26.536150Z",
     "shell.execute_reply": "2023-01-26T18:23:26.535787Z"
    },
    "tags": [
     "columbia-only"
    ]
   },
   "outputs": [
    {
     "data": {
      "image/png": "[encoded data removed]",
      "text/plain": [
       "<qrcode.image.pil.PilImage at 0x106336f70>"
      ]
     },
     "execution_count": 2,
     "metadata": {},
     "output_type": "execute_result"
    }
   ],
   "source": [
    "import qrcode\n",
    "\n",
    "qrcode.make(\"https://python-public-policy.afeld.me/en/columbia/lecture_0.html\")"
   ]
  },
  {
   "cell_type": "code",
   "execution_count": 3,
   "metadata": {
    "execution": {
     "iopub.execute_input": "2023-01-26T18:23:26.537901Z",
     "iopub.status.busy": "2023-01-26T18:23:26.537784Z",
     "iopub.status.idle": "2023-01-26T18:23:26.549068Z",
     "shell.execute_reply": "2023-01-26T18:23:26.548646Z"
    },
    "tags": [
     "nyu-only"
    ]
   },
   "outputs": [
    {
     "data": {
      "image/png": "[encoded data removed]",
      "text/plain": [
       "<qrcode.image.pil.PilImage at 0x1062bddf0>"
      ]
     },
     "execution_count": 3,
     "metadata": {},
     "output_type": "execute_result"
    }
   ],
   "source": [
    "import qrcode\n",
    "\n",
    "qrcode.make(\"https://python-public-policy.afeld.me/en/nyu/lecture_0.html\")"
   ]
  },
  {
   "cell_type": "markdown",
   "metadata": {
    "slideshow": {
     "slide_type": "slide"
    },
    "tags": [
     "columbia-only"
    ]
   },
   "source": [
    "## Wait list\n",
    "\n",
    "There are long wait lists for both sections.\n",
    "\n",
    "- There's a lot of churn in enrollment, so be patient.\n",
    "- [DAQA](https://bulletin.columbia.edu/sipa/specializations/daqa/) students will get priority (and thus be manually Approved), as there are limited offerings that fulfill their requirements. Otherwise, to be fair to everyone, it's first come first served.\n",
    "   - If you're DAQA and on the wait list, reach out.\n",
    "- [How SSOL fills open spots](https://www.registrar.columbia.edu/content/wait-lists-ssol)"
   ]
  },
  {
   "cell_type": "markdown",
   "metadata": {
    "slideshow": {
     "slide_type": "subslide"
    },
    "tags": [
     "columbia-only"
    ]
   },
   "source": [
    "### While you're waiting\n",
    "\n",
    "- Watch the [recording(s) of past lectures](https://python-public-policy.afeld.me/en/{{school_slug}}/syllabus.html#zoom) if you weren't present for them.\n",
    "- Attend class.\n",
    "- You won't be able to access [{{lms_name}}]({{lms_url}}) or the [Discussions]({{discussions_url}}).\n",
    "- [Complete the Assignment(s) in {{coding_env_name}} as normal](assignments.html), just wait until you are registered to [submit](assignments.html#submission) them."
   ]
  },
  {
   "cell_type": "markdown",
   "metadata": {
    "slideshow": {
     "slide_type": "subslide"
    },
    "tags": [
     "columbia-only"
    ]
   },
   "source": [
    "### Once you get off the wait list\n",
    "\n",
    "- It will take up to 24 hours to get automatically added to CourseWorks. If you don't have access after that, [reach out to the instructor](syllabus.html#instructor-information).\n",
    "- Make sure to read through the pinned threads that appear at the top of the list of [Discussions]({{discussions_url}}), in case there's anything you missed.\n",
    "- [Submit](assignments.html#submission) all past assignments.\n",
    "   - Let us know how much time you need for catching up on each; we are happy to give reasonable extensions.\n",
    "   - If we accidentally mark you as late, let the Reader know in [a comment on the assignment](https://community.canvaslms.com/t5/Student-Guide/How-do-I-reply-to-submission-comments-in-the-Inbox-as-a-student/ta-p/496) and we'll get it corrected.\n",
    "- We will mark [Participation](syllabus.html#participation) for weeks prior to when a student is registered as Excused.\n",
    "   - Again, let the Reader know if there's a mistake."
   ]
  },
  {
   "cell_type": "markdown",
   "metadata": {
    "slideshow": {
     "slide_type": "slide"
    }
   },
   "source": [
    "## Introductions\n",
    "\n",
    "Share the following:\n",
    "\n",
    "- Name (what you go by)\n",
    "- Pronouns\n",
    "- What you're studying\n",
    "- Fun fact"
   ]
  },
  {
   "cell_type": "markdown",
   "metadata": {
    "slideshow": {
     "slide_type": "subslide"
    }
   },
   "source": [
    "### Who are you (as a whole)\n",
    "\n",
    "[Survey]({{survey_url}})"
   ]
  },
  {
   "cell_type": "markdown",
   "metadata": {
    "slideshow": {
     "slide_type": "subslide"
    }
   },
   "source": [
    "> [This study] found that the modern language aptitude test was the strongest predictor of how quickly people would learn to code in Python … language aptitude explained 43 percent, fluid reasoning explained 12.8 percent, … and numeracy just 6 percent [of the variance].\n",
    "\n",
    "https://www.psychologytoday.com/us/blog/brain-waves/202003/learning-code-requires-language-skills-not-math"
   ]
  },
  {
   "cell_type": "markdown",
   "metadata": {
    "slideshow": {
     "slide_type": "fragment"
    }
   },
   "source": [
    "**In other words:** Being good at learning foreign languages is the best known predictor for learning to code quickly, moreso than being good at math."
   ]
  },
  {
   "cell_type": "markdown",
   "metadata": {
    "slideshow": {
     "slide_type": "subslide"
    }
   },
   "source": [
    "### Accomodations\n",
    "\n",
    "- Childcare, mental health issues, etc.\n",
    "- Reach out"
   ]
  },
  {
   "cell_type": "markdown",
   "metadata": {
    "slideshow": {
     "slide_type": "slide"
    }
   },
   "source": [
    "## Class structure"
   ]
  },
  {
   "cell_type": "markdown",
   "metadata": {
    "slideshow": {
     "slide_type": "subslide"
    }
   },
   "source": [
    "### Class materials walkthrough\n",
    "\n",
    "[Important links](https://python-public-policy.afeld.me/en/{{school_slug}}/#important-links)"
   ]
  },
  {
   "cell_type": "markdown",
   "metadata": {
    "slideshow": {
     "slide_type": "subslide"
    }
   },
   "source": [
    "### Homework\n",
    "\n",
    "Generally:\n",
    "\n",
    "- **Online tutorials:** In advance of classes, online tutorials will be assigned as homework. The following lecture will focus on applying those concepts.\n",
    "- **Coding:** Complete Python coding exercises that apply the concepts covered in the last lecture.\n",
    "\n",
    "![homework workflow](extras/img/hw_workflow.png)\n",
    " "
   ]
  },
  {
   "cell_type": "markdown",
   "metadata": {
    "slideshow": {
     "slide_type": "slide"
    }
   },
   "source": [
    "## Disclaimers\n",
    "\n",
    "### Me\n",
    "\n",
    "- Here to teach you to:\n",
    "   - Understand the power of code\n",
    "   - Not be afraid of code\n",
    "   - Do a lot with just a little code\n",
    "   - Troubleshoot\n",
    "   - Google stuff\n",
    "- Not a statistician\n",
    "\n",
    "### You\n",
    "\n",
    "- Are not going to:\n",
    "   - Be good at coding seven weeks in\n",
    "   - Understand everything the first time\n",
    "- Will want to throw your computer out a window at one or many points in the class\n",
    "   - Celebrate the little victories\n",
    "- Will get out of it what you put into it"
   ]
  },
  {
   "cell_type": "markdown",
   "metadata": {
    "slideshow": {
     "slide_type": "subslide"
    }
   },
   "source": [
    "### Questions you might ask\n",
    "\n",
    "- Can you remind us what that means?\n",
    "- Can you say that differently?\n",
    "- Can you give an example?\n",
    "- How might this show up in our jobs?\n",
    "- When did _you_ first learn about this?\n",
    "- Why does this matter?\n",
    "\n",
    "_Stolen from [Andrew Maier](https://twitter.com/andrewmaier/status/1258738594430291969)_"
   ]
  },
  {
   "cell_type": "markdown",
   "metadata": {
    "slideshow": {
     "slide_type": "slide"
    }
   },
   "source": [
    "## Spreadsheets vs. programming languages"
   ]
  },
  {
   "cell_type": "markdown",
   "metadata": {
    "slideshow": {
     "slide_type": "subslide"
    }
   },
   "source": [
    "What do you like about spreadsheets?"
   ]
  },
  {
   "cell_type": "markdown",
   "metadata": {
    "slideshow": {
     "slide_type": "subslide"
    }
   },
   "source": [
    "### Why spreadsheets\n",
    "\n",
    "- The easy stuff is easy\n",
    "- Lots of people know how to use them\n",
    "- Mostly just have to point, click, and scroll\n",
    "- Data and logic live together as one"
   ]
  },
  {
   "cell_type": "markdown",
   "metadata": {
    "slideshow": {
     "slide_type": "subslide"
    }
   },
   "source": [
    "### Why programming languages\n",
    "\n",
    "- Data and logic _don't_ live together\n",
    "   - Why might this matter?"
   ]
  },
  {
   "cell_type": "markdown",
   "metadata": {
    "slideshow": {
     "slide_type": "fragment"
    }
   },
   "source": [
    "- More powerful, flexible, and expressive than spreadsheet formulas; don't have to cram into a single line\n",
    "\n",
    "   ```excel\n",
    "   =SUM(INDEX(C3:E9,MATCH(B13,C3:C9,0),MATCH(B14,C3:E3,0)))\n",
    "   ```\n",
    "\n",
    "- Better at working with large data\n",
    "   - Google Sheets and Excel have hard limits at 1-5 million rows, but get slow long before that\n",
    "- Reusable code (packages)\n",
    "- Automation"
   ]
  },
  {
   "cell_type": "markdown",
   "metadata": {
    "slideshow": {
     "slide_type": "subslide"
    }
   },
   "source": [
    "### Side-by-side<sup>1</sup>\n",
    "\n",
    "|                       Task |      Spreadsheets      | Programming Languages |\n",
    "| -------------------------: | :--------------------: | :-------------------: |\n",
    "|           **Loading data** |          Easy          |        Medium         |\n",
    "|           **Viewing data** |          Easy          |        Medium         |\n",
    "|         **Filtering data** |          Easy          |        Medium         |\n",
    "|      **Manipulating data** |         Medium         |        Medium         |\n",
    "|           **Joining data** |          Hard          |        Medium         |\n",
    "| **Complicated transforms** | Impossible<sup>2</sup> |        Medium         |\n",
    "|             **Automation** | Impossible<sup>2</sup> |        Medium         |\n",
    "|        **Making reusable** |   Limited<sup>3</sup>  |        Medium         |\n",
    "|         **Large datasets** |       Impossible       |         Hard          |\n",
    "\n",
    "<sup>1</sup> These ratings are obviously subjective<br/>\n",
    "<sup>2</sup> Not including scripting<br/>\n",
    "<sup>3</sup> [Google Sheets supports named functions](https://support.google.com/docs/answer/12504534)"
   ]
  },
  {
   "cell_type": "markdown",
   "metadata": {
    "slideshow": {
     "slide_type": "subslide"
    }
   },
   "source": [
    "### Python vs. other languages\n",
    "\n",
    "Why are you taking _this_ class instead of R or whatever else?\n",
    "\n",
    "![Python logo](https://upload.wikimedia.org/wikipedia/commons/thumb/c/c3/Python-logo-notext.svg/110px-Python-logo-notext.svg.png)"
   ]
  },
  {
   "cell_type": "markdown",
   "metadata": {
    "slideshow": {
     "slide_type": "subslide"
    }
   },
   "source": [
    "### Python vs. other languages\n",
    "\n",
    "- Good for general-purpose _and_ data stuff\n",
    "- Widely used in both industry and academia\n",
    "- Relatively easy to learn\n",
    "- Open source\n",
    "\n",
    "![Python logo](https://upload.wikimedia.org/wikipedia/commons/thumb/c/c3/Python-logo-notext.svg/110px-Python-logo-notext.svg.png)"
   ]
  },
  {
   "cell_type": "markdown",
   "metadata": {
    "slideshow": {
     "slide_type": "slide"
    }
   },
   "source": [
    "## What _is_ Python?"
   ]
  },
  {
   "cell_type": "markdown",
   "metadata": {
    "slideshow": {
     "slide_type": "fragment"
    }
   },
   "source": [
    "- A general-purpose programming language\n",
    "- Text that your computer understands\n",
    "    - Usually saved in a text file\n",
    "    - _This is true of most programming languages_\n",
    "- Popular for data analysis and data science"
   ]
  },
  {
   "cell_type": "markdown",
   "metadata": {
    "slideshow": {
     "slide_type": "subslide"
    }
   },
   "source": [
    "### Packages\n",
    "\n",
    "- a.k.a. \"libraries\" or \"modules\"\n",
    "- Developers have create them to make code/functionality reusable and easily sharable\n",
    "- Software plugins that you `import`\n",
    "- Main packages we’ll use:\n",
    "    - `pandas`\n",
    "    - `plotly`"
   ]
  },
  {
   "cell_type": "markdown",
   "metadata": {
    "slideshow": {
     "slide_type": "subslide"
    }
   },
   "source": [
    "### Where to Python\n",
    "\n",
    "Pyton can be run in:\n",
    "\n",
    "- A text file, using the `python` command\n",
    "- [The interactive Python interpreter / command prompt / shell](https://www.python.org/shell/)\n",
    "- A Jupyter notebook\n",
    "    - [Google Colab](https://colab.research.google.com/), [Mode](https://mode.com/), [Kaggle](https://www.kaggle.com/), and other sites/tools are built around it\n",
    "    - What we'll be using for this class\n",
    "\n",
    "Each can be on your computer (\"local\"), or in the cloud somewhere."
   ]
  },
  {
   "cell_type": "markdown",
   "metadata": {
    "slideshow": {
     "slide_type": "subslide"
    }
   },
   "source": [
    "![Trinity using the command line in the Matrix](https://nmap.org/movies/matrix/trinity-nmapscreen-hd-crop-1200x728.jpg)"
   ]
  },
  {
   "cell_type": "markdown",
   "metadata": {
    "slideshow": {
     "slide_type": "subslide"
    }
   },
   "source": [
    "### Try it!\n",
    "\n",
    "1. Go to [python.org/shell](https://www.python.org/shell/)\n",
    "1. Do some math (after typing each line, press `Enter` to submit)\n",
    "    1. `1 + 1`\n",
    "    1. `10 / 4`\n",
    "    1. `10 / 3`\n",
    "    1. Calculate the number of minutes in a year"
   ]
  },
  {
   "cell_type": "markdown",
   "metadata": {
    "slideshow": {
     "slide_type": "subslide"
    }
   },
   "source": [
    "### Try to break it!\n",
    "\n",
    "It's ok, you won't hurt it."
   ]
  },
  {
   "cell_type": "markdown",
   "metadata": {
    "slideshow": {
     "slide_type": "fragment"
    }
   },
   "source": [
    "What happened?"
   ]
  },
  {
   "cell_type": "markdown",
   "metadata": {
    "slideshow": {
     "slide_type": "slide"
    }
   },
   "source": [
    "## Jupyter\n",
    "\n",
    "- Web based programming environment\n",
    "- Supports Python by default, and other languages with plugins\n",
    "- Nicely displays output of your code so you can check and share the results\n",
    "- Avoids using the command line\n",
    "- Avoids installation problems across different computers and operating systems"
   ]
  },
  {
   "cell_type": "markdown",
   "metadata": {
    "tags": [
     "nyu-only"
    ]
   },
   "source": [
    "We're using [JupyterHub](https://jupyter.org/hub), [offered by NYU's High Performance Computing (HPC) group](https://sites.google.com/nyu.edu/nyu-hpc/training-support/resources-for-classes/jupyterhub)."
   ]
  },
  {
   "cell_type": "markdown",
   "metadata": {
    "tags": [
     "columbia-only"
    ]
   },
   "source": [
    "We're using a service called [{{coding_env_name}}]({{coding_env_url}}) for their Jupyter functionality."
   ]
  },
  {
   "cell_type": "markdown",
   "metadata": {
    "slideshow": {
     "slide_type": "subslide"
    }
   },
   "source": [
    "### Command line vs. Jupyter\n",
    "\n",
    "![Command line vs. Jupyter output](extras/img/cli_vs_jupyter.png)"
   ]
  },
  {
   "cell_type": "markdown",
   "metadata": {
    "slideshow": {
     "slide_type": "subslide"
    }
   },
   "source": [
    "### Try it!\n",
    "\n",
    "1. Go to [{{coding_env_name}}]({{coding_env_url}})\n",
    "1. Create a notebook{% if id == 'nyu' %}\n",
    "   1. Click `New`\n",
    "   1. Under `Notebook`, click `Python [conda env:python-public-policy]`\n",
    "{% endif -%}\n",
    "1. Paste in [the following example](https://plotly.com/python/linear-fits/#linear-fit-trendlines-with-plotly-express)\n",
    "1. Press the ▶️ button (or `Control`+`Enter` on your keyboard)\n",
    "\n",
    "```python\n",
    "{% if id == 'nyu' -%}\n",
    "import plotly.io as pio\n",
    "pio.renderers.default = \"notebook_connected+pdf\"\n",
    "\n",
    "{% endif -%}\n",
    "import plotly.express as px\n",
    "\n",
    "df = px.data.tips()\n",
    "fig = px.scatter(df, x=\"total_bill\", y=\"tip\", trendline=\"ols\")\n",
    "fig.show()\n",
    "```  "
   ]
  },
  {
   "cell_type": "markdown",
   "metadata": {
    "slideshow": {
     "slide_type": "subslide"
    }
   },
   "source": [
    "FYI `px.data.tips()` loads one of [Plotly's sample datasets](https://plotly.com/python-api-reference/generated/plotly.express.data.html)."
   ]
  },
  {
   "cell_type": "markdown",
   "metadata": {
    "slideshow": {
     "slide_type": "subslide"
    }
   },
   "source": [
    "### Jupyter basics\n",
    "\n",
    "A \"cell\" can be either code or [Markdown](https://www.markdownguide.org/getting-started/) (text). Raw Markdown looks like this:\n",
    "\n",
    "```\n",
    "## A heading\n",
    "\n",
    "Plain text\n",
    "\n",
    "[A link](https://somewhere.com)\n",
    "```"
   ]
  },
  {
   "cell_type": "markdown",
   "metadata": {
    "slideshow": {
     "slide_type": "subslide"
    }
   },
   "source": [
    "#### Running\n",
    "\n",
    "- You \"run\" a cell by either:\n",
    "    - Pressing the ▶️ button\n",
    "    - Pressing `Control`+`Enter` on your keyboard\n",
    "- Cells don't run unless you tell them to, in the order you do so\n",
    "    - Generally, you want to do so from the top every time you open a notebook"
   ]
  },
  {
   "cell_type": "markdown",
   "metadata": {
    "slideshow": {
     "slide_type": "subslide"
    }
   },
   "source": [
    "#### Output\n",
    "\n",
    "- The last thing in a code cell is what gets displayed when it's run\n",
    "- The output gets saved as part of the notebook\n",
    "- Just because there's existing output from a cell, doesn't mean that cell has been run during this session"
   ]
  },
  {
   "cell_type": "markdown",
   "metadata": {
    "slideshow": {
     "slide_type": "slide"
    }
   },
   "source": [
    "## Computers are not smart.\n",
    "\n",
    "They do exactly what you tell them to do (not what you _meant_ them to do) in the order you tell them to do it."
   ]
  },
  {
   "cell_type": "markdown",
   "metadata": {
    "slideshow": {
     "slide_type": "slide"
    }
   },
   "source": [
    "## [Homework 0](hw_0.ipynb)\n",
    "\n",
    "1. Walk through the assignment\n",
    "1. [How to submit](https://python-public-policy.afeld.me/en/{{school_slug}}/assignments.html)\n",
    "1. If there's time, start on it"
   ]
  },
  {
   "cell_type": "markdown",
   "metadata": {
    "slideshow": {
     "slide_type": "slide"
    },
    "tags": [
     "columbia-only"
    ]
   },
   "source": [
    "## Office hours\n",
    "\n",
    "Today 2:30-3pm, normally 2-3pm, also by appointment. Use them!"
   ]
  }
 ],
 "metadata": {
  "celltoolbar": "Slideshow",
  "file_extension": ".py",
  "kernelspec": {
   "display_name": "Python [conda env:python-public-policy] *",
   "language": "python",
   "name": "conda-env-python-public-policy-py"
  },
  "language_info": {
   "codemirror_mode": {
    "name": "ipython",
    "version": 3
   },
   "file_extension": ".py",
   "mimetype": "text/x-python",
   "name": "python",
   "nbconvert_exporter": "python",
   "pygments_lexer": "ipython3",
   "version": "3.8.10"
  },
  "mimetype": "text/x-python",
  "name": "python",
  "npconvert_exporter": "python",
  "pygments_lexer": "ipython3",
  "version": 3
 },
 "nbformat": 4,
 "nbformat_minor": 4
}
