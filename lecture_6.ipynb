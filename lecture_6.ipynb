{
 "cells": [
  {
   "cell_type": "markdown",
   "metadata": {
    "id": "Omm4n3FmPHlF",
    "slideshow": {
     "slide_type": "slide"
    }
   },
   "source": [
    "# Class 6: The Bigger Picture"
   ]
  },
  {
   "cell_type": "markdown",
   "metadata": {
    "slideshow": {
     "slide_type": "slide"
    }
   },
   "source": [
    "## Guest speakers"
   ]
  },
  {
   "cell_type": "markdown",
   "metadata": {
    "slideshow": {
     "slide_type": "subslide"
    }
   },
   "source": [
    "### [Elizabeth Marcello, PhD](https://www.linkedin.com/in/elizabeth-marcello-ph-d-686919b0/)\n",
    "\n",
    "> Elizabeth is a Senior Research Analyst at [Reinvent Albany](https://reinventalbany.org/). She cut her teeth in New York State policy and politics at Reinvent Albany following several years of working in Senegal and then Kenya. After a hiatus to finish her PhD, Elizabeth returned to Reinvent Albany to work on business subsidy and economic development issues. Elizabeth has a master’s degree from Columbia University’s School of International and Public Affairs and a PhD in urban planning from Columbia's Graduate School of Architecture, Planning and Preservation."
   ]
  },
  {
   "cell_type": "markdown",
   "metadata": {
    "slideshow": {
     "slide_type": "subslide"
    }
   },
   "source": [
    "#### Questions?"
   ]
  },
  {
   "cell_type": "markdown",
   "metadata": {
    "slideshow": {
     "slide_type": "subslide"
    }
   },
   "source": [
    "### [Joel Natividad](https://www.linkedin.com/in/joelnatividad/)\n",
    "\n",
    "> A social entrepreneur working on data portals & data infrastructure since 2010, Joel has helped deploy more than 50 open source, open data solutions at all levels of government across the US. After winning the NYCBigApps Challenge twice, Joel and his cofounder started Ontodia - becoming the first CKAN professional services partner in the Americas in 2013 – deploying data portals in Jersey City, Newark, Allegheny County, PA; Boston, San Antonio, NYC Department of Education, and UNDP among others; launching CivicDashboards at Code for America 2015, before being acquired by OpenGov in 2016. In 2019, they left OpenGov and started datHere."
   ]
  },
  {
   "cell_type": "markdown",
   "metadata": {
    "slideshow": {
     "slide_type": "skip"
    }
   },
   "source": [
    "#### Full version\n",
    "\n",
    "> A social entrepreneur working on data portals & data infrastructure since 2010, Joel has helped deploy more than 50 open source, open data solutions at all levels of government across the US.\n",
    ">\n",
    "> The son of two civil servants who always wanted to apply his technology skills in the public sector, he finally got his chance to do so when he convinced his boss to enter the [NYCBigApps Challenge](https://en.wikipedia.org/wiki/NYC_BigApps) in 2011 - where their entry won the \"Large Organization\" Award.\n",
    ">\n",
    "> When the 2012 NYCBigApps Challenge was announced however, his boss declined to participate again, citing that the anticipated business from winning did not materialize as expected.\n",
    ">\n",
    "> Still, he decided to go for it and turn in his papers, working out of Sami - his co-founder's basement, for the next six months. Their gamble paid off when they won the NYCBigApps Grand Prize in 2012.\n",
    ">\n",
    "> Sami and Joel decided to apply themselves fulltime and started their first civictech startup Ontodia - becoming the first [CKAN](https://ckan.org/) professional services partner in the Americas in 2013 – deploying data portals in Jersey City, Newark, Allegheny County, PA; Boston, San Antonio, NYC Department of Education, and UNDP among others; launching CivicDashboards at Code for America 2015, before being acquired by [OpenGov](https://opengov.com/) in 2016.\n",
    ">\n",
    "> At OpenGov, they built the largest CKAN SaaS service in the Americas, while actively contributing/sponsoring core CKAN development and staying active in the community.\n",
    ">\n",
    "> However, they found that OpenGov's SaaS business model constricting - as it disincentivized \"building with, not for\" their public sector customers, so they left OpenGov and started [datHere](https://dathere.com/) in 2019.\n",
    ">\n",
    "> With datHere – they apply themselves anew to the data management challenge – building open source, data management infrastructure to ensure that your Data is Useful, Usable and Used."
   ]
  },
  {
   "cell_type": "markdown",
   "metadata": {
    "slideshow": {
     "slide_type": "subslide"
    }
   },
   "source": [
    "#### Questions?"
   ]
  },
  {
   "cell_type": "markdown",
   "metadata": {
    "slideshow": {
     "slide_type": "slide"
    }
   },
   "source": [
    "## Final Project wrap-up\n",
    "\n",
    "- Heard from lots of people having issues running out of disk, kernel crashing, 500 errors when exporting, etc.\n",
    "   - Can only [anticipate](https://python-public-policy.afeld.me/en/{{school_slug}}/assignments.html#common-issues) so much\n",
    "- [Warning from first day](https://python-public-policy.afeld.me/en/{{school_slug}}/lecture_0.html#you)\n",
    "- This is (unfortunately) a big part of coding, and thus the Final Project\n",
    "- Troubleshooting is a skill\n",
    "   - \"It's broken\""
   ]
  },
  {
   "cell_type": "markdown",
   "metadata": {
    "slideshow": {
     "slide_type": "slide"
    }
   },
   "source": [
    "## Ask Me Anything (AMA)\n",
    "\n",
    "Have slides on \"Python beyond data analysis\" as backup, but would rather talk about what you want to hear about."
   ]
  },
  {
   "cell_type": "markdown",
   "metadata": {
    "slideshow": {
     "slide_type": "slide"
    }
   },
   "source": [
    "## Python beyond data analysis\n",
    "\n",
    "We've been focusing on using Python and pandas for data analysis. What else is Python used for?"
   ]
  },
  {
   "cell_type": "markdown",
   "metadata": {
    "slideshow": {
     "slide_type": "subslide"
    }
   },
   "source": [
    "### Data engineering\n",
    "\n",
    "- Automation / recurring processes\n",
    "- Copying/moving/processing/publishing data, especially Big Data\n",
    "- Monitoring/alerting"
   ]
  },
  {
   "cell_type": "markdown",
   "metadata": {
    "slideshow": {
     "slide_type": "subslide"
    }
   },
   "source": [
    "### Web development\n",
    "\n",
    "- Building web sites that are interactive (more than just content)\n",
    "- Forms\n",
    "- Presenting data\n",
    "- Workflows, such as:\n",
    "   - Signing up for things\n",
    "   - Paying for things"
   ]
  },
  {
   "cell_type": "markdown",
   "metadata": {
    "slideshow": {
     "slide_type": "subslide"
    }
   },
   "source": [
    "### Machine learning\n",
    "\n",
    "- Statistics, but _fancy_\n",
    "- Building models\n",
    "   - [Examples](https://tfhub.dev/)\n",
    "- Finding patterns\n",
    "- Recommendations\n",
    "- Detection"
   ]
  },
  {
   "cell_type": "markdown",
   "metadata": {
    "slideshow": {
     "slide_type": "subslide"
    }
   },
   "source": [
    "When people say \"artificial intelligence,\" they usually mean \"machine learning.\""
   ]
  },
  {
   "cell_type": "markdown",
   "metadata": {
    "slideshow": {
     "slide_type": "subslide"
    }
   },
   "source": [
    "![Diagram showing what type of machine learning may be useful, if at all](https://mitsloan.mit.edu/sites/default/files/2021-04/machine-learning-infographic_2.jpg)\n",
    "\n",
    "[Source, with more thorough explanation](https://mitsloan.mit.edu/ideas-made-to-matter/machine-learning-explained)"
   ]
  },
  {
   "cell_type": "markdown",
   "metadata": {
    "slideshow": {
     "slide_type": "subslide"
    }
   },
   "source": [
    "#### The process\n",
    "\n",
    "_High-level_\n",
    "\n",
    "1. Create a model\n",
    "   1. Gather a bunch of data for training\n",
    "   1. If supervised machine learning, label it (give it the right answers)\n",
    "   1. Segment into training and test data\n",
    "   1. Train the model against the training dataset (have it identify patterns)\n",
    "   1. Test the model against the test dataset\n",
    "1. Run against new data\n",
    "1. If reinforcement learning, model refines itself"
   ]
  },
  {
   "cell_type": "markdown",
   "metadata": {
    "slideshow": {
     "slide_type": "subslide"
    }
   },
   "source": [
    "You have a head start: [The fundamentals](https://python-public-policy.afeld.me/en/{{school_slug}}/syllabus.html#learning-objectives) are applicable anywhere you're using code."
   ]
  },
  {
   "cell_type": "markdown",
   "metadata": {
    "slideshow": {
     "slide_type": "slide"
    },
    "tags": [
     "nyu-only"
    ]
   },
   "source": [
    "## Post-{{coding_env_name}}\n",
    "\n",
    "- {{coding_env_name}} instance (and your copy of files) will be deleted\n",
    "    - Download things you want to keep, particularly edited notebooks\n",
    "- Class materials will remain available on [the site](https://python-public-policy.afeld.me/en/{{school_slug}}/) and [through GitHub](https://github.com/afeld/python-public-policy/tree/{{school_slug}})\n",
    "- [Running notebooks elsewhere](https://python-public-policy.afeld.me/en/{{school_slug}}/resources.html#jupyter-outside-this-course)"
   ]
  },
  {
   "cell_type": "markdown",
   "metadata": {
    "slideshow": {
     "slide_type": "slide"
    }
   },
   "source": [
    "Thanks to the {{assistant_name}}!"
   ]
  },
  {
   "cell_type": "markdown",
   "metadata": {
    "slideshow": {
     "slide_type": "slide"
    }
   },
   "source": [
    "## Thank you!\n",
    "\n",
    "Keep in touch:\n",
    "\n",
    "- [Email](https://python-public-policy.afeld.me/en/{{school_slug}}/syllabus.html#instructor-information)\n",
    "- [@aidanfeldman](https://twitter.com/aidanfeldman/) on Twitter"
   ]
  }
 ],
 "metadata": {
  "celltoolbar": "Slideshow",
  "kernelspec": {
   "display_name": "Python [conda env:python-public-policy] *",
   "language": "python",
   "name": "conda-env-python-public-policy-py"
  },
  "language_info": {
   "codemirror_mode": {
    "name": "ipython",
    "version": 3
   },
   "file_extension": ".py",
   "mimetype": "text/x-python",
   "name": "python",
   "nbconvert_exporter": "python",
   "pygments_lexer": "ipython3",
   "version": "3.10.12"
  }
 },
 "nbformat": 4,
 "nbformat_minor": 4
}
