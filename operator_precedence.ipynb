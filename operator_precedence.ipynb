{
 "cells": [
  {
   "cell_type": "markdown",
   "metadata": {
    "editable": true,
    "slideshow": {
     "slide_type": "slide"
    },
    "tags": [
     "columbia-only"
    ]
   },
   "source": [
    "# Operator precedence\n",
    "\n",
    "TODO video\n",
    "\n",
    "a.k.a. order of operations, like [PEMDAS](https://en.wikipedia.org/wiki/Order_of_operations#Mnemonics) from math"
   ]
  },
  {
   "cell_type": "markdown",
   "metadata": {
    "slideshow": {
     "slide_type": "subslide"
    },
    "tags": [
     "columbia-only"
    ]
   },
   "source": [
    "```python\n",
    "answer = \"No\"\n",
    "\n",
    "answer == \"Yes\" or \"yes\"\n",
    "```\n",
    "\n",
    "What will this evaluate to?"
   ]
  },
  {
   "cell_type": "markdown",
   "metadata": {
    "slideshow": {
     "slide_type": "subslide"
    },
    "tags": [
     "columbia-only"
    ]
   },
   "source": [
    "[Evaluation order](https://docs.python.org/3/reference/expressions.html#evaluation-order) and [operator precedence](https://docs.python.org/3/reference/expressions.html#operator-precedence)"
   ]
  },
  {
   "cell_type": "markdown",
   "metadata": {
    "slideshow": {
     "slide_type": "subslide"
    },
    "tags": [
     "columbia-only"
    ]
   },
   "source": [
    "```python\n",
    "answer = \"No\"\n",
    "\n",
    "\n",
    "result =  answer == \"Yes\"  or \"yes\"\n",
    "#           ↓\n",
    "result =   \"No\"  == \"Yes\"  or \"yes\"\n",
    "```"
   ]
  },
  {
   "cell_type": "markdown",
   "metadata": {
    "slideshow": {
     "slide_type": "fragment"
    },
    "tags": [
     "columbia-only"
    ]
   },
   "source": [
    "```python\n",
    "#                 ↓\n",
    "result = ( \"No\"  == \"Yes\") or \"yes\"\n",
    "# `==` has higher precedence than `or`\n",
    "```"
   ]
  },
  {
   "cell_type": "markdown",
   "metadata": {
    "slideshow": {
     "slide_type": "fragment"
    },
    "tags": [
     "columbia-only"
    ]
   },
   "source": [
    "```python\n",
    "#                 ↓\n",
    "result =        False      or \"yes\"\n",
    "```"
   ]
  },
  {
   "cell_type": "markdown",
   "metadata": {
    "slideshow": {
     "slide_type": "fragment"
    },
    "tags": [
     "columbia-only"
    ]
   },
   "source": [
    "```python\n",
    "#                          ↓\n",
    "result =                 \"yes\"\n",
    "```"
   ]
  },
  {
   "cell_type": "code",
   "execution_count": 2,
   "metadata": {
    "execution": {
     "iopub.execute_input": "2024-11-06T16:16:48.250134Z",
     "iopub.status.busy": "2024-11-06T16:16:48.249994Z",
     "iopub.status.idle": "2024-11-06T16:16:48.253271Z",
     "shell.execute_reply": "2024-11-06T16:16:48.253002Z"
    },
    "slideshow": {
     "slide_type": "subslide"
    },
    "tags": [
     "columbia-only"
    ]
   },
   "outputs": [
    {
     "data": {
      "text/plain": [
       "'yes'"
      ]
     },
     "execution_count": 2,
     "metadata": {},
     "output_type": "execute_result"
    }
   ],
   "source": [
    "answer = \"No\"\n",
    "\n",
    "result = answer == \"Yes\" or \"yes\"\n",
    "result"
   ]
  },
  {
   "cell_type": "markdown",
   "metadata": {
    "slideshow": {
     "slide_type": "fragment"
    },
    "tags": [
     "columbia-only"
    ]
   },
   "source": [
    "**Takeaway:** Code is better when readable. Use parentheses so the reader doesn't have to think!"
   ]
  }
 ],
 "metadata": {
  "celltoolbar": "Slideshow",
  "kernelspec": {
   "display_name": "Python [conda env:python-public-policy] *",
   "language": "python",
   "name": "conda-env-python-public-policy-py"
  },
  "language_info": {
   "codemirror_mode": {
    "name": "ipython",
    "version": 3
   },
   "file_extension": ".py",
   "mimetype": "text/x-python",
   "name": "python",
   "nbconvert_exporter": "python",
   "pygments_lexer": "ipython3",
   "version": "3.10.12"
  }
 },
 "nbformat": 4,
 "nbformat_minor": 4
}
