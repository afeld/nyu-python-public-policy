{
 "cells": [
  {
   "cell_type": "markdown",
   "metadata": {},
   "source": [
    "# Class 3 in-class exercise"
   ]
  },
  {
   "cell_type": "code",
   "execution_count": 1,
   "metadata": {
    "execution": {
     "iopub.execute_input": "2024-03-17T00:11:13.926654Z",
     "iopub.status.busy": "2024-03-17T00:11:13.926249Z",
     "iopub.status.idle": "2024-03-17T00:11:14.019454Z",
     "shell.execute_reply": "2024-03-17T00:11:14.019124Z"
    },
    "tags": [
     "nyu-only"
    ]
   },
   "outputs": [],
   "source": [
    "# boilerplate for allowing PDF export\n",
    "import plotly.io as pio\n",
    "\n",
    "pio.renderers.default = \"notebook_connected+pdf\""
   ]
  },
  {
   "cell_type": "markdown",
   "metadata": {},
   "source": [
    "## Step 0\n",
    "\n",
    "Load the requests per capita dataset from https://storage.googleapis.com/python-public-policy2/data/311_community_districts.csv.zip."
   ]
  },
  {
   "cell_type": "code",
   "execution_count": 2,
   "metadata": {
    "execution": {
     "iopub.execute_input": "2024-03-17T00:11:14.021397Z",
     "iopub.status.busy": "2024-03-17T00:11:14.021279Z",
     "iopub.status.idle": "2024-03-17T00:11:14.022966Z",
     "shell.execute_reply": "2024-03-17T00:11:14.022713Z"
    },
    "tags": [
     "solution"
    ]
   },
   "outputs": [],
   "source": [
    "# your code here"
   ]
  },
  {
   "cell_type": "markdown",
   "metadata": {},
   "source": [
    "## Step 1\n",
    "\n",
    "Make a [histogram](https://plotly.com/python/histograms/) of the requests per capita."
   ]
  },
  {
   "cell_type": "code",
   "execution_count": 3,
   "metadata": {
    "execution": {
     "iopub.execute_input": "2024-03-17T00:11:14.024512Z",
     "iopub.status.busy": "2024-03-17T00:11:14.024404Z",
     "iopub.status.idle": "2024-03-17T00:11:14.025896Z",
     "shell.execute_reply": "2024-03-17T00:11:14.025666Z"
    },
    "tags": [
     "solution"
    ]
   },
   "outputs": [],
   "source": [
    "# your code here"
   ]
  }
 ],
 "metadata": {
  "kernelspec": {
   "display_name": "Python [conda env:python-public-policy] *",
   "language": "python",
   "name": "conda-env-python-public-policy-py"
  },
  "language_info": {
   "codemirror_mode": {
    "name": "ipython",
    "version": 3
   },
   "file_extension": ".py",
   "mimetype": "text/x-python",
   "name": "python",
   "nbconvert_exporter": "python",
   "pygments_lexer": "ipython3",
   "version": "3.10.12"
  }
 },
 "nbformat": 4,
 "nbformat_minor": 4
}
