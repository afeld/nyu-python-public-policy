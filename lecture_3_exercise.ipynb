{
 "cells": [
  {
   "cell_type": "markdown",
   "metadata": {},
   "source": [
    "# Class 3 in-class exercise"
   ]
  },
  {
   "cell_type": "code",
   "execution_count": 1,
   "metadata": {
    "execution": {
     "iopub.execute_input": "2023-10-22T00:10:10.471105Z",
     "iopub.status.busy": "2023-10-22T00:10:10.470686Z",
     "iopub.status.idle": "2023-10-22T00:10:10.572123Z",
     "shell.execute_reply": "2023-10-22T00:10:10.571805Z"
    },
    "tags": [
     "nyu-only"
    ]
   },
   "outputs": [],
   "source": [
    "# boilerplate for allowing PDF export\n",
    "import plotly.io as pio\n",
    "\n",
    "pio.renderers.default = \"notebook+pdf\""
   ]
  },
  {
   "cell_type": "markdown",
   "metadata": {},
   "source": [
    "## Step 0\n",
    "\n",
    "Load the request per capita dataset from https://storage.googleapis.com/python-public-policy/data/311_community_districts.csv.zip as `requests_by_cd` and display it."
   ]
  },
  {
   "cell_type": "code",
   "execution_count": 2,
   "metadata": {
    "execution": {
     "iopub.execute_input": "2023-10-22T00:10:10.574046Z",
     "iopub.status.busy": "2023-10-22T00:10:10.573931Z",
     "iopub.status.idle": "2023-10-22T00:10:10.575620Z",
     "shell.execute_reply": "2023-10-22T00:10:10.575345Z"
    },
    "tags": [
     "solution"
    ]
   },
   "outputs": [],
   "source": [
    "# your code here"
   ]
  },
  {
   "cell_type": "markdown",
   "metadata": {},
   "source": [
    "## Step 1\n",
    "\n",
    "Make a [histogram](https://plotly.com/python/histograms/) of the requests per capita."
   ]
  },
  {
   "cell_type": "code",
   "execution_count": 3,
   "metadata": {
    "execution": {
     "iopub.execute_input": "2023-10-22T00:10:10.577388Z",
     "iopub.status.busy": "2023-10-22T00:10:10.577283Z",
     "iopub.status.idle": "2023-10-22T00:10:10.578912Z",
     "shell.execute_reply": "2023-10-22T00:10:10.578648Z"
    },
    "tags": [
     "solution"
    ]
   },
   "outputs": [],
   "source": [
    "# your code here"
   ]
  }
 ],
 "metadata": {
  "kernelspec": {
   "display_name": "Python [conda env:python-public-policy] *",
   "language": "python",
   "name": "conda-env-python-public-policy-py"
  },
  "language_info": {
   "codemirror_mode": {
    "name": "ipython",
    "version": 3
   },
   "file_extension": ".py",
   "mimetype": "text/x-python",
   "name": "python",
   "nbconvert_exporter": "python",
   "pygments_lexer": "ipython3",
   "version": "3.10.12"
  }
 },
 "nbformat": 4,
 "nbformat_minor": 4
}
