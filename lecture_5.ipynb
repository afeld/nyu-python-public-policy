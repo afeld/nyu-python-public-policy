{
 "cells": [
  {
   "cell_type": "markdown",
   "metadata": {
    "id": "Omm4n3FmPHlF",
    "slideshow": {
     "slide_type": "slide"
    }
   },
   "source": [
    "# Class 5: Guest lectures"
   ]
  },
  {
   "cell_type": "markdown",
   "metadata": {
    "slideshow": {
     "slide_type": "slide"
    }
   },
   "source": [
    "## [Final Project](https://python-public-policy.afeld.me/en/{{school_slug}}/final_project.ipynb)\n",
    "\n",
    "- You should have received feedback on your proposal.\n",
    "- Reminder that it's peer-graded.\n",
    "   - You should see the notebooks you need to review come through {{lms_name}}.\n",
    "   - This is an opportunity to see how different people solve different problems.\n",
    "   - You will lose points if you don't complete your peer grading."
   ]
  },
  {
   "cell_type": "markdown",
   "metadata": {
    "slideshow": {
     "slide_type": "subslide"
    },
    "tags": [
     "columbia-only"
    ]
   },
   "source": [
    "All together, let's make sure our notebooks are properly shared for peer grading:\n",
    "\n",
    "1. Create a notebook for your Final Project, if you haven't already.\n",
    "1. [Open the Sharing settings.](https://research.google.com/colaboratory/faq.html#notebook-storage)\n",
    "1. Under `General access`, change to `LionMail`, then `Commenter`."
   ]
  },
  {
   "cell_type": "markdown",
   "metadata": {
    "slideshow": {
     "slide_type": "slide"
    }
   },
   "source": [
    "## Guest lectures\n",
    "\n",
    "Encourage keeping your camera on, out of respect for our guests."
   ]
  },
  {
   "cell_type": "markdown",
   "metadata": {
    "slideshow": {
     "slide_type": "subslide"
    }
   },
   "source": [
    "### [**Laurie Merrell**](https://www.linkedin.com/in/laurie-merrell/)\n",
    "\n",
    "> Laurie Merrell is an analytics engineer who works primarily with transit data and [GTFS](https://gtfs.org/) in particular. She decided to pursue a career in data after stints in software quality assurance and higher education administration. To facilitate her career switch, she completed a Master's degree in Analytics at Northwestern University. She is passionate about civic technology and serves on the board of [Chi Hack Night](https://chihacknight.org/), where she founded the [Ghost Buses breakout group](https://ghostbuses.com/)."
   ]
  },
  {
   "cell_type": "markdown",
   "metadata": {
    "slideshow": {
     "slide_type": "subslide"
    }
   },
   "source": [
    "#### Questions?"
   ]
  },
  {
   "cell_type": "markdown",
   "metadata": {
    "slideshow": {
     "slide_type": "subslide"
    }
   },
   "source": [
    "### [Alla Goldman Seiffert](https://www.allaseiffert.com/)\n",
    "\n",
    "> Alla Goldman Seiffert is an attorney, cloud technology advocate, and all-around tech lady who is passionate about making the world a better place. She's currently a Senior Manager of Public Policy at Amazon Web Services (AWS) forcused on public sector cloud adoption. Before this role, Alla was the Director of Cloud Policy and Counsel at Internet Association, where she advocated for their cloud policy priorities and enterprise policy positions. \n",
    ">\n",
    "> Alla also worked for the General Services Administration's (GSA) Technology Transformation Service (TTS) in the Office of Acquisition/18F as the acting director, where she helped government buy technology in a better way.\n",
    ">\n",
    "> She has a law degree from the University of Arizona James E. Rogers College of Law.\n",
    ">\n",
    "> In her free time, Alla enjoys trying to keep her houseplants alive, dancing, eating dessert, and exploring our country's national parks."
   ]
  },
  {
   "cell_type": "markdown",
   "metadata": {
    "slideshow": {
     "slide_type": "subslide"
    }
   },
   "source": [
    "#### Questions?"
   ]
  },
  {
   "cell_type": "markdown",
   "metadata": {
    "slideshow": {
     "slide_type": "slide"
    },
    "tags": [
     "nyu-only"
    ]
   },
   "source": [
    "## Post-{{coding_env_name}}\n",
    "\n",
    "- {{coding_env_name}} instance (and your copy of files) will be deleted\n",
    "    - Download things you want to keep, particularly edited notebooks\n",
    "- Class materials will remain available on [the site](https://python-public-policy.afeld.me/en/{{school_slug}}/) and [through GitHub](https://github.com/afeld/python-public-policy/tree/{{school_slug}})\n",
    "- [Running notebooks elsewhere](https://python-public-policy.afeld.me/en/{{school_slug}}/resources.html#jupyter-outside-this-course)"
   ]
  }
 ],
 "metadata": {
  "celltoolbar": "Slideshow",
  "kernelspec": {
   "display_name": "Python [conda env:python-public-policy] *",
   "language": "python",
   "name": "conda-env-python-public-policy-py"
  },
  "language_info": {
   "codemirror_mode": {
    "name": "ipython",
    "version": 3
   },
   "file_extension": ".py",
   "mimetype": "text/x-python",
   "name": "python",
   "nbconvert_exporter": "python",
   "pygments_lexer": "ipython3",
   "version": "3.8.10"
  }
 },
 "nbformat": 4,
 "nbformat_minor": 4
}
