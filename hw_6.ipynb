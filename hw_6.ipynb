{
 "cells": [
  {
   "cell_type": "markdown",
   "metadata": {
    "slideshow": {
     "slide_type": "slide"
    }
   },
   "source": [
    "# Homework 6\n",
    "\n",
    "- a.k.a. the final project\n",
    "- Open-ended\n",
    "   - Be creative, and just the right amount of ambitious\n",
    "- **Goal:** Prove or disprove a hypothesis using skills learned in this class"
   ]
  },
  {
   "cell_type": "markdown",
   "metadata": {
    "slideshow": {
     "slide_type": "slide"
    }
   },
   "source": [
    "## Proposal\n",
    "\n",
    "This is completed as part of [Homework 5](https://padmgp-4506-spring.rcnyu.org/user-redirect/notebooks/class_materials/hw_5.ipynb).\n",
    "\n",
    "1. Find dataset that seems interesting\n",
    "  - Use at least one dataset that you aren't familiar with, from this class or elsewhere.\n",
    "  - [NYC OpenData](https://opendata.cityofnewyork.us/), [data.gov](https://www.data.gov/), [BetaNYC](https://data.beta.nyc/), and [Kaggle](https://www.kaggle.com/datasets) have many many options.\n",
    "    - Using data from a primary source is preferred but not required.\n",
    "  - Finding a dataset available in CSV or JSON is recommended, though [pandas can read other formats](https://pandas.pydata.org/pandas-docs/stable/user_guide/io.html).\n",
    "1. Inspect the data a bit.\n",
    "1. Come up with a question that the data is capable of answering and _isn't trivial to answer_.\n",
    "  - If you aren't sure, ask.\n",
    "1. Come up with a hypothesis (a.k.a. a guess of the answer to the question).\n",
    "1. Submit the proposal."
   ]
  },
  {
   "cell_type": "markdown",
   "metadata": {
    "slideshow": {
     "slide_type": "subslide"
    }
   },
   "source": [
    "Post responses to the following as a new Conversation under [the `HW6 proposals` Discussion](https://brightspace.nyu.edu/d2l/le/156784/discussions/topics/281277/View) by 5/5 at 6:45pm:\n",
    "\n",
    "- **What dataset are you going to use?**\n",
    "   - Please include a link. If multiple, how are you going to merge/join them?\n",
    "- **What's the question you are trying to answer?**\n",
    "   - It should be _specific, and objectively answerable_ through the data available.\n",
    "- **What's your hypothesis?**"
   ]
  },
  {
   "cell_type": "markdown",
   "metadata": {
    "slideshow": {
     "slide_type": "subslide"
    }
   },
   "source": [
    "- Your question/hypothesis doesn't need to be something novel; confirming something you read in the news is fine.\n",
    "- You won't be graded on the scientific soundness of your work.\n",
    "   - Important to think through and note assumptions/caveats of your approach\n",
    "- The sooner you post your proposal, the sooner you'll get feedback."
   ]
  },
  {
   "cell_type": "markdown",
   "metadata": {
    "slideshow": {
     "slide_type": "subslide"
    }
   },
   "source": [
    "### Simplified example\n",
    "\n",
    "- **Dataset:** [Recycling Diversion and Capture Rates](https://data.cityofnewyork.us/Environment/Recycling-Diversion-and-Capture-Rates/gaq9-z3hz)\n",
    "- **Question:** From 2016 to 2019, what community district increased their diversion (recycling) rate the most?\n",
    "- **Hypothesis:** [Bushwick](https://communityprofiles.planning.nyc.gov/brooklyn/4), because it's gentrified over that time, and hipsters love to recycle."
   ]
  },
  {
   "cell_type": "markdown",
   "metadata": {
    "slideshow": {
     "slide_type": "subslide"
    }
   },
   "source": [
    "### Another example\n",
    "\n",
    "- **Dataset:** data about people's trash\n",
    "- **Question:** Is recycling better now than before?\n",
    "- **Hypothesis:** probably\n",
    "\n",
    "What's wrong with this proposal?"
   ]
  },
  {
   "cell_type": "markdown",
   "metadata": {
    "slideshow": {
     "slide_type": "slide"
    }
   },
   "source": [
    "## Once you start\n",
    "\n",
    "go back and find any information that's available _around_ the data, to get a better understanding of what it contains and means.\n",
    "\n",
    "- Might include a data dictionary\n",
    "- Might involve poking around a government agency's web site to understand their processes\n",
    "- Understand what all the different columns and values represent"
   ]
  },
  {
   "cell_type": "markdown",
   "metadata": {
    "slideshow": {
     "slide_type": "slide"
    }
   },
   "source": [
    "## Analysis requirements\n",
    "\n",
    "_on top of [general assignment requirements](https://github.com/afeld/python-public-policy/blob/main/syllabus.md#assignments)_\n",
    "\n",
    "<!-- make sure edits here are reflected in extras/scripts/hw_6_check.py -->\n",
    "\n",
    "- **Read like a blog post**\n",
    "    - Pretend you're explaining to a Wagner student who hasn't taken this class. You don't need to teach them Python, but they should be able to follow what's going on.\n",
    "    - Re-state the question, hypothesis, and data source(s) with link(s)\n",
    "    - Walk the reader through what you're doing in every step and what they should be taking away from it.\n",
    "    - [Markdown](https://www.markdownguide.org/basic-syntax/) can be used in text cells for formatting.\n",
    "    - Include any dead ends you hit in your analysis.\n",
    "      - For example, include charts that you generate that may not show anything interesting and explain what you are choosing to look at instead.\n",
    "      - You should still be cleaning up unused/broken code to make your notebook readable.\n",
    "    - Have a conclusion that speaks to your question and hypothesis.\n",
    "- **Use pandas**\n",
    "- **Not be trivial**, requiring:\n",
    "    - At least 40 lines of code to come to a conclusion\n",
    "    - Transforming data through [grouping](https://pandas.pydata.org/pandas-docs/stable/user_guide/groupby.html), [merging](https://pandas.pydata.org/pandas-docs/stable/user_guide/merging.html#database-style-dataframe-or-named-series-joining-merging), and/or [reshaping](https://pandas.pydata.org/docs/user_guide/reshaping.html) of DataFrames\n",
    "    - Operations that aren't easily done in a spreadsheet.\n",
    "- **Have a visualization** (chart or map) of some kind\n",
    "- Don't leave any sensitive information in the notebook: API keys, personally-identifiable information (PII), etc.\n",
    "\n",
    "If you answer the first question easily, that's fine; dig into / build off of it. Go deep, not broad."
   ]
  },
  {
   "cell_type": "markdown",
   "metadata": {
    "slideshow": {
     "slide_type": "slide"
    }
   },
   "source": [
    "Everything above and the tests below are obviously just present for the assignment; you are encouraged to save a copy of the notebook and delete them for sharing with potential employers, etc."
   ]
  },
  {
   "cell_type": "markdown",
   "metadata": {
    "slideshow": {
     "slide_type": "slide"
    }
   },
   "source": [
    "YOUR CODE AND ANALYSIS HERE"
   ]
  },
  {
   "cell_type": "code",
   "execution_count": 1,
   "metadata": {
    "slideshow": {
     "slide_type": "skip"
    }
   },
   "outputs": [],
   "source": [
    "import ipytest\n",
    "ipytest.autoconfig()"
   ]
  },
  {
   "cell_type": "code",
   "execution_count": 3,
   "metadata": {
    "slideshow": {
     "slide_type": "slide"
    }
   },
   "outputs": [
    {
     "name": "stdout",
     "output_type": "stream",
     "text": [
      "\u001b[31mF\u001b[0m\u001b[31mF\u001b[0m\u001b[31mF\u001b[0m\u001b[31m                                                                                          [100%]\u001b[0m\n",
      "============================================= FAILURES =============================================\n",
      "\u001b[31m\u001b[1m__________________________________________ test_min_lines __________________________________________\u001b[0m\n",
      "\n",
      "script = '#!/usr/bin/env python\\n# coding: utf-8\\n\\n# # Homework 0\\n# \\n# [Kaggle](https://www.kaggle.com/) is a data science p...n` under [`HW0 questions` in Discussions](https://brightspace.nyu.edu/d2l/le/156784/discussions/topics/281271/View).\\n'\n",
      "\n",
      "    \u001b[94mdef\u001b[39;49;00m \u001b[92mtest_min_lines\u001b[39;49;00m(script):\n",
      "        num_lines = lines_of_code(script)\n",
      ">       \u001b[94massert\u001b[39;49;00m num_lines >= MIN_LINES, \u001b[33mf\u001b[39;49;00m\u001b[33m\"\u001b[39;49;00m\u001b[33mnotebook must have more than \u001b[39;49;00m\u001b[33m{\u001b[39;49;00mMIN_LINES\u001b[33m}\u001b[39;49;00m\u001b[33m lines of code\u001b[39;49;00m\u001b[33m\"\u001b[39;49;00m\n",
      "\u001b[1m\u001b[31mE       AssertionError: notebook must have more than 40 lines of code\u001b[0m\n",
      "\u001b[1m\u001b[31mE       assert 7 >= 40\u001b[0m\n",
      "\n",
      "\u001b[1m\u001b[31m/var/folders/kg/1ys0dccx4237f5wsd_w10dt80000gn/T/ipykernel_52701/1909726489.py\u001b[0m:7: AssertionError\n",
      "\u001b[31m\u001b[1m________________________________________ test_has_plotting _________________________________________\u001b[0m\n",
      "\n",
      "script = '#!/usr/bin/env python\\n# coding: utf-8\\n\\n# # Homework 0\\n# \\n# [Kaggle](https://www.kaggle.com/) is a data science p...n` under [`HW0 questions` in Discussions](https://brightspace.nyu.edu/d2l/le/156784/discussions/topics/281271/View).\\n'\n",
      "\n",
      "    \u001b[94mdef\u001b[39;49;00m \u001b[92mtest_has_plotting\u001b[39;49;00m(script):\n",
      ">       \u001b[94massert\u001b[39;49;00m has_plotting(script), \u001b[33m\"\u001b[39;49;00m\u001b[33mnotebook must contain a plot of some kind\u001b[39;49;00m\u001b[33m\"\u001b[39;49;00m\n",
      "\u001b[1m\u001b[31mE       AssertionError: notebook must contain a plot of some kind\u001b[0m\n",
      "\u001b[1m\u001b[31mE       assert False\u001b[0m\n",
      "\u001b[1m\u001b[31mE        +  where False = has_plotting('#!/usr/bin/env python\\n# coding: utf-8\\n\\n# # Homework 0\\n# \\n# [Kaggle](https://www.kaggle.com/) is a data science p...n` under [`HW0 questions` in Discussions](https://brightspace.nyu.edu/d2l/le/156784/discussions/topics/281271/View).\\n')\u001b[0m\n",
      "\n",
      "\u001b[1m\u001b[31m/var/folders/kg/1ys0dccx4237f5wsd_w10dt80000gn/T/ipykernel_52701/1909726489.py\u001b[0m:11: AssertionError\n",
      "\u001b[31m\u001b[1m_______________________________________ test_uses_transform ________________________________________\u001b[0m\n",
      "\n",
      "script = '#!/usr/bin/env python\\n# coding: utf-8\\n\\n# # Homework 0\\n# \\n# [Kaggle](https://www.kaggle.com/) is a data science p...n` under [`HW0 questions` in Discussions](https://brightspace.nyu.edu/d2l/le/156784/discussions/topics/281271/View).\\n'\n",
      "\n",
      "    \u001b[94mdef\u001b[39;49;00m \u001b[92mtest_uses_transform\u001b[39;49;00m(script):\n",
      ">       \u001b[94massert\u001b[39;49;00m uses_transform(script), \u001b[33m\"\u001b[39;49;00m\u001b[33mnotebook must contain a transform of some kind: grouping, reshaping, etc.\u001b[39;49;00m\u001b[33m\"\u001b[39;49;00m\n",
      "\u001b[1m\u001b[31mE       AssertionError: notebook must contain a transform of some kind: grouping, reshaping, etc.\u001b[0m\n",
      "\u001b[1m\u001b[31mE       assert False\u001b[0m\n",
      "\u001b[1m\u001b[31mE        +  where False = uses_transform('#!/usr/bin/env python\\n# coding: utf-8\\n\\n# # Homework 0\\n# \\n# [Kaggle](https://www.kaggle.com/) is a data science p...n` under [`HW0 questions` in Discussions](https://brightspace.nyu.edu/d2l/le/156784/discussions/topics/281271/View).\\n')\u001b[0m\n",
      "\n",
      "\u001b[1m\u001b[31m/var/folders/kg/1ys0dccx4237f5wsd_w10dt80000gn/T/ipykernel_52701/1909726489.py\u001b[0m:15: AssertionError\n",
      "===================================== short test summary info ======================================\n",
      "FAILED tmp1ioay2j3.py::test_min_lines - AssertionError: notebook must have more than 40 lines of ...\n",
      "FAILED tmp1ioay2j3.py::test_has_plotting - AssertionError: notebook must contain a plot of some kind\n",
      "FAILED tmp1ioay2j3.py::test_uses_transform - AssertionError: notebook must contain a transform of...\n"
     ]
    }
   ],
   "source": [
    "%%ipytest -qq\n",
    "\n",
    "from extras.scripts.fixtures import *\n",
    "from extras.scripts.hw_6_check import lines_of_code, MIN_LINES, has_plotting, uses_transform\n",
    "\n",
    "\n",
    "def test_min_lines(script):\n",
    "    num_lines = lines_of_code(script)\n",
    "    assert num_lines >= MIN_LINES, f\"notebook must have more than {MIN_LINES} lines of code\"\n",
    "    \n",
    "\n",
    "def test_has_plotting(script):\n",
    "    assert has_plotting(script), \"notebook must contain a plot of some kind\"\n",
    "\n",
    "    \n",
    "def test_uses_transform(script):\n",
    "    assert uses_transform(script), \"notebook must contain a transform of some kind: grouping, reshaping, etc.\""
   ]
  }
 ],
 "metadata": {
  "celltoolbar": "Slideshow",
  "kernelspec": {
   "display_name": "Python [conda env:python-public-policy] *",
   "language": "python",
   "name": "conda-env-python-public-policy-py"
  },
  "language_info": {
   "codemirror_mode": {
    "name": "ipython",
    "version": 3
   },
   "file_extension": ".py",
   "mimetype": "text/x-python",
   "name": "python",
   "nbconvert_exporter": "python",
   "pygments_lexer": "ipython3",
   "version": "3.10.4"
  },
  "rise": {
   "scroll": true
  }
 },
 "nbformat": 4,
 "nbformat_minor": 4
}
