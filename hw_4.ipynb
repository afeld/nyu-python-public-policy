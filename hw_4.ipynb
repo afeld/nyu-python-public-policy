{
 "cells": [
  {
   "cell_type": "markdown",
   "metadata": {
    "id": "br6IoqhOkfW8"
   },
   "source": [
    "# Homework 4\n",
    "\n",
    "_[General assignment information](https://python-public-policy.afeld.me/en/{{school_slug}}/assignments.html)_"
   ]
  },
  {
   "cell_type": "markdown",
   "metadata": {
    "id": "Rj4Wq1CrlSjj"
   },
   "source": [
    "## Coding\n",
    "\n",
    "Goal: Find complaint types that increased or decreased when COVID-19 hit New York Ciy: mid-March 2020."
   ]
  },
  {
   "cell_type": "markdown",
   "metadata": {
    "id": "n5pp9g_5v_8K"
   },
   "source": [
    "### Step 0: Setup\n",
    "\n",
    "For this homework, instead of the data being provided, you will export it directly from the NYC Open Data Portal, as if you were working on your own project.\n",
    "\n",
    "1. Download the data.\n",
    "   1. Visit the [311 data](https://data.cityofnewyork.us/Social-Services/311-Service-Requests-from-2010-to-Present/erm2-nwe9/data) page.\n",
    "   1. From that page, filter the data to `Created Date`s between `01/01/2020 12:00:00 AM` and `03/31/2020 11:59:59 PM`.\n",
    "   1. It should say \"Showing 311 Service Requests 1-100 out of 548,184\" near the bottom of the screen.\n",
    "      - It's ok if the total is slightly different.\n",
    "   1. Click `Export`.\n",
    "   1. Click `CSV`. It will start downloading a file.\n",
    "   1. Rename the file `311_covid.csv`.\n",
    "1. Upload the CSV.\n",
    "1. Read the data from `./<filename>.csv`.\n",
    "   - You may need to adjust the path, depending on where the CSV/notebook are.\n",
    "\n",
    "If the above is taking a long time due to have a slow network connection or whatever else, load the data from:\n",
    "\n",
    "https://storage.googleapis.com/python-public-policy/data/311_covid.csv.zip"
   ]
  },
  {
   "cell_type": "markdown",
   "metadata": {
    "id": "BtvfdWpGlLGP"
   },
   "source": [
    "### Step 1: Load data\n",
    "\n",
    "Read the data into a DataFrame called `df_2020`."
   ]
  },
  {
   "cell_type": "code",
   "execution_count": 1,
   "metadata": {
    "execution": {
     "iopub.execute_input": "2022-04-15T22:12:37.876283Z",
     "iopub.status.busy": "2022-04-15T22:12:37.875950Z",
     "iopub.status.idle": "2022-04-15T22:12:37.880439Z",
     "shell.execute_reply": "2022-04-15T22:12:37.879968Z"
    },
    "executionInfo": {
     "elapsed": 10172,
     "status": "ok",
     "timestamp": 1605814693342,
     "user": {
      "displayName": "Aidan Feldman",
      "photoUrl": "https://lh3.googleusercontent.com/a-/AOh14Gj83fkoiPxKpQIphhpuOgId0Uq3vFHX-u5P9mGM=s64",
      "userId": "02302695983983360874"
     },
     "user_tz": 300
    },
    "id": "D7ESnwwTw0RW",
    "outputId": "2d2de5ad-4109-438e-cb14-c2aa111c1438"
   },
   "outputs": [],
   "source": [
    "# your code here"
   ]
  },
  {
   "cell_type": "markdown",
   "metadata": {
    "id": "JQo1Pa951V-P"
   },
   "source": [
    "### Step 2: Convert dates\n",
    "\n",
    "Copy code from [Lecture 4](lecture_4.ipynb) to convert the `Created Date` to a `datetime`."
   ]
  },
  {
   "cell_type": "code",
   "execution_count": 2,
   "metadata": {
    "execution": {
     "iopub.execute_input": "2022-04-15T22:12:37.883509Z",
     "iopub.status.busy": "2022-04-15T22:12:37.883303Z",
     "iopub.status.idle": "2022-04-15T22:12:37.885917Z",
     "shell.execute_reply": "2022-04-15T22:12:37.885392Z"
    },
    "executionInfo": {
     "elapsed": 13026,
     "status": "ok",
     "timestamp": 1605814696204,
     "user": {
      "displayName": "Aidan Feldman",
      "photoUrl": "https://lh3.googleusercontent.com/a-/AOh14Gj83fkoiPxKpQIphhpuOgId0Uq3vFHX-u5P9mGM=s64",
      "userId": "02302695983983360874"
     },
     "user_tz": 300
    },
    "id": "N4wk3UZV1gQT",
    "outputId": "556a137e-c38c-4f55-cd74-835dba9539e7"
   },
   "outputs": [],
   "source": [
    "# your code here"
   ]
  },
  {
   "cell_type": "markdown",
   "metadata": {
    "id": "_AISfaNylvfX"
   },
   "source": [
    "### Step 3: Date counts\n",
    "\n",
    "Create a DataFrame called `date_counts` that has the count of complaints per Complaint Type per day, then display it."
   ]
  },
  {
   "cell_type": "code",
   "execution_count": 3,
   "metadata": {
    "execution": {
     "iopub.execute_input": "2022-04-15T22:12:37.888631Z",
     "iopub.status.busy": "2022-04-15T22:12:37.888429Z",
     "iopub.status.idle": "2022-04-15T22:12:37.890857Z",
     "shell.execute_reply": "2022-04-15T22:12:37.890395Z"
    },
    "executionInfo": {
     "elapsed": 13232,
     "status": "ok",
     "timestamp": 1605814696426,
     "user": {
      "displayName": "Aidan Feldman",
      "photoUrl": "https://lh3.googleusercontent.com/a-/AOh14Gj83fkoiPxKpQIphhpuOgId0Uq3vFHX-u5P9mGM=s64",
      "userId": "02302695983983360874"
     },
     "user_tz": 300
    },
    "id": "IICgp0fO4WSp",
    "outputId": "93482533-7f07-40ae-c145-06523be67067"
   },
   "outputs": [],
   "source": [
    "# your code here"
   ]
  },
  {
   "cell_type": "markdown",
   "metadata": {
    "id": "cnYXtBEGCxKp"
   },
   "source": [
    "### Step 4: Plotting over time\n",
    "\n",
    "Create a line chart of the count of complaints over time, one line per `Complaint Type`."
   ]
  },
  {
   "cell_type": "code",
   "execution_count": 4,
   "metadata": {
    "execution": {
     "iopub.execute_input": "2022-04-15T22:12:37.893404Z",
     "iopub.status.busy": "2022-04-15T22:12:37.893235Z",
     "iopub.status.idle": "2022-04-15T22:12:37.895466Z",
     "shell.execute_reply": "2022-04-15T22:12:37.895073Z"
    },
    "executionInfo": {
     "elapsed": 19575,
     "status": "ok",
     "timestamp": 1605814702785,
     "user": {
      "displayName": "Aidan Feldman",
      "photoUrl": "https://lh3.googleusercontent.com/a-/AOh14Gj83fkoiPxKpQIphhpuOgId0Uq3vFHX-u5P9mGM=s64",
      "userId": "02302695983983360874"
     },
     "user_tz": 300
    },
    "id": "zJ8C7CSQ4afz",
    "outputId": "7a888333-919b-4bba-a2e0-6608d2224743"
   },
   "outputs": [],
   "source": [
    "# your code here"
   ]
  },
  {
   "cell_type": "markdown",
   "metadata": {
    "id": "zJlm08A3CtJn"
   },
   "source": [
    "______________________________________________________________________\n",
    "\n",
    "This has the information we need, but is a lot to look at. Let's only show complaint types that changed greatly (in March 2020) relative to the same period in the previous year (March 2019)."
   ]
  },
  {
   "cell_type": "markdown",
   "metadata": {
    "id": "blbSpASlq2BN"
   },
   "source": [
    "### Step 5: March 2020 counts\n",
    "\n",
    "Create a DataFrame called `mar_counts` that has the count of each `Complaint Type` in March 2020 in a column called `2020`. Use [`.to_frame()`](https://pandas.pydata.org/pandas-docs/stable/reference/api/pandas.Series.to_frame.html) (instead of [`.reset_index()`](https://pandas.pydata.org/pandas-docs/stable/reference/api/pandas.Series.reset_index.html)) to use the `Complaint Type` as the index. It should end up looking something like this:\n",
    "\n",
    "Complaint Type | 2020\n",
    "--- | ---\n",
    "APPLIANCE | 824\n",
    "Abandoned Vehicle | 2500\n",
    "Air Quality | 657\n",
    "… | …\n",
    "\n",
    "_Note there is no numeric index._"
   ]
  },
  {
   "cell_type": "code",
   "execution_count": 5,
   "metadata": {
    "execution": {
     "iopub.execute_input": "2022-04-15T22:12:37.898000Z",
     "iopub.status.busy": "2022-04-15T22:12:37.897825Z",
     "iopub.status.idle": "2022-04-15T22:12:37.900169Z",
     "shell.execute_reply": "2022-04-15T22:12:37.899728Z"
    },
    "executionInfo": {
     "elapsed": 571,
     "status": "ok",
     "timestamp": 1605814871210,
     "user": {
      "displayName": "Aidan Feldman",
      "photoUrl": "https://lh3.googleusercontent.com/a-/AOh14Gj83fkoiPxKpQIphhpuOgId0Uq3vFHX-u5P9mGM=s64",
      "userId": "02302695983983360874"
     },
     "user_tz": 300
    },
    "id": "_F-Ne4qy5hoE",
    "outputId": "490793ee-7523-4ec6-dbc5-186d502a9949"
   },
   "outputs": [],
   "source": [
    "# your code here"
   ]
  },
  {
   "cell_type": "markdown",
   "metadata": {
    "id": "Fr1wKrqVILOF"
   },
   "source": [
    "### Step 6: Get March 2019 data\n",
    "\n",
    "Follow Steps 0-2 again, this time with 311 requests for all of March 2019. Name the DataFrame `mar_2019`.\n",
    "\n",
    "Similar to Step 0, if having trouble downloading, you can load from:\n",
    "\n",
    "https://storage.googleapis.com/python-public-policy/data/311_mar_2019.csv.zip"
   ]
  },
  {
   "cell_type": "code",
   "execution_count": 6,
   "metadata": {
    "execution": {
     "iopub.execute_input": "2022-04-15T22:12:37.902617Z",
     "iopub.status.busy": "2022-04-15T22:12:37.902460Z",
     "iopub.status.idle": "2022-04-15T22:12:37.904631Z",
     "shell.execute_reply": "2022-04-15T22:12:37.904264Z"
    },
    "executionInfo": {
     "elapsed": 4152,
     "status": "ok",
     "timestamp": 1605814882243,
     "user": {
      "displayName": "Aidan Feldman",
      "photoUrl": "https://lh3.googleusercontent.com/a-/AOh14Gj83fkoiPxKpQIphhpuOgId0Uq3vFHX-u5P9mGM=s64",
      "userId": "02302695983983360874"
     },
     "user_tz": 300
    },
    "id": "E-bLZa0EJi01",
    "outputId": "50ec800e-98d8-4e6d-cc80-f70a26574756"
   },
   "outputs": [],
   "source": [
    "# your code here"
   ]
  },
  {
   "cell_type": "markdown",
   "metadata": {
    "id": "g8lAFy31LfLy"
   },
   "source": [
    "### Step 7: March 2019 counts\n",
    "\n",
    "1. Get the `Complaint Type` counts for March 2019.\n",
    "1. Add these to the `mar_counts` DataFrame as a column called `2019`.\n",
    "   - Reminder that adding a Series as a new column to a DataFrame matches rows based on the index."
   ]
  },
  {
   "cell_type": "code",
   "execution_count": 7,
   "metadata": {
    "execution": {
     "iopub.execute_input": "2022-04-15T22:12:37.907058Z",
     "iopub.status.busy": "2022-04-15T22:12:37.906792Z",
     "iopub.status.idle": "2022-04-15T22:12:37.909037Z",
     "shell.execute_reply": "2022-04-15T22:12:37.908629Z"
    },
    "executionInfo": {
     "elapsed": 292,
     "status": "ok",
     "timestamp": 1605814884908,
     "user": {
      "displayName": "Aidan Feldman",
      "photoUrl": "https://lh3.googleusercontent.com/a-/AOh14Gj83fkoiPxKpQIphhpuOgId0Uq3vFHX-u5P9mGM=s64",
      "userId": "02302695983983360874"
     },
     "user_tz": 300
    },
    "id": "YrS3QunUL7hI",
    "outputId": "e7f5f940-08f8-47cb-ed60-7f976ebac484"
   },
   "outputs": [],
   "source": [
    "# your code here"
   ]
  },
  {
   "cell_type": "markdown",
   "metadata": {
    "id": "NmfzxOwEuTWt"
   },
   "source": [
    "### Step 8: Percent change\n",
    "\n",
    "Use `mar_counts` to calculate the percent change from March 2019 to March 2020 for each `Complaint Type`. Save as the `pct_change` column. Should result in something like this:\n",
    "\n",
    "Complaint Type | 2020 | 2019 | pct_change\n",
    "--- | --- | --- | ---\n",
    "APPLIANCE | 824 | 1042 | -0.20\n",
    "Abandoned Vehicle | 2500 | 1 | 2499.00\n",
    "Air Quality | 657 | 642 | 0.02\n",
    "… | … | … | …"
   ]
  },
  {
   "cell_type": "code",
   "execution_count": 8,
   "metadata": {
    "execution": {
     "iopub.execute_input": "2022-04-15T22:12:37.911380Z",
     "iopub.status.busy": "2022-04-15T22:12:37.911112Z",
     "iopub.status.idle": "2022-04-15T22:12:37.913456Z",
     "shell.execute_reply": "2022-04-15T22:12:37.912937Z"
    },
    "executionInfo": {
     "elapsed": 334,
     "status": "ok",
     "timestamp": 1605815115004,
     "user": {
      "displayName": "Aidan Feldman",
      "photoUrl": "https://lh3.googleusercontent.com/a-/AOh14Gj83fkoiPxKpQIphhpuOgId0Uq3vFHX-u5P9mGM=s64",
      "userId": "02302695983983360874"
     },
     "user_tz": 300
    },
    "id": "3KAd1tpI91ia",
    "outputId": "96cb58ee-a6d9-4c34-e4f9-b1164c0efdb7"
   },
   "outputs": [],
   "source": [
    "# your code here"
   ]
  },
  {
   "cell_type": "markdown",
   "metadata": {
    "id": "nu5-RoTCFRPr"
   },
   "source": [
    "### Step 9: Filter\n",
    "\n",
    "Filter to `Complaint Type`s that both:\n",
    "\n",
    "- Occurred at least 50 times in March 2020\n",
    "- Changed (increased _or_ decreased) by more than 90%\n",
    "\n",
    "and save the DataFrame as `top_changed`. A couple of things that may be helpful:\n",
    "\n",
    "- [Selecting Subsets of Data in Pandas](https://medium.com/dunder-data/selecting-subsets-of-data-in-pandas-39e811c81a0c#0eb4), starting from \"Multiple condition expression\"\n",
    "- [Getting absolute values](https://pandas.pydata.org/pandas-docs/stable/reference/api/pandas.DataFrame.abs.html)"
   ]
  },
  {
   "cell_type": "code",
   "execution_count": 9,
   "metadata": {
    "execution": {
     "iopub.execute_input": "2022-04-15T22:12:37.915835Z",
     "iopub.status.busy": "2022-04-15T22:12:37.915680Z",
     "iopub.status.idle": "2022-04-15T22:12:37.917859Z",
     "shell.execute_reply": "2022-04-15T22:12:37.917443Z"
    },
    "executionInfo": {
     "elapsed": 343,
     "status": "ok",
     "timestamp": 1605815607681,
     "user": {
      "displayName": "Aidan Feldman",
      "photoUrl": "https://lh3.googleusercontent.com/a-/AOh14Gj83fkoiPxKpQIphhpuOgId0Uq3vFHX-u5P9mGM=s64",
      "userId": "02302695983983360874"
     },
     "user_tz": 300
    },
    "id": "RdmzmAYGAfA4",
    "outputId": "e20be9fd-1929-406d-c2d8-f699aba982f7"
   },
   "outputs": [],
   "source": [
    "# your code here"
   ]
  },
  {
   "cell_type": "markdown",
   "metadata": {
    "id": "ENFrJrS3w7H_"
   },
   "source": [
    "### Step 10: Top changed\n",
    "\n",
    "Filter the `date_counts` to only the `top_changed` `Complaint Type`s. Save as `top_changed_by_day`."
   ]
  },
  {
   "cell_type": "code",
   "execution_count": 10,
   "metadata": {
    "execution": {
     "iopub.execute_input": "2022-04-15T22:12:37.920124Z",
     "iopub.status.busy": "2022-04-15T22:12:37.919970Z",
     "iopub.status.idle": "2022-04-15T22:12:37.922250Z",
     "shell.execute_reply": "2022-04-15T22:12:37.921815Z"
    },
    "executionInfo": {
     "elapsed": 348,
     "status": "ok",
     "timestamp": 1605815609438,
     "user": {
      "displayName": "Aidan Feldman",
      "photoUrl": "https://lh3.googleusercontent.com/a-/AOh14Gj83fkoiPxKpQIphhpuOgId0Uq3vFHX-u5P9mGM=s64",
      "userId": "02302695983983360874"
     },
     "user_tz": 300
    },
    "id": "xnYwDc-v_kMA",
    "outputId": "df11239f-b79f-4328-cf5d-96c08edfd35c"
   },
   "outputs": [],
   "source": [
    "# your code here"
   ]
  },
  {
   "cell_type": "markdown",
   "metadata": {
    "id": "xJflRexSypwA"
   },
   "source": [
    "### Step 11: Plotting changed complaints\n",
    "\n",
    "Make a similar plot to Step 4, but with only the top complaints (`top_changed_by_day`)."
   ]
  },
  {
   "cell_type": "code",
   "execution_count": 11,
   "metadata": {
    "execution": {
     "iopub.execute_input": "2022-04-15T22:12:37.924527Z",
     "iopub.status.busy": "2022-04-15T22:12:37.924372Z",
     "iopub.status.idle": "2022-04-15T22:12:37.926621Z",
     "shell.execute_reply": "2022-04-15T22:12:37.926176Z"
    },
    "executionInfo": {
     "elapsed": 1026,
     "status": "ok",
     "timestamp": 1605815612657,
     "user": {
      "displayName": "Aidan Feldman",
      "photoUrl": "https://lh3.googleusercontent.com/a-/AOh14Gj83fkoiPxKpQIphhpuOgId0Uq3vFHX-u5P9mGM=s64",
      "userId": "02302695983983360874"
     },
     "user_tz": 300
    },
    "id": "8S2ztIF1yqQP",
    "outputId": "d1391e3a-69e8-4a55-b46d-058c8dd078a5",
    "scrolled": true
   },
   "outputs": [],
   "source": [
    "# your code here"
   ]
  },
  {
   "cell_type": "markdown",
   "metadata": {
    "id": "9X1Cjz1i0f_h"
   },
   "source": [
    "## Question 0\n",
    "\n",
    "***Did the change of any of the `Complaint Type`s in Step 10/11 surprise you? Why or why not? (Speak at least one specifically.)***\n",
    "\n",
    "YOUR RESPONSE HERE"
   ]
  },
  {
   "cell_type": "markdown",
   "metadata": {},
   "source": [
    "Then, give these a read:\n",
    "\n",
    "- [NY Daily News article](https://www.nydailynews.com/coronavirus/ny-coronavirus-price-gouging-new-york-city-20200429-z5zs4ygfxbcmrpgzfrnlbxsnea-story.html)\n",
    "- [Press release from Department of Consumer and Worker Protection](https://www1.nyc.gov/site/dca/media/pr031720-DCWP-Emergency-Rule-Price-Gouging-Illegal.page)\n",
    "\n",
    "Overall caveat for this assignment: [**correlation does not imply causation**](https://www.khanacademy.org/math/probability/scatterplots-a1/creating-interpreting-scatterplots/v/correlation-and-causality)."
   ]
  },
  {
   "cell_type": "markdown",
   "metadata": {},
   "source": [
    "## Bonus: Charting against COVID-19 case counts\n",
    "\n",
    "_0.4 points_\n",
    "\n",
    "Let's take a look at the `Consumer Complaint`s against the COVID-19 case numbers in NYC in the same graph. You'll need to:\n",
    "\n",
    "1. Find data that provides the COVID-19 case counts for NYC by day.\n",
    "1. Create a DataFrame with only the `Consumer Complaint` `Complaint Type` counts, by day.\n",
    "1. Chart the two against each other for February through March.\n",
    "\n",
    "The result should look something like this (without the black box):\n",
    "\n",
    "![bonus solution chart](extras/img/hw_4_bonus.png)\n",
    "\n",
    "Some resources that may be helpful:\n",
    "\n",
    "- [Reading CSV data from GitHub](https://projectosyo.wixsite.com/datadoubleconfirm/single-post/2019/04/15/Reading-csv-data-from-Github---Python)\n",
    "- [Two Y Axes in plotly](https://plotly.com/python/multiple-axes/#two-y-axes)\n",
    "   - Note that the `plotly.graph_objects` syntax is a bit different than the `plotly.express` syntax we've been using. With `go.Scatter()`, you don't provide the DataFrame and the names of the columns; you pass `x` and `y` as lists/Series of the values themselves.\n",
    "- [Setting the Range of Axes Manually in plotly](https://plotly.com/python/axes/#setting-the-range-of-axes-manually)"
   ]
  },
  {
   "cell_type": "code",
   "execution_count": 12,
   "metadata": {
    "execution": {
     "iopub.execute_input": "2022-04-15T22:12:37.929129Z",
     "iopub.status.busy": "2022-04-15T22:12:37.928940Z",
     "iopub.status.idle": "2022-04-15T22:12:37.931247Z",
     "shell.execute_reply": "2022-04-15T22:12:37.930845Z"
    }
   },
   "outputs": [],
   "source": [
    "# your code here"
   ]
  },
  {
   "cell_type": "markdown",
   "metadata": {},
   "source": [
    "## Bonus Question 1: What observations do you have?\n",
    "\n",
    "YOUR RESPONSE HERE"
   ]
  },
  {
   "cell_type": "markdown",
   "metadata": {
    "id": "CbrIfq1J4oEU"
   },
   "source": [
    "Now [turn in the assignment](https://python-public-policy.afeld.me/en/{{school_slug}}/assignments.html).\n",
    "\n",
    "## Tutorials\n",
    "\n",
    "In the videos below, don't get hung up on mentions of JavaScript, Node.js, or Twilio — those were technologies used for another course.\n",
    "\n",
    "1. Watch:\n",
    "   1. [What are APIs?](https://www.youtube.com/watch?v=OVvTv9Hy91Q)\n",
    "   1. [APIs, Conceptually](https://drive.google.com/file/d/10VCtYI5Im9MnvDcn4vnUeWbqztF77tyL/view?usp=sharing)\n",
    "1. Read [Understanding And Using REST APIs](https://www.smashingmagazine.com/2018/01/understanding-using-rest-api/)\n",
    "1. Watch:\n",
    "   1. [Let's look at some data](https://drive.google.com/file/d/10_2UPxa0ThWus47jKKeefGji5ZZmnr-e/view?usp=sharing)\n",
    "   1. [Data formats](https://drive.google.com/file/d/10dR1oMt7V-Hk75mkIpnguq70mukSz6OA/view?usp=sharing)\n",
    "   1. [API documentation](https://drive.google.com/file/d/10fOxW42-ODIgHlLgLCP_wklrxB8G4K3A/view?usp=sharing)\n",
    "1. Read [Python’s Requests Library (Guide)](https://realpython.com/python-requests/) through `The Message Body`\n",
    "\n",
    "## Participation\n",
    "\n",
    "Reminder about the [between-class participation requirement](https://python-public-policy.afeld.me/en/{{school_slug}}/syllabus.html#participation)."
   ]
  }
 ],
 "metadata": {
  "kernelspec": {
   "display_name": "Python [conda env:python-public-policy] *",
   "language": "python",
   "name": "conda-env-python-public-policy-py"
  },
  "language_info": {
   "codemirror_mode": {
    "name": "ipython",
    "version": 3
   },
   "file_extension": ".py",
   "mimetype": "text/x-python",
   "name": "python",
   "nbconvert_exporter": "python",
   "pygments_lexer": "ipython3",
   "version": "3.10.8"
  }
 },
 "nbformat": 4,
 "nbformat_minor": 1
}
