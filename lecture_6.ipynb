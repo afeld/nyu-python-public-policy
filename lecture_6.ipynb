{
 "cells": [
  {
   "cell_type": "markdown",
   "metadata": {
    "id": "Omm4n3FmPHlF",
    "slideshow": {
     "slide_type": "slide"
    }
   },
   "source": [
    "# Class 6: The Bigger Picture"
   ]
  },
  {
   "cell_type": "markdown",
   "metadata": {
    "slideshow": {
     "slide_type": "subslide"
    }
   },
   "source": [
    "### [**Laurie Merrell**](https://www.linkedin.com/in/laurie-merrell/)\n",
    "\n",
    "> Laurie Merrell is an analytics engineer who works primarily with transit data and [GTFS](https://gtfs.org/) in particular. She decided to pursue a career in data after stints in software quality assurance and higher education administration. To facilitate her career switch, she completed a Master's degree in Analytics at Northwestern University. She is passionate about civic technology and serves on the board of [Chi Hack Night](https://chihacknight.org/), where she founded the [Ghost Buses breakout group](https://ghostbuses.com/)."
   ]
  },
  {
   "cell_type": "markdown",
   "metadata": {
    "slideshow": {
     "slide_type": "subslide"
    }
   },
   "source": [
    "#### Questions?"
   ]
  },
  {
   "cell_type": "markdown",
   "metadata": {
    "slideshow": {
     "slide_type": "subslide"
    }
   },
   "source": [
    "### [Alla Goldman Seiffert](https://www.allaseiffert.com/)\n",
    "\n",
    "> Alla Goldman Seiffert is an attorney, cloud technology advocate, and all-around tech lady who is passionate about making the world a better place. She's currently a Senior Manager of Public Policy at Amazon Web Services (AWS) forcused on public sector cloud adoption. Before this role, Alla was the Director of Cloud Policy and Counsel at the [Internet Association](https://en.wikipedia.org/wiki/Internet_Association), where she advocated for their cloud policy priorities and enterprise policy positions. \n",
    ">\n",
    "> Alla also worked for the [General Services Administration's (GSA)](https://www.gsa.gov/) [Technology Transformation Services (TTS)](https://tts.gsa.gov/) in the Office of Acquisition/[18F](https://18f.gsa.gov/) as the acting director, where she helped government buy technology in a better way.\n",
    ">\n",
    "> She has a law degree from the University of Arizona James E. Rogers College of Law.\n",
    ">\n",
    "> In her free time, Alla enjoys trying to keep her houseplants alive, dancing, eating dessert, and exploring our country's national parks."
   ]
  },
  {
   "cell_type": "markdown",
   "metadata": {
    "slideshow": {
     "slide_type": "subslide"
    }
   },
   "source": [
    "#### Questions?"
   ]
  },
  {
   "cell_type": "markdown",
   "metadata": {
    "slideshow": {
     "slide_type": "slide"
    }
   },
   "source": [
    "## Python beyond data analysis\n",
    "\n",
    "We've been focusing on using Python and pandas for data analysis. What else is Python used for?"
   ]
  },
  {
   "cell_type": "markdown",
   "metadata": {
    "slideshow": {
     "slide_type": "subslide"
    }
   },
   "source": [
    "### Data engineering\n",
    "\n",
    "- Automation / recurring processes\n",
    "- Copying/moving/processing/publishing data, especially Big Data\n",
    "- Monitoring/alerting"
   ]
  },
  {
   "cell_type": "markdown",
   "metadata": {
    "slideshow": {
     "slide_type": "subslide"
    }
   },
   "source": [
    "### Web development\n",
    "\n",
    "- Building web sites that are interactive (more than just content)\n",
    "- Forms\n",
    "- Presenting data\n",
    "- Workflows, such as:\n",
    "   - Signing up for things\n",
    "   - Paying for things"
   ]
  },
  {
   "cell_type": "markdown",
   "metadata": {
    "slideshow": {
     "slide_type": "subslide"
    }
   },
   "source": [
    "### Machine learning\n",
    "\n",
    "- Statistics, but _fancy_\n",
    "- Building models\n",
    "   - [Examples](https://tfhub.dev/)\n",
    "- Finding patterns\n",
    "- Recommendations\n",
    "- Detection"
   ]
  },
  {
   "cell_type": "markdown",
   "metadata": {
    "slideshow": {
     "slide_type": "subslide"
    }
   },
   "source": [
    "When people say \"artificial intelligence,\" they usually mean \"machine learning.\""
   ]
  },
  {
   "cell_type": "markdown",
   "metadata": {
    "slideshow": {
     "slide_type": "subslide"
    }
   },
   "source": [
    "![Diagram showing what type of machine learning may be useful, if at all](https://mitsloan.mit.edu/sites/default/files/2021-04/machine-learning-infographic_2.jpg)\n",
    "\n",
    "[Source, with more thorough explanation](https://mitsloan.mit.edu/ideas-made-to-matter/machine-learning-explained)"
   ]
  },
  {
   "cell_type": "markdown",
   "metadata": {
    "slideshow": {
     "slide_type": "subslide"
    }
   },
   "source": [
    "#### The process\n",
    "\n",
    "_High-level_\n",
    "\n",
    "1. Create a model\n",
    "   1. Gather a bunch of data for training\n",
    "   1. If supervised machine learning, label it (give it the right answers)\n",
    "   1. Segment into training and test data\n",
    "   1. Train the model against the training dataset (have it identify patterns)\n",
    "   1. Test the model against the test dataset\n",
    "1. Run against new data\n",
    "1. If reinforcement learning, model refines itself"
   ]
  },
  {
   "cell_type": "markdown",
   "metadata": {
    "slideshow": {
     "slide_type": "subslide"
    }
   },
   "source": [
    "You have a head start: [The fundamentals](https://python-public-policy.afeld.me/en/{{school_slug}}/syllabus.html#learning-objectives) are applicable anywhere you're using code."
   ]
  },
  {
   "cell_type": "markdown",
   "metadata": {
    "slideshow": {
     "slide_type": "slide"
    },
    "tags": [
     "nyu-only"
    ]
   },
   "source": [
    "## Post-{{coding_env_name}}\n",
    "\n",
    "- {{coding_env_name}} instance (and your copy of files) will be deleted\n",
    "    - Download things you want to keep, particularly edited notebooks\n",
    "- Class materials will remain available on [the site](https://python-public-policy.afeld.me/en/{{school_slug}}/) and [through GitHub](https://github.com/afeld/python-public-policy/tree/{{school_slug}})\n",
    "- [Running notebooks elsewhere](https://python-public-policy.afeld.me/en/{{school_slug}}/resources.html#jupyter-outside-this-course)"
   ]
  },
  {
   "cell_type": "markdown",
   "metadata": {
    "slideshow": {
     "slide_type": "slide"
    },
    "tags": [
     "nyu-only"
    ]
   },
   "source": [
    "## [Course evaluations](https://m.albert.nyu.edu/app/student/nyuCrseEval/crseEval/1228/6312/GP/10)\n",
    "\n",
    "Please complete before signing off! The are:\n",
    "\n",
    "- Totally anonymous\n",
    "- Not visible to me until grades are released\n",
    "- A big help. Some things I took from the past:\n",
    "    - Making assignments more rigorous\n",
    "    - Students are hungry for more\n",
    "    - People like the in-class exercises"
   ]
  },
  {
   "cell_type": "markdown",
   "metadata": {
    "slideshow": {
     "slide_type": "slide"
    }
   },
   "source": [
    "Thanks to the {{assistant_name}}!"
   ]
  },
  {
   "cell_type": "markdown",
   "metadata": {
    "slideshow": {
     "slide_type": "slide"
    }
   },
   "source": [
    "## Thank you!\n",
    "\n",
    "Keep in touch:\n",
    "\n",
    "- [Email](https://python-public-policy.afeld.me/en/{{school_slug}}/syllabus.html#instructor-information)\n",
    "- [@aidanfeldman](https://twitter.com/aidanfeldman/) on Twitter"
   ]
  }
 ],
 "metadata": {
  "celltoolbar": "Slideshow",
  "kernelspec": {
   "display_name": "Python [conda env:python-public-policy] *",
   "language": "python",
   "name": "conda-env-python-public-policy-py"
  },
  "language_info": {
   "codemirror_mode": {
    "name": "ipython",
    "version": 3
   },
   "file_extension": ".py",
   "mimetype": "text/x-python",
   "name": "python",
   "nbconvert_exporter": "python",
   "pygments_lexer": "ipython3",
   "version": "3.8.10"
  }
 },
 "nbformat": 4,
 "nbformat_minor": 4
}
