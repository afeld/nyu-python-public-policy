{
 "cells": [
  {
   "cell_type": "markdown",
   "metadata": {
    "id": "Omm4n3FmPHlF",
    "slideshow": {
     "slide_type": "slide"
    }
   },
   "source": [
    "# Class 6: Wrap up"
   ]
  },
  {
   "cell_type": "markdown",
   "metadata": {
    "slideshow": {
     "slide_type": "slide"
    }
   },
   "source": [
    "## Agenda\n",
    "\n",
    "1. Guest lecture\n",
    "1. Ask Me Anything\n",
    "1. Wrapping up assignments\n",
    "{% if school_slug == \"nyu\" -%}\n",
    "1. Course evaluations\n",
    "{% endif -%}"
   ]
  },
  {
   "cell_type": "markdown",
   "metadata": {
    "slideshow": {
     "slide_type": "slide"
    }
   },
   "source": [
    "## Guest lectures\n",
    "\n",
    "> [**Laurie Merrell**](https://www.linkedin.com/in/laurie-merrell/) is an analytics engineer who works primarily with transit data and [GTFS](https://gtfs.org/) in particular. She decided to pursue a career in data after stints in software quality assurance and higher education administration. To facilitate her career switch, she completed a Master's degree in Analytics at Northwestern University. She is passionate about civic technology and serves on the board of [Chi Hack Night](https://chihacknight.org/), where she founded the [Ghost Buses breakout group](https://ghostbuses.com/)."
   ]
  },
  {
   "cell_type": "markdown",
   "metadata": {
    "slideshow": {
     "slide_type": "slide"
    }
   },
   "source": [
    "## Ask Me Anything\n",
    "\n",
    "- Reviewing any material from the semester\n",
    "- Working as a software developer\n",
    "- Working in government\n",
    "- Bread…?"
   ]
  },
  {
   "cell_type": "markdown",
   "metadata": {
    "slideshow": {
     "slide_type": "slide"
    }
   },
   "source": [
    "## Backup slides: Projects"
   ]
  },
  {
   "cell_type": "markdown",
   "metadata": {
    "slideshow": {
     "slide_type": "subslide"
    }
   },
   "source": [
    "[![Screenshot of C2/Communicart](extras/img/c2.png)](https://web.archive.org/web/20190124112324/https://cap.18f.gov/)"
   ]
  },
  {
   "cell_type": "markdown",
   "metadata": {
    "slideshow": {
     "slide_type": "subslide"
    }
   },
   "source": [
    "### [ATO Sprinting Team](https://18f.gsa.gov/2018/07/19/taking-the-ato-process-from-6-months-to-30-days/)\n",
    "\n",
    "![Scatter chart with trendline showing decrease in ATO times](https://18f.gsa.gov/assets/blog/ato/ato-completion-date-graph.png)"
   ]
  },
  {
   "cell_type": "markdown",
   "metadata": {
    "slideshow": {
     "slide_type": "subslide"
    }
   },
   "source": [
    "### Agile budgeting\n",
    "\n",
    "![Jellybeans](https://upload.wikimedia.org/wikipedia/commons/3/3e/Jellybeans.jpg)"
   ]
  },
  {
   "cell_type": "markdown",
   "metadata": {
    "slideshow": {
     "slide_type": "subslide"
    }
   },
   "source": [
    "### See also\n",
    "\n",
    "[![Video still of man wearing suit at a microphone](https://img.youtube.com/vi/g-h6CtSwk30/maxresdefault.jpg)](https://www.youtube.com/watch?v=g-h6CtSwk30)\n",
    "\n",
    "[Colleague explaining agile software development to the Michigan Senate](https://www.youtube.com/watch?v=g-h6CtSwk30)"
   ]
  },
  {
   "cell_type": "markdown",
   "metadata": {
    "slideshow": {
     "slide_type": "slide"
    }
   },
   "source": [
    "## [Homework 6](hw_6.ipynb)\n",
    "\n",
    "- Giving feedback on proposals\n",
    "- Encourage looking through them for ideas"
   ]
  },
  {
   "cell_type": "markdown",
   "metadata": {
    "slideshow": {
     "slide_type": "slide"
    }
   },
   "source": [
    "## Post-{{coding_env_name}}\n",
    "\n",
    "- {{coding_env_name}} instance (and your copy of files) will be deleted\n",
    "    - Download things you want to keep, particularly edited notebooks\n",
    "- Class materials will remain available on [the site](https://python-public-policy.afeld.me/en/{{school_slug}}/) and [through GitHub](https://github.com/afeld/python-public-policy/tree/{{school_slug}})\n",
    "- [Running notebooks elsewhere](https://python-public-policy.afeld.me/en/{{school_slug}}/resources.html#jupyter-outside-this-course)"
   ]
  },
  {
   "cell_type": "markdown",
   "metadata": {
    "slideshow": {
     "slide_type": "slide"
    },
    "tags": [
     "nyu-only"
    ]
   },
   "source": [
    "Thanks to Tara!"
   ]
  },
  {
   "cell_type": "markdown",
   "metadata": {
    "slideshow": {
     "slide_type": "slide"
    },
    "tags": [
     "nyu-only"
    ]
   },
   "source": [
    "## [Course evaluations](https://m.albert.nyu.edu/app/student/nyuCrseEval/crseEval/1228/6312/GP/10)\n",
    "\n",
    "Please complete before signing off! The are:\n",
    "\n",
    "- Totally anonymous\n",
    "- Not visible to me until grades are released\n",
    "- A big help. Some things I took from the past:\n",
    "    - Making assignments more rigorous\n",
    "    - Students are hungry for more\n",
    "    - People like the in-class exercises"
   ]
  },
  {
   "cell_type": "markdown",
   "metadata": {
    "slideshow": {
     "slide_type": "slide"
    }
   },
   "source": [
    "## Thank you!\n",
    "\n",
    "- {% if school_slug == \"columbia\" %}alf2215@columbia.edu{% else %}alf9@nyu.edu{% endif %}\n",
    "- [@aidanfeldman](https://twitter.com/aidanfeldman/) on Twitter"
   ]
  }
 ],
 "metadata": {
  "celltoolbar": "Slideshow",
  "kernelspec": {
   "display_name": "Python [conda env:python-public-policy] *",
   "language": "python",
   "name": "conda-env-python-public-policy-py"
  },
  "language_info": {
   "codemirror_mode": {
    "name": "ipython",
    "version": 3
   },
   "file_extension": ".py",
   "mimetype": "text/x-python",
   "name": "python",
   "nbconvert_exporter": "python",
   "pygments_lexer": "ipython3",
   "version": "3.8.10"
  }
 },
 "nbformat": 4,
 "nbformat_minor": 4
}
