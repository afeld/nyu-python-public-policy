{
 "cells": [
  {
   "cell_type": "markdown",
   "metadata": {
    "id": "F5DsWafyMCfG"
   },
   "source": [
    "# Homework 5\n",
    "\n",
    "_[General assignment information](https://python-public-policy.afeld.me/en/{{school_slug}}/assignments.html)_\n",
    "\n",
    "Make sure to fill in the `YOUR RESPONSE HERE`, and the posting in the Discussion at the end."
   ]
  },
  {
   "cell_type": "markdown",
   "metadata": {},
   "source": [
    "## In-class exercise\n",
    "\n",
    "[Geocode](https://en.wikipedia.org/wiki/Address_geocoding) an address from Python using the [NYC Planning GeoSearch API](https://geosearch.planninglabs.nyc/docs/). Print out the latitude and longitude. Any NYC address is fine:\n",
    "\n",
    "- Your own\n",
    "- This building: 238 Thompson St, New York, NY 10012\n",
    "- etc."
   ]
  },
  {
   "cell_type": "code",
   "execution_count": null,
   "metadata": {
    "tags": [
     "solution"
    ]
   },
   "outputs": [],
   "source": [
    "# your code here"
   ]
  },
  {
   "cell_type": "markdown",
   "metadata": {},
   "source": [
    "## Coding\n",
    "\n",
    "### Preface\n",
    "\n",
    "This assignment intentionally has far less step-by-step guidance than previous homeworks. This is meant to prepare you for [Homework 6](https://python-public-policy.afeld.me/en/{{school_slug}}/hw_6.html), when you will have none. It's meant to be challenging. You have learned all the pieces necessary, now it's a matter of figuring out which you need and putting them together.\n",
    "\n",
    "### The assignment\n",
    "\n",
    "When doing mapping or spatial analysis, it's easier to work with geographic coordinates than addresses. The 311 dataset has the `latitude` and `longitude` filled in for many of the rows, but not all. [Enrich the dataset](https://www.redpointglobal.com/blog/what-is-data-enrichment/) by filling in those missing coordinates, where possible.\n",
    "\n",
    "- Use the smaller dataset from homework 2: https://storage.googleapis.com/python-public-policy/data/cleaned_311_data_hw2.csv.zip\n",
    "- Use the same API as above\n",
    "- To avoid overwhelming the API, operate on a small subset of the data (no more than thirty addresses that need geocoding).\n",
    "\n",
    "### Tips\n",
    "\n",
    "- You're going to be doing API calls row by row, using `requests.get()` within a function passed to `apply()`\n",
    "- Start small and build up:\n",
    "   1. Put your code above to be within a function and take the street address as an argument. Call that function with something like `my_geocoder(\"some address\")`.\n",
    "   1. Modify the function to get the address from a row, as we did for [the `borocd` functions](https://python-public-policy.afeld.me/en/{{school_slug}}/lecture_2.html#first-let-s-create-a-borocd-column-in-cb-counts-dataframe).\n",
    "   1. Call the function with a fake row, like [the tests do in Homework 2](https://python-public-policy.afeld.me/en/{{school_slug}}/hw_2.html#step-1).\n",
    "   1. etc.\n",
    "- You can use [this technique for updating multiple columns at once through an `apply()`](https://stackoverflow.com/a/51703667/358804)."
   ]
  },
  {
   "cell_type": "code",
   "execution_count": null,
   "metadata": {
    "tags": [
     "solution"
    ]
   },
   "outputs": [],
   "source": [
    "# your code here"
   ]
  },
  {
   "cell_type": "markdown",
   "metadata": {},
   "source": [
    "### Question\n",
    "\n",
    "**What are the complicating factors** with this task? What could make it difficult to do comprehensively? Looking for a paragraph or some bullet points."
   ]
  },
  {
   "cell_type": "markdown",
   "metadata": {
    "tags": [
     "solution"
    ]
   },
   "source": [
    "YOUR RESPONSE HERE"
   ]
  },
  {
   "cell_type": "markdown",
   "metadata": {},
   "source": [
    "Now [turn in the assignment](https://python-public-policy.afeld.me/en/{{school_slug}}/assignments.html).\n",
    "\n",
    "## Homework 6 Proposal\n",
    "\n",
    "**Please answer [the proposal questions](hw_6.ipynb)** as a new Conversation under the `HW6 proposals` [Discussion]({{discussions_url}}).\n",
    "\n",
    "## Participation\n",
    "\n",
    "Reminder about the [between-class participation requirement](https://python-public-policy.afeld.me/en/{{school_slug}}/syllabus.html#participation)."
   ]
  }
 ],
 "metadata": {
  "kernelspec": {
   "display_name": "Python [conda env:python-public-policy] *",
   "language": "python",
   "name": "conda-env-python-public-policy-py"
  },
  "language_info": {
   "codemirror_mode": {
    "name": "ipython",
    "version": 3
   },
   "file_extension": ".py",
   "mimetype": "text/x-python",
   "name": "python",
   "nbconvert_exporter": "python",
   "pygments_lexer": "ipython3",
   "version": "3.10.8"
  },
  "rise": {
   "scroll": true
  }
 },
 "nbformat": 4,
 "nbformat_minor": 1
}
