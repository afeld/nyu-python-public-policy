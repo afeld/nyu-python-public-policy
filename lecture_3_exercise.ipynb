{
 "cells": [
  {
   "cell_type": "markdown",
   "metadata": {},
   "source": [
    "# Class 3 in-class exercise"
   ]
  },
  {
   "cell_type": "markdown",
   "metadata": {},
   "source": [
    "## Step 0\n",
    "\n",
    "Load the requests per capita dataset from https://storage.googleapis.com/python-public-policy2/data/311_community_districts.csv.zip."
   ]
  },
  {
   "cell_type": "code",
   "execution_count": 1,
   "metadata": {
    "execution": {
     "iopub.execute_input": "2024-04-08T04:16:48.656545Z",
     "iopub.status.busy": "2024-04-08T04:16:48.656031Z",
     "iopub.status.idle": "2024-04-08T04:16:48.662691Z",
     "shell.execute_reply": "2024-04-08T04:16:48.661928Z"
    },
    "tags": [
     "solution"
    ]
   },
   "outputs": [],
   "source": [
    "# your code here"
   ]
  },
  {
   "cell_type": "markdown",
   "metadata": {},
   "source": [
    "## Step 1\n",
    "\n",
    "Make a [histogram](https://plotly.com/python/histograms/) of the requests per capita."
   ]
  },
  {
   "cell_type": "code",
   "execution_count": 2,
   "metadata": {
    "execution": {
     "iopub.execute_input": "2024-04-08T04:16:48.666654Z",
     "iopub.status.busy": "2024-04-08T04:16:48.666456Z",
     "iopub.status.idle": "2024-04-08T04:16:48.668815Z",
     "shell.execute_reply": "2024-04-08T04:16:48.668466Z"
    },
    "tags": [
     "solution"
    ]
   },
   "outputs": [],
   "source": [
    "# your code here"
   ]
  }
 ],
 "metadata": {
  "kernelspec": {
   "display_name": "Python [conda env:python-public-policy] *",
   "language": "python",
   "name": "conda-env-python-public-policy-py"
  },
  "language_info": {
   "codemirror_mode": {
    "name": "ipython",
    "version": 3
   },
   "file_extension": ".py",
   "mimetype": "text/x-python",
   "name": "python",
   "nbconvert_exporter": "python",
   "pygments_lexer": "ipython3",
   "version": "3.10.12"
  }
 },
 "nbformat": 4,
 "nbformat_minor": 4
}
