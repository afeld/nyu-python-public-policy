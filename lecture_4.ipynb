{
 "cells": [
  {
   "cell_type": "markdown",
   "metadata": {
    "id": "Omm4n3FmPHlF",
    "slideshow": {
     "slide_type": "slide"
    }
   },
   "source": [
    "# Class 4: Dates and time series analysis"
   ]
  },
  {
   "cell_type": "markdown",
   "metadata": {
    "slideshow": {
     "slide_type": "slide"
    }
   },
   "source": [
    "## Dates and time series analysis\n",
    "\n",
    "From [Wikipedia](https://en.wikipedia.org/wiki/Time_series):\n",
    "\n",
    "> A time series is a series of data points indexed (or listed or graphed) in time order. Most commonly, a time series is a sequence taken at successive equally spaced points in time. Thus it is a sequence of discrete-time data."
   ]
  },
  {
   "cell_type": "markdown",
   "metadata": {
    "slideshow": {
     "slide_type": "fragment"
    }
   },
   "source": [
    "What are time series you've seen / worked with?"
   ]
  },
  {
   "cell_type": "markdown",
   "metadata": {
    "slideshow": {
     "slide_type": "fragment"
    }
   },
   "source": [
    "Is the 311 data a time series?"
   ]
  },
  {
   "cell_type": "markdown",
   "metadata": {
    "slideshow": {
     "slide_type": "slide"
    }
   },
   "source": [
    "As an example, we'll look at the frequency of 311 requests:\n",
    "\n",
    "- Over time\n",
    "- By day of the week\n",
    "- By hour"
   ]
  },
  {
   "cell_type": "markdown",
   "metadata": {
    "id": "9rvnMzjSMK36",
    "slideshow": {
     "slide_type": "slide"
    }
   },
   "source": [
    "## Importing necessary packages"
   ]
  },
  {
   "cell_type": "code",
   "execution_count": 1,
   "metadata": {
    "execution": {
     "iopub.execute_input": "2024-03-17T06:08:56.801065Z",
     "iopub.status.busy": "2024-03-17T06:08:56.800610Z",
     "iopub.status.idle": "2024-03-17T06:08:57.049150Z",
     "shell.execute_reply": "2024-03-17T06:08:57.048752Z"
    },
    "id": "Q4l2QosJLzP6"
   },
   "outputs": [],
   "source": [
    "import pandas as pd\n",
    "import plotly.express as px"
   ]
  },
  {
   "cell_type": "markdown",
   "metadata": {
    "id": "QPRlV8xwtEx1",
    "slideshow": {
     "slide_type": "subslide"
    }
   },
   "source": [
    "### Data preparation\n",
    "\n",
    "Load 311 data."
   ]
  },
  {
   "cell_type": "code",
   "execution_count": 3,
   "metadata": {
    "execution": {
     "iopub.execute_input": "2024-03-17T06:08:57.118273Z",
     "iopub.status.busy": "2024-03-17T06:08:57.117964Z",
     "iopub.status.idle": "2024-03-17T06:09:01.131401Z",
     "shell.execute_reply": "2024-03-17T06:09:01.131062Z"
    },
    "id": "iQgE8qFAMbiF"
   },
   "outputs": [
    {
     "name": "stderr",
     "output_type": "stream",
     "text": [
      "/var/folders/kr/nx0m1j811kz5vy8c87ffchzr0000gn/T/ipykernel_14189/461306798.py:1: DtypeWarning:\n",
      "\n",
      "Columns (8,20,31,34) have mixed types. Specify dtype option on import or set low_memory=False.\n",
      "\n"
     ]
    }
   ],
   "source": [
    "requests = pd.read_csv(\n",
    "    \"https://storage.googleapis.com/python-public-policy2/data/311_requests_2018-19_sample_clean.csv.zip\"\n",
    ")"
   ]
  },
  {
   "cell_type": "code",
   "execution_count": 4,
   "metadata": {
    "execution": {
     "iopub.execute_input": "2024-03-17T06:09:01.149816Z",
     "iopub.status.busy": "2024-03-17T06:09:01.149664Z",
     "iopub.status.idle": "2024-03-17T06:09:01.162177Z",
     "shell.execute_reply": "2024-03-17T06:09:01.161868Z"
    },
    "id": "ugLtmMOJXx96",
    "outputId": "2a848291-2eac-42e7-bd74-b1eef7e2b783",
    "scrolled": true
   },
   "outputs": [
    {
     "data": {
      "text/html": [
       "<div>\n",
       "<style scoped>\n",
       "    .dataframe tbody tr th:only-of-type {\n",
       "        vertical-align: middle;\n",
       "    }\n",
       "\n",
       "    .dataframe tbody tr th {\n",
       "        vertical-align: top;\n",
       "    }\n",
       "\n",
       "    .dataframe thead th {\n",
       "        text-align: right;\n",
       "    }\n",
       "</style>\n",
       "<table border=\"1\" class=\"dataframe\">\n",
       "  <thead>\n",
       "    <tr style=\"text-align: right;\">\n",
       "      <th></th>\n",
       "      <th>Created Date</th>\n",
       "      <th>Closed Date</th>\n",
       "    </tr>\n",
       "  </thead>\n",
       "  <tbody>\n",
       "    <tr>\n",
       "      <th>0</th>\n",
       "      <td>08/01/2018 12:05:13 AM</td>\n",
       "      <td>08/01/2018 12:05:13 AM</td>\n",
       "    </tr>\n",
       "    <tr>\n",
       "      <th>1</th>\n",
       "      <td>08/01/2018 12:06:05 AM</td>\n",
       "      <td>08/01/2018 12:06:05 AM</td>\n",
       "    </tr>\n",
       "    <tr>\n",
       "      <th>2</th>\n",
       "      <td>08/01/2018 12:06:16 AM</td>\n",
       "      <td>08/03/2018 02:03:55 PM</td>\n",
       "    </tr>\n",
       "    <tr>\n",
       "      <th>3</th>\n",
       "      <td>08/01/2018 12:06:29 AM</td>\n",
       "      <td>08/01/2018 02:54:24 AM</td>\n",
       "    </tr>\n",
       "    <tr>\n",
       "      <th>4</th>\n",
       "      <td>08/01/2018 12:06:51 AM</td>\n",
       "      <td>08/01/2018 04:54:26 AM</td>\n",
       "    </tr>\n",
       "    <tr>\n",
       "      <th>...</th>\n",
       "      <td>...</td>\n",
       "      <td>...</td>\n",
       "    </tr>\n",
       "    <tr>\n",
       "      <th>499953</th>\n",
       "      <td>08/24/2019 01:46:09 AM</td>\n",
       "      <td>NaN</td>\n",
       "    </tr>\n",
       "    <tr>\n",
       "      <th>499954</th>\n",
       "      <td>08/24/2019 01:49:49 AM</td>\n",
       "      <td>NaN</td>\n",
       "    </tr>\n",
       "    <tr>\n",
       "      <th>499955</th>\n",
       "      <td>08/24/2019 01:56:35 AM</td>\n",
       "      <td>NaN</td>\n",
       "    </tr>\n",
       "    <tr>\n",
       "      <th>499956</th>\n",
       "      <td>08/24/2019 01:56:40 AM</td>\n",
       "      <td>NaN</td>\n",
       "    </tr>\n",
       "    <tr>\n",
       "      <th>499957</th>\n",
       "      <td>08/24/2019 01:57:58 AM</td>\n",
       "      <td>NaN</td>\n",
       "    </tr>\n",
       "  </tbody>\n",
       "</table>\n",
       "<p>499958 rows × 2 columns</p>\n",
       "</div>"
      ],
      "text/plain": [
       "                  Created Date             Closed Date\n",
       "0       08/01/2018 12:05:13 AM  08/01/2018 12:05:13 AM\n",
       "1       08/01/2018 12:06:05 AM  08/01/2018 12:06:05 AM\n",
       "2       08/01/2018 12:06:16 AM  08/03/2018 02:03:55 PM\n",
       "3       08/01/2018 12:06:29 AM  08/01/2018 02:54:24 AM\n",
       "4       08/01/2018 12:06:51 AM  08/01/2018 04:54:26 AM\n",
       "...                        ...                     ...\n",
       "499953  08/24/2019 01:46:09 AM                     NaN\n",
       "499954  08/24/2019 01:49:49 AM                     NaN\n",
       "499955  08/24/2019 01:56:35 AM                     NaN\n",
       "499956  08/24/2019 01:56:40 AM                     NaN\n",
       "499957  08/24/2019 01:57:58 AM                     NaN\n",
       "\n",
       "[499958 rows x 2 columns]"
      ]
     },
     "execution_count": 4,
     "metadata": {},
     "output_type": "execute_result"
    }
   ],
   "source": [
    "requests[[\"Created Date\", \"Closed Date\"]]"
   ]
  },
  {
   "cell_type": "markdown",
   "metadata": {
    "slideshow": {
     "slide_type": "slide"
    }
   },
   "source": [
    "Get the minimum and maximum Created Date:"
   ]
  },
  {
   "cell_type": "code",
   "execution_count": 5,
   "metadata": {
    "execution": {
     "iopub.execute_input": "2024-03-17T06:09:01.163888Z",
     "iopub.status.busy": "2024-03-17T06:09:01.163776Z",
     "iopub.status.idle": "2024-03-17T06:09:01.182546Z",
     "shell.execute_reply": "2024-03-17T06:09:01.182268Z"
    }
   },
   "outputs": [
    {
     "data": {
      "text/plain": [
       "'01/01/2019 01:00:00 PM'"
      ]
     },
     "execution_count": 5,
     "metadata": {},
     "output_type": "execute_result"
    }
   ],
   "source": [
    "requests[\"Created Date\"].min()"
   ]
  },
  {
   "cell_type": "code",
   "execution_count": 6,
   "metadata": {
    "execution": {
     "iopub.execute_input": "2024-03-17T06:09:01.184091Z",
     "iopub.status.busy": "2024-03-17T06:09:01.183995Z",
     "iopub.status.idle": "2024-03-17T06:09:01.203482Z",
     "shell.execute_reply": "2024-03-17T06:09:01.203219Z"
    }
   },
   "outputs": [
    {
     "data": {
      "text/plain": [
       "'12/31/2018 12:59:37 AM'"
      ]
     },
     "execution_count": 6,
     "metadata": {},
     "output_type": "execute_result"
    }
   ],
   "source": [
    "requests[\"Created Date\"].max()"
   ]
  },
  {
   "cell_type": "markdown",
   "metadata": {
    "slideshow": {
     "slide_type": "fragment"
    }
   },
   "source": [
    "Anything you notice about that?"
   ]
  },
  {
   "cell_type": "markdown",
   "metadata": {
    "slideshow": {
     "slide_type": "subslide"
    }
   },
   "source": [
    "The dates are stored as strings (`object`s):"
   ]
  },
  {
   "cell_type": "code",
   "execution_count": 7,
   "metadata": {
    "execution": {
     "iopub.execute_input": "2024-03-17T06:09:01.205192Z",
     "iopub.status.busy": "2024-03-17T06:09:01.205077Z",
     "iopub.status.idle": "2024-03-17T06:09:01.207894Z",
     "shell.execute_reply": "2024-03-17T06:09:01.207664Z"
    },
    "id": "Pd_kRnU9bMeS",
    "outputId": "ca016834-6d96-4e3a-9b8f-c824f8b7249b",
    "scrolled": true,
    "slideshow": {
     "slide_type": "-"
    }
   },
   "outputs": [
    {
     "data": {
      "text/plain": [
       "Unique Key                          int64\n",
       "Created Date                       object\n",
       "Closed Date                        object\n",
       "Agency                             object\n",
       "Agency Name                        object\n",
       "Complaint Type                     object\n",
       "Descriptor                         object\n",
       "Location Type                      object\n",
       "Incident Zip                       object\n",
       "Incident Address                   object\n",
       "Street Name                        object\n",
       "Cross Street 1                     object\n",
       "Cross Street 2                     object\n",
       "Intersection Street 1              object\n",
       "Intersection Street 2              object\n",
       "Address Type                       object\n",
       "City                               object\n",
       "Landmark                           object\n",
       "Facility Type                      object\n",
       "Status                             object\n",
       "Due Date                           object\n",
       "Resolution Description             object\n",
       "Resolution Action Updated Date     object\n",
       "Community Board                    object\n",
       "BBL                               float64\n",
       "Borough                            object\n",
       "X Coordinate (State Plane)        float64\n",
       "Y Coordinate (State Plane)        float64\n",
       "Open Data Channel Type             object\n",
       "Park Facility Name                 object\n",
       "Park Borough                       object\n",
       "Vehicle Type                       object\n",
       "Taxi Company Borough               object\n",
       "Taxi Pick Up Location              object\n",
       "Bridge Highway Name                object\n",
       "Bridge Highway Direction           object\n",
       "Road Ramp                          object\n",
       "Bridge Highway Segment             object\n",
       "Latitude                          float64\n",
       "Longitude                         float64\n",
       "Location                           object\n",
       "dtype: object"
      ]
     },
     "execution_count": 7,
     "metadata": {},
     "output_type": "execute_result"
    }
   ],
   "source": [
    "requests.dtypes"
   ]
  },
  {
   "cell_type": "markdown",
   "metadata": {
    "id": "CHZ-Pqj0bS9w",
    "slideshow": {
     "slide_type": "slide"
    }
   },
   "source": [
    "## Convert columns to timestamps using [pandas' `to_datetime()`](https://pandas.pydata.org/pandas-docs/stable/reference/api/pandas.to_datetime.html)"
   ]
  },
  {
   "cell_type": "code",
   "execution_count": 8,
   "metadata": {
    "execution": {
     "iopub.execute_input": "2024-03-17T06:09:01.209343Z",
     "iopub.status.busy": "2024-03-17T06:09:01.209240Z",
     "iopub.status.idle": "2024-03-17T06:09:03.134340Z",
     "shell.execute_reply": "2024-03-17T06:09:03.134044Z"
    },
    "id": "6r2GP5JPYMQW"
   },
   "outputs": [],
   "source": [
    "requests[\"Created Date\"] = pd.to_datetime(requests[\"Created Date\"], format=\"%m/%d/%Y %I:%M:%S %p\")\n",
    "requests[\"Closed Date\"] = pd.to_datetime(requests[\"Closed Date\"], format=\"%m/%d/%Y %I:%M:%S %p\")"
   ]
  },
  {
   "cell_type": "code",
   "execution_count": 9,
   "metadata": {
    "execution": {
     "iopub.execute_input": "2024-03-17T06:09:03.136388Z",
     "iopub.status.busy": "2024-03-17T06:09:03.136258Z",
     "iopub.status.idle": "2024-03-17T06:09:03.144767Z",
     "shell.execute_reply": "2024-03-17T06:09:03.144493Z"
    },
    "id": "CwyFtEdf2ZYr",
    "outputId": "21ee6803-f031-4cfa-efee-41e0d23066d4",
    "scrolled": true
   },
   "outputs": [
    {
     "data": {
      "text/html": [
       "<div>\n",
       "<style scoped>\n",
       "    .dataframe tbody tr th:only-of-type {\n",
       "        vertical-align: middle;\n",
       "    }\n",
       "\n",
       "    .dataframe tbody tr th {\n",
       "        vertical-align: top;\n",
       "    }\n",
       "\n",
       "    .dataframe thead th {\n",
       "        text-align: right;\n",
       "    }\n",
       "</style>\n",
       "<table border=\"1\" class=\"dataframe\">\n",
       "  <thead>\n",
       "    <tr style=\"text-align: right;\">\n",
       "      <th></th>\n",
       "      <th>Created Date</th>\n",
       "      <th>Closed Date</th>\n",
       "    </tr>\n",
       "  </thead>\n",
       "  <tbody>\n",
       "    <tr>\n",
       "      <th>0</th>\n",
       "      <td>2018-08-01 00:05:13</td>\n",
       "      <td>2018-08-01 00:05:13</td>\n",
       "    </tr>\n",
       "    <tr>\n",
       "      <th>1</th>\n",
       "      <td>2018-08-01 00:06:05</td>\n",
       "      <td>2018-08-01 00:06:05</td>\n",
       "    </tr>\n",
       "    <tr>\n",
       "      <th>2</th>\n",
       "      <td>2018-08-01 00:06:16</td>\n",
       "      <td>2018-08-03 14:03:55</td>\n",
       "    </tr>\n",
       "    <tr>\n",
       "      <th>3</th>\n",
       "      <td>2018-08-01 00:06:29</td>\n",
       "      <td>2018-08-01 02:54:24</td>\n",
       "    </tr>\n",
       "    <tr>\n",
       "      <th>4</th>\n",
       "      <td>2018-08-01 00:06:51</td>\n",
       "      <td>2018-08-01 04:54:26</td>\n",
       "    </tr>\n",
       "    <tr>\n",
       "      <th>...</th>\n",
       "      <td>...</td>\n",
       "      <td>...</td>\n",
       "    </tr>\n",
       "    <tr>\n",
       "      <th>499953</th>\n",
       "      <td>2019-08-24 01:46:09</td>\n",
       "      <td>NaT</td>\n",
       "    </tr>\n",
       "    <tr>\n",
       "      <th>499954</th>\n",
       "      <td>2019-08-24 01:49:49</td>\n",
       "      <td>NaT</td>\n",
       "    </tr>\n",
       "    <tr>\n",
       "      <th>499955</th>\n",
       "      <td>2019-08-24 01:56:35</td>\n",
       "      <td>NaT</td>\n",
       "    </tr>\n",
       "    <tr>\n",
       "      <th>499956</th>\n",
       "      <td>2019-08-24 01:56:40</td>\n",
       "      <td>NaT</td>\n",
       "    </tr>\n",
       "    <tr>\n",
       "      <th>499957</th>\n",
       "      <td>2019-08-24 01:57:58</td>\n",
       "      <td>NaT</td>\n",
       "    </tr>\n",
       "  </tbody>\n",
       "</table>\n",
       "<p>499958 rows × 2 columns</p>\n",
       "</div>"
      ],
      "text/plain": [
       "              Created Date         Closed Date\n",
       "0      2018-08-01 00:05:13 2018-08-01 00:05:13\n",
       "1      2018-08-01 00:06:05 2018-08-01 00:06:05\n",
       "2      2018-08-01 00:06:16 2018-08-03 14:03:55\n",
       "3      2018-08-01 00:06:29 2018-08-01 02:54:24\n",
       "4      2018-08-01 00:06:51 2018-08-01 04:54:26\n",
       "...                    ...                 ...\n",
       "499953 2019-08-24 01:46:09                 NaT\n",
       "499954 2019-08-24 01:49:49                 NaT\n",
       "499955 2019-08-24 01:56:35                 NaT\n",
       "499956 2019-08-24 01:56:40                 NaT\n",
       "499957 2019-08-24 01:57:58                 NaT\n",
       "\n",
       "[499958 rows x 2 columns]"
      ]
     },
     "execution_count": 9,
     "metadata": {},
     "output_type": "execute_result"
    }
   ],
   "source": [
    "requests[[\"Created Date\", \"Closed Date\"]]"
   ]
  },
  {
   "cell_type": "markdown",
   "metadata": {
    "slideshow": {
     "slide_type": "subslide"
    }
   },
   "source": [
    "[More about the `format` string.](https://docs.python.org/3/library/datetime.html#strftime-and-strptime-format-codes) If you don't provide one, it will take much longer to convert."
   ]
  },
  {
   "cell_type": "markdown",
   "metadata": {
    "slideshow": {
     "slide_type": "subslide"
    }
   },
   "source": [
    "Check data types and confirm they are now datetime:"
   ]
  },
  {
   "cell_type": "code",
   "execution_count": 10,
   "metadata": {
    "execution": {
     "iopub.execute_input": "2024-03-17T06:09:03.146546Z",
     "iopub.status.busy": "2024-03-17T06:09:03.146397Z",
     "iopub.status.idle": "2024-03-17T06:09:03.150229Z",
     "shell.execute_reply": "2024-03-17T06:09:03.149756Z"
    },
    "id": "xWOu5gFBhZcT",
    "outputId": "1e72a4ef-e058-4bc9-8467-67d372f0cf94",
    "slideshow": {
     "slide_type": "-"
    }
   },
   "outputs": [
    {
     "data": {
      "text/plain": [
       "Unique Key                                 int64\n",
       "Created Date                      datetime64[ns]\n",
       "Closed Date                       datetime64[ns]\n",
       "Agency                                    object\n",
       "Agency Name                               object\n",
       "Complaint Type                            object\n",
       "Descriptor                                object\n",
       "Location Type                             object\n",
       "Incident Zip                              object\n",
       "Incident Address                          object\n",
       "Street Name                               object\n",
       "Cross Street 1                            object\n",
       "Cross Street 2                            object\n",
       "Intersection Street 1                     object\n",
       "Intersection Street 2                     object\n",
       "Address Type                              object\n",
       "City                                      object\n",
       "Landmark                                  object\n",
       "Facility Type                             object\n",
       "Status                                    object\n",
       "Due Date                                  object\n",
       "Resolution Description                    object\n",
       "Resolution Action Updated Date            object\n",
       "Community Board                           object\n",
       "BBL                                      float64\n",
       "Borough                                   object\n",
       "X Coordinate (State Plane)               float64\n",
       "Y Coordinate (State Plane)               float64\n",
       "Open Data Channel Type                    object\n",
       "Park Facility Name                        object\n",
       "Park Borough                              object\n",
       "Vehicle Type                              object\n",
       "Taxi Company Borough                      object\n",
       "Taxi Pick Up Location                     object\n",
       "Bridge Highway Name                       object\n",
       "Bridge Highway Direction                  object\n",
       "Road Ramp                                 object\n",
       "Bridge Highway Segment                    object\n",
       "Latitude                                 float64\n",
       "Longitude                                float64\n",
       "Location                                  object\n",
       "dtype: object"
      ]
     },
     "execution_count": 10,
     "metadata": {},
     "output_type": "execute_result"
    }
   ],
   "source": [
    "requests.dtypes"
   ]
  },
  {
   "cell_type": "code",
   "execution_count": 11,
   "metadata": {
    "execution": {
     "iopub.execute_input": "2024-03-17T06:09:03.152029Z",
     "iopub.status.busy": "2024-03-17T06:09:03.151915Z",
     "iopub.status.idle": "2024-03-17T06:09:03.156226Z",
     "shell.execute_reply": "2024-03-17T06:09:03.155839Z"
    },
    "id": "jUQrqEn6n41V",
    "outputId": "a93fd1b0-bcf3-4c09-95d9-d0094f49709c",
    "slideshow": {
     "slide_type": "subslide"
    }
   },
   "outputs": [
    {
     "data": {
      "text/plain": [
       "Timestamp('2018-08-01 00:05:13')"
      ]
     },
     "execution_count": 11,
     "metadata": {},
     "output_type": "execute_result"
    }
   ],
   "source": [
    "requests[\"Created Date\"].min()"
   ]
  },
  {
   "cell_type": "code",
   "execution_count": 12,
   "metadata": {
    "execution": {
     "iopub.execute_input": "2024-03-17T06:09:03.158124Z",
     "iopub.status.busy": "2024-03-17T06:09:03.157997Z",
     "iopub.status.idle": "2024-03-17T06:09:03.161032Z",
     "shell.execute_reply": "2024-03-17T06:09:03.160715Z"
    }
   },
   "outputs": [
    {
     "data": {
      "text/plain": [
       "Timestamp('2019-08-24 01:57:58')"
      ]
     },
     "execution_count": 12,
     "metadata": {},
     "output_type": "execute_result"
    }
   ],
   "source": [
    "requests[\"Created Date\"].max()"
   ]
  },
  {
   "cell_type": "markdown",
   "metadata": {
    "slideshow": {
     "slide_type": "slide"
    }
   },
   "source": [
    "## In-class exercise\n",
    "\n",
    "Let's do up through Step 2 of [Homework 4](https://python-public-policy.afeld.me/en/columbia/hw_4.html)."
   ]
  },
  {
   "cell_type": "markdown",
   "metadata": {
    "id": "r6tTwXTpKvef",
    "slideshow": {
     "slide_type": "slide"
    }
   },
   "source": [
    "## Noise complaints per day"
   ]
  },
  {
   "cell_type": "code",
   "execution_count": 13,
   "metadata": {
    "execution": {
     "iopub.execute_input": "2024-03-17T06:09:03.163160Z",
     "iopub.status.busy": "2024-03-17T06:09:03.163038Z",
     "iopub.status.idle": "2024-03-17T06:09:03.202920Z",
     "shell.execute_reply": "2024-03-17T06:09:03.202535Z"
    },
    "id": "sGLxmpvoezUc",
    "outputId": "00467639-249c-4ff7-b5eb-efa3feff0fa4"
   },
   "outputs": [
    {
     "data": {
      "text/html": [
       "<div>\n",
       "<style scoped>\n",
       "    .dataframe tbody tr th:only-of-type {\n",
       "        vertical-align: middle;\n",
       "    }\n",
       "\n",
       "    .dataframe tbody tr th {\n",
       "        vertical-align: top;\n",
       "    }\n",
       "\n",
       "    .dataframe thead th {\n",
       "        text-align: right;\n",
       "    }\n",
       "</style>\n",
       "<table border=\"1\" class=\"dataframe\">\n",
       "  <thead>\n",
       "    <tr style=\"text-align: right;\">\n",
       "      <th></th>\n",
       "      <th>Created Date</th>\n",
       "      <th>count_requests</th>\n",
       "    </tr>\n",
       "  </thead>\n",
       "  <tbody>\n",
       "    <tr>\n",
       "      <th>0</th>\n",
       "      <td>2018-08-01</td>\n",
       "      <td>50</td>\n",
       "    </tr>\n",
       "    <tr>\n",
       "      <th>1</th>\n",
       "      <td>2018-08-02</td>\n",
       "      <td>49</td>\n",
       "    </tr>\n",
       "    <tr>\n",
       "      <th>2</th>\n",
       "      <td>2018-08-03</td>\n",
       "      <td>65</td>\n",
       "    </tr>\n",
       "    <tr>\n",
       "      <th>3</th>\n",
       "      <td>2018-08-04</td>\n",
       "      <td>162</td>\n",
       "    </tr>\n",
       "    <tr>\n",
       "      <th>4</th>\n",
       "      <td>2018-08-05</td>\n",
       "      <td>191</td>\n",
       "    </tr>\n",
       "    <tr>\n",
       "      <th>...</th>\n",
       "      <td>...</td>\n",
       "      <td>...</td>\n",
       "    </tr>\n",
       "    <tr>\n",
       "      <th>384</th>\n",
       "      <td>2019-08-20</td>\n",
       "      <td>60</td>\n",
       "    </tr>\n",
       "    <tr>\n",
       "      <th>385</th>\n",
       "      <td>2019-08-21</td>\n",
       "      <td>46</td>\n",
       "    </tr>\n",
       "    <tr>\n",
       "      <th>386</th>\n",
       "      <td>2019-08-22</td>\n",
       "      <td>62</td>\n",
       "    </tr>\n",
       "    <tr>\n",
       "      <th>387</th>\n",
       "      <td>2019-08-23</td>\n",
       "      <td>109</td>\n",
       "    </tr>\n",
       "    <tr>\n",
       "      <th>388</th>\n",
       "      <td>2019-08-24</td>\n",
       "      <td>33</td>\n",
       "    </tr>\n",
       "  </tbody>\n",
       "</table>\n",
       "<p>389 rows × 2 columns</p>\n",
       "</div>"
      ],
      "text/plain": [
       "    Created Date  count_requests\n",
       "0     2018-08-01              50\n",
       "1     2018-08-02              49\n",
       "2     2018-08-03              65\n",
       "3     2018-08-04             162\n",
       "4     2018-08-05             191\n",
       "..           ...             ...\n",
       "384   2019-08-20              60\n",
       "385   2019-08-21              46\n",
       "386   2019-08-22              62\n",
       "387   2019-08-23             109\n",
       "388   2019-08-24              33\n",
       "\n",
       "[389 rows x 2 columns]"
      ]
     },
     "execution_count": 13,
     "metadata": {},
     "output_type": "execute_result"
    }
   ],
   "source": [
    "noise = requests[requests[\"Complaint Type\"] == \"Noise - Residential\"]\n",
    "noise_per_day = noise.resample(\"D\", on=\"Created Date\").size().reset_index(name=\"count_requests\")\n",
    "\n",
    "noise_per_day"
   ]
  },
  {
   "cell_type": "markdown",
   "metadata": {
    "slideshow": {
     "slide_type": "subslide"
    }
   },
   "source": [
    "### [Resampling](https://pandas.pydata.org/pandas-docs/stable/getting_started/intro_tutorials/09_timeseries.html#resample-a-time-series-to-another-frequency)\n",
    "\n",
    "Once you have a column with datetime objects, pandas can manipulate them directly. From [the User Guide](https://pandas.pydata.org/pandas-docs/stable/user_guide/timeseries.html#resampling):\n",
    "\n",
    "> `resample()` is a time-based `groupby`"
   ]
  },
  {
   "cell_type": "markdown",
   "metadata": {
    "slideshow": {
     "slide_type": "subslide"
    }
   },
   "source": [
    "```python\n",
    ".resample('D', on='Created Date')\n",
    "```\n",
    "\n",
    "The `'D'` is the [offset alias](https://pandas.pydata.org/pandas-docs/stable/user_guide/timeseries.html#timeseries-offset-aliases), i.e. the desired frequency."
   ]
  },
  {
   "cell_type": "code",
   "execution_count": 14,
   "metadata": {
    "execution": {
     "iopub.execute_input": "2024-03-17T06:09:03.204814Z",
     "iopub.status.busy": "2024-03-17T06:09:03.204669Z",
     "iopub.status.idle": "2024-03-17T06:09:03.790883Z",
     "shell.execute_reply": "2024-03-17T06:09:03.790492Z"
    },
    "slideshow": {
     "slide_type": "subslide"
    }
   },
   "outputs": [
    {
     "data": {
      "image/png": "[encoded data removed]"
     },
     "metadata": {},
     "output_type": "display_data"
    }
   ],
   "source": [
    "fig = px.line(\n",
    "    noise_per_day,\n",
    "    x=\"Created Date\",\n",
    "    y=\"count_requests\",\n",
    "    title=\"Noise complaints per day\",\n",
    ")\n",
    "fig.show()"
   ]
  },
  {
   "cell_type": "markdown",
   "metadata": {
    "slideshow": {
     "slide_type": "subslide"
    }
   },
   "source": [
    "How about a rolling average?"
   ]
  },
  {
   "cell_type": "code",
   "execution_count": 15,
   "metadata": {
    "execution": {
     "iopub.execute_input": "2024-03-17T06:09:03.792811Z",
     "iopub.status.busy": "2024-03-17T06:09:03.792687Z",
     "iopub.status.idle": "2024-03-17T06:09:03.842967Z",
     "shell.execute_reply": "2024-03-17T06:09:03.842578Z"
    },
    "slideshow": {
     "slide_type": "-"
    }
   },
   "outputs": [
    {
     "data": {
      "image/png": "[encoded data removed]"
     },
     "metadata": {},
     "output_type": "display_data"
    }
   ],
   "source": [
    "noise_per_day_rolling = noise_per_day.rolling(\"7D\", on=\"Created Date\").mean()\n",
    "\n",
    "fig = px.line(\n",
    "    noise_per_day_rolling,\n",
    "    x=\"Created Date\",\n",
    "    y=\"count_requests\",\n",
    "    title=\"7-day rolling average of noise complaints per day\",\n",
    ")\n",
    "fig.show()"
   ]
  },
  {
   "cell_type": "markdown",
   "metadata": {
    "slideshow": {
     "slide_type": "subslide"
    }
   },
   "source": [
    "Let's try weekly:"
   ]
  },
  {
   "cell_type": "code",
   "execution_count": 16,
   "metadata": {
    "execution": {
     "iopub.execute_input": "2024-03-17T06:09:03.844862Z",
     "iopub.status.busy": "2024-03-17T06:09:03.844672Z",
     "iopub.status.idle": "2024-03-17T06:09:03.887454Z",
     "shell.execute_reply": "2024-03-17T06:09:03.887140Z"
    }
   },
   "outputs": [
    {
     "data": {
      "image/png": "[encoded data removed]"
     },
     "metadata": {},
     "output_type": "display_data"
    }
   ],
   "source": [
    "noise_per_week = noise.resample(\"W\", on=\"Created Date\").size().reset_index(name=\"count_requests\")\n",
    "\n",
    "fig = px.line(\n",
    "    noise_per_week,\n",
    "    x=\"Created Date\",\n",
    "    y=\"count_requests\",\n",
    "    title=\"Noise complaints per week\",\n",
    ")\n",
    "fig.show()"
   ]
  },
  {
   "cell_type": "markdown",
   "metadata": {
    "slideshow": {
     "slide_type": "slide"
    }
   },
   "source": [
    "## Resampling with other grouping"
   ]
  },
  {
   "cell_type": "code",
   "execution_count": 17,
   "metadata": {
    "execution": {
     "iopub.execute_input": "2024-03-17T06:09:03.889362Z",
     "iopub.status.busy": "2024-03-17T06:09:03.889221Z",
     "iopub.status.idle": "2024-03-17T06:09:03.896451Z",
     "shell.execute_reply": "2024-03-17T06:09:03.896198Z"
    }
   },
   "outputs": [
    {
     "data": {
      "text/plain": [
       "Created Date\n",
       "2018-08-05     517\n",
       "2018-08-12     569\n",
       "2018-08-19     677\n",
       "2018-08-26     856\n",
       "2018-09-02     783\n",
       "2018-09-09     770\n",
       "2018-09-16     785\n",
       "2018-09-23     793\n",
       "2018-09-30     842\n",
       "2018-10-07     725\n",
       "2018-10-14     687\n",
       "2018-10-21     715\n",
       "2018-10-28     714\n",
       "2018-11-04     722\n",
       "2018-11-11     651\n",
       "2018-11-18     619\n",
       "2018-11-25     713\n",
       "2018-12-02     644\n",
       "2018-12-09     671\n",
       "2018-12-16     645\n",
       "2018-12-23     543\n",
       "2018-12-30     748\n",
       "2019-01-06     784\n",
       "2019-01-13     615\n",
       "2019-01-20     591\n",
       "2019-01-27     658\n",
       "2019-02-03     673\n",
       "2019-02-10     597\n",
       "2019-02-17     645\n",
       "2019-02-24     700\n",
       "2019-03-03     624\n",
       "2019-03-10     638\n",
       "2019-03-17     721\n",
       "2019-03-24     666\n",
       "2019-03-31     743\n",
       "2019-04-07     819\n",
       "2019-04-14     815\n",
       "2019-04-21     748\n",
       "2019-04-28     801\n",
       "2019-05-05     867\n",
       "2019-05-12     876\n",
       "2019-05-19     962\n",
       "2019-05-26    1048\n",
       "2019-06-02    1197\n",
       "2019-06-09     989\n",
       "2019-06-16    1074\n",
       "2019-06-23    1009\n",
       "2019-06-30     726\n",
       "2019-07-07     903\n",
       "2019-07-14     719\n",
       "2019-07-21     565\n",
       "2019-07-28     674\n",
       "2019-08-04     609\n",
       "2019-08-11     741\n",
       "2019-08-18     752\n",
       "2019-08-25     373\n",
       "Freq: W-SUN, dtype: int64"
      ]
     },
     "execution_count": 17,
     "metadata": {},
     "output_type": "execute_result"
    }
   ],
   "source": [
    "noise.resample(\"W\", on=\"Created Date\").size()\n",
    "\n",
    "# can be rewrritten as\n",
    "\n",
    "noise.groupby([pd.Grouper(key=\"Created Date\", freq=\"W\")]).size()"
   ]
  },
  {
   "cell_type": "markdown",
   "metadata": {
    "slideshow": {
     "slide_type": "subslide"
    }
   },
   "source": [
    "This means you can add other columns to group by:"
   ]
  },
  {
   "cell_type": "code",
   "execution_count": 18,
   "metadata": {
    "execution": {
     "iopub.execute_input": "2024-03-17T06:09:03.898143Z",
     "iopub.status.busy": "2024-03-17T06:09:03.898033Z",
     "iopub.status.idle": "2024-03-17T06:09:03.905621Z",
     "shell.execute_reply": "2024-03-17T06:09:03.905321Z"
    }
   },
   "outputs": [
    {
     "data": {
      "text/plain": [
       "Created Date  Borough      \n",
       "2018-08-05    BRONX            134\n",
       "              BROOKLYN         157\n",
       "              MANHATTAN         90\n",
       "              QUEENS           112\n",
       "              STATEN ISLAND     23\n",
       "                              ... \n",
       "2019-08-25    BROOKLYN         126\n",
       "              MANHATTAN         69\n",
       "              QUEENS            75\n",
       "              STATEN ISLAND     16\n",
       "              Unspecified        2\n",
       "Length: 310, dtype: int64"
      ]
     },
     "execution_count": 18,
     "metadata": {},
     "output_type": "execute_result"
    }
   ],
   "source": [
    "noise.groupby([pd.Grouper(key=\"Created Date\", freq=\"W\"), \"Borough\"]).size()"
   ]
  },
  {
   "cell_type": "markdown",
   "metadata": {
    "slideshow": {
     "slide_type": "slide"
    },
    "tags": [
     "columbia-only"
    ]
   },
   "source": [
    "## In-class exercise\n",
    "\n",
    "Let's do up through Step 5 of [Homework 4](https://python-public-policy.afeld.me/en/columbia/hw_4.html)."
   ]
  },
  {
   "cell_type": "markdown",
   "metadata": {
    "id": "6UnQxUFEdT8I",
    "slideshow": {
     "slide_type": "slide"
    }
   },
   "source": [
    "## Does the frequency of noise complaints vary by day of the week?"
   ]
  },
  {
   "cell_type": "markdown",
   "metadata": {
    "id": "AAhqyVU5cgGv",
    "slideshow": {
     "slide_type": "subslide"
    }
   },
   "source": [
    "### Get the day of the week for each 311 request"
   ]
  },
  {
   "cell_type": "markdown",
   "metadata": {
    "slideshow": {
     "slide_type": "subslide"
    }
   },
   "source": [
    "Add column using the [time/date component](https://pandas.pydata.org/pandas-docs/stable/user_guide/timeseries.html#time-date-components)."
   ]
  },
  {
   "cell_type": "code",
   "execution_count": 19,
   "metadata": {
    "execution": {
     "iopub.execute_input": "2024-03-17T06:09:03.907583Z",
     "iopub.status.busy": "2024-03-17T06:09:03.907461Z",
     "iopub.status.idle": "2024-03-17T06:09:03.913586Z",
     "shell.execute_reply": "2024-03-17T06:09:03.912897Z"
    },
    "id": "JRtIP_rPclYE",
    "outputId": "5a78c99a-ff62-40ad-edc1-9156995d78a6"
   },
   "outputs": [
    {
     "data": {
      "text/html": [
       "<div>\n",
       "<style scoped>\n",
       "    .dataframe tbody tr th:only-of-type {\n",
       "        vertical-align: middle;\n",
       "    }\n",
       "\n",
       "    .dataframe tbody tr th {\n",
       "        vertical-align: top;\n",
       "    }\n",
       "\n",
       "    .dataframe thead th {\n",
       "        text-align: right;\n",
       "    }\n",
       "</style>\n",
       "<table border=\"1\" class=\"dataframe\">\n",
       "  <thead>\n",
       "    <tr style=\"text-align: right;\">\n",
       "      <th></th>\n",
       "      <th>Created Date</th>\n",
       "      <th>weekday_name</th>\n",
       "      <th>weekday</th>\n",
       "    </tr>\n",
       "  </thead>\n",
       "  <tbody>\n",
       "    <tr>\n",
       "      <th>0</th>\n",
       "      <td>2018-08-01</td>\n",
       "      <td>Wednesday</td>\n",
       "      <td>2</td>\n",
       "    </tr>\n",
       "    <tr>\n",
       "      <th>1</th>\n",
       "      <td>2018-08-02</td>\n",
       "      <td>Thursday</td>\n",
       "      <td>3</td>\n",
       "    </tr>\n",
       "    <tr>\n",
       "      <th>2</th>\n",
       "      <td>2018-08-03</td>\n",
       "      <td>Friday</td>\n",
       "      <td>4</td>\n",
       "    </tr>\n",
       "    <tr>\n",
       "      <th>3</th>\n",
       "      <td>2018-08-04</td>\n",
       "      <td>Saturday</td>\n",
       "      <td>5</td>\n",
       "    </tr>\n",
       "    <tr>\n",
       "      <th>4</th>\n",
       "      <td>2018-08-05</td>\n",
       "      <td>Sunday</td>\n",
       "      <td>6</td>\n",
       "    </tr>\n",
       "    <tr>\n",
       "      <th>...</th>\n",
       "      <td>...</td>\n",
       "      <td>...</td>\n",
       "      <td>...</td>\n",
       "    </tr>\n",
       "    <tr>\n",
       "      <th>384</th>\n",
       "      <td>2019-08-20</td>\n",
       "      <td>Tuesday</td>\n",
       "      <td>1</td>\n",
       "    </tr>\n",
       "    <tr>\n",
       "      <th>385</th>\n",
       "      <td>2019-08-21</td>\n",
       "      <td>Wednesday</td>\n",
       "      <td>2</td>\n",
       "    </tr>\n",
       "    <tr>\n",
       "      <th>386</th>\n",
       "      <td>2019-08-22</td>\n",
       "      <td>Thursday</td>\n",
       "      <td>3</td>\n",
       "    </tr>\n",
       "    <tr>\n",
       "      <th>387</th>\n",
       "      <td>2019-08-23</td>\n",
       "      <td>Friday</td>\n",
       "      <td>4</td>\n",
       "    </tr>\n",
       "    <tr>\n",
       "      <th>388</th>\n",
       "      <td>2019-08-24</td>\n",
       "      <td>Saturday</td>\n",
       "      <td>5</td>\n",
       "    </tr>\n",
       "  </tbody>\n",
       "</table>\n",
       "<p>389 rows × 3 columns</p>\n",
       "</div>"
      ],
      "text/plain": [
       "    Created Date weekday_name  weekday\n",
       "0     2018-08-01    Wednesday        2\n",
       "1     2018-08-02     Thursday        3\n",
       "2     2018-08-03       Friday        4\n",
       "3     2018-08-04     Saturday        5\n",
       "4     2018-08-05       Sunday        6\n",
       "..           ...          ...      ...\n",
       "384   2019-08-20      Tuesday        1\n",
       "385   2019-08-21    Wednesday        2\n",
       "386   2019-08-22     Thursday        3\n",
       "387   2019-08-23       Friday        4\n",
       "388   2019-08-24     Saturday        5\n",
       "\n",
       "[389 rows x 3 columns]"
      ]
     },
     "execution_count": 19,
     "metadata": {},
     "output_type": "execute_result"
    }
   ],
   "source": [
    "noise_per_day[\"weekday_name\"] = noise_per_day[\"Created Date\"].dt.day_name()\n",
    "noise_per_day[\"weekday\"] = noise_per_day[\"Created Date\"].dt.weekday\n",
    "\n",
    "noise_per_day[[\"Created Date\", \"weekday_name\", \"weekday\"]]"
   ]
  },
  {
   "cell_type": "markdown",
   "metadata": {
    "id": "6OhqZFwrK2X3",
    "slideshow": {
     "slide_type": "subslide"
    }
   },
   "source": [
    "### Find the median count of 311 requests per weekday"
   ]
  },
  {
   "cell_type": "code",
   "execution_count": 20,
   "metadata": {
    "execution": {
     "iopub.execute_input": "2024-03-17T06:09:03.917040Z",
     "iopub.status.busy": "2024-03-17T06:09:03.916801Z",
     "iopub.status.idle": "2024-03-17T06:09:03.925681Z",
     "shell.execute_reply": "2024-03-17T06:09:03.925366Z"
    },
    "id": "OErrbWK4j6yM",
    "outputId": "d35b1ee8-5df0-44bc-b3ab-80a9480978a3"
   },
   "outputs": [
    {
     "data": {
      "text/html": [
       "<div>\n",
       "<style scoped>\n",
       "    .dataframe tbody tr th:only-of-type {\n",
       "        vertical-align: middle;\n",
       "    }\n",
       "\n",
       "    .dataframe tbody tr th {\n",
       "        vertical-align: top;\n",
       "    }\n",
       "\n",
       "    .dataframe thead th {\n",
       "        text-align: right;\n",
       "    }\n",
       "</style>\n",
       "<table border=\"1\" class=\"dataframe\">\n",
       "  <thead>\n",
       "    <tr style=\"text-align: right;\">\n",
       "      <th></th>\n",
       "      <th>weekday</th>\n",
       "      <th>weekday_name</th>\n",
       "      <th>median_requests</th>\n",
       "    </tr>\n",
       "  </thead>\n",
       "  <tbody>\n",
       "    <tr>\n",
       "      <th>0</th>\n",
       "      <td>0</td>\n",
       "      <td>Monday</td>\n",
       "      <td>76.0</td>\n",
       "    </tr>\n",
       "    <tr>\n",
       "      <th>1</th>\n",
       "      <td>1</td>\n",
       "      <td>Tuesday</td>\n",
       "      <td>65.0</td>\n",
       "    </tr>\n",
       "    <tr>\n",
       "      <th>2</th>\n",
       "      <td>2</td>\n",
       "      <td>Wednesday</td>\n",
       "      <td>62.0</td>\n",
       "    </tr>\n",
       "    <tr>\n",
       "      <th>3</th>\n",
       "      <td>3</td>\n",
       "      <td>Thursday</td>\n",
       "      <td>66.0</td>\n",
       "    </tr>\n",
       "    <tr>\n",
       "      <th>4</th>\n",
       "      <td>4</td>\n",
       "      <td>Friday</td>\n",
       "      <td>93.0</td>\n",
       "    </tr>\n",
       "    <tr>\n",
       "      <th>5</th>\n",
       "      <td>5</td>\n",
       "      <td>Saturday</td>\n",
       "      <td>160.5</td>\n",
       "    </tr>\n",
       "    <tr>\n",
       "      <th>6</th>\n",
       "      <td>6</td>\n",
       "      <td>Sunday</td>\n",
       "      <td>170.0</td>\n",
       "    </tr>\n",
       "  </tbody>\n",
       "</table>\n",
       "</div>"
      ],
      "text/plain": [
       "   weekday weekday_name  median_requests\n",
       "0        0       Monday             76.0\n",
       "1        1      Tuesday             65.0\n",
       "2        2    Wednesday             62.0\n",
       "3        3     Thursday             66.0\n",
       "4        4       Friday             93.0\n",
       "5        5     Saturday            160.5\n",
       "6        6       Sunday            170.0"
      ]
     },
     "execution_count": 20,
     "metadata": {},
     "output_type": "execute_result"
    }
   ],
   "source": [
    "# having the (numeric) `weekday` first ensures they're in order\n",
    "columns = [\"weekday\", \"weekday_name\"]\n",
    "noise_weekday = (\n",
    "    noise_per_day.groupby(columns)[\"count_requests\"].median().reset_index(name=\"median_requests\")\n",
    ")\n",
    "\n",
    "noise_weekday"
   ]
  },
  {
   "cell_type": "code",
   "execution_count": 21,
   "metadata": {
    "execution": {
     "iopub.execute_input": "2024-03-17T06:09:03.928424Z",
     "iopub.status.busy": "2024-03-17T06:09:03.928224Z",
     "iopub.status.idle": "2024-03-17T06:09:03.981303Z",
     "shell.execute_reply": "2024-03-17T06:09:03.980869Z"
    },
    "slideshow": {
     "slide_type": "subslide"
    }
   },
   "outputs": [
    {
     "data": {
      "image/png": "[encoded data removed]"
     },
     "metadata": {},
     "output_type": "display_data"
    }
   ],
   "source": [
    "fig = px.bar(\n",
    "    noise_weekday,\n",
    "    x=\"weekday_name\",\n",
    "    y=\"median_requests\",\n",
    "    title=\"Noise complaints per day of week\",\n",
    ")\n",
    "fig.show()"
   ]
  },
  {
   "cell_type": "markdown",
   "metadata": {
    "id": "AZRaEKrkfRMC",
    "slideshow": {
     "slide_type": "slide"
    }
   },
   "source": [
    "## What about by time of day?\n",
    "\n",
    "Get count of noise complaints per individual date and hour:"
   ]
  },
  {
   "cell_type": "code",
   "execution_count": 22,
   "metadata": {
    "execution": {
     "iopub.execute_input": "2024-03-17T06:09:03.983124Z",
     "iopub.status.busy": "2024-03-17T06:09:03.982981Z",
     "iopub.status.idle": "2024-03-17T06:09:03.990883Z",
     "shell.execute_reply": "2024-03-17T06:09:03.990620Z"
    }
   },
   "outputs": [
    {
     "data": {
      "text/html": [
       "<div>\n",
       "<style scoped>\n",
       "    .dataframe tbody tr th:only-of-type {\n",
       "        vertical-align: middle;\n",
       "    }\n",
       "\n",
       "    .dataframe tbody tr th {\n",
       "        vertical-align: top;\n",
       "    }\n",
       "\n",
       "    .dataframe thead th {\n",
       "        text-align: right;\n",
       "    }\n",
       "</style>\n",
       "<table border=\"1\" class=\"dataframe\">\n",
       "  <thead>\n",
       "    <tr style=\"text-align: right;\">\n",
       "      <th></th>\n",
       "      <th>Created Date</th>\n",
       "      <th>count_requests</th>\n",
       "      <th>hour</th>\n",
       "    </tr>\n",
       "  </thead>\n",
       "  <tbody>\n",
       "    <tr>\n",
       "      <th>0</th>\n",
       "      <td>2018-08-01 00:00:00</td>\n",
       "      <td>6</td>\n",
       "      <td>0</td>\n",
       "    </tr>\n",
       "    <tr>\n",
       "      <th>1</th>\n",
       "      <td>2018-08-01 01:00:00</td>\n",
       "      <td>3</td>\n",
       "      <td>1</td>\n",
       "    </tr>\n",
       "    <tr>\n",
       "      <th>2</th>\n",
       "      <td>2018-08-01 02:00:00</td>\n",
       "      <td>4</td>\n",
       "      <td>2</td>\n",
       "    </tr>\n",
       "    <tr>\n",
       "      <th>3</th>\n",
       "      <td>2018-08-01 03:00:00</td>\n",
       "      <td>1</td>\n",
       "      <td>3</td>\n",
       "    </tr>\n",
       "    <tr>\n",
       "      <th>4</th>\n",
       "      <td>2018-08-01 04:00:00</td>\n",
       "      <td>0</td>\n",
       "      <td>4</td>\n",
       "    </tr>\n",
       "    <tr>\n",
       "      <th>...</th>\n",
       "      <td>...</td>\n",
       "      <td>...</td>\n",
       "      <td>...</td>\n",
       "    </tr>\n",
       "    <tr>\n",
       "      <th>9309</th>\n",
       "      <td>2019-08-23 21:00:00</td>\n",
       "      <td>10</td>\n",
       "      <td>21</td>\n",
       "    </tr>\n",
       "    <tr>\n",
       "      <th>9310</th>\n",
       "      <td>2019-08-23 22:00:00</td>\n",
       "      <td>24</td>\n",
       "      <td>22</td>\n",
       "    </tr>\n",
       "    <tr>\n",
       "      <th>9311</th>\n",
       "      <td>2019-08-23 23:00:00</td>\n",
       "      <td>20</td>\n",
       "      <td>23</td>\n",
       "    </tr>\n",
       "    <tr>\n",
       "      <th>9312</th>\n",
       "      <td>2019-08-24 00:00:00</td>\n",
       "      <td>18</td>\n",
       "      <td>0</td>\n",
       "    </tr>\n",
       "    <tr>\n",
       "      <th>9313</th>\n",
       "      <td>2019-08-24 01:00:00</td>\n",
       "      <td>15</td>\n",
       "      <td>1</td>\n",
       "    </tr>\n",
       "  </tbody>\n",
       "</table>\n",
       "<p>9314 rows × 3 columns</p>\n",
       "</div>"
      ],
      "text/plain": [
       "            Created Date  count_requests  hour\n",
       "0    2018-08-01 00:00:00               6     0\n",
       "1    2018-08-01 01:00:00               3     1\n",
       "2    2018-08-01 02:00:00               4     2\n",
       "3    2018-08-01 03:00:00               1     3\n",
       "4    2018-08-01 04:00:00               0     4\n",
       "...                  ...             ...   ...\n",
       "9309 2019-08-23 21:00:00              10    21\n",
       "9310 2019-08-23 22:00:00              24    22\n",
       "9311 2019-08-23 23:00:00              20    23\n",
       "9312 2019-08-24 00:00:00              18     0\n",
       "9313 2019-08-24 01:00:00              15     1\n",
       "\n",
       "[9314 rows x 3 columns]"
      ]
     },
     "execution_count": 22,
     "metadata": {},
     "output_type": "execute_result"
    }
   ],
   "source": [
    "noise_per_date_hour = (\n",
    "    noise.resample(\"H\", on=\"Created Date\").size().reset_index(name=\"count_requests\")\n",
    ")\n",
    "\n",
    "# create a column for the hour number, so we can group on it\n",
    "noise_per_date_hour[\"hour\"] = noise_per_date_hour[\"Created Date\"].dt.hour\n",
    "\n",
    "noise_per_date_hour"
   ]
  },
  {
   "cell_type": "markdown",
   "metadata": {
    "slideshow": {
     "slide_type": "subslide"
    }
   },
   "source": [
    "Get the median count of complaints per hour:"
   ]
  },
  {
   "cell_type": "code",
   "execution_count": 23,
   "metadata": {
    "execution": {
     "iopub.execute_input": "2024-03-17T06:09:03.992672Z",
     "iopub.status.busy": "2024-03-17T06:09:03.992537Z",
     "iopub.status.idle": "2024-03-17T06:09:03.998038Z",
     "shell.execute_reply": "2024-03-17T06:09:03.997735Z"
    },
    "id": "-6RzUqcYmzk3",
    "outputId": "7ee5ea99-8962-4f8f-b83a-fdaba52b5400",
    "slideshow": {
     "slide_type": "-"
    }
   },
   "outputs": [
    {
     "data": {
      "text/html": [
       "<div>\n",
       "<style scoped>\n",
       "    .dataframe tbody tr th:only-of-type {\n",
       "        vertical-align: middle;\n",
       "    }\n",
       "\n",
       "    .dataframe tbody tr th {\n",
       "        vertical-align: top;\n",
       "    }\n",
       "\n",
       "    .dataframe thead th {\n",
       "        text-align: right;\n",
       "    }\n",
       "</style>\n",
       "<table border=\"1\" class=\"dataframe\">\n",
       "  <thead>\n",
       "    <tr style=\"text-align: right;\">\n",
       "      <th></th>\n",
       "      <th>hour</th>\n",
       "      <th>median_requests</th>\n",
       "    </tr>\n",
       "  </thead>\n",
       "  <tbody>\n",
       "    <tr>\n",
       "      <th>0</th>\n",
       "      <td>0</td>\n",
       "      <td>7.0</td>\n",
       "    </tr>\n",
       "    <tr>\n",
       "      <th>1</th>\n",
       "      <td>1</td>\n",
       "      <td>5.0</td>\n",
       "    </tr>\n",
       "    <tr>\n",
       "      <th>2</th>\n",
       "      <td>2</td>\n",
       "      <td>3.0</td>\n",
       "    </tr>\n",
       "    <tr>\n",
       "      <th>3</th>\n",
       "      <td>3</td>\n",
       "      <td>2.0</td>\n",
       "    </tr>\n",
       "    <tr>\n",
       "      <th>4</th>\n",
       "      <td>4</td>\n",
       "      <td>1.0</td>\n",
       "    </tr>\n",
       "    <tr>\n",
       "      <th>5</th>\n",
       "      <td>5</td>\n",
       "      <td>1.0</td>\n",
       "    </tr>\n",
       "    <tr>\n",
       "      <th>6</th>\n",
       "      <td>6</td>\n",
       "      <td>1.0</td>\n",
       "    </tr>\n",
       "    <tr>\n",
       "      <th>7</th>\n",
       "      <td>7</td>\n",
       "      <td>1.0</td>\n",
       "    </tr>\n",
       "    <tr>\n",
       "      <th>8</th>\n",
       "      <td>8</td>\n",
       "      <td>1.0</td>\n",
       "    </tr>\n",
       "    <tr>\n",
       "      <th>9</th>\n",
       "      <td>9</td>\n",
       "      <td>1.0</td>\n",
       "    </tr>\n",
       "    <tr>\n",
       "      <th>10</th>\n",
       "      <td>10</td>\n",
       "      <td>1.5</td>\n",
       "    </tr>\n",
       "    <tr>\n",
       "      <th>11</th>\n",
       "      <td>11</td>\n",
       "      <td>1.0</td>\n",
       "    </tr>\n",
       "    <tr>\n",
       "      <th>12</th>\n",
       "      <td>12</td>\n",
       "      <td>2.0</td>\n",
       "    </tr>\n",
       "    <tr>\n",
       "      <th>13</th>\n",
       "      <td>13</td>\n",
       "      <td>2.0</td>\n",
       "    </tr>\n",
       "    <tr>\n",
       "      <th>14</th>\n",
       "      <td>14</td>\n",
       "      <td>2.0</td>\n",
       "    </tr>\n",
       "    <tr>\n",
       "      <th>15</th>\n",
       "      <td>15</td>\n",
       "      <td>2.0</td>\n",
       "    </tr>\n",
       "    <tr>\n",
       "      <th>16</th>\n",
       "      <td>16</td>\n",
       "      <td>2.0</td>\n",
       "    </tr>\n",
       "    <tr>\n",
       "      <th>17</th>\n",
       "      <td>17</td>\n",
       "      <td>3.0</td>\n",
       "    </tr>\n",
       "    <tr>\n",
       "      <th>18</th>\n",
       "      <td>18</td>\n",
       "      <td>4.0</td>\n",
       "    </tr>\n",
       "    <tr>\n",
       "      <th>19</th>\n",
       "      <td>19</td>\n",
       "      <td>5.0</td>\n",
       "    </tr>\n",
       "    <tr>\n",
       "      <th>20</th>\n",
       "      <td>20</td>\n",
       "      <td>6.0</td>\n",
       "    </tr>\n",
       "    <tr>\n",
       "      <th>21</th>\n",
       "      <td>21</td>\n",
       "      <td>7.0</td>\n",
       "    </tr>\n",
       "    <tr>\n",
       "      <th>22</th>\n",
       "      <td>22</td>\n",
       "      <td>11.0</td>\n",
       "    </tr>\n",
       "    <tr>\n",
       "      <th>23</th>\n",
       "      <td>23</td>\n",
       "      <td>10.0</td>\n",
       "    </tr>\n",
       "  </tbody>\n",
       "</table>\n",
       "</div>"
      ],
      "text/plain": [
       "    hour  median_requests\n",
       "0      0              7.0\n",
       "1      1              5.0\n",
       "2      2              3.0\n",
       "3      3              2.0\n",
       "4      4              1.0\n",
       "5      5              1.0\n",
       "6      6              1.0\n",
       "7      7              1.0\n",
       "8      8              1.0\n",
       "9      9              1.0\n",
       "10    10              1.5\n",
       "11    11              1.0\n",
       "12    12              2.0\n",
       "13    13              2.0\n",
       "14    14              2.0\n",
       "15    15              2.0\n",
       "16    16              2.0\n",
       "17    17              3.0\n",
       "18    18              4.0\n",
       "19    19              5.0\n",
       "20    20              6.0\n",
       "21    21              7.0\n",
       "22    22             11.0\n",
       "23    23             10.0"
      ]
     },
     "execution_count": 23,
     "metadata": {},
     "output_type": "execute_result"
    }
   ],
   "source": [
    "noise_hour = (\n",
    "    noise_per_date_hour.groupby(\"hour\")[\"count_requests\"]\n",
    "    .median()\n",
    "    .reset_index(name=\"median_requests\")\n",
    ")\n",
    "noise_hour"
   ]
  },
  {
   "cell_type": "code",
   "execution_count": 24,
   "metadata": {
    "execution": {
     "iopub.execute_input": "2024-03-17T06:09:03.999610Z",
     "iopub.status.busy": "2024-03-17T06:09:03.999495Z",
     "iopub.status.idle": "2024-03-17T06:09:04.036701Z",
     "shell.execute_reply": "2024-03-17T06:09:04.036414Z"
    },
    "slideshow": {
     "slide_type": "subslide"
    }
   },
   "outputs": [
    {
     "data": {
      "image/png": "[encoded data removed]"
     },
     "metadata": {},
     "output_type": "display_data"
    }
   ],
   "source": [
    "fig = px.line(noise_hour, x=\"hour\", y=\"median_requests\", title=\"Noise complaints per hour\")\n",
    "fig.show()"
   ]
  },
  {
   "cell_type": "markdown",
   "metadata": {
    "slideshow": {
     "slide_type": "slide"
    }
   },
   "source": [
    "## Resampling vs. time/date components\n",
    "\n",
    "- Use resampling when you want to work with dates as continuous values, e.g. points in time\n",
    "- Use date components when you want to work with dates as categorical values, e.g. month number, day of week"
   ]
  },
  {
   "cell_type": "markdown",
   "metadata": {
    "id": "hwEc6fCEerfD",
    "slideshow": {
     "slide_type": "slide"
    }
   },
   "source": [
    "## Which 311 complaints take the longest to resolve?"
   ]
  },
  {
   "cell_type": "code",
   "execution_count": 25,
   "metadata": {
    "execution": {
     "iopub.execute_input": "2024-03-17T06:09:04.038487Z",
     "iopub.status.busy": "2024-03-17T06:09:04.038372Z",
     "iopub.status.idle": "2024-03-17T06:09:04.048237Z",
     "shell.execute_reply": "2024-03-17T06:09:04.047981Z"
    },
    "id": "-acpEH69x_Gg",
    "outputId": "d2c7ca6c-10db-4460-b2db-06785ca203b5"
   },
   "outputs": [
    {
     "data": {
      "text/html": [
       "<div>\n",
       "<style scoped>\n",
       "    .dataframe tbody tr th:only-of-type {\n",
       "        vertical-align: middle;\n",
       "    }\n",
       "\n",
       "    .dataframe tbody tr th {\n",
       "        vertical-align: top;\n",
       "    }\n",
       "\n",
       "    .dataframe thead th {\n",
       "        text-align: right;\n",
       "    }\n",
       "</style>\n",
       "<table border=\"1\" class=\"dataframe\">\n",
       "  <thead>\n",
       "    <tr style=\"text-align: right;\">\n",
       "      <th></th>\n",
       "      <th>Closed Date</th>\n",
       "      <th>Created Date</th>\n",
       "      <th>resolution_duration</th>\n",
       "    </tr>\n",
       "  </thead>\n",
       "  <tbody>\n",
       "    <tr>\n",
       "      <th>0</th>\n",
       "      <td>2018-08-01 00:05:13</td>\n",
       "      <td>2018-08-01 00:05:13</td>\n",
       "      <td>0 days 00:00:00</td>\n",
       "    </tr>\n",
       "    <tr>\n",
       "      <th>1</th>\n",
       "      <td>2018-08-01 00:06:05</td>\n",
       "      <td>2018-08-01 00:06:05</td>\n",
       "      <td>0 days 00:00:00</td>\n",
       "    </tr>\n",
       "    <tr>\n",
       "      <th>2</th>\n",
       "      <td>2018-08-03 14:03:55</td>\n",
       "      <td>2018-08-01 00:06:16</td>\n",
       "      <td>2 days 13:57:39</td>\n",
       "    </tr>\n",
       "    <tr>\n",
       "      <th>3</th>\n",
       "      <td>2018-08-01 02:54:24</td>\n",
       "      <td>2018-08-01 00:06:29</td>\n",
       "      <td>0 days 02:47:55</td>\n",
       "    </tr>\n",
       "    <tr>\n",
       "      <th>4</th>\n",
       "      <td>2018-08-01 04:54:26</td>\n",
       "      <td>2018-08-01 00:06:51</td>\n",
       "      <td>0 days 04:47:35</td>\n",
       "    </tr>\n",
       "  </tbody>\n",
       "</table>\n",
       "</div>"
      ],
      "text/plain": [
       "          Closed Date        Created Date resolution_duration\n",
       "0 2018-08-01 00:05:13 2018-08-01 00:05:13     0 days 00:00:00\n",
       "1 2018-08-01 00:06:05 2018-08-01 00:06:05     0 days 00:00:00\n",
       "2 2018-08-03 14:03:55 2018-08-01 00:06:16     2 days 13:57:39\n",
       "3 2018-08-01 02:54:24 2018-08-01 00:06:29     0 days 02:47:55\n",
       "4 2018-08-01 04:54:26 2018-08-01 00:06:51     0 days 04:47:35"
      ]
     },
     "execution_count": 25,
     "metadata": {},
     "output_type": "execute_result"
    }
   ],
   "source": [
    "# calculate the amount of time that passed between Created Date and Closed Date\n",
    "\n",
    "requests[\"resolution_duration\"] = requests[\"Closed Date\"] - requests[\"Created Date\"]\n",
    "\n",
    "# print head to check results\n",
    "\n",
    "requests[[\"Closed Date\", \"Created Date\", \"resolution_duration\"]].head()"
   ]
  },
  {
   "cell_type": "code",
   "execution_count": 26,
   "metadata": {
    "execution": {
     "iopub.execute_input": "2024-03-17T06:09:04.050027Z",
     "iopub.status.busy": "2024-03-17T06:09:04.049908Z",
     "iopub.status.idle": "2024-03-17T06:09:04.052618Z",
     "shell.execute_reply": "2024-03-17T06:09:04.052363Z"
    }
   },
   "outputs": [
    {
     "data": {
      "text/plain": [
       "Unique Key                                  int64\n",
       "Created Date                       datetime64[ns]\n",
       "Closed Date                        datetime64[ns]\n",
       "Agency                                     object\n",
       "Agency Name                                object\n",
       "Complaint Type                             object\n",
       "Descriptor                                 object\n",
       "Location Type                              object\n",
       "Incident Zip                               object\n",
       "Incident Address                           object\n",
       "Street Name                                object\n",
       "Cross Street 1                             object\n",
       "Cross Street 2                             object\n",
       "Intersection Street 1                      object\n",
       "Intersection Street 2                      object\n",
       "Address Type                               object\n",
       "City                                       object\n",
       "Landmark                                   object\n",
       "Facility Type                              object\n",
       "Status                                     object\n",
       "Due Date                                   object\n",
       "Resolution Description                     object\n",
       "Resolution Action Updated Date             object\n",
       "Community Board                            object\n",
       "BBL                                       float64\n",
       "Borough                                    object\n",
       "X Coordinate (State Plane)                float64\n",
       "Y Coordinate (State Plane)                float64\n",
       "Open Data Channel Type                     object\n",
       "Park Facility Name                         object\n",
       "Park Borough                               object\n",
       "Vehicle Type                               object\n",
       "Taxi Company Borough                       object\n",
       "Taxi Pick Up Location                      object\n",
       "Bridge Highway Name                        object\n",
       "Bridge Highway Direction                   object\n",
       "Road Ramp                                  object\n",
       "Bridge Highway Segment                     object\n",
       "Latitude                                  float64\n",
       "Longitude                                 float64\n",
       "Location                                   object\n",
       "resolution_duration               timedelta64[ns]\n",
       "dtype: object"
      ]
     },
     "execution_count": 26,
     "metadata": {},
     "output_type": "execute_result"
    }
   ],
   "source": [
    "requests.dtypes"
   ]
  },
  {
   "cell_type": "code",
   "execution_count": 27,
   "metadata": {
    "execution": {
     "iopub.execute_input": "2024-03-17T06:09:04.054143Z",
     "iopub.status.busy": "2024-03-17T06:09:04.054021Z",
     "iopub.status.idle": "2024-03-17T06:09:04.066990Z",
     "shell.execute_reply": "2024-03-17T06:09:04.066725Z"
    },
    "id": "8Lyzd4Si0WmQ",
    "outputId": "df8c9f6d-3600-41e6-b339-a707d4f2cb2b",
    "slideshow": {
     "slide_type": "fragment"
    }
   },
   "outputs": [
    {
     "data": {
      "text/plain": [
       "Timedelta('1 days 05:19:58')"
      ]
     },
     "execution_count": 27,
     "metadata": {},
     "output_type": "execute_result"
    }
   ],
   "source": [
    "requests[\"resolution_duration\"].median()"
   ]
  },
  {
   "cell_type": "markdown",
   "metadata": {
    "slideshow": {
     "slide_type": "subslide"
    }
   },
   "source": [
    "Ignore empty values:"
   ]
  },
  {
   "cell_type": "code",
   "execution_count": 28,
   "metadata": {
    "execution": {
     "iopub.execute_input": "2024-03-17T06:09:04.068658Z",
     "iopub.status.busy": "2024-03-17T06:09:04.068540Z",
     "iopub.status.idle": "2024-03-17T06:09:04.236642Z",
     "shell.execute_reply": "2024-03-17T06:09:04.236372Z"
    },
    "slideshow": {
     "slide_type": "-"
    }
   },
   "outputs": [
    {
     "data": {
      "text/html": [
       "<div>\n",
       "<style scoped>\n",
       "    .dataframe tbody tr th:only-of-type {\n",
       "        vertical-align: middle;\n",
       "    }\n",
       "\n",
       "    .dataframe tbody tr th {\n",
       "        vertical-align: top;\n",
       "    }\n",
       "\n",
       "    .dataframe thead th {\n",
       "        text-align: right;\n",
       "    }\n",
       "</style>\n",
       "<table border=\"1\" class=\"dataframe\">\n",
       "  <thead>\n",
       "    <tr style=\"text-align: right;\">\n",
       "      <th></th>\n",
       "      <th>Complaint Type</th>\n",
       "      <th>median_duration</th>\n",
       "    </tr>\n",
       "  </thead>\n",
       "  <tbody>\n",
       "    <tr>\n",
       "      <th>0</th>\n",
       "      <td>For Hire Vehicle Complaint</td>\n",
       "      <td>98 days 15:08:41</td>\n",
       "    </tr>\n",
       "    <tr>\n",
       "      <th>1</th>\n",
       "      <td>Taxi Complaint</td>\n",
       "      <td>98 days 09:37:53</td>\n",
       "    </tr>\n",
       "    <tr>\n",
       "      <th>2</th>\n",
       "      <td>Graffiti</td>\n",
       "      <td>89 days 11:29:38</td>\n",
       "    </tr>\n",
       "    <tr>\n",
       "      <th>3</th>\n",
       "      <td>New Tree Request</td>\n",
       "      <td>83 days 16:56:30</td>\n",
       "    </tr>\n",
       "    <tr>\n",
       "      <th>4</th>\n",
       "      <td>Food Establishment</td>\n",
       "      <td>60 days 15:45:06</td>\n",
       "    </tr>\n",
       "    <tr>\n",
       "      <th>5</th>\n",
       "      <td>Facades</td>\n",
       "      <td>55 days 21:04:26</td>\n",
       "    </tr>\n",
       "    <tr>\n",
       "      <th>6</th>\n",
       "      <td>Sustainability Enforcement</td>\n",
       "      <td>47 days 12:47:23</td>\n",
       "    </tr>\n",
       "    <tr>\n",
       "      <th>7</th>\n",
       "      <td>Radioactive Material</td>\n",
       "      <td>46 days 01:01:18</td>\n",
       "    </tr>\n",
       "    <tr>\n",
       "      <th>8</th>\n",
       "      <td>Drinking Water</td>\n",
       "      <td>35 days 00:24:20</td>\n",
       "    </tr>\n",
       "    <tr>\n",
       "      <th>9</th>\n",
       "      <td>Bike Rack Condition</td>\n",
       "      <td>33 days 22:22:32</td>\n",
       "    </tr>\n",
       "    <tr>\n",
       "      <th>10</th>\n",
       "      <td>Highway Sign - Missing</td>\n",
       "      <td>32 days 01:38:15.500000</td>\n",
       "    </tr>\n",
       "    <tr>\n",
       "      <th>11</th>\n",
       "      <td>School Maintenance</td>\n",
       "      <td>28 days 20:56:12.500000</td>\n",
       "    </tr>\n",
       "    <tr>\n",
       "      <th>12</th>\n",
       "      <td>Vacant Lot</td>\n",
       "      <td>27 days 23:44:30</td>\n",
       "    </tr>\n",
       "    <tr>\n",
       "      <th>13</th>\n",
       "      <td>Transportation Provider Complaint</td>\n",
       "      <td>24 days 20:15:41</td>\n",
       "    </tr>\n",
       "    <tr>\n",
       "      <th>14</th>\n",
       "      <td>Plumbing</td>\n",
       "      <td>20 days 11:44:44</td>\n",
       "    </tr>\n",
       "  </tbody>\n",
       "</table>\n",
       "</div>"
      ],
      "text/plain": [
       "                       Complaint Type         median_duration\n",
       "0          For Hire Vehicle Complaint        98 days 15:08:41\n",
       "1                      Taxi Complaint        98 days 09:37:53\n",
       "2                            Graffiti        89 days 11:29:38\n",
       "3                    New Tree Request        83 days 16:56:30\n",
       "4                  Food Establishment        60 days 15:45:06\n",
       "5                             Facades        55 days 21:04:26\n",
       "6          Sustainability Enforcement        47 days 12:47:23\n",
       "7                Radioactive Material        46 days 01:01:18\n",
       "8                      Drinking Water        35 days 00:24:20\n",
       "9                 Bike Rack Condition        33 days 22:22:32\n",
       "10             Highway Sign - Missing 32 days 01:38:15.500000\n",
       "11                 School Maintenance 28 days 20:56:12.500000\n",
       "12                         Vacant Lot        27 days 23:44:30\n",
       "13  Transportation Provider Complaint        24 days 20:15:41\n",
       "14                           Plumbing        20 days 11:44:44"
      ]
     },
     "execution_count": 28,
     "metadata": {},
     "output_type": "execute_result"
    }
   ],
   "source": [
    "df_clean = requests.dropna(subset=[\"resolution_duration\"])\n",
    "median_durations = df_clean.groupby(\"Complaint Type\")[\"resolution_duration\"].median()\n",
    "\n",
    "median_durations.nlargest(15).reset_index(name=\"median_duration\")"
   ]
  },
  {
   "cell_type": "code",
   "execution_count": 29,
   "metadata": {
    "execution": {
     "iopub.execute_input": "2024-03-17T06:09:04.238363Z",
     "iopub.status.busy": "2024-03-17T06:09:04.238250Z",
     "iopub.status.idle": "2024-03-17T06:09:04.242193Z",
     "shell.execute_reply": "2024-03-17T06:09:04.241930Z"
    },
    "id": "qsSaeyM55S15",
    "outputId": "27770280-2619-4156-ed45-4655f38b5e36",
    "slideshow": {
     "slide_type": "subslide"
    }
   },
   "outputs": [
    {
     "data": {
      "text/html": [
       "<div>\n",
       "<style scoped>\n",
       "    .dataframe tbody tr th:only-of-type {\n",
       "        vertical-align: middle;\n",
       "    }\n",
       "\n",
       "    .dataframe tbody tr th {\n",
       "        vertical-align: top;\n",
       "    }\n",
       "\n",
       "    .dataframe thead th {\n",
       "        text-align: right;\n",
       "    }\n",
       "</style>\n",
       "<table border=\"1\" class=\"dataframe\">\n",
       "  <thead>\n",
       "    <tr style=\"text-align: right;\">\n",
       "      <th></th>\n",
       "      <th>Complaint Type</th>\n",
       "      <th>median_duration</th>\n",
       "    </tr>\n",
       "  </thead>\n",
       "  <tbody>\n",
       "    <tr>\n",
       "      <th>0</th>\n",
       "      <td>BEST/Site Safety</td>\n",
       "      <td>0 days 00:00:00</td>\n",
       "    </tr>\n",
       "    <tr>\n",
       "      <th>1</th>\n",
       "      <td>Construction Safety Enforcement</td>\n",
       "      <td>0 days 00:00:00</td>\n",
       "    </tr>\n",
       "    <tr>\n",
       "      <th>2</th>\n",
       "      <td>Derelict Vehicles</td>\n",
       "      <td>0 days 00:00:00</td>\n",
       "    </tr>\n",
       "    <tr>\n",
       "      <th>3</th>\n",
       "      <td>Miscellaneous Categories</td>\n",
       "      <td>0 days 00:00:00</td>\n",
       "    </tr>\n",
       "    <tr>\n",
       "      <th>4</th>\n",
       "      <td>Quality of Life</td>\n",
       "      <td>0 days 00:00:00</td>\n",
       "    </tr>\n",
       "    <tr>\n",
       "      <th>5</th>\n",
       "      <td>Street Light Condition</td>\n",
       "      <td>0 days 00:00:00</td>\n",
       "    </tr>\n",
       "    <tr>\n",
       "      <th>6</th>\n",
       "      <td>Taxi Report</td>\n",
       "      <td>0 days 00:00:34</td>\n",
       "    </tr>\n",
       "    <tr>\n",
       "      <th>7</th>\n",
       "      <td>Benefit Card Replacement</td>\n",
       "      <td>0 days 00:00:39</td>\n",
       "    </tr>\n",
       "    <tr>\n",
       "      <th>8</th>\n",
       "      <td>For Hire Vehicle Report</td>\n",
       "      <td>0 days 00:00:42</td>\n",
       "    </tr>\n",
       "    <tr>\n",
       "      <th>9</th>\n",
       "      <td>Advocate-Personal Exemptions</td>\n",
       "      <td>0 days 00:05:39</td>\n",
       "    </tr>\n",
       "    <tr>\n",
       "      <th>10</th>\n",
       "      <td>Advocate-Co-opCondo Abatement</td>\n",
       "      <td>0 days 00:07:23</td>\n",
       "    </tr>\n",
       "    <tr>\n",
       "      <th>11</th>\n",
       "      <td>Advocate-Prop Refunds/Credits</td>\n",
       "      <td>0 days 00:07:41</td>\n",
       "    </tr>\n",
       "    <tr>\n",
       "      <th>12</th>\n",
       "      <td>Advocate - Other</td>\n",
       "      <td>0 days 00:08:37.500000</td>\n",
       "    </tr>\n",
       "    <tr>\n",
       "      <th>13</th>\n",
       "      <td>Taxpayer Advocate Inquiry</td>\n",
       "      <td>0 days 00:08:51</td>\n",
       "    </tr>\n",
       "    <tr>\n",
       "      <th>14</th>\n",
       "      <td>DPR Internal</td>\n",
       "      <td>0 days 00:25:41</td>\n",
       "    </tr>\n",
       "  </tbody>\n",
       "</table>\n",
       "</div>"
      ],
      "text/plain": [
       "                     Complaint Type        median_duration\n",
       "0                  BEST/Site Safety        0 days 00:00:00\n",
       "1   Construction Safety Enforcement        0 days 00:00:00\n",
       "2                 Derelict Vehicles        0 days 00:00:00\n",
       "3          Miscellaneous Categories        0 days 00:00:00\n",
       "4                   Quality of Life        0 days 00:00:00\n",
       "5            Street Light Condition        0 days 00:00:00\n",
       "6                       Taxi Report        0 days 00:00:34\n",
       "7          Benefit Card Replacement        0 days 00:00:39\n",
       "8           For Hire Vehicle Report        0 days 00:00:42\n",
       "9      Advocate-Personal Exemptions        0 days 00:05:39\n",
       "10    Advocate-Co-opCondo Abatement        0 days 00:07:23\n",
       "11    Advocate-Prop Refunds/Credits        0 days 00:07:41\n",
       "12                 Advocate - Other 0 days 00:08:37.500000\n",
       "13        Taxpayer Advocate Inquiry        0 days 00:08:51\n",
       "14                     DPR Internal        0 days 00:25:41"
      ]
     },
     "execution_count": 29,
     "metadata": {},
     "output_type": "execute_result"
    }
   ],
   "source": [
    "median_durations.nsmallest(15).reset_index(name=\"median_duration\")"
   ]
  },
  {
   "cell_type": "markdown",
   "metadata": {
    "slideshow": {
     "slide_type": "slide"
    }
   },
   "source": [
    "## [Filtering timestamps](https://www.geeksforgeeks.org/select-pandas-dataframe-rows-between-two-dates/)\n",
    "\n",
    "Noise complaints over New Year's."
   ]
  },
  {
   "cell_type": "code",
   "execution_count": 30,
   "metadata": {
    "execution": {
     "iopub.execute_input": "2024-03-17T06:09:04.243874Z",
     "iopub.status.busy": "2024-03-17T06:09:04.243774Z",
     "iopub.status.idle": "2024-03-17T06:09:04.265839Z",
     "shell.execute_reply": "2024-03-17T06:09:04.265575Z"
    }
   },
   "outputs": [
    {
     "data": {
      "text/html": [
       "<div>\n",
       "<style scoped>\n",
       "    .dataframe tbody tr th:only-of-type {\n",
       "        vertical-align: middle;\n",
       "    }\n",
       "\n",
       "    .dataframe tbody tr th {\n",
       "        vertical-align: top;\n",
       "    }\n",
       "\n",
       "    .dataframe thead th {\n",
       "        text-align: right;\n",
       "    }\n",
       "</style>\n",
       "<table border=\"1\" class=\"dataframe\">\n",
       "  <thead>\n",
       "    <tr style=\"text-align: right;\">\n",
       "      <th></th>\n",
       "      <th>Created Date</th>\n",
       "      <th>Complaint Type</th>\n",
       "    </tr>\n",
       "  </thead>\n",
       "  <tbody>\n",
       "    <tr>\n",
       "      <th>201471</th>\n",
       "      <td>2018-12-31 00:03:37</td>\n",
       "      <td>Noise - Residential</td>\n",
       "    </tr>\n",
       "    <tr>\n",
       "      <th>201473</th>\n",
       "      <td>2018-12-31 00:05:12</td>\n",
       "      <td>Noise - Residential</td>\n",
       "    </tr>\n",
       "    <tr>\n",
       "      <th>201475</th>\n",
       "      <td>2018-12-31 00:07:00</td>\n",
       "      <td>Noise - Residential</td>\n",
       "    </tr>\n",
       "    <tr>\n",
       "      <th>201478</th>\n",
       "      <td>2018-12-31 00:11:18</td>\n",
       "      <td>Noise - Residential</td>\n",
       "    </tr>\n",
       "    <tr>\n",
       "      <th>201481</th>\n",
       "      <td>2018-12-31 00:19:44</td>\n",
       "      <td>Noise - Residential</td>\n",
       "    </tr>\n",
       "    <tr>\n",
       "      <th>...</th>\n",
       "      <td>...</td>\n",
       "      <td>...</td>\n",
       "    </tr>\n",
       "    <tr>\n",
       "      <th>203413</th>\n",
       "      <td>2019-01-01 22:59:22</td>\n",
       "      <td>Noise - Residential</td>\n",
       "    </tr>\n",
       "    <tr>\n",
       "      <th>203415</th>\n",
       "      <td>2019-01-01 23:03:03</td>\n",
       "      <td>Noise - Residential</td>\n",
       "    </tr>\n",
       "    <tr>\n",
       "      <th>203416</th>\n",
       "      <td>2019-01-01 23:04:27</td>\n",
       "      <td>Noise - Residential</td>\n",
       "    </tr>\n",
       "    <tr>\n",
       "      <th>203420</th>\n",
       "      <td>2019-01-01 23:10:46</td>\n",
       "      <td>Noise - Residential</td>\n",
       "    </tr>\n",
       "    <tr>\n",
       "      <th>203435</th>\n",
       "      <td>2019-01-01 23:56:22</td>\n",
       "      <td>Noise - Residential</td>\n",
       "    </tr>\n",
       "  </tbody>\n",
       "</table>\n",
       "<p>321 rows × 2 columns</p>\n",
       "</div>"
      ],
      "text/plain": [
       "              Created Date       Complaint Type\n",
       "201471 2018-12-31 00:03:37  Noise - Residential\n",
       "201473 2018-12-31 00:05:12  Noise - Residential\n",
       "201475 2018-12-31 00:07:00  Noise - Residential\n",
       "201478 2018-12-31 00:11:18  Noise - Residential\n",
       "201481 2018-12-31 00:19:44  Noise - Residential\n",
       "...                    ...                  ...\n",
       "203413 2019-01-01 22:59:22  Noise - Residential\n",
       "203415 2019-01-01 23:03:03  Noise - Residential\n",
       "203416 2019-01-01 23:04:27  Noise - Residential\n",
       "203420 2019-01-01 23:10:46  Noise - Residential\n",
       "203435 2019-01-01 23:56:22  Noise - Residential\n",
       "\n",
       "[321 rows x 2 columns]"
      ]
     },
     "execution_count": 30,
     "metadata": {},
     "output_type": "execute_result"
    }
   ],
   "source": [
    "after_dec_31 = requests[\"Created Date\"] >= \"2018-12-31\"\n",
    "before_jan_2 = requests[\"Created Date\"] < \"2019-01-02\"\n",
    "residential_only = requests[\"Complaint Type\"] == \"Noise - Residential\"\n",
    "\n",
    "display_columns = [\"Created Date\", \"Complaint Type\"]\n",
    "requests[after_dec_31 & before_jan_2 & residential_only][display_columns]"
   ]
  },
  {
   "cell_type": "markdown",
   "metadata": {
    "slideshow": {
     "slide_type": "slide"
    }
   },
   "source": [
    "## Conditionals review\n",
    "\n",
    "_If there's time_"
   ]
  },
  {
   "cell_type": "markdown",
   "metadata": {
    "slideshow": {
     "slide_type": "subslide"
    }
   },
   "source": [
    "### Pure (\"Purr\") Python\n",
    "\n",
    "**Example:** Make a function that checks if the given name is one of my cats"
   ]
  },
  {
   "cell_type": "code",
   "execution_count": 31,
   "metadata": {
    "execution": {
     "iopub.execute_input": "2024-03-17T06:09:04.267592Z",
     "iopub.status.busy": "2024-03-17T06:09:04.267471Z",
     "iopub.status.idle": "2024-03-17T06:09:04.269504Z",
     "shell.execute_reply": "2024-03-17T06:09:04.269067Z"
    }
   },
   "outputs": [],
   "source": [
    "# name = input(\"Name: \")\n",
    "name = \"Wilbur\""
   ]
  },
  {
   "cell_type": "code",
   "execution_count": 32,
   "metadata": {
    "execution": {
     "iopub.execute_input": "2024-03-17T06:09:04.271173Z",
     "iopub.status.busy": "2024-03-17T06:09:04.271047Z",
     "iopub.status.idle": "2024-03-17T06:09:04.274158Z",
     "shell.execute_reply": "2024-03-17T06:09:04.273885Z"
    }
   },
   "outputs": [
    {
     "name": "stdout",
     "output_type": "stream",
     "text": [
      "Wilbur\n"
     ]
    },
    {
     "data": {
      "text/plain": [
       "True"
      ]
     },
     "execution_count": 32,
     "metadata": {},
     "output_type": "execute_result"
    }
   ],
   "source": [
    "def test_cats(word):\n",
    "    print(word)\n",
    "\n",
    "    if word.lower() == \"blondie\" or word.lower() == \"wilbur\":\n",
    "        return True\n",
    "    elif otherthing:\n",
    "        stuff\n",
    "    else:\n",
    "        return False\n",
    "\n",
    "    # versus\n",
    "\n",
    "    if word.lower() == \"blondie\" or word.lower() == \"wilbur\":\n",
    "        something\n",
    "    if otherthing:\n",
    "        stuff\n",
    "\n",
    "\n",
    "test_cats(name)"
   ]
  },
  {
   "cell_type": "code",
   "execution_count": 33,
   "metadata": {
    "execution": {
     "iopub.execute_input": "2024-03-17T06:09:04.275853Z",
     "iopub.status.busy": "2024-03-17T06:09:04.275768Z",
     "iopub.status.idle": "2024-03-17T06:09:04.277976Z",
     "shell.execute_reply": "2024-03-17T06:09:04.277729Z"
    },
    "slideshow": {
     "slide_type": "subslide"
    }
   },
   "outputs": [
    {
     "data": {
      "text/plain": [
       "'Wilbur'"
      ]
     },
     "execution_count": 33,
     "metadata": {},
     "output_type": "execute_result"
    }
   ],
   "source": [
    "False or name"
   ]
  },
  {
   "cell_type": "code",
   "execution_count": 34,
   "metadata": {
    "execution": {
     "iopub.execute_input": "2024-03-17T06:09:04.279453Z",
     "iopub.status.busy": "2024-03-17T06:09:04.279364Z",
     "iopub.status.idle": "2024-03-17T06:09:04.281485Z",
     "shell.execute_reply": "2024-03-17T06:09:04.281207Z"
    }
   },
   "outputs": [
    {
     "data": {
      "text/plain": [
       "False"
      ]
     },
     "execution_count": 34,
     "metadata": {},
     "output_type": "execute_result"
    }
   ],
   "source": [
    "name == (\"blondie\" or \"wilbur\")"
   ]
  },
  {
   "cell_type": "code",
   "execution_count": 35,
   "metadata": {
    "execution": {
     "iopub.execute_input": "2024-03-17T06:09:04.282913Z",
     "iopub.status.busy": "2024-03-17T06:09:04.282826Z",
     "iopub.status.idle": "2024-03-17T06:09:04.284999Z",
     "shell.execute_reply": "2024-03-17T06:09:04.284735Z"
    }
   },
   "outputs": [
    {
     "data": {
      "text/plain": [
       "'blondie'"
      ]
     },
     "execution_count": 35,
     "metadata": {},
     "output_type": "execute_result"
    }
   ],
   "source": [
    "\"blondie\" or \"wilbur\""
   ]
  },
  {
   "cell_type": "markdown",
   "metadata": {
    "slideshow": {
     "slide_type": "subslide"
    }
   },
   "source": [
    "### Pandas\n",
    "\n",
    "[Comparison operators](https://pandas.pydata.org/docs/user_guide/indexing.html#boolean-indexing)\\* are different, since you're working with full columns instead of single values.\n",
    "\n",
    "_\\*You may see these referred to as \"bitwise operators\", though that name isn't quite accurate._"
   ]
  },
  {
   "cell_type": "markdown",
   "metadata": {
    "slideshow": {
     "slide_type": "subslide"
    }
   },
   "source": [
    "[Another sample dataset from Plotly:](https://plotly.com/python-api-reference/generated/plotly.data.html#plotly.data.medals_wide)"
   ]
  },
  {
   "cell_type": "code",
   "execution_count": 36,
   "metadata": {
    "execution": {
     "iopub.execute_input": "2024-03-17T06:09:04.286609Z",
     "iopub.status.busy": "2024-03-17T06:09:04.286518Z",
     "iopub.status.idle": "2024-03-17T06:09:04.291737Z",
     "shell.execute_reply": "2024-03-17T06:09:04.291492Z"
    },
    "slideshow": {
     "slide_type": "-"
    }
   },
   "outputs": [
    {
     "data": {
      "text/html": [
       "<div>\n",
       "<style scoped>\n",
       "    .dataframe tbody tr th:only-of-type {\n",
       "        vertical-align: middle;\n",
       "    }\n",
       "\n",
       "    .dataframe tbody tr th {\n",
       "        vertical-align: top;\n",
       "    }\n",
       "\n",
       "    .dataframe thead th {\n",
       "        text-align: right;\n",
       "    }\n",
       "</style>\n",
       "<table border=\"1\" class=\"dataframe\">\n",
       "  <thead>\n",
       "    <tr style=\"text-align: right;\">\n",
       "      <th></th>\n",
       "      <th>nation</th>\n",
       "      <th>gold</th>\n",
       "      <th>silver</th>\n",
       "      <th>bronze</th>\n",
       "    </tr>\n",
       "  </thead>\n",
       "  <tbody>\n",
       "    <tr>\n",
       "      <th>0</th>\n",
       "      <td>South Korea</td>\n",
       "      <td>24</td>\n",
       "      <td>13</td>\n",
       "      <td>11</td>\n",
       "    </tr>\n",
       "    <tr>\n",
       "      <th>1</th>\n",
       "      <td>China</td>\n",
       "      <td>10</td>\n",
       "      <td>15</td>\n",
       "      <td>8</td>\n",
       "    </tr>\n",
       "    <tr>\n",
       "      <th>2</th>\n",
       "      <td>Canada</td>\n",
       "      <td>9</td>\n",
       "      <td>12</td>\n",
       "      <td>12</td>\n",
       "    </tr>\n",
       "  </tbody>\n",
       "</table>\n",
       "</div>"
      ],
      "text/plain": [
       "        nation  gold  silver  bronze\n",
       "0  South Korea    24      13      11\n",
       "1        China    10      15       8\n",
       "2       Canada     9      12      12"
      ]
     },
     "execution_count": 36,
     "metadata": {},
     "output_type": "execute_result"
    }
   ],
   "source": [
    "import plotly\n",
    "\n",
    "medals = plotly.data.medals_wide()\n",
    "medals"
   ]
  },
  {
   "cell_type": "code",
   "execution_count": 37,
   "metadata": {
    "execution": {
     "iopub.execute_input": "2024-03-17T06:09:04.293307Z",
     "iopub.status.busy": "2024-03-17T06:09:04.293219Z",
     "iopub.status.idle": "2024-03-17T06:09:04.295781Z",
     "shell.execute_reply": "2024-03-17T06:09:04.295558Z"
    },
    "slideshow": {
     "slide_type": "subslide"
    }
   },
   "outputs": [
    {
     "data": {
      "text/plain": [
       "0     True\n",
       "1     True\n",
       "2    False\n",
       "Name: gold, dtype: bool"
      ]
     },
     "execution_count": 37,
     "metadata": {},
     "output_type": "execute_result"
    }
   ],
   "source": [
    "medals[\"gold\"] >= 10"
   ]
  },
  {
   "cell_type": "code",
   "execution_count": 38,
   "metadata": {
    "execution": {
     "iopub.execute_input": "2024-03-17T06:09:04.297211Z",
     "iopub.status.busy": "2024-03-17T06:09:04.297118Z",
     "iopub.status.idle": "2024-03-17T06:09:04.299587Z",
     "shell.execute_reply": "2024-03-17T06:09:04.299335Z"
    },
    "slideshow": {
     "slide_type": "fragment"
    }
   },
   "outputs": [
    {
     "data": {
      "text/plain": [
       "0    False\n",
       "1     True\n",
       "2    False\n",
       "Name: silver, dtype: bool"
      ]
     },
     "execution_count": 38,
     "metadata": {},
     "output_type": "execute_result"
    }
   ],
   "source": [
    "medals[\"silver\"] >= 14"
   ]
  },
  {
   "cell_type": "code",
   "execution_count": 39,
   "metadata": {
    "execution": {
     "iopub.execute_input": "2024-03-17T06:09:04.301121Z",
     "iopub.status.busy": "2024-03-17T06:09:04.301009Z",
     "iopub.status.idle": "2024-03-17T06:09:04.303581Z",
     "shell.execute_reply": "2024-03-17T06:09:04.303291Z"
    },
    "slideshow": {
     "slide_type": "fragment"
    }
   },
   "outputs": [
    {
     "data": {
      "text/plain": [
       "0    False\n",
       "1     True\n",
       "2    False\n",
       "dtype: bool"
      ]
     },
     "execution_count": 39,
     "metadata": {},
     "output_type": "execute_result"
    }
   ],
   "source": [
    "(medals[\"gold\"] >= 10) & (medals[\"silver\"] >= 14)"
   ]
  },
  {
   "cell_type": "code",
   "execution_count": 40,
   "metadata": {
    "execution": {
     "iopub.execute_input": "2024-03-17T06:09:04.305085Z",
     "iopub.status.busy": "2024-03-17T06:09:04.304972Z",
     "iopub.status.idle": "2024-03-17T06:09:04.308333Z",
     "shell.execute_reply": "2024-03-17T06:09:04.308075Z"
    },
    "slideshow": {
     "slide_type": "subslide"
    }
   },
   "outputs": [
    {
     "data": {
      "text/html": [
       "<div>\n",
       "<style scoped>\n",
       "    .dataframe tbody tr th:only-of-type {\n",
       "        vertical-align: middle;\n",
       "    }\n",
       "\n",
       "    .dataframe tbody tr th {\n",
       "        vertical-align: top;\n",
       "    }\n",
       "\n",
       "    .dataframe thead th {\n",
       "        text-align: right;\n",
       "    }\n",
       "</style>\n",
       "<table border=\"1\" class=\"dataframe\">\n",
       "  <thead>\n",
       "    <tr style=\"text-align: right;\">\n",
       "      <th></th>\n",
       "      <th>nation</th>\n",
       "      <th>gold</th>\n",
       "      <th>silver</th>\n",
       "      <th>bronze</th>\n",
       "    </tr>\n",
       "  </thead>\n",
       "  <tbody>\n",
       "    <tr>\n",
       "      <th>1</th>\n",
       "      <td>China</td>\n",
       "      <td>10</td>\n",
       "      <td>15</td>\n",
       "      <td>8</td>\n",
       "    </tr>\n",
       "  </tbody>\n",
       "</table>\n",
       "</div>"
      ],
      "text/plain": [
       "  nation  gold  silver  bronze\n",
       "1  China    10      15       8"
      ]
     },
     "execution_count": 40,
     "metadata": {},
     "output_type": "execute_result"
    }
   ],
   "source": [
    "medals[(medals[\"gold\"] >= 10) & (medals[\"silver\"] >= 14)]"
   ]
  },
  {
   "cell_type": "markdown",
   "metadata": {
    "slideshow": {
     "slide_type": "fragment"
    }
   },
   "source": [
    "Refactored:"
   ]
  },
  {
   "cell_type": "code",
   "execution_count": 41,
   "metadata": {
    "execution": {
     "iopub.execute_input": "2024-03-17T06:09:04.309922Z",
     "iopub.status.busy": "2024-03-17T06:09:04.309824Z",
     "iopub.status.idle": "2024-03-17T06:09:04.313304Z",
     "shell.execute_reply": "2024-03-17T06:09:04.312997Z"
    }
   },
   "outputs": [
    {
     "data": {
      "text/html": [
       "<div>\n",
       "<style scoped>\n",
       "    .dataframe tbody tr th:only-of-type {\n",
       "        vertical-align: middle;\n",
       "    }\n",
       "\n",
       "    .dataframe tbody tr th {\n",
       "        vertical-align: top;\n",
       "    }\n",
       "\n",
       "    .dataframe thead th {\n",
       "        text-align: right;\n",
       "    }\n",
       "</style>\n",
       "<table border=\"1\" class=\"dataframe\">\n",
       "  <thead>\n",
       "    <tr style=\"text-align: right;\">\n",
       "      <th></th>\n",
       "      <th>nation</th>\n",
       "      <th>gold</th>\n",
       "      <th>silver</th>\n",
       "      <th>bronze</th>\n",
       "    </tr>\n",
       "  </thead>\n",
       "  <tbody>\n",
       "    <tr>\n",
       "      <th>1</th>\n",
       "      <td>China</td>\n",
       "      <td>10</td>\n",
       "      <td>15</td>\n",
       "      <td>8</td>\n",
       "    </tr>\n",
       "  </tbody>\n",
       "</table>\n",
       "</div>"
      ],
      "text/plain": [
       "  nation  gold  silver  bronze\n",
       "1  China    10      15       8"
      ]
     },
     "execution_count": 41,
     "metadata": {},
     "output_type": "execute_result"
    }
   ],
   "source": [
    "high_gold = medals[\"gold\"] >= 10\n",
    "high_silver = medals[\"silver\"] >= 14\n",
    "\n",
    "medals[high_gold & high_silver]"
   ]
  },
  {
   "cell_type": "markdown",
   "metadata": {
    "slideshow": {
     "slide_type": "slide"
    }
   },
   "source": [
    "## Final Project\n",
    "\n",
    "1. Check feedback on your proposals, even if you got 100%.\n",
    "1. [Once you start](https://python-public-policy.afeld.me/en/columbia/final_project.html#once-you-start)"
   ]
  }
 ],
 "metadata": {
  "celltoolbar": "Slideshow",
  "kernelspec": {
   "display_name": "Python 3",
   "language": "python",
   "name": "python3"
  },
  "language_info": {
   "codemirror_mode": {
    "name": "ipython",
    "version": 3
   },
   "file_extension": ".py",
   "mimetype": "text/x-python",
   "name": "python",
   "nbconvert_exporter": "python",
   "pygments_lexer": "ipython3",
   "version": "3.10.12"
  },
  "rise": {
   "scroll": true
  }
 },
 "nbformat": 4,
 "nbformat_minor": 4
}
