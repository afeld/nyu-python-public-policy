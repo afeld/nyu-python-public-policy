{
 "cells": [
  {
   "cell_type": "markdown",
   "metadata": {},
   "source": [
    "# Class 1 in-class exercise\n",
    "\n",
    "We'll be doing calculations on [2021 Yellow Taxi Trips](https://data.cityofnewyork.us/Transportation/2021-Yellow-Taxi-Trip-Data/m6nq-qud6) data. We'll live-code this together.\n",
    "\n",
    "## Step 0\n",
    "\n",
    "The data needs to available on the machine where Python is running in order to process it, so let's download from the NYC Open Data site directly:"
   ]
  },
  {
   "cell_type": "code",
   "execution_count": 1,
   "metadata": {
    "execution": {
     "iopub.execute_input": "2024-03-17T06:08:22.221750Z",
     "iopub.status.busy": "2024-03-17T06:08:22.221457Z",
     "iopub.status.idle": "2024-03-17T06:08:22.679913Z",
     "shell.execute_reply": "2024-03-17T06:08:22.679262Z"
    }
   },
   "outputs": [
    {
     "name": "stdout",
     "output_type": "stream",
     "text": [
      "2024-03-17 02:08:22 URL:https://data.cityofnewyork.us/resource/m6nq-qud6.csv [136065] -> \"2021_yellow_taxi_trips.csv\" [1]\r\n"
     ]
    }
   ],
   "source": [
    "!wget -O 2021_yellow_taxi_trips.csv --no-verbose https://data.cityofnewyork.us/resource/m6nq-qud6.csv"
   ]
  },
  {
   "cell_type": "markdown",
   "metadata": {},
   "source": [
    "This is using a command-line program to do the downloading. We'll download data ourselves manually later.\n",
    "\n",
    "If you open the `Files` view in the sidebar of {{coding_env_name}} and refresh, you should see `2021_yellow_taxi_trips.csv` there."
   ]
  },
  {
   "cell_type": "markdown",
   "metadata": {},
   "source": [
    "## Step 1\n",
    "\n",
    "Print out the trip distances."
   ]
  },
  {
   "cell_type": "code",
   "execution_count": 2,
   "metadata": {
    "execution": {
     "iopub.execute_input": "2024-03-17T06:08:22.683533Z",
     "iopub.status.busy": "2024-03-17T06:08:22.683277Z",
     "iopub.status.idle": "2024-03-17T06:08:22.686227Z",
     "shell.execute_reply": "2024-03-17T06:08:22.685671Z"
    }
   },
   "outputs": [],
   "source": [
    "# your code here"
   ]
  },
  {
   "cell_type": "markdown",
   "metadata": {},
   "source": [
    "## Step 2\n",
    "\n",
    "Calculate the average ride distance."
   ]
  },
  {
   "cell_type": "code",
   "execution_count": 3,
   "metadata": {
    "execution": {
     "iopub.execute_input": "2024-03-17T06:08:22.688607Z",
     "iopub.status.busy": "2024-03-17T06:08:22.688418Z",
     "iopub.status.idle": "2024-03-17T06:08:22.690809Z",
     "shell.execute_reply": "2024-03-17T06:08:22.690365Z"
    }
   },
   "outputs": [],
   "source": [
    "# your code here"
   ]
  },
  {
   "cell_type": "markdown",
   "metadata": {},
   "source": [
    "## Step 3\n",
    "\n",
    "Your turn! Calculate the percent of trips that were paid for by credit card. The data dictionary will be helpful - see the Attachment on [the dataset page](https://data.cityofnewyork.us/Transportation/2021-Yellow-Taxi-Trip-Data/m6nq-qud6)."
   ]
  },
  {
   "cell_type": "code",
   "execution_count": 4,
   "metadata": {
    "execution": {
     "iopub.execute_input": "2024-03-17T06:08:22.693169Z",
     "iopub.status.busy": "2024-03-17T06:08:22.692995Z",
     "iopub.status.idle": "2024-03-17T06:08:22.695000Z",
     "shell.execute_reply": "2024-03-17T06:08:22.694661Z"
    }
   },
   "outputs": [],
   "source": [
    "# your code here"
   ]
  }
 ],
 "metadata": {
  "file_extension": ".py",
  "kernelspec": {
   "display_name": "Python [conda env:python-public-policy] *",
   "language": "python",
   "name": "conda-env-python-public-policy-py"
  },
  "language_info": {
   "codemirror_mode": {
    "name": "ipython",
    "version": 3
   },
   "file_extension": ".py",
   "mimetype": "text/x-python",
   "name": "python",
   "nbconvert_exporter": "python",
   "pygments_lexer": "ipython3",
   "version": "3.10.12"
  },
  "mimetype": "text/x-python",
  "name": "python",
  "npconvert_exporter": "python",
  "pygments_lexer": "ipython3",
  "version": 3
 },
 "nbformat": 4,
 "nbformat_minor": 4
}
