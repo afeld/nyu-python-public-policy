{
 "cells": [
  {
   "cell_type": "markdown",
   "metadata": {},
   "source": [
    "# Homework 0\n",
    "\n",
    "[Kaggle](https://www.kaggle.com/) is a data science platform that has various [tutorials](https://www.kaggle.com/learn/overview) and [competitions](https://www.kaggle.com/competitions), which you may want to go back to later. You are welcome to create a Kaggle account to save your progress, but it's not required.\n",
    "\n",
    "Kaggle, like JupyterHub and Google Colab, is built around Jupyter notebooks. They are not _exactly_ the same, but will feel similar. For this homework:\n",
    "\n",
    "1. Do following Kaggle [Learn Python](https://www.kaggle.com/learn/python) tutorials and exercises. You do not need to turn these in.\n",
    "    - [Hello, Python](https://www.kaggle.com/colinmorris/hello-python)\n",
    "    - [Booleans and Conditionals](https://www.kaggle.com/colinmorris/booleans-and-conditionals)\n",
    "    - [Strings and Dictionaries](https://www.kaggle.com/colinmorris/strings-and-dictionaries)\n",
    "1. Read about:\n",
    "    - [Tuples, lists, and dictionaries](http://sthurlow.com/python/lesson06/)\n",
    "    - [Errors and exceptions](https://swcarpentry.github.io/python-novice-inflammation/09-errors/index.html)\n",
    "1. Do the coding challenges below.\n",
    "1. Do the following Kaggle tutorials and exercises. You do not need to turn these in.\n",
    "    - [Python Lists](https://www.kaggle.com/colinmorris/lists)\n",
    "    - [Creating, Reading, and Writing with Pandas](https://www.kaggle.com/residentmario/creating-reading-and-writing)\n",
    "1. Post a question, per the instructions at the bottom.\n",
    "1. [Turn in this notebook.](https://github.com/afeld/python-public-policy#turning-in-assignments)\n",
    "\n",
    "## Coding\n",
    "\n",
    "### Getting input\n",
    "\n",
    "To get information from a user, we can use Python's [`input()`](https://docs.python.org/3/library/functions.html#input) function."
   ]
  },
  {
   "cell_type": "code",
   "execution_count": 1,
   "metadata": {},
   "outputs": [
    {
     "name": "stdout",
     "output_type": "stream",
     "text": [
      "Give me a word: apple\n"
     ]
    },
    {
     "data": {
      "text/plain": [
       "'apple'"
      ]
     },
     "execution_count": 1,
     "metadata": {},
     "output_type": "execute_result"
    }
   ],
   "source": [
    "word = input(\"Give me a word: \")\n",
    "word"
   ]
  },
  {
   "cell_type": "markdown",
   "metadata": {},
   "source": [
    "### Step 0: Mad lib\n",
    "\n",
    "You are going to make a (short) interactive [mad lib](https://hobbylark.com/party-games/How-to-Make-Your-Own-Mad-Libs). Use a paragraph of a story or the chorus from a song, or make one up. Prompt for each of the words (\"noun\", \"verb\", \"vehicle\", etc.), then once they are all entered, it output the mad lib with the provided words filled in. You will be using multiple `inputs()` and string concatentation."
   ]
  },
  {
   "cell_type": "code",
   "execution_count": 2,
   "metadata": {},
   "outputs": [],
   "source": [
    "# your code goes here"
   ]
  },
  {
   "cell_type": "markdown",
   "metadata": {},
   "source": [
    "### Numeric input\n",
    "\n",
    "`input()` always returns a string. To get a number from a user in Python, you need to convert that input into a integer (or float)."
   ]
  },
  {
   "cell_type": "code",
   "execution_count": 3,
   "metadata": {},
   "outputs": [
    {
     "name": "stdout",
     "output_type": "stream",
     "text": [
      "Pick a number, any number. Please enter the value without commas or decimals. > 6\n"
     ]
    },
    {
     "data": {
      "text/plain": [
       "'6'"
      ]
     },
     "execution_count": 3,
     "metadata": {},
     "output_type": "execute_result"
    }
   ],
   "source": [
    "num = input(\"Pick a number, any number. Please enter the value without commas or decimals. > \")\n",
    "num"
   ]
  },
  {
   "cell_type": "code",
   "execution_count": 4,
   "metadata": {},
   "outputs": [
    {
     "data": {
      "text/plain": [
       "str"
      ]
     },
     "execution_count": 4,
     "metadata": {},
     "output_type": "execute_result"
    }
   ],
   "source": [
    "type(num)"
   ]
  },
  {
   "cell_type": "code",
   "execution_count": 5,
   "metadata": {},
   "outputs": [
    {
     "data": {
      "text/plain": [
       "6"
      ]
     },
     "execution_count": 5,
     "metadata": {},
     "output_type": "execute_result"
    }
   ],
   "source": [
    "int(num)"
   ]
  },
  {
   "cell_type": "markdown",
   "metadata": {},
   "source": [
    "### Step 1: Unemployment benefit eligibility assessment\n",
    "\n",
    "We will now make an interactive tool to assess people for unemployment benefits. We will a simplified version of [the rules from the New York State Department of Labor](https://www.labor.ny.gov/formsdocs/ui/TC318.3e.pdf#page=18). To be elegible, one must:\n",
    "\n",
    "- Have lost employment\n",
    "- Have made at least $10,000 in the past year\n",
    "    - Ask for their salary rather than as a yes-or-no question\n",
    "- Be ready, willing and able to work immediately\n",
    "- Be actively seeking work\n",
    "\n",
    "Ask the user questions corresponding to the above, then print `\"You are eligible\"` or `\"You are not eligible\"` at the end. You will need:\n",
    "\n",
    "- `input()`s\n",
    "- `int()`\n",
    "- Conditional(s)"
   ]
  },
  {
   "cell_type": "code",
   "execution_count": 6,
   "metadata": {},
   "outputs": [],
   "source": [
    "# your code goes here"
   ]
  },
  {
   "cell_type": "markdown",
   "metadata": {},
   "source": [
    "## Autograding\n",
    "\n",
    "Using [this approach](https://stackoverflow.com/a/70920396/358804)."
   ]
  },
  {
   "cell_type": "code",
   "execution_count": 19,
   "metadata": {},
   "outputs": [
    {
     "data": {
      "application/javascript": [
       "IPython.notebook.save_checkpoint();\n",
       "IPython.notebook.kernel.execute('nb_name = \"' + IPython.notebook.notebook_name + '\"')\n"
      ],
      "text/plain": [
       "<IPython.core.display.Javascript object>"
      ]
     },
     "metadata": {},
     "output_type": "display_data"
    }
   ],
   "source": [
    "%%javascript\n",
    "IPython.notebook.save_checkpoint();\n",
    "IPython.notebook.kernel.execute('nb_name = \"' + IPython.notebook.notebook_name + '\"')"
   ]
  },
  {
   "cell_type": "code",
   "execution_count": 21,
   "metadata": {
    "scrolled": true
   },
   "outputs": [
    {
     "ename": "AssertionError",
     "evalue": "you don't have enough calls to input()",
     "output_type": "error",
     "traceback": [
      "\u001b[0;31m---------------------------------------------------------------------------\u001b[0m",
      "\u001b[0;31mAssertionError\u001b[0m                            Traceback (most recent call last)",
      "Input \u001b[0;32mIn [21]\u001b[0m, in \u001b[0;36m<cell line: 25>\u001b[0;34m()\u001b[0m\n\u001b[1;32m     22\u001b[0m tree \u001b[38;5;241m=\u001b[39m ast\u001b[38;5;241m.\u001b[39mparse(script)\n\u001b[1;32m     23\u001b[0m checker\u001b[38;5;241m.\u001b[39mvisit(tree)\n\u001b[0;32m---> 25\u001b[0m \u001b[38;5;28;01massert\u001b[39;00m checker\u001b[38;5;241m.\u001b[39mnum_inputs \u001b[38;5;241m>\u001b[39m\u001b[38;5;241m=\u001b[39m \u001b[38;5;241m8\u001b[39m, \u001b[38;5;124m\"\u001b[39m\u001b[38;5;124myou don\u001b[39m\u001b[38;5;124m'\u001b[39m\u001b[38;5;124mt have enough calls to input()\u001b[39m\u001b[38;5;124m\"\u001b[39m\n\u001b[1;32m     26\u001b[0m \u001b[38;5;28mprint\u001b[39m(\u001b[38;5;124m\"\u001b[39m\u001b[38;5;124mtests passed!\u001b[39m\u001b[38;5;124m\"\u001b[39m)\n",
      "\u001b[0;31mAssertionError\u001b[0m: you don't have enough calls to input()"
     ]
    }
   ],
   "source": [
    "import ast\n",
    "import nbconvert\n",
    "import nbformat\n",
    "import os\n",
    "\n",
    "\n",
    "class InputChecker(ast.NodeVisitor):\n",
    "    def __init__(self):\n",
    "        self.num_inputs = 0\n",
    "\n",
    "    def visit_Call(self, node):\n",
    "        if isinstance(node.func, ast.Name) and node.func.id == \"input\":\n",
    "            self.num_inputs += 1\n",
    "\n",
    "\n",
    "nb_full_path = os.path.join(os.getcwd(), nb_name)\n",
    "notebook = nbformat.read(nb_full_path, as_version=4)\n",
    "exporter = nbconvert.exporters.PythonExporter\n",
    "script, _ = nbconvert.exporters.export(exporter, notebook)\n",
    "\n",
    "checker = InputChecker()\n",
    "tree = ast.parse(script)\n",
    "checker.visit(tree)\n",
    "\n",
    "assert checker.num_inputs >= 8, \"you don't have enough calls to input()\"\n",
    "print(\"tests passed!\")"
   ]
  },
  {
   "cell_type": "markdown",
   "metadata": {},
   "source": [
    "## Questions\n",
    "\n",
    "What's at least one question you had from the tutorials? `Start a New Conversation` under [`HW0 questions` in Discussions](https://brightspace.nyu.edu/d2l/le/206261/discussions/topics/322342/View)."
   ]
  }
 ],
 "metadata": {
  "file_extension": ".py",
  "kernelspec": {
   "display_name": "Python [conda env:python-public-policy] *",
   "language": "python",
   "name": "conda-env-python-public-policy-py"
  },
  "language_info": {
   "codemirror_mode": {
    "name": "ipython",
    "version": 3
   },
   "file_extension": ".py",
   "mimetype": "text/x-python",
   "name": "python",
   "nbconvert_exporter": "python",
   "pygments_lexer": "ipython3",
   "version": "3.10.6"
  },
  "mimetype": "text/x-python",
  "name": "python",
  "npconvert_exporter": "python",
  "pygments_lexer": "ipython3",
  "version": 3
 },
 "nbformat": 4,
 "nbformat_minor": 4
}
