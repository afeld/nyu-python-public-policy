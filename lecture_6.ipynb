{
 "cells": [
  {
   "cell_type": "markdown",
   "metadata": {
    "id": "Omm4n3FmPHlF",
    "slideshow": {
     "slide_type": "slide"
    }
   },
   "source": [
    "# Class 6: Wrap up"
   ]
  },
  {
   "cell_type": "markdown",
   "metadata": {
    "slideshow": {
     "slide_type": "slide"
    }
   },
   "source": [
    "## Agenda\n",
    "\n",
    "1. Guest lecture\n",
    "1. Ask Me Anything\n",
    "1. Wrapping up assignments\n",
    "{% if school_slug == \"nyu\" -%}\n",
    "1. Course evaluations\n",
    "{% endif -%}"
   ]
  },
  {
   "cell_type": "markdown",
   "metadata": {
    "slideshow": {
     "slide_type": "slide"
    }
   },
   "source": [
    "## Guest lectures\n",
    "\n",
    "> **Tayyab Walker** is the Associate Commissioner, Data Engineering and Governance within the [New York City Office of Technology and Innovation (OTI)](https://www.nyc.gov/content/oti/pages/).  Prior to this role, he served as Director of Enterprise Data Solutions within the [Mayors Office of Economic Opportunity (NYC Opportunity)](https://www.nyc.gov/site/opportunity/index.page) where he developed a strategic technology and policy framework to support numerous cross-agency data sharing efforts including [Worker Connect](https://www.nyc.gov/site/opportunity/portfolio/worker-connect.page) - a federated data technology that integrates data across several New York City’s social service agencies, the Equity Research Data Lake and the [NYC Integrated Workforce Data Portal](https://workforcedata.nyc.gov/). A former public policy analyst, he has held various leadership positions within public, private and non-profit organizations."
   ]
  },
  {
   "cell_type": "markdown",
   "metadata": {
    "slideshow": {
     "slide_type": "subslide"
    }
   },
   "source": [
    "> **Sam Cole** has been an early software engineer for tech startups in NYC since 2008, including Patch, Kickstarter, and Jukely. He then combined his progressive activism with tech when he helped prepare the digital political fundraising non-profit ActBlue for the 2020 election cycle. He now builds [Lemontree](https://www.foodhelpline.org/), a non-profit free food access platform, as its founding engineer. He lives in Queens with his family, where they all read lots of books and play videogames.\n",
    "\n",
    "https://samuelcole.name<br>\n",
    "[sam@samuelcole.name](mailto:sam@samuelcole.name)\n",
    "\n",
    "[slides](https://docs.google.com/presentation/d/1rsNotXZIwLCCsvQYnKvbwNTx4GKA3690bCv3oFYjm-c/edit#slide=id.p)"
   ]
  },
  {
   "cell_type": "markdown",
   "metadata": {
    "slideshow": {
     "slide_type": "slide"
    }
   },
   "source": [
    "## Ask Me Anything\n",
    "\n",
    "- Reviewing any material from the semester\n",
    "- Working as a software developer\n",
    "- Working in government\n",
    "- Bread…?"
   ]
  },
  {
   "cell_type": "markdown",
   "metadata": {
    "slideshow": {
     "slide_type": "slide"
    }
   },
   "source": [
    "## Backup slides: Projects"
   ]
  },
  {
   "cell_type": "markdown",
   "metadata": {
    "slideshow": {
     "slide_type": "subslide"
    }
   },
   "source": [
    "[![Screenshot of C2/Communicart](extras/img/c2.png)](https://web.archive.org/web/20190124112324/https://cap.18f.gov/)"
   ]
  },
  {
   "cell_type": "markdown",
   "metadata": {
    "slideshow": {
     "slide_type": "subslide"
    }
   },
   "source": [
    "### [ATO Sprinting Team](https://18f.gsa.gov/2018/07/19/taking-the-ato-process-from-6-months-to-30-days/)\n",
    "\n",
    "![Scatter chart with trendline showing decrease in ATO times](https://18f.gsa.gov/assets/blog/ato/ato-completion-date-graph.png)"
   ]
  },
  {
   "cell_type": "markdown",
   "metadata": {
    "slideshow": {
     "slide_type": "subslide"
    }
   },
   "source": [
    "### Agile budgeting\n",
    "\n",
    "![Jellybeans](https://upload.wikimedia.org/wikipedia/commons/3/3e/Jellybeans.jpg)"
   ]
  },
  {
   "cell_type": "markdown",
   "metadata": {
    "slideshow": {
     "slide_type": "subslide"
    }
   },
   "source": [
    "### See also\n",
    "\n",
    "[![Video still of man wearing suit at a microphone](https://img.youtube.com/vi/g-h6CtSwk30/maxresdefault.jpg)](https://www.youtube.com/watch?v=g-h6CtSwk30)\n",
    "\n",
    "[Colleague explaining agile software development to the Michigan Senate](https://www.youtube.com/watch?v=g-h6CtSwk30)"
   ]
  },
  {
   "cell_type": "markdown",
   "metadata": {
    "slideshow": {
     "slide_type": "slide"
    }
   },
   "source": [
    "## [Homework 6](hw_6.ipynb)\n",
    "\n",
    "- Giving feedback on proposals\n",
    "- Encourage looking through them for ideas"
   ]
  },
  {
   "cell_type": "markdown",
   "metadata": {
    "slideshow": {
     "slide_type": "slide"
    }
   },
   "source": [
    "## Post-JupyterHub\n",
    "\n",
    "- JupyterHub instance (and your copy of files) will be deleted\n",
    "    - Download things you want to keep, particularly edited notebooks\n",
    "- Class materials will remain available on [the site](https://python-public-policy.afeld.me/en/{{school_slug}}/) and [through GitHub](https://github.com/afeld/python-public-policy)\n",
    "- [Running notebooks elsewhere](README.html#jupyter-beyond-jupyterhub)"
   ]
  },
  {
   "cell_type": "markdown",
   "metadata": {
    "slideshow": {
     "slide_type": "slide"
    },
    "tags": [
     "nyu-only"
    ]
   },
   "source": [
    "Thanks to Tara!"
   ]
  },
  {
   "cell_type": "markdown",
   "metadata": {
    "slideshow": {
     "slide_type": "slide"
    },
    "tags": [
     "nyu-only"
    ]
   },
   "source": [
    "## [Course evaluations](https://m.albert.nyu.edu/app/student/nyuCrseEval/crseEval/1228/6312/GP/10)\n",
    "\n",
    "Please complete before signing off! The are:\n",
    "\n",
    "- Totally anonymous\n",
    "- Not visible to me until grades are released\n",
    "- A big help. Some things I took from the past:\n",
    "    - Making assignments more rigorous\n",
    "    - Students are hungry for more\n",
    "    - People like the in-class exercises"
   ]
  },
  {
   "cell_type": "markdown",
   "metadata": {
    "slideshow": {
     "slide_type": "slide"
    }
   },
   "source": [
    "## Thank you!\n",
    "\n",
    "- {% if school_slug == \"columbia\" %}alf2215@columbia.edu{% else %}alf9@nyu.edu{% endif %}\n",
    "- [@aidanfeldman](https://twitter.com/aidanfeldman/) on Twitter"
   ]
  }
 ],
 "metadata": {
  "celltoolbar": "Slideshow",
  "kernelspec": {
   "display_name": "Python [conda env:python-public-policy] *",
   "language": "python",
   "name": "conda-env-python-public-policy-py"
  },
  "language_info": {
   "codemirror_mode": {
    "name": "ipython",
    "version": 3
   },
   "file_extension": ".py",
   "mimetype": "text/x-python",
   "name": "python",
   "nbconvert_exporter": "python",
   "pygments_lexer": "ipython3",
   "version": "3.10.6"
  }
 },
 "nbformat": 4,
 "nbformat_minor": 4
}
